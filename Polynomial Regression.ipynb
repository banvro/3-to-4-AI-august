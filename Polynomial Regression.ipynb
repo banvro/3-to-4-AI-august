{
 "cells": [
  {
   "cell_type": "code",
   "execution_count": 2,
   "id": "2c3d27c4",
   "metadata": {},
   "outputs": [],
   "source": [
    "import pandas as pd\n",
    "import numpy as np"
   ]
  },
  {
   "cell_type": "code",
   "execution_count": 3,
   "id": "075af162",
   "metadata": {},
   "outputs": [],
   "source": [
    "data = pd.read_csv('data.csv')"
   ]
  },
  {
   "cell_type": "code",
   "execution_count": 12,
   "id": "83845b42",
   "metadata": {},
   "outputs": [
    {
     "data": {
      "text/html": [
       "<div>\n",
       "<style scoped>\n",
       "    .dataframe tbody tr th:only-of-type {\n",
       "        vertical-align: middle;\n",
       "    }\n",
       "\n",
       "    .dataframe tbody tr th {\n",
       "        vertical-align: top;\n",
       "    }\n",
       "\n",
       "    .dataframe thead th {\n",
       "        text-align: right;\n",
       "    }\n",
       "</style>\n",
       "<table border=\"1\" class=\"dataframe\">\n",
       "  <thead>\n",
       "    <tr style=\"text-align: right;\">\n",
       "      <th></th>\n",
       "      <th>Duration</th>\n",
       "      <th>Pulse</th>\n",
       "      <th>Maxpulse</th>\n",
       "      <th>Calories</th>\n",
       "    </tr>\n",
       "  </thead>\n",
       "  <tbody>\n",
       "    <tr>\n",
       "      <th>0</th>\n",
       "      <td>60</td>\n",
       "      <td>110</td>\n",
       "      <td>130</td>\n",
       "      <td>409.1</td>\n",
       "    </tr>\n",
       "    <tr>\n",
       "      <th>1</th>\n",
       "      <td>60</td>\n",
       "      <td>117</td>\n",
       "      <td>145</td>\n",
       "      <td>479.0</td>\n",
       "    </tr>\n",
       "    <tr>\n",
       "      <th>2</th>\n",
       "      <td>60</td>\n",
       "      <td>103</td>\n",
       "      <td>135</td>\n",
       "      <td>340.0</td>\n",
       "    </tr>\n",
       "    <tr>\n",
       "      <th>3</th>\n",
       "      <td>45</td>\n",
       "      <td>109</td>\n",
       "      <td>175</td>\n",
       "      <td>282.4</td>\n",
       "    </tr>\n",
       "    <tr>\n",
       "      <th>4</th>\n",
       "      <td>45</td>\n",
       "      <td>117</td>\n",
       "      <td>148</td>\n",
       "      <td>406.0</td>\n",
       "    </tr>\n",
       "    <tr>\n",
       "      <th>...</th>\n",
       "      <td>...</td>\n",
       "      <td>...</td>\n",
       "      <td>...</td>\n",
       "      <td>...</td>\n",
       "    </tr>\n",
       "    <tr>\n",
       "      <th>164</th>\n",
       "      <td>60</td>\n",
       "      <td>105</td>\n",
       "      <td>140</td>\n",
       "      <td>290.8</td>\n",
       "    </tr>\n",
       "    <tr>\n",
       "      <th>165</th>\n",
       "      <td>60</td>\n",
       "      <td>110</td>\n",
       "      <td>145</td>\n",
       "      <td>300.0</td>\n",
       "    </tr>\n",
       "    <tr>\n",
       "      <th>166</th>\n",
       "      <td>60</td>\n",
       "      <td>115</td>\n",
       "      <td>145</td>\n",
       "      <td>310.2</td>\n",
       "    </tr>\n",
       "    <tr>\n",
       "      <th>167</th>\n",
       "      <td>75</td>\n",
       "      <td>120</td>\n",
       "      <td>150</td>\n",
       "      <td>320.4</td>\n",
       "    </tr>\n",
       "    <tr>\n",
       "      <th>168</th>\n",
       "      <td>75</td>\n",
       "      <td>125</td>\n",
       "      <td>150</td>\n",
       "      <td>330.4</td>\n",
       "    </tr>\n",
       "  </tbody>\n",
       "</table>\n",
       "<p>169 rows × 4 columns</p>\n",
       "</div>"
      ],
      "text/plain": [
       "     Duration  Pulse  Maxpulse  Calories\n",
       "0          60    110       130     409.1\n",
       "1          60    117       145     479.0\n",
       "2          60    103       135     340.0\n",
       "3          45    109       175     282.4\n",
       "4          45    117       148     406.0\n",
       "..        ...    ...       ...       ...\n",
       "164        60    105       140     290.8\n",
       "165        60    110       145     300.0\n",
       "166        60    115       145     310.2\n",
       "167        75    120       150     320.4\n",
       "168        75    125       150     330.4\n",
       "\n",
       "[169 rows x 4 columns]"
      ]
     },
     "execution_count": 12,
     "metadata": {},
     "output_type": "execute_result"
    }
   ],
   "source": [
    "data"
   ]
  },
  {
   "cell_type": "code",
   "execution_count": 13,
   "id": "a434367d",
   "metadata": {},
   "outputs": [
    {
     "data": {
      "text/plain": [
       "Duration    169\n",
       "Pulse       169\n",
       "Maxpulse    169\n",
       "Calories    164\n",
       "dtype: int64"
      ]
     },
     "execution_count": 13,
     "metadata": {},
     "output_type": "execute_result"
    }
   ],
   "source": [
    "data.count()"
   ]
  },
  {
   "cell_type": "code",
   "execution_count": 14,
   "id": "31290e2f",
   "metadata": {},
   "outputs": [],
   "source": [
    "data['Calories'].fillna(400, inplace = True)"
   ]
  },
  {
   "cell_type": "code",
   "execution_count": 15,
   "id": "acb23e0e",
   "metadata": {},
   "outputs": [],
   "source": [
    "x = data[['Duration', 'Pulse']]"
   ]
  },
  {
   "cell_type": "code",
   "execution_count": 22,
   "id": "cacc9683",
   "metadata": {},
   "outputs": [],
   "source": [
    "y = data[['Maxpulse']]"
   ]
  },
  {
   "cell_type": "code",
   "execution_count": 31,
   "id": "004dcbb0",
   "metadata": {},
   "outputs": [],
   "source": [
    "y = data[['Calories']]\n"
   ]
  },
  {
   "cell_type": "code",
   "execution_count": 32,
   "id": "254f450a",
   "metadata": {},
   "outputs": [],
   "source": [
    "from sklearn.model_selection import train_test_split"
   ]
  },
  {
   "cell_type": "code",
   "execution_count": 33,
   "id": "cc23042b",
   "metadata": {},
   "outputs": [],
   "source": [
    "x_train, x_test, y_train, y_test = train_test_split(x, y, test_size = 0.2)"
   ]
  },
  {
   "cell_type": "code",
   "execution_count": 34,
   "id": "e8976deb",
   "metadata": {},
   "outputs": [],
   "source": [
    "from sklearn.linear_model import LinearRegression"
   ]
  },
  {
   "cell_type": "code",
   "execution_count": 35,
   "id": "8b9dcb00",
   "metadata": {},
   "outputs": [],
   "source": [
    "obj = LinearRegression()"
   ]
  },
  {
   "cell_type": "code",
   "execution_count": 36,
   "id": "1904b90e",
   "metadata": {},
   "outputs": [
    {
     "data": {
      "text/html": [
       "<style>#sk-container-id-3 {color: black;}#sk-container-id-3 pre{padding: 0;}#sk-container-id-3 div.sk-toggleable {background-color: white;}#sk-container-id-3 label.sk-toggleable__label {cursor: pointer;display: block;width: 100%;margin-bottom: 0;padding: 0.3em;box-sizing: border-box;text-align: center;}#sk-container-id-3 label.sk-toggleable__label-arrow:before {content: \"▸\";float: left;margin-right: 0.25em;color: #696969;}#sk-container-id-3 label.sk-toggleable__label-arrow:hover:before {color: black;}#sk-container-id-3 div.sk-estimator:hover label.sk-toggleable__label-arrow:before {color: black;}#sk-container-id-3 div.sk-toggleable__content {max-height: 0;max-width: 0;overflow: hidden;text-align: left;background-color: #f0f8ff;}#sk-container-id-3 div.sk-toggleable__content pre {margin: 0.2em;color: black;border-radius: 0.25em;background-color: #f0f8ff;}#sk-container-id-3 input.sk-toggleable__control:checked~div.sk-toggleable__content {max-height: 200px;max-width: 100%;overflow: auto;}#sk-container-id-3 input.sk-toggleable__control:checked~label.sk-toggleable__label-arrow:before {content: \"▾\";}#sk-container-id-3 div.sk-estimator input.sk-toggleable__control:checked~label.sk-toggleable__label {background-color: #d4ebff;}#sk-container-id-3 div.sk-label input.sk-toggleable__control:checked~label.sk-toggleable__label {background-color: #d4ebff;}#sk-container-id-3 input.sk-hidden--visually {border: 0;clip: rect(1px 1px 1px 1px);clip: rect(1px, 1px, 1px, 1px);height: 1px;margin: -1px;overflow: hidden;padding: 0;position: absolute;width: 1px;}#sk-container-id-3 div.sk-estimator {font-family: monospace;background-color: #f0f8ff;border: 1px dotted black;border-radius: 0.25em;box-sizing: border-box;margin-bottom: 0.5em;}#sk-container-id-3 div.sk-estimator:hover {background-color: #d4ebff;}#sk-container-id-3 div.sk-parallel-item::after {content: \"\";width: 100%;border-bottom: 1px solid gray;flex-grow: 1;}#sk-container-id-3 div.sk-label:hover label.sk-toggleable__label {background-color: #d4ebff;}#sk-container-id-3 div.sk-serial::before {content: \"\";position: absolute;border-left: 1px solid gray;box-sizing: border-box;top: 0;bottom: 0;left: 50%;z-index: 0;}#sk-container-id-3 div.sk-serial {display: flex;flex-direction: column;align-items: center;background-color: white;padding-right: 0.2em;padding-left: 0.2em;position: relative;}#sk-container-id-3 div.sk-item {position: relative;z-index: 1;}#sk-container-id-3 div.sk-parallel {display: flex;align-items: stretch;justify-content: center;background-color: white;position: relative;}#sk-container-id-3 div.sk-item::before, #sk-container-id-3 div.sk-parallel-item::before {content: \"\";position: absolute;border-left: 1px solid gray;box-sizing: border-box;top: 0;bottom: 0;left: 50%;z-index: -1;}#sk-container-id-3 div.sk-parallel-item {display: flex;flex-direction: column;z-index: 1;position: relative;background-color: white;}#sk-container-id-3 div.sk-parallel-item:first-child::after {align-self: flex-end;width: 50%;}#sk-container-id-3 div.sk-parallel-item:last-child::after {align-self: flex-start;width: 50%;}#sk-container-id-3 div.sk-parallel-item:only-child::after {width: 0;}#sk-container-id-3 div.sk-dashed-wrapped {border: 1px dashed gray;margin: 0 0.4em 0.5em 0.4em;box-sizing: border-box;padding-bottom: 0.4em;background-color: white;}#sk-container-id-3 div.sk-label label {font-family: monospace;font-weight: bold;display: inline-block;line-height: 1.2em;}#sk-container-id-3 div.sk-label-container {text-align: center;}#sk-container-id-3 div.sk-container {/* jupyter's `normalize.less` sets `[hidden] { display: none; }` but bootstrap.min.css set `[hidden] { display: none !important; }` so we also need the `!important` here to be able to override the default hidden behavior on the sphinx rendered scikit-learn.org. See: https://github.com/scikit-learn/scikit-learn/issues/21755 */display: inline-block !important;position: relative;}#sk-container-id-3 div.sk-text-repr-fallback {display: none;}</style><div id=\"sk-container-id-3\" class=\"sk-top-container\"><div class=\"sk-text-repr-fallback\"><pre>LinearRegression()</pre><b>In a Jupyter environment, please rerun this cell to show the HTML representation or trust the notebook. <br />On GitHub, the HTML representation is unable to render, please try loading this page with nbviewer.org.</b></div><div class=\"sk-container\" hidden><div class=\"sk-item\"><div class=\"sk-estimator sk-toggleable\"><input class=\"sk-toggleable__control sk-hidden--visually\" id=\"sk-estimator-id-3\" type=\"checkbox\" checked><label for=\"sk-estimator-id-3\" class=\"sk-toggleable__label sk-toggleable__label-arrow\">LinearRegression</label><div class=\"sk-toggleable__content\"><pre>LinearRegression()</pre></div></div></div></div></div>"
      ],
      "text/plain": [
       "LinearRegression()"
      ]
     },
     "execution_count": 36,
     "metadata": {},
     "output_type": "execute_result"
    }
   ],
   "source": [
    "obj.fit(x_train, y_train)"
   ]
  },
  {
   "cell_type": "code",
   "execution_count": 37,
   "id": "c997e020",
   "metadata": {},
   "outputs": [],
   "source": [
    "y_predict = obj.predict(x_test)"
   ]
  },
  {
   "cell_type": "code",
   "execution_count": 38,
   "id": "9e96fcf9",
   "metadata": {},
   "outputs": [],
   "source": [
    "from sklearn.metrics import r2_score"
   ]
  },
  {
   "cell_type": "code",
   "execution_count": 39,
   "id": "9c4cdd1a",
   "metadata": {},
   "outputs": [
    {
     "data": {
      "text/plain": [
       "0.8700945881254395"
      ]
     },
     "execution_count": 39,
     "metadata": {},
     "output_type": "execute_result"
    }
   ],
   "source": [
    "r2_score(y_test, y_predict)"
   ]
  },
  {
   "cell_type": "code",
   "execution_count": null,
   "id": "c0f42efe",
   "metadata": {},
   "outputs": [],
   "source": []
  },
  {
   "cell_type": "code",
   "execution_count": null,
   "id": "b6834c14",
   "metadata": {},
   "outputs": [],
   "source": [
    "# Polynomial Regression"
   ]
  },
  {
   "cell_type": "code",
   "execution_count": 64,
   "id": "4c14179d",
   "metadata": {},
   "outputs": [],
   "source": [
    "x = 6 * np.random.rand(200, 1) -3"
   ]
  },
  {
   "cell_type": "code",
   "execution_count": 65,
   "id": "6fd68b50",
   "metadata": {},
   "outputs": [],
   "source": [
    "y = 0.8 * x ** 2 + 0.9 * x + 2 + np.random.randn(200, 1) \n",
    "\n",
    "\n",
    "# y = 0.8x^2  + 0.9x + 2"
   ]
  },
  {
   "cell_type": "code",
   "execution_count": null,
   "id": "b74b6ac8",
   "metadata": {},
   "outputs": [],
   "source": []
  },
  {
   "cell_type": "code",
   "execution_count": 67,
   "id": "8304e41f",
   "metadata": {},
   "outputs": [
    {
     "data": {
      "text/plain": [
       "[<matplotlib.lines.Line2D at 0x7f9000c94160>]"
      ]
     },
     "execution_count": 67,
     "metadata": {},
     "output_type": "execute_result"
    },
    {
     "data": {
      "image/png": "[encoded data removed]",
      "text/plain": [
       "<Figure size 640x480 with 1 Axes>"
      ]
     },
     "metadata": {},
     "output_type": "display_data"
    }
   ],
   "source": [
    "import matplotlib.pyplot as plt\n",
    "\n",
    "plt.plot(x, y, \".b\")"
   ]
  },
  {
   "cell_type": "code",
   "execution_count": 68,
   "id": "7ca157b7",
   "metadata": {},
   "outputs": [],
   "source": [
    "x_train, x_test, y_train, y_test = train_test_split(x, y, test_size = 0.2)"
   ]
  },
  {
   "cell_type": "code",
   "execution_count": 71,
   "id": "5f952172",
   "metadata": {},
   "outputs": [],
   "source": [
    "obj1 = LinearRegression()"
   ]
  },
  {
   "cell_type": "code",
   "execution_count": 72,
   "id": "664d6906",
   "metadata": {},
   "outputs": [
    {
     "data": {
      "text/html": [
       "<style>#sk-container-id-4 {color: black;}#sk-container-id-4 pre{padding: 0;}#sk-container-id-4 div.sk-toggleable {background-color: white;}#sk-container-id-4 label.sk-toggleable__label {cursor: pointer;display: block;width: 100%;margin-bottom: 0;padding: 0.3em;box-sizing: border-box;text-align: center;}#sk-container-id-4 label.sk-toggleable__label-arrow:before {content: \"▸\";float: left;margin-right: 0.25em;color: #696969;}#sk-container-id-4 label.sk-toggleable__label-arrow:hover:before {color: black;}#sk-container-id-4 div.sk-estimator:hover label.sk-toggleable__label-arrow:before {color: black;}#sk-container-id-4 div.sk-toggleable__content {max-height: 0;max-width: 0;overflow: hidden;text-align: left;background-color: #f0f8ff;}#sk-container-id-4 div.sk-toggleable__content pre {margin: 0.2em;color: black;border-radius: 0.25em;background-color: #f0f8ff;}#sk-container-id-4 input.sk-toggleable__control:checked~div.sk-toggleable__content {max-height: 200px;max-width: 100%;overflow: auto;}#sk-container-id-4 input.sk-toggleable__control:checked~label.sk-toggleable__label-arrow:before {content: \"▾\";}#sk-container-id-4 div.sk-estimator input.sk-toggleable__control:checked~label.sk-toggleable__label {background-color: #d4ebff;}#sk-container-id-4 div.sk-label input.sk-toggleable__control:checked~label.sk-toggleable__label {background-color: #d4ebff;}#sk-container-id-4 input.sk-hidden--visually {border: 0;clip: rect(1px 1px 1px 1px);clip: rect(1px, 1px, 1px, 1px);height: 1px;margin: -1px;overflow: hidden;padding: 0;position: absolute;width: 1px;}#sk-container-id-4 div.sk-estimator {font-family: monospace;background-color: #f0f8ff;border: 1px dotted black;border-radius: 0.25em;box-sizing: border-box;margin-bottom: 0.5em;}#sk-container-id-4 div.sk-estimator:hover {background-color: #d4ebff;}#sk-container-id-4 div.sk-parallel-item::after {content: \"\";width: 100%;border-bottom: 1px solid gray;flex-grow: 1;}#sk-container-id-4 div.sk-label:hover label.sk-toggleable__label {background-color: #d4ebff;}#sk-container-id-4 div.sk-serial::before {content: \"\";position: absolute;border-left: 1px solid gray;box-sizing: border-box;top: 0;bottom: 0;left: 50%;z-index: 0;}#sk-container-id-4 div.sk-serial {display: flex;flex-direction: column;align-items: center;background-color: white;padding-right: 0.2em;padding-left: 0.2em;position: relative;}#sk-container-id-4 div.sk-item {position: relative;z-index: 1;}#sk-container-id-4 div.sk-parallel {display: flex;align-items: stretch;justify-content: center;background-color: white;position: relative;}#sk-container-id-4 div.sk-item::before, #sk-container-id-4 div.sk-parallel-item::before {content: \"\";position: absolute;border-left: 1px solid gray;box-sizing: border-box;top: 0;bottom: 0;left: 50%;z-index: -1;}#sk-container-id-4 div.sk-parallel-item {display: flex;flex-direction: column;z-index: 1;position: relative;background-color: white;}#sk-container-id-4 div.sk-parallel-item:first-child::after {align-self: flex-end;width: 50%;}#sk-container-id-4 div.sk-parallel-item:last-child::after {align-self: flex-start;width: 50%;}#sk-container-id-4 div.sk-parallel-item:only-child::after {width: 0;}#sk-container-id-4 div.sk-dashed-wrapped {border: 1px dashed gray;margin: 0 0.4em 0.5em 0.4em;box-sizing: border-box;padding-bottom: 0.4em;background-color: white;}#sk-container-id-4 div.sk-label label {font-family: monospace;font-weight: bold;display: inline-block;line-height: 1.2em;}#sk-container-id-4 div.sk-label-container {text-align: center;}#sk-container-id-4 div.sk-container {/* jupyter's `normalize.less` sets `[hidden] { display: none; }` but bootstrap.min.css set `[hidden] { display: none !important; }` so we also need the `!important` here to be able to override the default hidden behavior on the sphinx rendered scikit-learn.org. See: https://github.com/scikit-learn/scikit-learn/issues/21755 */display: inline-block !important;position: relative;}#sk-container-id-4 div.sk-text-repr-fallback {display: none;}</style><div id=\"sk-container-id-4\" class=\"sk-top-container\"><div class=\"sk-text-repr-fallback\"><pre>LinearRegression()</pre><b>In a Jupyter environment, please rerun this cell to show the HTML representation or trust the notebook. <br />On GitHub, the HTML representation is unable to render, please try loading this page with nbviewer.org.</b></div><div class=\"sk-container\" hidden><div class=\"sk-item\"><div class=\"sk-estimator sk-toggleable\"><input class=\"sk-toggleable__control sk-hidden--visually\" id=\"sk-estimator-id-4\" type=\"checkbox\" checked><label for=\"sk-estimator-id-4\" class=\"sk-toggleable__label sk-toggleable__label-arrow\">LinearRegression</label><div class=\"sk-toggleable__content\"><pre>LinearRegression()</pre></div></div></div></div></div>"
      ],
      "text/plain": [
       "LinearRegression()"
      ]
     },
     "execution_count": 72,
     "metadata": {},
     "output_type": "execute_result"
    }
   ],
   "source": [
    "obj1.fit(x_train, y_train)"
   ]
  },
  {
   "cell_type": "code",
   "execution_count": 73,
   "id": "73e9cb68",
   "metadata": {},
   "outputs": [],
   "source": [
    "y_pred = obj1.predict(x_test)"
   ]
  },
  {
   "cell_type": "code",
   "execution_count": 74,
   "id": "c8a383e8",
   "metadata": {},
   "outputs": [
    {
     "data": {
      "text/plain": [
       "-0.03577580852900364"
      ]
     },
     "execution_count": 74,
     "metadata": {},
     "output_type": "execute_result"
    }
   ],
   "source": [
    "r2_score(y_test, y_pred)"
   ]
  },
  {
   "cell_type": "code",
   "execution_count": null,
   "id": "d8ac04a8",
   "metadata": {},
   "outputs": [],
   "source": []
  },
  {
   "cell_type": "code",
   "execution_count": 75,
   "id": "ecbe3a49",
   "metadata": {},
   "outputs": [],
   "source": [
    "from sklearn.preprocessing import PolynomialFeatures"
   ]
  },
  {
   "cell_type": "code",
   "execution_count": 94,
   "id": "fcf51155",
   "metadata": {},
   "outputs": [],
   "source": [
    "xyz = PolynomialFeatures(degree = 2)"
   ]
  },
  {
   "cell_type": "code",
   "execution_count": 95,
   "id": "f59978b8",
   "metadata": {},
   "outputs": [
    {
     "data": {
      "text/plain": [
       "array([[ 0.3755295 ],\n",
       "       [ 2.16445652],\n",
       "       [-0.17614043],\n",
       "       [-1.05470357],\n",
       "       [-2.24426724],\n",
       "       [ 0.04478696],\n",
       "       [-1.91198703],\n",
       "       [-0.75805036],\n",
       "       [ 0.07678802],\n",
       "       [-1.48670617],\n",
       "       [ 1.79181673],\n",
       "       [ 1.9392743 ],\n",
       "       [ 1.7712332 ],\n",
       "       [ 0.97577293],\n",
       "       [-0.26859048],\n",
       "       [ 0.54620867],\n",
       "       [-1.00158391],\n",
       "       [ 0.64033228],\n",
       "       [ 1.03301181],\n",
       "       [-0.69790735],\n",
       "       [-0.14087916],\n",
       "       [ 1.58203652],\n",
       "       [-1.3456046 ],\n",
       "       [-2.61213303],\n",
       "       [-1.24904861],\n",
       "       [ 2.98016325],\n",
       "       [ 0.88915979],\n",
       "       [-1.47019187],\n",
       "       [ 2.40705671],\n",
       "       [-2.598866  ],\n",
       "       [ 0.89646489],\n",
       "       [ 2.36421583],\n",
       "       [-1.95435145],\n",
       "       [-2.18779786],\n",
       "       [-0.78702524],\n",
       "       [ 0.73227252],\n",
       "       [-2.02436408],\n",
       "       [-1.7723046 ],\n",
       "       [-1.77160901],\n",
       "       [ 0.81312784],\n",
       "       [-1.81512485],\n",
       "       [ 2.94024743],\n",
       "       [-1.04457148],\n",
       "       [ 1.15389878],\n",
       "       [-0.009256  ],\n",
       "       [-1.93227699],\n",
       "       [ 2.02649659],\n",
       "       [ 1.7636464 ],\n",
       "       [ 0.99292844],\n",
       "       [ 1.16145246],\n",
       "       [ 2.95128547],\n",
       "       [ 0.46660432],\n",
       "       [-1.54332997],\n",
       "       [ 0.55113563],\n",
       "       [ 1.14366072],\n",
       "       [ 1.34308433],\n",
       "       [ 0.49199602],\n",
       "       [ 2.87904494],\n",
       "       [ 1.68725082],\n",
       "       [-1.27113142],\n",
       "       [-1.65340589],\n",
       "       [ 0.94429296],\n",
       "       [-2.92514116],\n",
       "       [-1.82309375],\n",
       "       [ 1.22948775],\n",
       "       [-0.16732578],\n",
       "       [ 1.34325852],\n",
       "       [ 1.98085011],\n",
       "       [ 1.36409645],\n",
       "       [-2.96013819],\n",
       "       [ 1.32153477],\n",
       "       [-1.54881768],\n",
       "       [ 0.33245047],\n",
       "       [ 0.87731314],\n",
       "       [ 2.96048949],\n",
       "       [ 1.41612404],\n",
       "       [ 1.46416729],\n",
       "       [ 1.07281583],\n",
       "       [-2.7044569 ],\n",
       "       [ 1.87978641],\n",
       "       [ 2.14354431],\n",
       "       [-0.74070684],\n",
       "       [-0.35328272],\n",
       "       [ 1.46142636],\n",
       "       [-0.00323511],\n",
       "       [-1.10156162],\n",
       "       [-2.25046701],\n",
       "       [-2.76404381],\n",
       "       [-1.9576662 ],\n",
       "       [ 0.01397214],\n",
       "       [-1.12214915],\n",
       "       [-1.1410881 ],\n",
       "       [ 2.47428863],\n",
       "       [ 1.69646241],\n",
       "       [-1.66277743],\n",
       "       [ 0.63759194],\n",
       "       [ 2.46877376],\n",
       "       [ 2.2126189 ],\n",
       "       [-0.05621001],\n",
       "       [ 0.31708981],\n",
       "       [-0.81587566],\n",
       "       [ 0.81572458],\n",
       "       [-0.02230816],\n",
       "       [-2.59285494],\n",
       "       [-2.61383482],\n",
       "       [ 0.29081863],\n",
       "       [-0.60544781],\n",
       "       [ 0.2909115 ],\n",
       "       [ 2.54954571],\n",
       "       [ 2.35340238],\n",
       "       [ 0.01536656],\n",
       "       [ 1.18102286],\n",
       "       [-2.66363507],\n",
       "       [-2.06879122],\n",
       "       [-0.12116916],\n",
       "       [-1.58142551],\n",
       "       [-2.45688444],\n",
       "       [ 0.00429594],\n",
       "       [-0.28361092],\n",
       "       [ 2.26795137],\n",
       "       [-0.01005033],\n",
       "       [-2.52132785],\n",
       "       [ 0.43472849],\n",
       "       [ 0.26189216],\n",
       "       [ 1.1984937 ],\n",
       "       [-2.43412537],\n",
       "       [-0.26888732],\n",
       "       [ 1.09241808],\n",
       "       [-0.53399862],\n",
       "       [-1.94466886],\n",
       "       [ 1.44803479],\n",
       "       [ 2.45151611],\n",
       "       [-0.71269645],\n",
       "       [ 2.87412893],\n",
       "       [ 0.86533315],\n",
       "       [-2.35215121],\n",
       "       [-0.58481319],\n",
       "       [-1.75052958],\n",
       "       [-1.35847454],\n",
       "       [ 1.39621071],\n",
       "       [-1.93845604],\n",
       "       [-1.85189868],\n",
       "       [-0.74945277],\n",
       "       [ 0.57514416],\n",
       "       [ 1.6780819 ],\n",
       "       [ 2.68519611],\n",
       "       [ 1.83566882],\n",
       "       [ 0.3093633 ],\n",
       "       [ 1.19410564],\n",
       "       [ 0.05834799],\n",
       "       [ 1.40542653],\n",
       "       [ 1.85888634],\n",
       "       [ 1.64952565],\n",
       "       [-2.40311372],\n",
       "       [-0.74791494],\n",
       "       [ 0.15591773],\n",
       "       [-2.60372905],\n",
       "       [ 2.75748895],\n",
       "       [ 1.95938096],\n",
       "       [ 0.39442939]])"
      ]
     },
     "execution_count": 95,
     "metadata": {},
     "output_type": "execute_result"
    }
   ],
   "source": [
    "x_train"
   ]
  },
  {
   "cell_type": "code",
   "execution_count": 96,
   "id": "b986bfcb",
   "metadata": {},
   "outputs": [],
   "source": [
    "new_x_train = xyz.fit_transform(x_train)\n",
    "\n",
    "new_x_test = xyz.transform(x_test)"
   ]
  },
  {
   "cell_type": "code",
   "execution_count": 97,
   "id": "18e8a21c",
   "metadata": {},
   "outputs": [
    {
     "data": {
      "text/plain": [
       "array([[ 1.00000000e+00,  3.75529504e-01,  1.41022408e-01],\n",
       "       [ 1.00000000e+00,  2.16445652e+00,  4.68487201e+00],\n",
       "       [ 1.00000000e+00, -1.76140429e-01,  3.10254506e-02],\n",
       "       [ 1.00000000e+00, -1.05470357e+00,  1.11239962e+00],\n",
       "       [ 1.00000000e+00, -2.24426724e+00,  5.03673545e+00],\n",
       "       [ 1.00000000e+00,  4.47869623e-02,  2.00587200e-03],\n",
       "       [ 1.00000000e+00, -1.91198703e+00,  3.65569440e+00],\n",
       "       [ 1.00000000e+00, -7.58050357e-01,  5.74640344e-01],\n",
       "       [ 1.00000000e+00,  7.67880193e-02,  5.89639991e-03],\n",
       "       [ 1.00000000e+00, -1.48670617e+00,  2.21029525e+00],\n",
       "       [ 1.00000000e+00,  1.79181673e+00,  3.21060719e+00],\n",
       "       [ 1.00000000e+00,  1.93927430e+00,  3.76078482e+00],\n",
       "       [ 1.00000000e+00,  1.77123320e+00,  3.13726703e+00],\n",
       "       [ 1.00000000e+00,  9.75772934e-01,  9.52132819e-01],\n",
       "       [ 1.00000000e+00, -2.68590480e-01,  7.21408459e-02],\n",
       "       [ 1.00000000e+00,  5.46208673e-01,  2.98343915e-01],\n",
       "       [ 1.00000000e+00, -1.00158391e+00,  1.00317032e+00],\n",
       "       [ 1.00000000e+00,  6.40332278e-01,  4.10025426e-01],\n",
       "       [ 1.00000000e+00,  1.03301181e+00,  1.06711339e+00],\n",
       "       [ 1.00000000e+00, -6.97907346e-01,  4.87074664e-01],\n",
       "       [ 1.00000000e+00, -1.40879156e-01,  1.98469367e-02],\n",
       "       [ 1.00000000e+00,  1.58203652e+00,  2.50283956e+00],\n",
       "       [ 1.00000000e+00, -1.34560460e+00,  1.81065174e+00],\n",
       "       [ 1.00000000e+00, -2.61213303e+00,  6.82323898e+00],\n",
       "       [ 1.00000000e+00, -1.24904861e+00,  1.56012242e+00],\n",
       "       [ 1.00000000e+00,  2.98016325e+00,  8.88137297e+00],\n",
       "       [ 1.00000000e+00,  8.89159790e-01,  7.90605133e-01],\n",
       "       [ 1.00000000e+00, -1.47019187e+00,  2.16146413e+00],\n",
       "       [ 1.00000000e+00,  2.40705671e+00,  5.79392202e+00],\n",
       "       [ 1.00000000e+00, -2.59886600e+00,  6.75410448e+00],\n",
       "       [ 1.00000000e+00,  8.96464889e-01,  8.03649297e-01],\n",
       "       [ 1.00000000e+00,  2.36421583e+00,  5.58951648e+00],\n",
       "       [ 1.00000000e+00, -1.95435145e+00,  3.81948957e+00],\n",
       "       [ 1.00000000e+00, -2.18779786e+00,  4.78645949e+00],\n",
       "       [ 1.00000000e+00, -7.87025242e-01,  6.19408732e-01],\n",
       "       [ 1.00000000e+00,  7.32272517e-01,  5.36223039e-01],\n",
       "       [ 1.00000000e+00, -2.02436408e+00,  4.09804992e+00],\n",
       "       [ 1.00000000e+00, -1.77230460e+00,  3.14106361e+00],\n",
       "       [ 1.00000000e+00, -1.77160901e+00,  3.13859849e+00],\n",
       "       [ 1.00000000e+00,  8.13127836e-01,  6.61176878e-01],\n",
       "       [ 1.00000000e+00, -1.81512485e+00,  3.29467822e+00],\n",
       "       [ 1.00000000e+00,  2.94024743e+00,  8.64505496e+00],\n",
       "       [ 1.00000000e+00, -1.04457148e+00,  1.09112958e+00],\n",
       "       [ 1.00000000e+00,  1.15389878e+00,  1.33148239e+00],\n",
       "       [ 1.00000000e+00, -9.25600407e-03,  8.56736113e-05],\n",
       "       [ 1.00000000e+00, -1.93227699e+00,  3.73369436e+00],\n",
       "       [ 1.00000000e+00,  2.02649659e+00,  4.10668844e+00],\n",
       "       [ 1.00000000e+00,  1.76364640e+00,  3.11044863e+00],\n",
       "       [ 1.00000000e+00,  9.92928435e-01,  9.85906878e-01],\n",
       "       [ 1.00000000e+00,  1.16145246e+00,  1.34897181e+00],\n",
       "       [ 1.00000000e+00,  2.95128547e+00,  8.71008591e+00],\n",
       "       [ 1.00000000e+00,  4.66604324e-01,  2.17719595e-01],\n",
       "       [ 1.00000000e+00, -1.54332997e+00,  2.38186739e+00],\n",
       "       [ 1.00000000e+00,  5.51135628e-01,  3.03750480e-01],\n",
       "       [ 1.00000000e+00,  1.14366072e+00,  1.30795984e+00],\n",
       "       [ 1.00000000e+00,  1.34308433e+00,  1.80387553e+00],\n",
       "       [ 1.00000000e+00,  4.91996016e-01,  2.42060080e-01],\n",
       "       [ 1.00000000e+00,  2.87904494e+00,  8.28889975e+00],\n",
       "       [ 1.00000000e+00,  1.68725082e+00,  2.84681532e+00],\n",
       "       [ 1.00000000e+00, -1.27113142e+00,  1.61577508e+00],\n",
       "       [ 1.00000000e+00, -1.65340589e+00,  2.73375103e+00],\n",
       "       [ 1.00000000e+00,  9.44292960e-01,  8.91689195e-01],\n",
       "       [ 1.00000000e+00, -2.92514116e+00,  8.55645081e+00],\n",
       "       [ 1.00000000e+00, -1.82309375e+00,  3.32367081e+00],\n",
       "       [ 1.00000000e+00,  1.22948775e+00,  1.51164014e+00],\n",
       "       [ 1.00000000e+00, -1.67325784e-01,  2.79979180e-02],\n",
       "       [ 1.00000000e+00,  1.34325852e+00,  1.80434344e+00],\n",
       "       [ 1.00000000e+00,  1.98085011e+00,  3.92376716e+00],\n",
       "       [ 1.00000000e+00,  1.36409645e+00,  1.86075913e+00],\n",
       "       [ 1.00000000e+00, -2.96013819e+00,  8.76241812e+00],\n",
       "       [ 1.00000000e+00,  1.32153477e+00,  1.74645416e+00],\n",
       "       [ 1.00000000e+00, -1.54881768e+00,  2.39883620e+00],\n",
       "       [ 1.00000000e+00,  3.32450471e-01,  1.10523316e-01],\n",
       "       [ 1.00000000e+00,  8.77313143e-01,  7.69678352e-01],\n",
       "       [ 1.00000000e+00,  2.96048949e+00,  8.76449803e+00],\n",
       "       [ 1.00000000e+00,  1.41612404e+00,  2.00540731e+00],\n",
       "       [ 1.00000000e+00,  1.46416729e+00,  2.14378586e+00],\n",
       "       [ 1.00000000e+00,  1.07281583e+00,  1.15093380e+00],\n",
       "       [ 1.00000000e+00, -2.70445690e+00,  7.31408714e+00],\n",
       "       [ 1.00000000e+00,  1.87978641e+00,  3.53359695e+00],\n",
       "       [ 1.00000000e+00,  2.14354431e+00,  4.59478220e+00],\n",
       "       [ 1.00000000e+00, -7.40706841e-01,  5.48646625e-01],\n",
       "       [ 1.00000000e+00, -3.53282716e-01,  1.24808677e-01],\n",
       "       [ 1.00000000e+00,  1.46142636e+00,  2.13576700e+00],\n",
       "       [ 1.00000000e+00, -3.23511356e-03,  1.04659598e-05],\n",
       "       [ 1.00000000e+00, -1.10156162e+00,  1.21343799e+00],\n",
       "       [ 1.00000000e+00, -2.25046701e+00,  5.06460176e+00],\n",
       "       [ 1.00000000e+00, -2.76404381e+00,  7.63993819e+00],\n",
       "       [ 1.00000000e+00, -1.95766620e+00,  3.83245695e+00],\n",
       "       [ 1.00000000e+00,  1.39721371e-02,  1.95220614e-04],\n",
       "       [ 1.00000000e+00, -1.12214915e+00,  1.25921872e+00],\n",
       "       [ 1.00000000e+00, -1.14108810e+00,  1.30208204e+00],\n",
       "       [ 1.00000000e+00,  2.47428863e+00,  6.12210425e+00],\n",
       "       [ 1.00000000e+00,  1.69646241e+00,  2.87798471e+00],\n",
       "       [ 1.00000000e+00, -1.66277743e+00,  2.76482877e+00],\n",
       "       [ 1.00000000e+00,  6.37591945e-01,  4.06523488e-01],\n",
       "       [ 1.00000000e+00,  2.46877376e+00,  6.09484388e+00],\n",
       "       [ 1.00000000e+00,  2.21261890e+00,  4.89568238e+00],\n",
       "       [ 1.00000000e+00, -5.62100075e-02,  3.15956494e-03],\n",
       "       [ 1.00000000e+00,  3.17089808e-01,  1.00545946e-01],\n",
       "       [ 1.00000000e+00, -8.15875664e-01,  6.65653100e-01],\n",
       "       [ 1.00000000e+00,  8.15724578e-01,  6.65406588e-01],\n",
       "       [ 1.00000000e+00, -2.23081602e-02,  4.97654013e-04],\n",
       "       [ 1.00000000e+00, -2.59285494e+00,  6.72289674e+00],\n",
       "       [ 1.00000000e+00, -2.61383482e+00,  6.83213249e+00],\n",
       "       [ 1.00000000e+00,  2.90818626e-01,  8.45754732e-02],\n",
       "       [ 1.00000000e+00, -6.05447814e-01,  3.66567056e-01],\n",
       "       [ 1.00000000e+00,  2.90911500e-01,  8.46295010e-02],\n",
       "       [ 1.00000000e+00,  2.54954571e+00,  6.50018333e+00],\n",
       "       [ 1.00000000e+00,  2.35340238e+00,  5.53850278e+00],\n",
       "       [ 1.00000000e+00,  1.53665591e-02,  2.36131138e-04],\n",
       "       [ 1.00000000e+00,  1.18102286e+00,  1.39481500e+00],\n",
       "       [ 1.00000000e+00, -2.66363507e+00,  7.09495176e+00],\n",
       "       [ 1.00000000e+00, -2.06879122e+00,  4.27989710e+00],\n",
       "       [ 1.00000000e+00, -1.21169164e-01,  1.46819662e-02],\n",
       "       [ 1.00000000e+00, -1.58142551e+00,  2.50090664e+00],\n",
       "       [ 1.00000000e+00, -2.45688444e+00,  6.03628113e+00],\n",
       "       [ 1.00000000e+00,  4.29593692e-03,  1.84550741e-05],\n",
       "       [ 1.00000000e+00, -2.83610920e-01,  8.04351541e-02],\n",
       "       [ 1.00000000e+00,  2.26795137e+00,  5.14360342e+00],\n",
       "       [ 1.00000000e+00, -1.00503337e-02,  1.01009208e-04],\n",
       "       [ 1.00000000e+00, -2.52132785e+00,  6.35709411e+00],\n",
       "       [ 1.00000000e+00,  4.34728489e-01,  1.88988859e-01],\n",
       "       [ 1.00000000e+00,  2.61892160e-01,  6.85875033e-02],\n",
       "       [ 1.00000000e+00,  1.19849370e+00,  1.43638714e+00],\n",
       "       [ 1.00000000e+00, -2.43412537e+00,  5.92496632e+00],\n",
       "       [ 1.00000000e+00, -2.68887316e-01,  7.23003886e-02],\n",
       "       [ 1.00000000e+00,  1.09241808e+00,  1.19337725e+00],\n",
       "       [ 1.00000000e+00, -5.33998617e-01,  2.85154523e-01],\n",
       "       [ 1.00000000e+00, -1.94466886e+00,  3.78173699e+00],\n",
       "       [ 1.00000000e+00,  1.44803479e+00,  2.09680476e+00],\n",
       "       [ 1.00000000e+00,  2.45151611e+00,  6.00993123e+00],\n",
       "       [ 1.00000000e+00, -7.12696451e-01,  5.07936232e-01],\n",
       "       [ 1.00000000e+00,  2.87412893e+00,  8.26061710e+00],\n",
       "       [ 1.00000000e+00,  8.65333152e-01,  7.48801464e-01],\n",
       "       [ 1.00000000e+00, -2.35215121e+00,  5.53261530e+00],\n",
       "       [ 1.00000000e+00, -5.84813186e-01,  3.42006462e-01],\n",
       "       [ 1.00000000e+00, -1.75052958e+00,  3.06435380e+00],\n",
       "       [ 1.00000000e+00, -1.35847454e+00,  1.84545309e+00],\n",
       "       [ 1.00000000e+00,  1.39621071e+00,  1.94940435e+00],\n",
       "       [ 1.00000000e+00, -1.93845604e+00,  3.75761183e+00],\n",
       "       [ 1.00000000e+00, -1.85189868e+00,  3.42952873e+00],\n",
       "       [ 1.00000000e+00, -7.49452765e-01,  5.61679447e-01],\n",
       "       [ 1.00000000e+00,  5.75144158e-01,  3.30790803e-01],\n",
       "       [ 1.00000000e+00,  1.67808190e+00,  2.81595888e+00],\n",
       "       [ 1.00000000e+00,  2.68519611e+00,  7.21027817e+00],\n",
       "       [ 1.00000000e+00,  1.83566882e+00,  3.36968001e+00],\n",
       "       [ 1.00000000e+00,  3.09363298e-01,  9.57056502e-02],\n",
       "       [ 1.00000000e+00,  1.19410564e+00,  1.42588827e+00],\n",
       "       [ 1.00000000e+00,  5.83479872e-02,  3.40448761e-03],\n",
       "       [ 1.00000000e+00,  1.40542653e+00,  1.97522372e+00],\n",
       "       [ 1.00000000e+00,  1.85888634e+00,  3.45545844e+00],\n",
       "       [ 1.00000000e+00,  1.64952565e+00,  2.72093489e+00],\n",
       "       [ 1.00000000e+00, -2.40311372e+00,  5.77495553e+00],\n",
       "       [ 1.00000000e+00, -7.47914936e-01,  5.59376752e-01],\n",
       "       [ 1.00000000e+00,  1.55917731e-01,  2.43103390e-02],\n",
       "       [ 1.00000000e+00, -2.60372905e+00,  6.77940497e+00],\n",
       "       [ 1.00000000e+00,  2.75748895e+00,  7.60374530e+00],\n",
       "       [ 1.00000000e+00,  1.95938096e+00,  3.83917373e+00],\n",
       "       [ 1.00000000e+00,  3.94429388e-01,  1.55574542e-01]])"
      ]
     },
     "execution_count": 97,
     "metadata": {},
     "output_type": "execute_result"
    }
   ],
   "source": [
    "new_x_train"
   ]
  },
  {
   "cell_type": "code",
   "execution_count": 98,
   "id": "c5031046",
   "metadata": {},
   "outputs": [],
   "source": [
    "neobj = LinearRegression()"
   ]
  },
  {
   "cell_type": "code",
   "execution_count": 99,
   "id": "72a97d42",
   "metadata": {},
   "outputs": [],
   "source": [
    "xyz = neobj.fit(new_x_train, y_train)"
   ]
  },
  {
   "cell_type": "code",
   "execution_count": 101,
   "id": "7868353a",
   "metadata": {},
   "outputs": [],
   "source": [
    "y_pred_new = xyz.predict(new_x_test)"
   ]
  },
  {
   "cell_type": "code",
   "execution_count": 102,
   "id": "6c7465e6",
   "metadata": {},
   "outputs": [
    {
     "data": {
      "text/plain": [
       "0.8114460868548202"
      ]
     },
     "execution_count": 102,
     "metadata": {},
     "output_type": "execute_result"
    }
   ],
   "source": [
    "r2_score(y_test, y_pred_new)"
   ]
  },
  {
   "cell_type": "code",
   "execution_count": 103,
   "id": "004bd998",
   "metadata": {},
   "outputs": [],
   "source": [
    "m = xyz.coef_"
   ]
  },
  {
   "cell_type": "code",
   "execution_count": 104,
   "id": "5cfc62bd",
   "metadata": {},
   "outputs": [],
   "source": [
    "b = xyz.intercept_"
   ]
  },
  {
   "cell_type": "code",
   "execution_count": 107,
   "id": "4ae3ad58",
   "metadata": {},
   "outputs": [
    {
     "data": {
      "text/plain": [
       "array([[0.        , 0.80786843, 0.81912452]])"
      ]
     },
     "execution_count": 107,
     "metadata": {},
     "output_type": "execute_result"
    }
   ],
   "source": [
    "m"
   ]
  },
  {
   "cell_type": "code",
   "execution_count": 111,
   "id": "14436cc5",
   "metadata": {},
   "outputs": [],
   "source": [
    "y = b + (0. * 1.00000000e+00) + (0.80786843 * 3.75529504e-01) + (0.81912452 * 1.41022408e-01)"
   ]
  },
  {
   "cell_type": "code",
   "execution_count": 112,
   "id": "f418d7d7",
   "metadata": {},
   "outputs": [
    {
     "data": {
      "text/plain": [
       "array([2.28733367])"
      ]
     },
     "execution_count": 112,
     "metadata": {},
     "output_type": "execute_result"
    }
   ],
   "source": [
    "y"
   ]
  },
  {
   "cell_type": "code",
   "execution_count": 113,
   "id": "d29e6e35",
   "metadata": {},
   "outputs": [
    {
     "data": {
      "text/plain": [
       "array([[ 1.50914700e+00],\n",
       "       [ 9.26035455e+00],\n",
       "       [-5.14067696e-01],\n",
       "       [ 2.44158974e+00],\n",
       "       [ 5.83390866e+00],\n",
       "       [ 8.64536751e-01],\n",
       "       [ 3.99625512e+00],\n",
       "       [ 1.97250918e+00],\n",
       "       [ 6.11198122e-01],\n",
       "       [ 3.73125696e+00],\n",
       "       [ 6.42624486e+00],\n",
       "       [ 5.35322539e+00],\n",
       "       [ 6.03543696e+00],\n",
       "       [ 4.00032024e+00],\n",
       "       [ 1.97369027e+00],\n",
       "       [ 1.46524335e+00],\n",
       "       [-1.29239769e-01],\n",
       "       [ 3.62818817e+00],\n",
       "       [ 3.85032903e+00],\n",
       "       [ 1.95066334e+00],\n",
       "       [ 3.05700926e+00],\n",
       "       [ 5.08629716e+00],\n",
       "       [ 3.74224135e+00],\n",
       "       [ 3.32312952e+00],\n",
       "       [ 3.56261325e+00],\n",
       "       [ 1.13388422e+01],\n",
       "       [ 5.88475706e+00],\n",
       "       [ 3.16577824e+00],\n",
       "       [ 8.27252022e+00],\n",
       "       [ 4.47209859e+00],\n",
       "       [ 4.18370961e+00],\n",
       "       [ 8.03329141e+00],\n",
       "       [ 4.83131335e+00],\n",
       "       [ 3.40274620e+00],\n",
       "       [ 1.92676507e+00],\n",
       "       [ 1.24492656e+00],\n",
       "       [ 4.36177428e+00],\n",
       "       [ 3.07804701e+00],\n",
       "       [ 3.20766157e+00],\n",
       "       [ 3.37600361e+00],\n",
       "       [ 2.69662583e+00],\n",
       "       [ 1.06316522e+01],\n",
       "       [ 3.17456215e+00],\n",
       "       [ 4.74365498e+00],\n",
       "       [ 3.24177854e+00],\n",
       "       [ 3.70475723e+00],\n",
       "       [ 4.55960102e+00],\n",
       "       [ 7.63030445e+00],\n",
       "       [ 1.78517816e+00],\n",
       "       [ 3.49178754e+00],\n",
       "       [ 1.09830526e+01],\n",
       "       [ 1.64871986e+00],\n",
       "       [ 1.91530164e+00],\n",
       "       [-1.15027085e-03],\n",
       "       [ 5.84050999e+00],\n",
       "       [ 3.46064591e+00],\n",
       "       [ 1.47701492e+00],\n",
       "       [ 1.24041430e+01],\n",
       "       [ 6.94811263e+00],\n",
       "       [ 2.28696053e-01],\n",
       "       [ 1.30149848e+00],\n",
       "       [ 3.54898818e+00],\n",
       "       [ 7.64573331e+00],\n",
       "       [ 2.96839976e+00],\n",
       "       [ 3.50905862e+00],\n",
       "       [ 1.70443101e-01],\n",
       "       [ 4.11776273e+00],\n",
       "       [ 7.57208546e+00],\n",
       "       [ 5.62784382e+00],\n",
       "       [ 8.36326525e+00],\n",
       "       [ 4.56685591e+00],\n",
       "       [ 1.59954416e+00],\n",
       "       [ 1.56897579e+00],\n",
       "       [ 3.18607256e+00],\n",
       "       [ 1.17086495e+01],\n",
       "       [ 5.44644154e+00],\n",
       "       [ 5.19203677e+00],\n",
       "       [ 4.36624454e+00],\n",
       "       [ 5.83080504e+00],\n",
       "       [ 5.01186504e+00],\n",
       "       [ 7.73969616e+00],\n",
       "       [ 2.75348095e+00],\n",
       "       [ 3.06173512e+00],\n",
       "       [ 4.67822621e+00],\n",
       "       [ 9.59290125e-01],\n",
       "       [ 1.00830383e+00],\n",
       "       [ 3.50810946e+00],\n",
       "       [ 5.08174239e+00],\n",
       "       [ 4.35185989e+00],\n",
       "       [ 1.53723855e+00],\n",
       "       [ 2.15950790e+00],\n",
       "       [-1.96654577e-01],\n",
       "       [ 8.86695626e+00],\n",
       "       [ 6.15612805e+00],\n",
       "       [ 1.04716576e+00],\n",
       "       [ 3.68783154e+00],\n",
       "       [ 8.73374001e+00],\n",
       "       [ 9.09962408e+00],\n",
       "       [ 2.38792382e+00],\n",
       "       [ 1.49897745e+00],\n",
       "       [ 2.13777873e+00],\n",
       "       [ 3.19453662e+00],\n",
       "       [ 2.24564674e+00],\n",
       "       [ 3.27473826e+00],\n",
       "       [ 5.09053278e+00],\n",
       "       [ 1.60605118e+00],\n",
       "       [ 2.80571135e+00],\n",
       "       [ 1.26178713e+00],\n",
       "       [ 9.79092939e+00],\n",
       "       [ 7.05200713e+00],\n",
       "       [ 2.81081289e-01],\n",
       "       [ 4.72383453e+00],\n",
       "       [ 6.45667808e+00],\n",
       "       [ 4.31178926e+00],\n",
       "       [ 1.75197300e+00],\n",
       "       [ 3.18921075e+00],\n",
       "       [ 3.97201385e+00],\n",
       "       [ 2.95368402e+00],\n",
       "       [ 3.98945958e+00],\n",
       "       [ 8.85386984e+00],\n",
       "       [ 2.03529140e+00],\n",
       "       [ 7.27135026e+00],\n",
       "       [ 1.60848651e+00],\n",
       "       [ 2.15910958e+00],\n",
       "       [ 3.20448650e+00],\n",
       "       [ 4.13134345e+00],\n",
       "       [ 1.23347002e-01],\n",
       "       [ 5.01209023e+00],\n",
       "       [ 3.47627566e+00],\n",
       "       [ 7.86229262e-01],\n",
       "       [ 5.47672282e+00],\n",
       "       [ 9.16811777e+00],\n",
       "       [ 1.97189326e+00],\n",
       "       [ 1.09263107e+01],\n",
       "       [ 1.66734569e+00],\n",
       "       [ 4.43373667e+00],\n",
       "       [ 1.38491347e+00],\n",
       "       [ 2.95223748e+00],\n",
       "       [ 2.55019884e+00],\n",
       "       [ 3.83076936e+00],\n",
       "       [ 3.61394900e+00],\n",
       "       [ 2.16823304e+00],\n",
       "       [ 1.80819705e+00],\n",
       "       [ 3.11854508e+00],\n",
       "       [ 5.04854709e+00],\n",
       "       [ 9.10173262e+00],\n",
       "       [ 6.61263971e+00],\n",
       "       [ 3.80342413e+00],\n",
       "       [ 4.64810234e+00],\n",
       "       [ 3.35828727e+00],\n",
       "       [ 2.78559432e+00],\n",
       "       [ 5.51484786e+00],\n",
       "       [ 5.17898555e+00],\n",
       "       [ 3.85176391e+00],\n",
       "       [ 2.18345911e+00],\n",
       "       [ 1.67603795e+00],\n",
       "       [ 6.90192790e+00],\n",
       "       [ 8.27209161e+00],\n",
       "       [ 6.67762300e+00],\n",
       "       [ 2.53276650e+00]])"
      ]
     },
     "execution_count": 113,
     "metadata": {},
     "output_type": "execute_result"
    }
   ],
   "source": [
    "y_train"
   ]
  },
  {
   "cell_type": "code",
   "execution_count": null,
   "id": "251208d5",
   "metadata": {},
   "outputs": [],
   "source": []
  }
 ],
 "metadata": {
  "kernelspec": {
   "display_name": "Python 3 (ipykernel)",
   "language": "python",
   "name": "python3"
  },
  "language_info": {
   "codemirror_mode": {
    "name": "ipython",
    "version": 3
   },
   "file_extension": ".py",
   "mimetype": "text/x-python",
   "name": "python",
   "nbconvert_exporter": "python",
   "pygments_lexer": "ipython3",
   "version": "3.10.12"
  }
 },
 "nbformat": 4,
 "nbformat_minor": 5
}
