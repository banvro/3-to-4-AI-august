{
 "cells": [
  {
   "cell_type": "code",
   "execution_count": 1,
   "id": "abea3980-1f56-4030-8ec0-0e974051f96d",
   "metadata": {},
   "outputs": [],
   "source": [
    "import numpy as np"
   ]
  },
  {
   "cell_type": "code",
   "execution_count": 2,
   "id": "b9ebe055-3600-4070-a64b-98ae65555c9d",
   "metadata": {},
   "outputs": [],
   "source": [
    "\n",
    "# reshape() ---> method\n",
    "\n",
    "# random"
   ]
  },
  {
   "cell_type": "code",
   "execution_count": 3,
   "id": "fafdbcb9-15e9-4187-bb53-fec1a006529e",
   "metadata": {},
   "outputs": [],
   "source": [
    "arr = np.array([12, 34, 45, 67, 78, 8, 45, 34, 23, 45])"
   ]
  },
  {
   "cell_type": "code",
   "execution_count": 4,
   "id": "d03e0b41-6683-4daf-926c-87fce6afee13",
   "metadata": {},
   "outputs": [
    {
     "data": {
      "text/plain": [
       "1"
      ]
     },
     "execution_count": 4,
     "metadata": {},
     "output_type": "execute_result"
    }
   ],
   "source": [
    "arr.ndim"
   ]
  },
  {
   "cell_type": "code",
   "execution_count": null,
   "id": "a54dcca9-e7a2-42a1-94da-e47760b74b59",
   "metadata": {},
   "outputs": [],
   "source": []
  },
  {
   "cell_type": "code",
   "execution_count": 5,
   "id": "3711e1a3-530c-4895-b79a-c27188233cd0",
   "metadata": {},
   "outputs": [],
   "source": [
    "# reshape()"
   ]
  },
  {
   "cell_type": "code",
   "execution_count": 6,
   "id": "95b7e694-5934-4a07-a320-52485efca0ed",
   "metadata": {},
   "outputs": [],
   "source": [
    "# syntax ::\n",
    "\n",
    "# np.reshape(array_name, new_shape)"
   ]
  },
  {
   "cell_type": "code",
   "execution_count": null,
   "id": "d1a76a4c-d797-44e7-909a-5871ebb3c355",
   "metadata": {},
   "outputs": [],
   "source": []
  },
  {
   "cell_type": "code",
   "execution_count": 7,
   "id": "9ee14934-59d2-4434-92d4-ca879c164aac",
   "metadata": {},
   "outputs": [],
   "source": [
    "# 1D ---- to ---- 2D"
   ]
  },
  {
   "cell_type": "code",
   "execution_count": 8,
   "id": "48d4f21a-4ddf-4c04-84f0-4c09b6704b01",
   "metadata": {},
   "outputs": [],
   "source": [
    "arr = np.array([12, 34, 45, 67, 78, 8, 45, 34, 23, 45])"
   ]
  },
  {
   "cell_type": "code",
   "execution_count": 9,
   "id": "946e74fa-a571-46d9-8127-b64b8eaf675b",
   "metadata": {},
   "outputs": [
    {
     "data": {
      "text/plain": [
       "10"
      ]
     },
     "execution_count": 9,
     "metadata": {},
     "output_type": "execute_result"
    }
   ],
   "source": [
    "len(arr)\n",
    "\n",
    "# 5 x 2\n",
    "# 2 x 5"
   ]
  },
  {
   "cell_type": "code",
   "execution_count": 10,
   "id": "26aaa924-6b7f-48b6-84c9-acbc3b502094",
   "metadata": {},
   "outputs": [
    {
     "data": {
      "text/plain": [
       "array([[12, 34, 45, 67, 78],\n",
       "       [ 8, 45, 34, 23, 45]])"
      ]
     },
     "execution_count": 10,
     "metadata": {},
     "output_type": "execute_result"
    }
   ],
   "source": [
    "y = np.reshape(arr, (2, 5))\n",
    "y"
   ]
  },
  {
   "cell_type": "code",
   "execution_count": 11,
   "id": "9d73eb61-afc6-407d-bd09-1610cbc19ae4",
   "metadata": {},
   "outputs": [
    {
     "data": {
      "text/plain": [
       "2"
      ]
     },
     "execution_count": 11,
     "metadata": {},
     "output_type": "execute_result"
    }
   ],
   "source": [
    "y.ndim"
   ]
  },
  {
   "cell_type": "code",
   "execution_count": 16,
   "id": "37ef648a-d70f-4c12-88b1-c6c56679f525",
   "metadata": {},
   "outputs": [],
   "source": [
    "arr = np.array([100, 23, 45, 67, 34 , 34, 67, 23, 12])"
   ]
  },
  {
   "cell_type": "code",
   "execution_count": 14,
   "id": "ac7ce911-11b4-461d-b85a-3d3fa7bf6c61",
   "metadata": {},
   "outputs": [
    {
     "data": {
      "text/plain": [
       "9"
      ]
     },
     "execution_count": 14,
     "metadata": {},
     "output_type": "execute_result"
    }
   ],
   "source": [
    "len(arr)"
   ]
  },
  {
   "cell_type": "code",
   "execution_count": 19,
   "id": "d731cfbf-cc61-464d-b7dd-d4718f9546bb",
   "metadata": {},
   "outputs": [
    {
     "ename": "ValueError",
     "evalue": "cannot reshape array of size 9 into shape (3,4)",
     "output_type": "error",
     "traceback": [
      "\u001b[1;31m---------------------------------------------------------------------------\u001b[0m",
      "\u001b[1;31mValueError\u001b[0m                                Traceback (most recent call last)",
      "Cell \u001b[1;32mIn[19], line 1\u001b[0m\n\u001b[1;32m----> 1\u001b[0m \u001b[43mnp\u001b[49m\u001b[38;5;241;43m.\u001b[39;49m\u001b[43mreshape\u001b[49m\u001b[43m(\u001b[49m\u001b[43marr\u001b[49m\u001b[43m,\u001b[49m\u001b[43m \u001b[49m\u001b[43m(\u001b[49m\u001b[38;5;241;43m3\u001b[39;49m\u001b[43m,\u001b[49m\u001b[43m \u001b[49m\u001b[38;5;241;43m4\u001b[39;49m\u001b[43m)\u001b[49m\u001b[43m)\u001b[49m\n",
      "File \u001b[1;32m~\\AppData\\Local\\Programs\\Python\\Python312\\Lib\\site-packages\\numpy\\core\\fromnumeric.py:285\u001b[0m, in \u001b[0;36mreshape\u001b[1;34m(a, newshape, order)\u001b[0m\n\u001b[0;32m    200\u001b[0m \u001b[38;5;129m@array_function_dispatch\u001b[39m(_reshape_dispatcher)\n\u001b[0;32m    201\u001b[0m \u001b[38;5;28;01mdef\u001b[39;00m \u001b[38;5;21mreshape\u001b[39m(a, newshape, order\u001b[38;5;241m=\u001b[39m\u001b[38;5;124m'\u001b[39m\u001b[38;5;124mC\u001b[39m\u001b[38;5;124m'\u001b[39m):\n\u001b[0;32m    202\u001b[0m \u001b[38;5;250m    \u001b[39m\u001b[38;5;124;03m\"\"\"\u001b[39;00m\n\u001b[0;32m    203\u001b[0m \u001b[38;5;124;03m    Gives a new shape to an array without changing its data.\u001b[39;00m\n\u001b[0;32m    204\u001b[0m \n\u001b[1;32m   (...)\u001b[0m\n\u001b[0;32m    283\u001b[0m \u001b[38;5;124;03m           [5, 6]])\u001b[39;00m\n\u001b[0;32m    284\u001b[0m \u001b[38;5;124;03m    \"\"\"\u001b[39;00m\n\u001b[1;32m--> 285\u001b[0m     \u001b[38;5;28;01mreturn\u001b[39;00m \u001b[43m_wrapfunc\u001b[49m\u001b[43m(\u001b[49m\u001b[43ma\u001b[49m\u001b[43m,\u001b[49m\u001b[43m \u001b[49m\u001b[38;5;124;43m'\u001b[39;49m\u001b[38;5;124;43mreshape\u001b[39;49m\u001b[38;5;124;43m'\u001b[39;49m\u001b[43m,\u001b[49m\u001b[43m \u001b[49m\u001b[43mnewshape\u001b[49m\u001b[43m,\u001b[49m\u001b[43m \u001b[49m\u001b[43morder\u001b[49m\u001b[38;5;241;43m=\u001b[39;49m\u001b[43morder\u001b[49m\u001b[43m)\u001b[49m\n",
      "File \u001b[1;32m~\\AppData\\Local\\Programs\\Python\\Python312\\Lib\\site-packages\\numpy\\core\\fromnumeric.py:59\u001b[0m, in \u001b[0;36m_wrapfunc\u001b[1;34m(obj, method, *args, **kwds)\u001b[0m\n\u001b[0;32m     56\u001b[0m     \u001b[38;5;28;01mreturn\u001b[39;00m _wrapit(obj, method, \u001b[38;5;241m*\u001b[39margs, \u001b[38;5;241m*\u001b[39m\u001b[38;5;241m*\u001b[39mkwds)\n\u001b[0;32m     58\u001b[0m \u001b[38;5;28;01mtry\u001b[39;00m:\n\u001b[1;32m---> 59\u001b[0m     \u001b[38;5;28;01mreturn\u001b[39;00m \u001b[43mbound\u001b[49m\u001b[43m(\u001b[49m\u001b[38;5;241;43m*\u001b[39;49m\u001b[43margs\u001b[49m\u001b[43m,\u001b[49m\u001b[43m \u001b[49m\u001b[38;5;241;43m*\u001b[39;49m\u001b[38;5;241;43m*\u001b[39;49m\u001b[43mkwds\u001b[49m\u001b[43m)\u001b[49m\n\u001b[0;32m     60\u001b[0m \u001b[38;5;28;01mexcept\u001b[39;00m \u001b[38;5;167;01mTypeError\u001b[39;00m:\n\u001b[0;32m     61\u001b[0m     \u001b[38;5;66;03m# A TypeError occurs if the object does have such a method in its\u001b[39;00m\n\u001b[0;32m     62\u001b[0m     \u001b[38;5;66;03m# class, but its signature is not identical to that of NumPy's. This\u001b[39;00m\n\u001b[1;32m   (...)\u001b[0m\n\u001b[0;32m     66\u001b[0m     \u001b[38;5;66;03m# Call _wrapit from within the except clause to ensure a potential\u001b[39;00m\n\u001b[0;32m     67\u001b[0m     \u001b[38;5;66;03m# exception has a traceback chain.\u001b[39;00m\n\u001b[0;32m     68\u001b[0m     \u001b[38;5;28;01mreturn\u001b[39;00m _wrapit(obj, method, \u001b[38;5;241m*\u001b[39margs, \u001b[38;5;241m*\u001b[39m\u001b[38;5;241m*\u001b[39mkwds)\n",
      "\u001b[1;31mValueError\u001b[0m: cannot reshape array of size 9 into shape (3,4)"
     ]
    }
   ],
   "source": [
    "np.reshape(arr, (3, 4))"
   ]
  },
  {
   "cell_type": "code",
   "execution_count": null,
   "id": "ca6f3ff2-bf2f-4f8f-915d-6280f2688f8c",
   "metadata": {},
   "outputs": [],
   "source": []
  },
  {
   "cell_type": "code",
   "execution_count": null,
   "id": "f879086d-6ebc-4756-bc29-b8b962a43896",
   "metadata": {},
   "outputs": [],
   "source": []
  },
  {
   "cell_type": "code",
   "execution_count": 20,
   "id": "1252f737-d46d-464f-89bd-3dbcfaf8e4ad",
   "metadata": {},
   "outputs": [],
   "source": [
    "# -1 ----> "
   ]
  },
  {
   "cell_type": "code",
   "execution_count": 23,
   "id": "6bed4ec5-4063-4b0a-8aaa-e315159b6745",
   "metadata": {},
   "outputs": [],
   "source": [
    "arr = np.array([78, 8, 45, 34, 23, 45])"
   ]
  },
  {
   "cell_type": "code",
   "execution_count": null,
   "id": "c3aacdf4-47d4-4fe7-9f02-9af34acda41d",
   "metadata": {},
   "outputs": [],
   "source": []
  },
  {
   "cell_type": "code",
   "execution_count": 27,
   "id": "1b9420b8-bba9-4c8f-b74f-901eedeeb1b3",
   "metadata": {},
   "outputs": [
    {
     "data": {
      "text/plain": [
       "array([[78,  8],\n",
       "       [45, 34],\n",
       "       [23, 45]])"
      ]
     },
     "execution_count": 27,
     "metadata": {},
     "output_type": "execute_result"
    }
   ],
   "source": [
    "np.reshape(arr, (-1, 2))"
   ]
  },
  {
   "cell_type": "code",
   "execution_count": null,
   "id": "a3849737-57bf-4fe7-a6e3-8e4892f9edae",
   "metadata": {},
   "outputs": [],
   "source": []
  },
  {
   "cell_type": "code",
   "execution_count": 28,
   "id": "6fa70070-56b4-436a-83e3-d14dbea216b4",
   "metadata": {},
   "outputs": [],
   "source": [
    "arr = np.array([78, 8, 45, 34, 23, 45, 34, 56, 34, 57, 23, 12])"
   ]
  },
  {
   "cell_type": "code",
   "execution_count": 29,
   "id": "a449779b-e4cd-45e6-bc62-6129f109d48c",
   "metadata": {},
   "outputs": [
    {
     "data": {
      "text/plain": [
       "12"
      ]
     },
     "execution_count": 29,
     "metadata": {},
     "output_type": "execute_result"
    }
   ],
   "source": [
    "len(arr)"
   ]
  },
  {
   "cell_type": "code",
   "execution_count": null,
   "id": "b62054bf-e2de-4e8a-a0c0-7c4b5eeff94e",
   "metadata": {},
   "outputs": [],
   "source": []
  },
  {
   "cell_type": "code",
   "execution_count": 31,
   "id": "9ac0ea13-8fdf-422b-99fb-fa66c0a5116f",
   "metadata": {},
   "outputs": [
    {
     "data": {
      "text/plain": [
       "array([[78,  8],\n",
       "       [45, 34],\n",
       "       [23, 45],\n",
       "       [34, 56],\n",
       "       [34, 57],\n",
       "       [23, 12]])"
      ]
     },
     "execution_count": 31,
     "metadata": {},
     "output_type": "execute_result"
    }
   ],
   "source": [
    "np.reshape(arr, (-1, 2))"
   ]
  },
  {
   "cell_type": "code",
   "execution_count": 32,
   "id": "61529d9a-3301-433d-91cb-d11ffd0d3e2d",
   "metadata": {},
   "outputs": [],
   "source": [
    "arr = np.array([78, 8, 45, 34, 23, 45, 34, 56, 34, 57, 23, 12])"
   ]
  },
  {
   "cell_type": "code",
   "execution_count": 34,
   "id": "9bcf50d8-b9e9-43f2-86c6-f4edd8f31fe6",
   "metadata": {},
   "outputs": [
    {
     "data": {
      "text/plain": [
       "array([[78,  8],\n",
       "       [45, 34],\n",
       "       [23, 45],\n",
       "       [34, 56],\n",
       "       [34, 57],\n",
       "       [23, 12]])"
      ]
     },
     "execution_count": 34,
     "metadata": {},
     "output_type": "execute_result"
    }
   ],
   "source": [
    "np.reshape(arr, (6, -1))"
   ]
  },
  {
   "cell_type": "code",
   "execution_count": null,
   "id": "7eb78c85-e479-4fcd-8046-3180144cbab3",
   "metadata": {},
   "outputs": [],
   "source": []
  },
  {
   "cell_type": "code",
   "execution_count": null,
   "id": "a0e27fee-0581-44c7-941f-d827359f0dfd",
   "metadata": {},
   "outputs": [],
   "source": []
  },
  {
   "cell_type": "code",
   "execution_count": 35,
   "id": "9b577946-a65d-4270-bd6d-bb8a4294e78e",
   "metadata": {},
   "outputs": [],
   "source": [
    "# 2D ---> 1D "
   ]
  },
  {
   "cell_type": "code",
   "execution_count": 39,
   "id": "d6b9f2e0-e776-47f9-b7d3-f4cbb2f14ae7",
   "metadata": {},
   "outputs": [],
   "source": [
    "x = np.array([[23, 34, 45, 67, 34], [45, 67, 7, 89, 45]])"
   ]
  },
  {
   "cell_type": "code",
   "execution_count": 40,
   "id": "f1b4529a-655f-418b-af6d-a5b26d74c911",
   "metadata": {},
   "outputs": [
    {
     "data": {
      "text/plain": [
       "2"
      ]
     },
     "execution_count": 40,
     "metadata": {},
     "output_type": "execute_result"
    }
   ],
   "source": [
    "x.ndim"
   ]
  },
  {
   "cell_type": "code",
   "execution_count": null,
   "id": "363b6e94-ef4d-40ef-8a88-0efec64e396b",
   "metadata": {},
   "outputs": [],
   "source": []
  },
  {
   "cell_type": "code",
   "execution_count": 41,
   "id": "ee527cb1-4a7e-47c5-9cc9-8d53ee311589",
   "metadata": {},
   "outputs": [
    {
     "data": {
      "text/plain": [
       "array([23, 34, 45, 67, 34, 45, 67,  7, 89, 45])"
      ]
     },
     "execution_count": 41,
     "metadata": {},
     "output_type": "execute_result"
    }
   ],
   "source": [
    "np.reshape(x, -1)"
   ]
  },
  {
   "cell_type": "code",
   "execution_count": null,
   "id": "6d1f76c5-ba2a-4744-96b0-010bd28ffd0f",
   "metadata": {},
   "outputs": [],
   "source": []
  },
  {
   "cell_type": "code",
   "execution_count": 42,
   "id": "a09bf5b7-d131-47a7-ab37-167c2755351c",
   "metadata": {},
   "outputs": [],
   "source": [
    "# flatten ----> convert to 1 D"
   ]
  },
  {
   "cell_type": "code",
   "execution_count": 43,
   "id": "7c0398c7-ba47-4e67-857d-f8241a659892",
   "metadata": {},
   "outputs": [],
   "source": [
    "# array_name.flatten()"
   ]
  },
  {
   "cell_type": "code",
   "execution_count": 44,
   "id": "12ca7975-9125-444d-b34a-fbbc3adba3e7",
   "metadata": {},
   "outputs": [],
   "source": [
    "x = np.array([[23, 34, 45, 67, 34], [45, 67, 7, 89, 45]])"
   ]
  },
  {
   "cell_type": "code",
   "execution_count": 45,
   "id": "7816f6b6-d7b2-47f6-82ad-6a0fb258f458",
   "metadata": {},
   "outputs": [
    {
     "data": {
      "text/plain": [
       "array([23, 34, 45, 67, 34, 45, 67,  7, 89, 45])"
      ]
     },
     "execution_count": 45,
     "metadata": {},
     "output_type": "execute_result"
    }
   ],
   "source": [
    "x.flatten()"
   ]
  },
  {
   "cell_type": "code",
   "execution_count": null,
   "id": "a68815b0-c4a6-4245-8cce-c317881122ba",
   "metadata": {},
   "outputs": [],
   "source": [
    "\n"
   ]
  },
  {
   "cell_type": "code",
   "execution_count": null,
   "id": "980e6613-70cd-4fa4-8de7-5f5bfde17684",
   "metadata": {},
   "outputs": [],
   "source": []
  },
  {
   "cell_type": "code",
   "execution_count": 46,
   "id": "c54873f8-5504-479f-9200-fe9018401cb9",
   "metadata": {},
   "outputs": [],
   "source": [
    "# 1D -----> 3D"
   ]
  },
  {
   "cell_type": "code",
   "execution_count": null,
   "id": "249bc708-152d-475d-8eae-5895f1394143",
   "metadata": {},
   "outputs": [],
   "source": []
  },
  {
   "cell_type": "code",
   "execution_count": 49,
   "id": "113f2c4e-6793-4448-b766-3187186d9e76",
   "metadata": {},
   "outputs": [],
   "source": [
    "qw = np.array([[[12, 3, 45], [34, 5, 67]], [[45, 56, 67], [3, 1, 3]]])"
   ]
  },
  {
   "cell_type": "code",
   "execution_count": 50,
   "id": "f7b32f29-0c44-45c4-b478-c13e0345c1c1",
   "metadata": {},
   "outputs": [
    {
     "data": {
      "text/plain": [
       "3"
      ]
     },
     "execution_count": 50,
     "metadata": {},
     "output_type": "execute_result"
    }
   ],
   "source": [
    "qw.ndim"
   ]
  },
  {
   "cell_type": "code",
   "execution_count": 51,
   "id": "26caa096-3fe0-4493-8da9-f4f6f6d98ae2",
   "metadata": {},
   "outputs": [
    {
     "data": {
      "text/plain": [
       "array([[[12,  3, 45],\n",
       "        [34,  5, 67]],\n",
       "\n",
       "       [[45, 56, 67],\n",
       "        [ 3,  1,  3]]])"
      ]
     },
     "execution_count": 51,
     "metadata": {},
     "output_type": "execute_result"
    }
   ],
   "source": [
    "qw"
   ]
  },
  {
   "cell_type": "code",
   "execution_count": 52,
   "id": "8af0e91f-4b80-4498-aba0-69f3158182dd",
   "metadata": {},
   "outputs": [
    {
     "data": {
      "text/plain": [
       "array([12,  3, 45, 34,  5, 67, 45, 56, 67,  3,  1,  3])"
      ]
     },
     "execution_count": 52,
     "metadata": {},
     "output_type": "execute_result"
    }
   ],
   "source": [
    "np.reshape(qw, -1)"
   ]
  },
  {
   "cell_type": "code",
   "execution_count": 53,
   "id": "09306e45-abfd-4585-aa34-538c759abf01",
   "metadata": {},
   "outputs": [
    {
     "data": {
      "text/plain": [
       "array([12,  3, 45, 34,  5, 67, 45, 56, 67,  3,  1,  3])"
      ]
     },
     "execution_count": 53,
     "metadata": {},
     "output_type": "execute_result"
    }
   ],
   "source": [
    "qw.flatten()"
   ]
  },
  {
   "cell_type": "code",
   "execution_count": null,
   "id": "3980e237-6852-4a42-82cd-b638e90e0939",
   "metadata": {},
   "outputs": [],
   "source": []
  },
  {
   "cell_type": "code",
   "execution_count": null,
   "id": "cfa9b5c4-7b19-4c9b-91e1-f5ba4a0f9257",
   "metadata": {},
   "outputs": [],
   "source": []
  },
  {
   "cell_type": "code",
   "execution_count": 54,
   "id": "e786c180-8f12-48f4-bc2f-66241bec9358",
   "metadata": {},
   "outputs": [],
   "source": [
    "# 1D -----> 3D"
   ]
  },
  {
   "cell_type": "code",
   "execution_count": null,
   "id": "e9956dc0-088a-45f5-9c69-0ff3d595bc08",
   "metadata": {},
   "outputs": [],
   "source": []
  },
  {
   "cell_type": "code",
   "execution_count": 61,
   "id": "09253a97-f5be-482e-a9cf-b6b29e7b25c1",
   "metadata": {},
   "outputs": [],
   "source": [
    "zx = np.array([12, 34, 45, 67, 78, 34, 56, 34, 56, 78, 90, 7, 34, 56, 78, 45, 4, 23])"
   ]
  },
  {
   "cell_type": "code",
   "execution_count": 62,
   "id": "fd43a6d9-009b-467b-89a0-b4d321f4757c",
   "metadata": {},
   "outputs": [
    {
     "data": {
      "text/plain": [
       "18"
      ]
     },
     "execution_count": 62,
     "metadata": {},
     "output_type": "execute_result"
    }
   ],
   "source": [
    "len(zx)"
   ]
  },
  {
   "cell_type": "code",
   "execution_count": 63,
   "id": "49bea935-a574-4b44-b39f-3ccb7e4e2b14",
   "metadata": {},
   "outputs": [],
   "source": [
    "# 3, 3, 2"
   ]
  },
  {
   "cell_type": "code",
   "execution_count": 64,
   "id": "b1c89204-7758-486f-be21-1e2e8091c253",
   "metadata": {},
   "outputs": [
    {
     "data": {
      "text/plain": [
       "array([[[12, 34],\n",
       "        [45, 67],\n",
       "        [78, 34]],\n",
       "\n",
       "       [[56, 34],\n",
       "        [56, 78],\n",
       "        [90,  7]],\n",
       "\n",
       "       [[34, 56],\n",
       "        [78, 45],\n",
       "        [ 4, 23]]])"
      ]
     },
     "execution_count": 64,
     "metadata": {},
     "output_type": "execute_result"
    }
   ],
   "source": [
    "np.reshape(zx, (3, 3, 2))"
   ]
  },
  {
   "cell_type": "code",
   "execution_count": null,
   "id": "62f84a01-defc-4055-a1df-7c3cd5d34806",
   "metadata": {},
   "outputs": [],
   "source": []
  },
  {
   "cell_type": "code",
   "execution_count": null,
   "id": "347d3eeb-e509-4e20-ad9e-8994f5da047f",
   "metadata": {},
   "outputs": [],
   "source": []
  },
  {
   "cell_type": "code",
   "execution_count": null,
   "id": "d5e56b85-113b-4280-a3c3-82fb0601ce1d",
   "metadata": {},
   "outputs": [],
   "source": []
  },
  {
   "cell_type": "code",
   "execution_count": 65,
   "id": "e81903f6-8987-42ae-987d-f14cfbba02cb",
   "metadata": {},
   "outputs": [],
   "source": [
    "# Numpy ---> random\n",
    "\n",
    "# Python ----> random\n"
   ]
  },
  {
   "cell_type": "code",
   "execution_count": 66,
   "id": "6fedd862-bfa9-43a5-b186-757de083ed1f",
   "metadata": {},
   "outputs": [],
   "source": [
    "from numpy import random"
   ]
  },
  {
   "cell_type": "code",
   "execution_count": 67,
   "id": "03e47157-21de-40e4-82cb-32996fe00984",
   "metadata": {},
   "outputs": [],
   "source": [
    "# random ---> to get or genarte data randomly"
   ]
  },
  {
   "cell_type": "code",
   "execution_count": null,
   "id": "7a6a2b5f-ce88-46f0-851c-4de6edff47fc",
   "metadata": {},
   "outputs": [],
   "source": []
  },
  {
   "cell_type": "code",
   "execution_count": 68,
   "id": "0810ff9f-7573-4944-8ca0-1c765520b5dc",
   "metadata": {},
   "outputs": [],
   "source": [
    "# 20 --- 500"
   ]
  },
  {
   "cell_type": "code",
   "execution_count": 76,
   "id": "df4222f5-4dd1-45ad-a2e8-48e54ddd38af",
   "metadata": {},
   "outputs": [
    {
     "data": {
      "text/plain": [
       "6"
      ]
     },
     "execution_count": 76,
     "metadata": {},
     "output_type": "execute_result"
    }
   ],
   "source": [
    "random.randint(100)"
   ]
  },
  {
   "cell_type": "code",
   "execution_count": 80,
   "id": "f8340ec7-47c4-4152-b25f-0ffdd627febd",
   "metadata": {},
   "outputs": [
    {
     "data": {
      "text/plain": [
       "88"
      ]
     },
     "execution_count": 80,
     "metadata": {},
     "output_type": "execute_result"
    }
   ],
   "source": [
    "random.randint(50, 100)"
   ]
  },
  {
   "cell_type": "code",
   "execution_count": 81,
   "id": "097b15c6-5ccc-4a71-ae3d-0413d0102387",
   "metadata": {},
   "outputs": [],
   "source": [
    "# 1-D array "
   ]
  },
  {
   "cell_type": "code",
   "execution_count": 87,
   "id": "f626e158-412d-4f1a-bbf1-d5b01975a1f7",
   "metadata": {},
   "outputs": [
    {
     "data": {
      "text/plain": [
       "array([15, 29, 28, 12, 17, 10])"
      ]
     },
     "execution_count": 87,
     "metadata": {},
     "output_type": "execute_result"
    }
   ],
   "source": [
    "zx = random.randint(10, 40, size = 6)\n",
    "zx"
   ]
  },
  {
   "cell_type": "code",
   "execution_count": null,
   "id": "69504af1-787b-4feb-ac53-7168bb2b4557",
   "metadata": {},
   "outputs": [],
   "source": []
  },
  {
   "cell_type": "code",
   "execution_count": 88,
   "id": "1c397720-05c0-44ea-ac4e-c141d1a5f001",
   "metadata": {},
   "outputs": [],
   "source": [
    "# 2-D"
   ]
  },
  {
   "cell_type": "code",
   "execution_count": 90,
   "id": "b5ab3576-275a-40b2-8e6c-6c45ef93721b",
   "metadata": {},
   "outputs": [
    {
     "data": {
      "text/plain": [
       "array([[3, 5, 2, 4],\n",
       "       [2, 4, 4, 5],\n",
       "       [2, 4, 4, 4]])"
      ]
     },
     "execution_count": 90,
     "metadata": {},
     "output_type": "execute_result"
    }
   ],
   "source": [
    "random.randint(2, 6, size = (3, 4))"
   ]
  },
  {
   "cell_type": "code",
   "execution_count": null,
   "id": "ee10ae61-e1e9-4a82-957b-6efff3ddad9a",
   "metadata": {},
   "outputs": [],
   "source": []
  },
  {
   "cell_type": "code",
   "execution_count": 91,
   "id": "c95f39e0-4880-45b2-87b0-80d962deebd4",
   "metadata": {},
   "outputs": [
    {
     "data": {
      "text/plain": [
       "array([[[5, 5, 5],\n",
       "        [4, 5, 3],\n",
       "        [5, 4, 4],\n",
       "        [5, 2, 3]],\n",
       "\n",
       "       [[2, 3, 4],\n",
       "        [2, 2, 2],\n",
       "        [2, 5, 2],\n",
       "        [2, 2, 4]],\n",
       "\n",
       "       [[3, 2, 2],\n",
       "        [3, 4, 4],\n",
       "        [5, 2, 2],\n",
       "        [4, 2, 3]]])"
      ]
     },
     "execution_count": 91,
     "metadata": {},
     "output_type": "execute_result"
    }
   ],
   "source": [
    "random.randint(2, 6, size = (3, 4, 3))"
   ]
  },
  {
   "cell_type": "code",
   "execution_count": null,
   "id": "ae02736a-1191-40d0-9036-de2adb487fa0",
   "metadata": {},
   "outputs": [],
   "source": []
  },
  {
   "cell_type": "code",
   "execution_count": 92,
   "id": "5d513688-07ec-470f-9188-fb01a40dc1ad",
   "metadata": {},
   "outputs": [],
   "source": [
    "# random.randint(starting_point, end_point, size/shape)\n",
    "\n",
    "# to genrate integers from a given range"
   ]
  },
  {
   "cell_type": "code",
   "execution_count": null,
   "id": "d9c06c6b-1609-4812-b444-dd95aaaa7028",
   "metadata": {},
   "outputs": [],
   "source": []
  },
  {
   "cell_type": "code",
   "execution_count": 93,
   "id": "34aa1535-8b19-45db-9a29-1d9e580b559f",
   "metadata": {},
   "outputs": [],
   "source": [
    "# random.rand() -----> \n",
    "\n",
    "# it genrate the random element from the range of 0 to 1"
   ]
  },
  {
   "cell_type": "code",
   "execution_count": null,
   "id": "e0a2dc53-6fc1-4966-8fee-e912b7e72ccc",
   "metadata": {},
   "outputs": [],
   "source": []
  },
  {
   "cell_type": "code",
   "execution_count": 98,
   "id": "bb641a6f-7830-479f-9e10-42729d0311a4",
   "metadata": {},
   "outputs": [
    {
     "data": {
      "text/plain": [
       "0.4546170184312893"
      ]
     },
     "execution_count": 98,
     "metadata": {},
     "output_type": "execute_result"
    }
   ],
   "source": [
    "random.rand()"
   ]
  },
  {
   "cell_type": "code",
   "execution_count": null,
   "id": "8abcfd5e-978f-4932-9bbf-6bbc4f97dcb1",
   "metadata": {},
   "outputs": [],
   "source": []
  },
  {
   "cell_type": "code",
   "execution_count": 99,
   "id": "dfd29e4d-9937-410a-9f18-f65db4c58523",
   "metadata": {},
   "outputs": [
    {
     "data": {
      "text/plain": [
       "array([0.54018357, 0.66357859, 0.87791868, 0.95301682, 0.87110615,\n",
       "       0.64050068])"
      ]
     },
     "execution_count": 99,
     "metadata": {},
     "output_type": "execute_result"
    }
   ],
   "source": [
    "random.rand(6)"
   ]
  },
  {
   "cell_type": "code",
   "execution_count": 101,
   "id": "e379178e-b3aa-4818-9525-ee294a80b809",
   "metadata": {},
   "outputs": [
    {
     "data": {
      "text/plain": [
       "array([[0.06340842, 0.06212469, 0.91688272, 0.27963004, 0.36097613],\n",
       "       [0.38989261, 0.50770703, 0.44799551, 0.20159274, 0.51553353]])"
      ]
     },
     "execution_count": 101,
     "metadata": {},
     "output_type": "execute_result"
    }
   ],
   "source": [
    "\n",
    "random.rand(2, 5)"
   ]
  },
  {
   "cell_type": "code",
   "execution_count": null,
   "id": "f70222c1-02ad-4057-ae54-2738489dd17d",
   "metadata": {},
   "outputs": [],
   "source": []
  },
  {
   "cell_type": "code",
   "execution_count": null,
   "id": "e4ef1137-156a-475d-99f8-3fd6802d737c",
   "metadata": {},
   "outputs": [],
   "source": []
  },
  {
   "cell_type": "code",
   "execution_count": 102,
   "id": "8e96304f-8831-498b-8857-72b54a634982",
   "metadata": {},
   "outputs": [],
   "source": [
    "# choice"
   ]
  },
  {
   "cell_type": "code",
   "execution_count": null,
   "id": "037959a5-7dc2-4aae-b2a1-3ad01d3ae4af",
   "metadata": {},
   "outputs": [],
   "source": []
  },
  {
   "cell_type": "code",
   "execution_count": 108,
   "id": "c0f12b01-e11f-4255-ae38-432900cd7d0b",
   "metadata": {},
   "outputs": [
    {
     "data": {
      "text/plain": [
       "34"
      ]
     },
     "execution_count": 108,
     "metadata": {},
     "output_type": "execute_result"
    }
   ],
   "source": [
    "zx = random.choice([12, 34, 34, 45, 6, 76])\n",
    "zx"
   ]
  },
  {
   "cell_type": "code",
   "execution_count": null,
   "id": "c4d574b3-295e-4e6b-8c87-53aa9527b104",
   "metadata": {},
   "outputs": [],
   "source": []
  },
  {
   "cell_type": "code",
   "execution_count": 111,
   "id": "607d7f05-d835-4b68-8e4f-4e3355e173f0",
   "metadata": {},
   "outputs": [
    {
     "data": {
      "text/plain": [
       "array([34, 45, 34, 12,  6])"
      ]
     },
     "execution_count": 111,
     "metadata": {},
     "output_type": "execute_result"
    }
   ],
   "source": [
    "zx = random.choice([12, 34, 34, 45, 6, 76], size = 5)\n",
    "zx"
   ]
  },
  {
   "cell_type": "code",
   "execution_count": null,
   "id": "c6c89daa-7099-4595-87ba-ab0b57476aab",
   "metadata": {},
   "outputs": [],
   "source": []
  },
  {
   "cell_type": "code",
   "execution_count": 112,
   "id": "4ad13d02-bd5c-44a2-a91d-203ed2e1c84a",
   "metadata": {},
   "outputs": [
    {
     "data": {
      "text/plain": [
       "array([[76, 12, 34, 45],\n",
       "       [12, 34, 12, 34],\n",
       "       [34,  6, 34, 45]])"
      ]
     },
     "execution_count": 112,
     "metadata": {},
     "output_type": "execute_result"
    }
   ],
   "source": [
    "zx = random.choice([12, 34, 34, 45, 6, 76], size = (3, 4))\n",
    "zx"
   ]
  },
  {
   "cell_type": "code",
   "execution_count": null,
   "id": "2fbb46fc-402f-4155-aae0-2f2556f4628b",
   "metadata": {},
   "outputs": [],
   "source": []
  },
  {
   "cell_type": "code",
   "execution_count": 113,
   "id": "d55f43ea-d78e-4a81-9bdc-7b7911deb687",
   "metadata": {},
   "outputs": [],
   "source": [
    "# shuffle"
   ]
  },
  {
   "cell_type": "code",
   "execution_count": 117,
   "id": "bdc460e5-4beb-487a-93b1-8800a8587e54",
   "metadata": {},
   "outputs": [],
   "source": [
    "x = np.array([12, 34, 45, 56, 67, 8, 90])"
   ]
  },
  {
   "cell_type": "code",
   "execution_count": 118,
   "id": "ec1b148e-a59d-4da7-a88b-bf6d9ad03af8",
   "metadata": {},
   "outputs": [],
   "source": [
    "random.shuffle(x)"
   ]
  },
  {
   "cell_type": "code",
   "execution_count": 119,
   "id": "886375b6-feb1-4ff9-8faf-f590db16cfe6",
   "metadata": {},
   "outputs": [
    {
     "data": {
      "text/plain": [
       "array([56, 12, 45, 34, 90,  8, 67])"
      ]
     },
     "execution_count": 119,
     "metadata": {},
     "output_type": "execute_result"
    }
   ],
   "source": [
    "x"
   ]
  },
  {
   "cell_type": "code",
   "execution_count": null,
   "id": "d34e1110-c550-4a86-9eeb-6e4788bc58a3",
   "metadata": {},
   "outputs": [],
   "source": []
  },
  {
   "cell_type": "code",
   "execution_count": null,
   "id": "e9e94b7a-656d-4703-b469-38d786e6fa9a",
   "metadata": {},
   "outputs": [],
   "source": []
  },
  {
   "cell_type": "code",
   "execution_count": null,
   "id": "d1045210-f420-4224-8c7b-23a5385c99b9",
   "metadata": {},
   "outputs": [],
   "source": []
  }
 ],
 "metadata": {
  "kernelspec": {
   "display_name": "Python 3 (ipykernel)",
   "language": "python",
   "name": "python3"
  },
  "language_info": {
   "codemirror_mode": {
    "name": "ipython",
    "version": 3
   },
   "file_extension": ".py",
   "mimetype": "text/x-python",
   "name": "python",
   "nbconvert_exporter": "python",
   "pygments_lexer": "ipython3",
   "version": "3.12.3"
  }
 },
 "nbformat": 4,
 "nbformat_minor": 5
}
