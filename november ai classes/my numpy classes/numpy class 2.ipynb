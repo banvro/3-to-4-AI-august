{
 "cells": [
  {
   "cell_type": "code",
   "execution_count": 1,
   "id": "4c20929f-1606-46cc-9233-11f48b1d5f44",
   "metadata": {},
   "outputs": [],
   "source": [
    "import numpy as np"
   ]
  },
  {
   "cell_type": "code",
   "execution_count": 2,
   "id": "763063e1-504e-427a-be1c-5e66d1eab8a8",
   "metadata": {},
   "outputs": [],
   "source": [
    "# ndarrays"
   ]
  },
  {
   "cell_type": "code",
   "execution_count": 3,
   "id": "c7160a40-6ba2-4b7a-ba96-80461c04739c",
   "metadata": {},
   "outputs": [],
   "source": [
    "arr = np.array([12, 23, 34, 45, 56])"
   ]
  },
  {
   "cell_type": "code",
   "execution_count": null,
   "id": "f4dfaed8-d551-4558-9086-182bef577b5b",
   "metadata": {},
   "outputs": [],
   "source": []
  },
  {
   "cell_type": "code",
   "execution_count": 4,
   "id": "f873237c-a921-48a5-acd8-399b639e5d5c",
   "metadata": {},
   "outputs": [
    {
     "data": {
      "text/plain": [
       "numpy.ndarray"
      ]
     },
     "execution_count": 4,
     "metadata": {},
     "output_type": "execute_result"
    }
   ],
   "source": [
    "type(arr)"
   ]
  },
  {
   "cell_type": "code",
   "execution_count": 5,
   "id": "9a4bd372-0728-44dd-a603-1505845d63ae",
   "metadata": {},
   "outputs": [],
   "source": [
    "# ndim\n",
    "# shape"
   ]
  },
  {
   "cell_type": "code",
   "execution_count": 6,
   "id": "76d8538a-7b47-4f36-9a4b-3c6e66f2ce1d",
   "metadata": {},
   "outputs": [
    {
     "data": {
      "text/plain": [
       "1"
      ]
     },
     "execution_count": 6,
     "metadata": {},
     "output_type": "execute_result"
    }
   ],
   "source": [
    "arr.ndim"
   ]
  },
  {
   "cell_type": "code",
   "execution_count": 7,
   "id": "1e77784b-cb1d-4c8f-a71e-1658c3178a35",
   "metadata": {},
   "outputs": [
    {
     "data": {
      "text/plain": [
       "(5,)"
      ]
     },
     "execution_count": 7,
     "metadata": {},
     "output_type": "execute_result"
    }
   ],
   "source": [
    "arr.shape"
   ]
  },
  {
   "cell_type": "code",
   "execution_count": null,
   "id": "e635d368-608c-4b8e-b6be-72464f09f75b",
   "metadata": {},
   "outputs": [],
   "source": []
  },
  {
   "cell_type": "code",
   "execution_count": null,
   "id": "5754d378-068d-434b-98ad-bd078d61f65c",
   "metadata": {},
   "outputs": [],
   "source": []
  },
  {
   "cell_type": "code",
   "execution_count": 8,
   "id": "cb76e394-d60b-49ff-b7c0-a98e0e8c8dd2",
   "metadata": {},
   "outputs": [],
   "source": [
    "# List ---> indexing, slicing"
   ]
  },
  {
   "cell_type": "code",
   "execution_count": 9,
   "id": "7830929a-5e68-4696-91ce-481e3449a56a",
   "metadata": {},
   "outputs": [],
   "source": [
    "# 1-d Ndarray"
   ]
  },
  {
   "cell_type": "code",
   "execution_count": 11,
   "id": "2c9811a8-b49c-4793-b67e-c4cce5157447",
   "metadata": {},
   "outputs": [],
   "source": [
    "xyz = np.array([12, 23, 4, 56, 67, 34, 23, 56, 78])"
   ]
  },
  {
   "cell_type": "code",
   "execution_count": 12,
   "id": "a6c49219-8c3d-4fea-b08c-059cd020ad8c",
   "metadata": {},
   "outputs": [
    {
     "data": {
      "text/plain": [
       "array([12, 23,  4, 56, 67, 34, 23, 56, 78])"
      ]
     },
     "execution_count": 12,
     "metadata": {},
     "output_type": "execute_result"
    }
   ],
   "source": [
    "xyz"
   ]
  },
  {
   "cell_type": "code",
   "execution_count": 13,
   "id": "ce54a5fd-a27e-4d55-ad0c-ead572036fee",
   "metadata": {},
   "outputs": [],
   "source": [
    "# syntax for indexing\n",
    "\n",
    "# array_name[index_number]"
   ]
  },
  {
   "cell_type": "code",
   "execution_count": 16,
   "id": "bff14842-b59b-4c43-9ca4-108ded09b4e6",
   "metadata": {},
   "outputs": [
    {
     "data": {
      "text/plain": [
       "67"
      ]
     },
     "execution_count": 16,
     "metadata": {},
     "output_type": "execute_result"
    }
   ],
   "source": [
    "xyz[4]"
   ]
  },
  {
   "cell_type": "code",
   "execution_count": 18,
   "id": "5cb447e0-74a6-4f99-9887-3df58c906894",
   "metadata": {},
   "outputs": [
    {
     "data": {
      "text/plain": [
       "4"
      ]
     },
     "execution_count": 18,
     "metadata": {},
     "output_type": "execute_result"
    }
   ],
   "source": [
    "xyz[2]"
   ]
  },
  {
   "cell_type": "code",
   "execution_count": null,
   "id": "dc6e164d-e736-4d96-90e5-2158a91ad89e",
   "metadata": {},
   "outputs": [],
   "source": []
  },
  {
   "cell_type": "code",
   "execution_count": 19,
   "id": "dace3db9-62a6-440d-8b46-05d14e832577",
   "metadata": {},
   "outputs": [],
   "source": [
    "# -ve indexing"
   ]
  },
  {
   "cell_type": "code",
   "execution_count": 20,
   "id": "552de9e8-cced-4f4b-a401-c0ccb30ad92b",
   "metadata": {},
   "outputs": [],
   "source": [
    "xyz = np.array([12, 23, 4, 56, 67, 34, 23, 56, 78])"
   ]
  },
  {
   "cell_type": "code",
   "execution_count": 21,
   "id": "edd484fa-cde5-4fc0-a88e-133a544de546",
   "metadata": {},
   "outputs": [
    {
     "data": {
      "text/plain": [
       "34"
      ]
     },
     "execution_count": 21,
     "metadata": {},
     "output_type": "execute_result"
    }
   ],
   "source": [
    "xyz[5]"
   ]
  },
  {
   "cell_type": "code",
   "execution_count": 22,
   "id": "5868d340-0798-47ee-8c78-926bbee32a58",
   "metadata": {},
   "outputs": [
    {
     "data": {
      "text/plain": [
       "34"
      ]
     },
     "execution_count": 22,
     "metadata": {},
     "output_type": "execute_result"
    }
   ],
   "source": [
    "xyz[-4]"
   ]
  },
  {
   "cell_type": "code",
   "execution_count": 23,
   "id": "0176f87c-13f3-4974-933b-5afc13403a46",
   "metadata": {},
   "outputs": [
    {
     "data": {
      "text/plain": [
       "78"
      ]
     },
     "execution_count": 23,
     "metadata": {},
     "output_type": "execute_result"
    }
   ],
   "source": [
    "xyz[-1]"
   ]
  },
  {
   "cell_type": "code",
   "execution_count": null,
   "id": "02bc33f8-7703-49f1-acf7-8948a3df3a90",
   "metadata": {},
   "outputs": [],
   "source": []
  },
  {
   "cell_type": "code",
   "execution_count": 24,
   "id": "62c9cc22-04e4-4323-957f-88807b14f203",
   "metadata": {},
   "outputs": [],
   "source": [
    "# indeixng with 2-D ndarray"
   ]
  },
  {
   "cell_type": "code",
   "execution_count": 28,
   "id": "4678dff9-a575-44fb-9547-06452a8d5d6d",
   "metadata": {},
   "outputs": [],
   "source": [
    "arr = np.array([[12, 34, 67, 45, 678], [34, 78, 89, 90, 78]])"
   ]
  },
  {
   "cell_type": "code",
   "execution_count": 29,
   "id": "4bb78cd5-3d2b-4335-aa7d-c22836256454",
   "metadata": {},
   "outputs": [
    {
     "data": {
      "text/plain": [
       "array([[ 12,  34,  67,  45, 678],\n",
       "       [ 34,  78,  89,  90,  78]])"
      ]
     },
     "execution_count": 29,
     "metadata": {},
     "output_type": "execute_result"
    }
   ],
   "source": [
    "arr"
   ]
  },
  {
   "cell_type": "code",
   "execution_count": 30,
   "id": "4059594e-26d1-47db-9004-edcb1d580762",
   "metadata": {},
   "outputs": [
    {
     "data": {
      "text/plain": [
       "2"
      ]
     },
     "execution_count": 30,
     "metadata": {},
     "output_type": "execute_result"
    }
   ],
   "source": [
    "arr.ndim"
   ]
  },
  {
   "cell_type": "code",
   "execution_count": 31,
   "id": "477fc4ef-138b-4e07-8d32-54fd987e5950",
   "metadata": {},
   "outputs": [
    {
     "data": {
      "text/plain": [
       "(2, 5)"
      ]
     },
     "execution_count": 31,
     "metadata": {},
     "output_type": "execute_result"
    }
   ],
   "source": [
    "arr.shape"
   ]
  },
  {
   "cell_type": "code",
   "execution_count": null,
   "id": "a66f3160-802b-4d81-9cd2-5ce01c0b9e41",
   "metadata": {},
   "outputs": [],
   "source": []
  },
  {
   "cell_type": "code",
   "execution_count": 32,
   "id": "fc773c86-cbab-47b2-a971-00a1d5cde337",
   "metadata": {},
   "outputs": [],
   "source": [
    "arr = np.array([[12, 34, 67, 45, 678], [34, 78, 89, 90, 78]])"
   ]
  },
  {
   "cell_type": "code",
   "execution_count": 34,
   "id": "93cad8a3-7d1c-4299-b4bc-06a423631555",
   "metadata": {},
   "outputs": [
    {
     "data": {
      "text/plain": [
       "array([34, 78, 89, 90, 78])"
      ]
     },
     "execution_count": 34,
     "metadata": {},
     "output_type": "execute_result"
    }
   ],
   "source": [
    "arr[1]"
   ]
  },
  {
   "cell_type": "code",
   "execution_count": 35,
   "id": "7f7599bf-7365-4ac8-9cc2-df466970a066",
   "metadata": {},
   "outputs": [],
   "source": [
    "# syntax\n",
    "\n",
    "# array_name[inner_array_index][element_index]"
   ]
  },
  {
   "cell_type": "code",
   "execution_count": 37,
   "id": "df8d42d3-002e-44c3-9fdc-4b9e83618b13",
   "metadata": {},
   "outputs": [
    {
     "data": {
      "text/plain": [
       "89"
      ]
     },
     "execution_count": 37,
     "metadata": {},
     "output_type": "execute_result"
    }
   ],
   "source": [
    "arr[1][2]"
   ]
  },
  {
   "cell_type": "code",
   "execution_count": 38,
   "id": "479dd60f-07a6-43f2-b8e0-6a0eac465e3f",
   "metadata": {},
   "outputs": [
    {
     "data": {
      "text/plain": [
       "89"
      ]
     },
     "execution_count": 38,
     "metadata": {},
     "output_type": "execute_result"
    }
   ],
   "source": [
    "arr[1][-3]"
   ]
  },
  {
   "cell_type": "code",
   "execution_count": null,
   "id": "9b94e160-8b03-484b-9e86-5d7193f8f478",
   "metadata": {},
   "outputs": [],
   "source": []
  },
  {
   "cell_type": "code",
   "execution_count": null,
   "id": "a2d9d53b-9b8b-4fd5-b7ed-57f685bde869",
   "metadata": {},
   "outputs": [],
   "source": []
  },
  {
   "cell_type": "code",
   "execution_count": 40,
   "id": "800c6346-ce41-4c41-be74-c0e2e218ff9b",
   "metadata": {},
   "outputs": [],
   "source": [
    "arr = np.array([[12, 34, 67, 45, 678], [34, 78, 89, 90, 78], [56, 34, 23, 12, 6777]])"
   ]
  },
  {
   "cell_type": "code",
   "execution_count": 41,
   "id": "ee139267-d74b-4a48-b843-848f90b4f677",
   "metadata": {},
   "outputs": [
    {
     "data": {
      "text/plain": [
       "6777"
      ]
     },
     "execution_count": 41,
     "metadata": {},
     "output_type": "execute_result"
    }
   ],
   "source": [
    "arr[2][-1]"
   ]
  },
  {
   "cell_type": "code",
   "execution_count": null,
   "id": "3c21d6ad-d5e6-4f9a-a0a8-c8d1c8111429",
   "metadata": {},
   "outputs": [],
   "source": []
  },
  {
   "cell_type": "code",
   "execution_count": null,
   "id": "dab47020-42bd-47ec-b834-9261f59f304a",
   "metadata": {},
   "outputs": [],
   "source": []
  },
  {
   "cell_type": "code",
   "execution_count": 42,
   "id": "331d82be-f759-4b8f-b3e8-7554272231e1",
   "metadata": {},
   "outputs": [],
   "source": [
    "# indexing with 3-d"
   ]
  },
  {
   "cell_type": "code",
   "execution_count": 55,
   "id": "bae5911d-7778-4e79-9d18-5a3a8e7555ff",
   "metadata": {},
   "outputs": [],
   "source": [
    "zx = np.array([[[12, 34, 56], [34, 45, 67], [67, 45, 34]], [[45, 34, 45], [45, 45, 23], [45, 3, 23]]])"
   ]
  },
  {
   "cell_type": "code",
   "execution_count": 56,
   "id": "d193d10b-9a13-4fbe-b29f-2ed227d4287a",
   "metadata": {},
   "outputs": [
    {
     "data": {
      "text/plain": [
       "array([[[12, 34, 56],\n",
       "        [34, 45, 67],\n",
       "        [67, 45, 34]],\n",
       "\n",
       "       [[45, 34, 45],\n",
       "        [45, 45, 23],\n",
       "        [45,  3, 23]]])"
      ]
     },
     "execution_count": 56,
     "metadata": {},
     "output_type": "execute_result"
    }
   ],
   "source": [
    "zx"
   ]
  },
  {
   "cell_type": "code",
   "execution_count": 57,
   "id": "ec997b05-8501-4da2-b736-ba32c00758a6",
   "metadata": {},
   "outputs": [
    {
     "data": {
      "text/plain": [
       "3"
      ]
     },
     "execution_count": 57,
     "metadata": {},
     "output_type": "execute_result"
    }
   ],
   "source": [
    "zx.ndim"
   ]
  },
  {
   "cell_type": "code",
   "execution_count": 58,
   "id": "fe5adf32-6c4a-4e7d-b3dd-4f51d641cba1",
   "metadata": {},
   "outputs": [
    {
     "data": {
      "text/plain": [
       "(2, 3, 3)"
      ]
     },
     "execution_count": 58,
     "metadata": {},
     "output_type": "execute_result"
    }
   ],
   "source": [
    "zx.shape"
   ]
  },
  {
   "cell_type": "code",
   "execution_count": 60,
   "id": "aba840c3-245e-4aa1-9f6e-8481ebdf5c4a",
   "metadata": {},
   "outputs": [],
   "source": [
    "zx = np.array(\n",
    "    [[[12, 34, 56], [34, 45, 67], [67, 45, 34]], [[45, 34, 45], [45, 1, 23], [45, 3, 23]]])"
   ]
  },
  {
   "cell_type": "code",
   "execution_count": 63,
   "id": "79b541a4-284f-4ae1-8ac6-fda24203a61d",
   "metadata": {},
   "outputs": [
    {
     "data": {
      "text/plain": [
       "1"
      ]
     },
     "execution_count": 63,
     "metadata": {},
     "output_type": "execute_result"
    }
   ],
   "source": [
    "zx[1][1][1]"
   ]
  },
  {
   "cell_type": "code",
   "execution_count": 64,
   "id": "035cdf99-6ffb-43b0-a6a1-8e63c706edbd",
   "metadata": {},
   "outputs": [
    {
     "data": {
      "text/plain": [
       "67"
      ]
     },
     "execution_count": 64,
     "metadata": {},
     "output_type": "execute_result"
    }
   ],
   "source": [
    "zx[0][-1][0]"
   ]
  },
  {
   "cell_type": "code",
   "execution_count": null,
   "id": "5e745d46-83b8-41e5-8810-22f26cc43ec1",
   "metadata": {},
   "outputs": [],
   "source": []
  },
  {
   "cell_type": "code",
   "execution_count": null,
   "id": "cd2f78e7-4346-4695-9bb9-f87956df8e67",
   "metadata": {},
   "outputs": [],
   "source": []
  },
  {
   "cell_type": "code",
   "execution_count": 65,
   "id": "e384ec78-926a-49f4-96ab-52d8260482f7",
   "metadata": {},
   "outputs": [],
   "source": [
    "# Slicing"
   ]
  },
  {
   "cell_type": "code",
   "execution_count": 66,
   "id": "d3a1367c-70ed-4828-b684-7ae7ae68cb4c",
   "metadata": {},
   "outputs": [],
   "source": [
    "# array:::::"
   ]
  },
  {
   "cell_type": "code",
   "execution_count": 68,
   "id": "90e2e535-5c93-4deb-87c0-8de4f7c02a91",
   "metadata": {},
   "outputs": [],
   "source": [
    "arr = np.array([12, 34, 45, 67, 78, 9, 0, 34, 56, 67, 89, 34])"
   ]
  },
  {
   "cell_type": "code",
   "execution_count": 69,
   "id": "7cc0484f-c987-4243-bbd3-a04cca0b8f36",
   "metadata": {},
   "outputs": [],
   "source": [
    "# syntax:\n",
    "\n",
    "# array_name[start_index_number : end_index_number : increment]"
   ]
  },
  {
   "cell_type": "code",
   "execution_count": 70,
   "id": "81c48673-f05a-41a5-95b0-d5e4efaa6de8",
   "metadata": {},
   "outputs": [
    {
     "data": {
      "text/plain": [
       "array([45, 67, 78,  9,  0, 34])"
      ]
     },
     "execution_count": 70,
     "metadata": {},
     "output_type": "execute_result"
    }
   ],
   "source": [
    "arr[2 : 8 : 1]"
   ]
  },
  {
   "cell_type": "code",
   "execution_count": null,
   "id": "2a08429a-3835-4fc4-abc0-b614e7b191be",
   "metadata": {},
   "outputs": [],
   "source": []
  },
  {
   "cell_type": "code",
   "execution_count": null,
   "id": "f5c4b848-6fe5-43ff-b723-63d13ca4efc0",
   "metadata": {},
   "outputs": [],
   "source": [
    "# slicing ---> default values\n",
    "\n",
    "start ---> 0\n",
    "end ---> n - 1\n",
    "incremnt -----> 1"
   ]
  },
  {
   "cell_type": "code",
   "execution_count": 71,
   "id": "f9747cd0-9b5f-4c8b-9d90-7bf80dc9f7da",
   "metadata": {},
   "outputs": [],
   "source": [
    "arr = np.array([12, 34, 45, 67, 78, 9, 0, 34, 56, 67, 89, 34])"
   ]
  },
  {
   "cell_type": "code",
   "execution_count": 72,
   "id": "5070b828-d541-4802-891d-74bcfbc0121a",
   "metadata": {},
   "outputs": [
    {
     "data": {
      "text/plain": [
       "array([12, 34, 45, 67, 78,  9])"
      ]
     },
     "execution_count": 72,
     "metadata": {},
     "output_type": "execute_result"
    }
   ],
   "source": [
    "arr[ : 6]"
   ]
  },
  {
   "cell_type": "code",
   "execution_count": null,
   "id": "3ae7d266-04d6-459f-9fd5-a35492cc1d44",
   "metadata": {},
   "outputs": [],
   "source": []
  },
  {
   "cell_type": "code",
   "execution_count": 73,
   "id": "62ac90ee-bdc4-4530-ba7b-5506ca3c0936",
   "metadata": {},
   "outputs": [
    {
     "data": {
      "text/plain": [
       "array([12, 45, 78,  0, 56, 89])"
      ]
     },
     "execution_count": 73,
     "metadata": {},
     "output_type": "execute_result"
    }
   ],
   "source": [
    "arr[: : 2]"
   ]
  },
  {
   "cell_type": "code",
   "execution_count": null,
   "id": "68b9370d-1583-45b2-8218-f6f5953ee7bc",
   "metadata": {},
   "outputs": [],
   "source": []
  },
  {
   "cell_type": "code",
   "execution_count": 74,
   "id": "531e98bd-f4f6-4d2f-975f-ba712e9b5ac4",
   "metadata": {},
   "outputs": [],
   "source": [
    "arr = np.array([12, 34, 45, 67, 78, 9, 0, 34, 56, 67, 89, 34])"
   ]
  },
  {
   "cell_type": "code",
   "execution_count": 75,
   "id": "479a3cd2-8600-4d2e-b3f3-40f3f86f9015",
   "metadata": {},
   "outputs": [
    {
     "data": {
      "text/plain": [
       "array([12, 34, 45, 67, 78,  9,  0, 34, 56, 67, 89, 34])"
      ]
     },
     "execution_count": 75,
     "metadata": {},
     "output_type": "execute_result"
    }
   ],
   "source": [
    "arr"
   ]
  },
  {
   "cell_type": "code",
   "execution_count": 76,
   "id": "91b6f8f9-44a4-413d-acfc-bb1f683c9e4e",
   "metadata": {},
   "outputs": [
    {
     "data": {
      "text/plain": [
       "array([34, 89, 67, 56, 34,  0,  9, 78, 67, 45, 34, 12])"
      ]
     },
     "execution_count": 76,
     "metadata": {},
     "output_type": "execute_result"
    }
   ],
   "source": [
    "arr[: : -1]"
   ]
  },
  {
   "cell_type": "code",
   "execution_count": null,
   "id": "1fa64a5e-dd0f-40d2-822b-65c677b34cd2",
   "metadata": {},
   "outputs": [],
   "source": []
  },
  {
   "cell_type": "code",
   "execution_count": null,
   "id": "de167dbd-d2dc-4a3f-9034-ab2730085310",
   "metadata": {},
   "outputs": [],
   "source": []
  },
  {
   "cell_type": "code",
   "execution_count": 77,
   "id": "10629f06-fe57-46b9-9771-da71042f57b8",
   "metadata": {},
   "outputs": [],
   "source": [
    "arr = np.array([12, 34, 45, 67, 78, 9, 0, 34, 56, 67, 89, 34])"
   ]
  },
  {
   "cell_type": "code",
   "execution_count": null,
   "id": "b4ad5709-2d93-4865-8ed9-9cc5467a6a47",
   "metadata": {},
   "outputs": [],
   "source": [
    "# 34, 0, 9, 78, 67"
   ]
  },
  {
   "cell_type": "code",
   "execution_count": 81,
   "id": "c47f2c46-efe6-42cf-8164-4a0cd5e4934b",
   "metadata": {},
   "outputs": [
    {
     "data": {
      "text/plain": [
       "array([34,  0,  9, 78, 67])"
      ]
     },
     "execution_count": 81,
     "metadata": {},
     "output_type": "execute_result"
    }
   ],
   "source": [
    "arr[-5 : -10 : -1]"
   ]
  },
  {
   "cell_type": "code",
   "execution_count": null,
   "id": "19016278-9a8b-45ab-b731-8b94c847c39a",
   "metadata": {},
   "outputs": [],
   "source": []
  },
  {
   "cell_type": "code",
   "execution_count": null,
   "id": "ceccab05-db40-43a1-9830-20d802a6ca16",
   "metadata": {},
   "outputs": [],
   "source": []
  },
  {
   "cell_type": "code",
   "execution_count": 82,
   "id": "9d294f12-bb59-4abd-b427-0067994e79d4",
   "metadata": {},
   "outputs": [],
   "source": [
    "# 2-D sliing"
   ]
  },
  {
   "cell_type": "code",
   "execution_count": 83,
   "id": "bc56d574-3901-44b7-8ad8-c4c28b9771a6",
   "metadata": {},
   "outputs": [],
   "source": [
    "zx = np.array([[12, 3, 45, 56, 78], [5, 56, 34, 34, 23]])"
   ]
  },
  {
   "cell_type": "code",
   "execution_count": 84,
   "id": "575f40cf-6b51-4f33-8632-5ad0de7dee4c",
   "metadata": {},
   "outputs": [
    {
     "data": {
      "text/plain": [
       "array([[12,  3, 45, 56, 78],\n",
       "       [ 5, 56, 34, 34, 23]])"
      ]
     },
     "execution_count": 84,
     "metadata": {},
     "output_type": "execute_result"
    }
   ],
   "source": [
    "zx"
   ]
  },
  {
   "cell_type": "code",
   "execution_count": 86,
   "id": "b709c827-9d02-43ef-a93f-97b660d2619d",
   "metadata": {},
   "outputs": [
    {
     "data": {
      "text/plain": [
       "array([56, 34, 34])"
      ]
     },
     "execution_count": 86,
     "metadata": {},
     "output_type": "execute_result"
    }
   ],
   "source": [
    "zx[1][1 : 4]"
   ]
  },
  {
   "cell_type": "code",
   "execution_count": 87,
   "id": "219b1150-67b4-4399-ab56-68a20fd39517",
   "metadata": {},
   "outputs": [],
   "source": [
    "# 3:33"
   ]
  },
  {
   "cell_type": "code",
   "execution_count": null,
   "id": "736938d2-bb76-43bb-a413-8b518a162940",
   "metadata": {},
   "outputs": [],
   "source": []
  },
  {
   "cell_type": "code",
   "execution_count": 88,
   "id": "791563c9-ca9f-43cd-96ff-ba82cd2274eb",
   "metadata": {},
   "outputs": [],
   "source": [
    "# List --->\n",
    "\n",
    "# mutable ---- modify\n",
    "\n",
    "# ndarrays ---> mutable\n"
   ]
  },
  {
   "cell_type": "code",
   "execution_count": null,
   "id": "0340e3ff-114d-4631-a73f-83401bf8718b",
   "metadata": {},
   "outputs": [],
   "source": []
  },
  {
   "cell_type": "code",
   "execution_count": 89,
   "id": "7baf51df-9fa0-4ef6-b5e6-6aa30125ae19",
   "metadata": {},
   "outputs": [],
   "source": [
    "# arange() ---> help to genrate data, from a spacfic point to another point."
   ]
  },
  {
   "cell_type": "code",
   "execution_count": null,
   "id": "93054156-83d6-425c-8330-bcee77bd05b4",
   "metadata": {},
   "outputs": [],
   "source": []
  },
  {
   "cell_type": "code",
   "execution_count": 90,
   "id": "bbb07c3b-deb9-46f3-81c4-1df228c1f5fa",
   "metadata": {},
   "outputs": [],
   "source": [
    "# zx = np.arange(start, end, increment)"
   ]
  },
  {
   "cell_type": "code",
   "execution_count": 91,
   "id": "e82516ab-bd82-452f-9b73-31902fc35d03",
   "metadata": {},
   "outputs": [],
   "source": [
    "zx = np.arange(2, 21)"
   ]
  },
  {
   "cell_type": "code",
   "execution_count": 92,
   "id": "e5ae31fd-aaba-469c-9ff0-3ba521d5517e",
   "metadata": {},
   "outputs": [
    {
     "data": {
      "text/plain": [
       "array([ 2,  3,  4,  5,  6,  7,  8,  9, 10, 11, 12, 13, 14, 15, 16, 17, 18,\n",
       "       19, 20])"
      ]
     },
     "execution_count": 92,
     "metadata": {},
     "output_type": "execute_result"
    }
   ],
   "source": [
    "zx"
   ]
  },
  {
   "cell_type": "code",
   "execution_count": 94,
   "id": "dbe6d655-349f-46a9-bd08-457bd40a69b4",
   "metadata": {},
   "outputs": [
    {
     "data": {
      "text/plain": [
       "array([ 2,  5,  8, 11, 14, 17, 20])"
      ]
     },
     "execution_count": 94,
     "metadata": {},
     "output_type": "execute_result"
    }
   ],
   "source": [
    "zx = np.arange(2, 21, 3)\n",
    "zx"
   ]
  },
  {
   "cell_type": "code",
   "execution_count": 95,
   "id": "e19dc0b4-2522-46ec-83f6-0a9b1e75571c",
   "metadata": {},
   "outputs": [
    {
     "data": {
      "text/plain": [
       "numpy.ndarray"
      ]
     },
     "execution_count": 95,
     "metadata": {},
     "output_type": "execute_result"
    }
   ],
   "source": [
    "type(zx)"
   ]
  },
  {
   "cell_type": "code",
   "execution_count": 96,
   "id": "bc9eb895-56d4-456c-b7c8-d053d73033b9",
   "metadata": {},
   "outputs": [
    {
     "data": {
      "text/plain": [
       "dtype('int32')"
      ]
     },
     "execution_count": 96,
     "metadata": {},
     "output_type": "execute_result"
    }
   ],
   "source": [
    "zx.dtype"
   ]
  },
  {
   "cell_type": "code",
   "execution_count": null,
   "id": "91304f89-520c-431e-9185-4c723005943b",
   "metadata": {},
   "outputs": [],
   "source": []
  },
  {
   "cell_type": "code",
   "execution_count": null,
   "id": "0f675542-6eaf-4a55-aac5-63ba5d19282f",
   "metadata": {},
   "outputs": [],
   "source": []
  },
  {
   "cell_type": "code",
   "execution_count": 97,
   "id": "f5c22409-ab23-4a53-8719-f2af480d48b2",
   "metadata": {},
   "outputs": [],
   "source": [
    "# zeros ---> to create placeholder, "
   ]
  },
  {
   "cell_type": "code",
   "execution_count": null,
   "id": "11a870ad-eb79-4a97-b127-ea9fc99fdede",
   "metadata": {},
   "outputs": [],
   "source": [
    "pq = np.zeros"
   ]
  },
  {
   "cell_type": "code",
   "execution_count": 98,
   "id": "d7f04def-d6fe-42aa-b39e-d51aae7923d4",
   "metadata": {},
   "outputs": [
    {
     "name": "stdout",
     "output_type": "stream",
     "text": [
      "Help on built-in function zeros in module numpy:\n",
      "\n",
      "zeros(...)\n",
      "    zeros(shape, dtype=float, order='C', *, like=None)\n",
      "\n",
      "    Return a new array of given shape and type, filled with zeros.\n",
      "\n",
      "    Parameters\n",
      "    ----------\n",
      "    shape : int or tuple of ints\n",
      "        Shape of the new array, e.g., ``(2, 3)`` or ``2``.\n",
      "    dtype : data-type, optional\n",
      "        The desired data-type for the array, e.g., `numpy.int8`.  Default is\n",
      "        `numpy.float64`.\n",
      "    order : {'C', 'F'}, optional, default: 'C'\n",
      "        Whether to store multi-dimensional data in row-major\n",
      "        (C-style) or column-major (Fortran-style) order in\n",
      "        memory.\n",
      "    like : array_like, optional\n",
      "        Reference object to allow the creation of arrays which are not\n",
      "        NumPy arrays. If an array-like passed in as ``like`` supports\n",
      "        the ``__array_function__`` protocol, the result will be defined\n",
      "        by it. In this case, it ensures the creation of an array object\n",
      "        compatible with that passed in via this argument.\n",
      "\n",
      "        .. versionadded:: 1.20.0\n",
      "\n",
      "    Returns\n",
      "    -------\n",
      "    out : ndarray\n",
      "        Array of zeros with the given shape, dtype, and order.\n",
      "\n",
      "    See Also\n",
      "    --------\n",
      "    zeros_like : Return an array of zeros with shape and type of input.\n",
      "    empty : Return a new uninitialized array.\n",
      "    ones : Return a new array setting values to one.\n",
      "    full : Return a new array of given shape filled with value.\n",
      "\n",
      "    Examples\n",
      "    --------\n",
      "    >>> np.zeros(5)\n",
      "    array([ 0.,  0.,  0.,  0.,  0.])\n",
      "\n",
      "    >>> np.zeros((5,), dtype=int)\n",
      "    array([0, 0, 0, 0, 0])\n",
      "\n",
      "    >>> np.zeros((2, 1))\n",
      "    array([[ 0.],\n",
      "           [ 0.]])\n",
      "\n",
      "    >>> s = (2,2)\n",
      "    >>> np.zeros(s)\n",
      "    array([[ 0.,  0.],\n",
      "           [ 0.,  0.]])\n",
      "\n",
      "    >>> np.zeros((2,), dtype=[('x', 'i4'), ('y', 'i4')]) # custom dtype\n",
      "    array([(0, 0), (0, 0)],\n",
      "          dtype=[('x', '<i4'), ('y', '<i4')])\n",
      "\n"
     ]
    }
   ],
   "source": [
    "help(np.zeros)"
   ]
  },
  {
   "cell_type": "code",
   "execution_count": null,
   "id": "83d46026-9500-4037-a3b2-ad05d65e0984",
   "metadata": {},
   "outputs": [],
   "source": []
  },
  {
   "cell_type": "code",
   "execution_count": 100,
   "id": "01895e52-7caf-4199-a76b-370d0902e7cf",
   "metadata": {},
   "outputs": [
    {
     "data": {
      "text/plain": [
       "array([0., 0., 0., 0., 0.])"
      ]
     },
     "execution_count": 100,
     "metadata": {},
     "output_type": "execute_result"
    }
   ],
   "source": [
    "zx = np.zeros(5)\n",
    "zx"
   ]
  },
  {
   "cell_type": "code",
   "execution_count": 102,
   "id": "9366f7c0-dd33-478b-97b4-9d8aa02fa706",
   "metadata": {},
   "outputs": [
    {
     "data": {
      "text/plain": [
       "array([[0, 0, 0],\n",
       "       [0, 0, 0],\n",
       "       [0, 0, 0],\n",
       "       [0, 0, 0]])"
      ]
     },
     "execution_count": 102,
     "metadata": {},
     "output_type": "execute_result"
    }
   ],
   "source": [
    "zx = np.zeros((4, 3), dtype=int)\n",
    "zx"
   ]
  },
  {
   "cell_type": "code",
   "execution_count": null,
   "id": "e8d253d1-f475-4883-9ffe-6b43d8ae6167",
   "metadata": {},
   "outputs": [],
   "source": []
  },
  {
   "cell_type": "code",
   "execution_count": 103,
   "id": "a4007225-a459-46f5-a58d-b00587893f69",
   "metadata": {},
   "outputs": [
    {
     "data": {
      "text/plain": [
       "array([[[0., 0., 0.],\n",
       "        [0., 0., 0.],\n",
       "        [0., 0., 0.]],\n",
       "\n",
       "       [[0., 0., 0.],\n",
       "        [0., 0., 0.],\n",
       "        [0., 0., 0.]],\n",
       "\n",
       "       [[0., 0., 0.],\n",
       "        [0., 0., 0.],\n",
       "        [0., 0., 0.]]])"
      ]
     },
     "execution_count": 103,
     "metadata": {},
     "output_type": "execute_result"
    }
   ],
   "source": [
    "zx = np.zeros((3, 3, 3))\n",
    "zx"
   ]
  },
  {
   "cell_type": "code",
   "execution_count": 104,
   "id": "aacf0903-e7f5-4905-bcc0-247da3bca750",
   "metadata": {},
   "outputs": [
    {
     "data": {
      "text/plain": [
       "3"
      ]
     },
     "execution_count": 104,
     "metadata": {},
     "output_type": "execute_result"
    }
   ],
   "source": [
    "zx.ndim"
   ]
  },
  {
   "cell_type": "code",
   "execution_count": null,
   "id": "abd694b0-caca-40de-b450-51de82d5fc6f",
   "metadata": {},
   "outputs": [],
   "source": []
  },
  {
   "cell_type": "code",
   "execution_count": 105,
   "id": "ee621312-fe9f-48e2-8ea3-9fe5bab9a6c6",
   "metadata": {},
   "outputs": [
    {
     "data": {
      "text/plain": [
       "array([1., 1., 1., 1.])"
      ]
     },
     "execution_count": 105,
     "metadata": {},
     "output_type": "execute_result"
    }
   ],
   "source": [
    "q = np.ones(4)\n",
    "q"
   ]
  },
  {
   "cell_type": "code",
   "execution_count": 106,
   "id": "0497391d-9ee5-4636-874f-6f3320305ce7",
   "metadata": {},
   "outputs": [
    {
     "data": {
      "text/plain": [
       "array([[1., 1., 1., 1.],\n",
       "       [1., 1., 1., 1.]])"
      ]
     },
     "execution_count": 106,
     "metadata": {},
     "output_type": "execute_result"
    }
   ],
   "source": [
    "q = np.ones((2, 4))\n",
    "q"
   ]
  },
  {
   "cell_type": "code",
   "execution_count": null,
   "id": "6e7d9bbe-f8fb-4e39-94cf-e26575af25bf",
   "metadata": {},
   "outputs": [],
   "source": []
  },
  {
   "cell_type": "code",
   "execution_count": 108,
   "id": "8dec29ab-c7b2-4d24-9184-82d2b9af2633",
   "metadata": {},
   "outputs": [
    {
     "data": {
      "text/plain": [
       "array([[1., 0., 0.],\n",
       "       [0., 1., 0.],\n",
       "       [0., 0., 1.]])"
      ]
     },
     "execution_count": 108,
     "metadata": {},
     "output_type": "execute_result"
    }
   ],
   "source": [
    "x = np.eye(3)\n",
    "x"
   ]
  },
  {
   "cell_type": "code",
   "execution_count": null,
   "id": "488b6365-7b8a-4df9-b1ec-e0a947a384e5",
   "metadata": {},
   "outputs": [],
   "source": []
  },
  {
   "cell_type": "code",
   "execution_count": 109,
   "id": "3f1e9c0c-b298-43d6-8ffa-0313483ae198",
   "metadata": {},
   "outputs": [
    {
     "data": {
      "text/plain": [
       "9"
      ]
     },
     "execution_count": 109,
     "metadata": {},
     "output_type": "execute_result"
    }
   ],
   "source": []
  },
  {
   "cell_type": "code",
   "execution_count": 110,
   "id": "91c54f7d-e744-47aa-aa45-0341b49c53fa",
   "metadata": {},
   "outputs": [],
   "source": [
    "zx = np.array([[12, 3, 45, 56, 78], [5, 56, 34, 34, 23]])"
   ]
  },
  {
   "cell_type": "code",
   "execution_count": 111,
   "id": "aee6596a-5e5c-497b-b1a3-7850a8e8a2c6",
   "metadata": {},
   "outputs": [
    {
     "data": {
      "text/plain": [
       "10"
      ]
     },
     "execution_count": 111,
     "metadata": {},
     "output_type": "execute_result"
    }
   ],
   "source": [
    "zx.size"
   ]
  },
  {
   "cell_type": "code",
   "execution_count": null,
   "id": "f74d7370-d486-427c-be71-4a80c5f66100",
   "metadata": {},
   "outputs": [],
   "source": [
    "dtype\n",
    "shape\n",
    "size \n",
    "ndim"
   ]
  },
  {
   "cell_type": "code",
   "execution_count": null,
   "id": "4189e5ae-4e16-4fb0-892b-e026a0dfaca3",
   "metadata": {},
   "outputs": [],
   "source": []
  },
  {
   "cell_type": "code",
   "execution_count": null,
   "id": "5b1d7fc2-30a8-43a9-9534-285e8c753dec",
   "metadata": {},
   "outputs": [],
   "source": [
    "reshape() ------>"
   ]
  }
 ],
 "metadata": {
  "kernelspec": {
   "display_name": "Python 3 (ipykernel)",
   "language": "python",
   "name": "python3"
  },
  "language_info": {
   "codemirror_mode": {
    "name": "ipython",
    "version": 3
   },
   "file_extension": ".py",
   "mimetype": "text/x-python",
   "name": "python",
   "nbconvert_exporter": "python",
   "pygments_lexer": "ipython3",
   "version": "3.12.3"
  }
 },
 "nbformat": 4,
 "nbformat_minor": 5
}
