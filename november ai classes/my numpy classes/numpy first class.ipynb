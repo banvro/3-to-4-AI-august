{
 "cells": [
  {
   "cell_type": "markdown",
   "id": "f7571aff-7910-438d-8b64-daf1a6ef33bd",
   "metadata": {},
   "source": [
    "# this is my numpy first class"
   ]
  },
  {
   "cell_type": "markdown",
   "id": "932c98aa-2192-4035-bfcb-ade51cfe0d95",
   "metadata": {},
   "source": [
    "## this is my numpy first class"
   ]
  },
  {
   "cell_type": "markdown",
   "id": "1da559a8-b3b0-452e-81be-8c961a51d0f6",
   "metadata": {},
   "source": [
    "### this is my numpy first class"
   ]
  },
  {
   "cell_type": "markdown",
   "id": "ac372fee-a1be-454a-894d-812b2bebd1d8",
   "metadata": {},
   "source": [
    "#### this is my numpy first class"
   ]
  },
  {
   "cell_type": "raw",
   "id": "44de25cc-b200-4a55-a98e-f5f2ccf877bc",
   "metadata": {},
   "source": [
    "Numpy --> ada sduagsuid agsdiausgdiau dgia diuagsdua"
   ]
  },
  {
   "cell_type": "code",
   "execution_count": null,
   "id": "1049ab05-d1f1-46c9-9814-d2b30a8248d3",
   "metadata": {},
   "outputs": [],
   "source": []
  },
  {
   "cell_type": "code",
   "execution_count": null,
   "id": "4f4c6a9a-9e80-4966-a686-3d4bfeb735c4",
   "metadata": {},
   "outputs": [],
   "source": []
  },
  {
   "cell_type": "code",
   "execution_count": 5,
   "id": "98b0e6b6-d333-42c6-b27f-7e2946329bf1",
   "metadata": {},
   "outputs": [],
   "source": [
    "# jupyter notebook ."
   ]
  },
  {
   "cell_type": "code",
   "execution_count": null,
   "id": "bb6d0d55-b906-4a89-a344-2fc539c13250",
   "metadata": {},
   "outputs": [],
   "source": []
  },
  {
   "cell_type": "code",
   "execution_count": 6,
   "id": "cf4ccbed-7786-4cb8-9548-9341c285b2f0",
   "metadata": {},
   "outputs": [],
   "source": [
    "# Numpy -> Numarical Python"
   ]
  },
  {
   "cell_type": "code",
   "execution_count": 7,
   "id": "0616fe3a-7f83-4f12-966d-946374cb9df9",
   "metadata": {},
   "outputs": [
    {
     "name": "stdout",
     "output_type": "stream",
     "text": [
      "Defaulting to user installation because normal site-packages is not writeable\n",
      "Requirement already satisfied: numpy in c:\\users\\17nru\\appdata\\local\\packages\\pythonsoftwarefoundation.python.3.13_qbz5n2kfra8p0\\localcache\\local-packages\\python313\\site-packages (2.1.2)\n"
     ]
    }
   ],
   "source": [
    "!pip install numpy"
   ]
  },
  {
   "cell_type": "code",
   "execution_count": null,
   "id": "2b38462f-ad0d-45ae-ab8c-29d429b1cfe9",
   "metadata": {},
   "outputs": [],
   "source": []
  },
  {
   "cell_type": "code",
   "execution_count": 9,
   "id": "00dfdff5-55d4-4c1f-ad79-9d1573eae991",
   "metadata": {},
   "outputs": [],
   "source": [
    "import numpy as np"
   ]
  },
  {
   "cell_type": "code",
   "execution_count": null,
   "id": "5c7518f1-2255-4cc7-9e59-8bf0fc88c858",
   "metadata": {},
   "outputs": [],
   "source": []
  },
  {
   "cell_type": "code",
   "execution_count": null,
   "id": "3ec4e493-51f5-4a7b-9f0f-982112ed464e",
   "metadata": {},
   "outputs": [],
   "source": [
    "# numpy help us to create ndarray"
   ]
  },
  {
   "cell_type": "markdown",
   "id": "95295723-9202-4bf4-a86b-2dce853e9d53",
   "metadata": {},
   "source": [
    "### ndarray ::::"
   ]
  },
  {
   "cell_type": "code",
   "execution_count": 10,
   "id": "fa285d35-aedf-48f1-a46f-f63df41dca6d",
   "metadata": {},
   "outputs": [],
   "source": [
    "# when we create an object in numpy with the help of array method is called ndarray."
   ]
  },
  {
   "cell_type": "code",
   "execution_count": 13,
   "id": "c62d39bd-2d2a-4bcb-befb-b42859814bf1",
   "metadata": {},
   "outputs": [],
   "source": [
    "arr = np.array(12)"
   ]
  },
  {
   "cell_type": "code",
   "execution_count": 14,
   "id": "c7999083-cbad-437d-a9e1-67fe88fc19ec",
   "metadata": {},
   "outputs": [
    {
     "data": {
      "text/plain": [
       "numpy.ndarray"
      ]
     },
     "execution_count": 14,
     "metadata": {},
     "output_type": "execute_result"
    }
   ],
   "source": [
    "type(arr)"
   ]
  },
  {
   "cell_type": "code",
   "execution_count": null,
   "id": "b2fccd6c-d133-401b-bd1a-89b28c768db5",
   "metadata": {},
   "outputs": [],
   "source": []
  },
  {
   "cell_type": "code",
   "execution_count": 15,
   "id": "bbb9f02e-f410-4259-8129-034a9644fec2",
   "metadata": {},
   "outputs": [],
   "source": [
    "x = [12, 23, 34, 4]"
   ]
  },
  {
   "cell_type": "code",
   "execution_count": 16,
   "id": "b5e4dfe4-e39d-4523-b080-59fd63f0f7da",
   "metadata": {},
   "outputs": [
    {
     "data": {
      "text/plain": [
       "list"
      ]
     },
     "execution_count": 16,
     "metadata": {},
     "output_type": "execute_result"
    }
   ],
   "source": [
    "type(x)"
   ]
  },
  {
   "cell_type": "code",
   "execution_count": null,
   "id": "14558a32-9236-413f-b86a-c16f0c96151b",
   "metadata": {},
   "outputs": [],
   "source": []
  },
  {
   "cell_type": "code",
   "execution_count": 17,
   "id": "3a8ed771-8b12-42dc-9ffd-4d4256c3b0d3",
   "metadata": {},
   "outputs": [],
   "source": [
    "# ndarray --> n diamtional array"
   ]
  },
  {
   "cell_type": "code",
   "execution_count": null,
   "id": "4192fead-3929-4ab4-b06a-e9003e4c83be",
   "metadata": {},
   "outputs": [],
   "source": []
  },
  {
   "cell_type": "code",
   "execution_count": 18,
   "id": "d4957a13-3f48-43d5-92e2-a294879be1e9",
   "metadata": {},
   "outputs": [],
   "source": [
    "# human maximum visualize 3-D"
   ]
  },
  {
   "cell_type": "code",
   "execution_count": null,
   "id": "6610b1b5-77bc-4154-b9db-638f36d82c4f",
   "metadata": {},
   "outputs": [],
   "source": []
  },
  {
   "cell_type": "code",
   "execution_count": 19,
   "id": "0dd68ad4-87a6-44b9-b36f-2a1b43bd4bfe",
   "metadata": {},
   "outputs": [],
   "source": [
    "# 1-d array\n",
    "\n",
    "# 0D, 1D, 2D ,-----, nd"
   ]
  },
  {
   "cell_type": "code",
   "execution_count": 20,
   "id": "c964b533-53e0-42e8-b4aa-dd5da6339f8e",
   "metadata": {},
   "outputs": [],
   "source": [
    "# Create 0-D array"
   ]
  },
  {
   "cell_type": "code",
   "execution_count": null,
   "id": "1db99abf-b5fb-4c21-b901-f95151c3fe8a",
   "metadata": {},
   "outputs": [],
   "source": []
  },
  {
   "cell_type": "code",
   "execution_count": 21,
   "id": "384df29a-9a95-434c-a1f3-26df2697ec41",
   "metadata": {},
   "outputs": [],
   "source": [
    "import numpy as np"
   ]
  },
  {
   "cell_type": "code",
   "execution_count": 22,
   "id": "0a1f1ebb-8087-44fe-809a-f1d460db9490",
   "metadata": {},
   "outputs": [],
   "source": [
    "# arrtributes : \n",
    "    # 1) ndim ----> to check dimmessions of aray\n",
    "    # 2) shape ---> return the shape of ndarray"
   ]
  },
  {
   "cell_type": "code",
   "execution_count": 23,
   "id": "5ef2b161-1e6f-4cb9-acbf-5f70d658d014",
   "metadata": {},
   "outputs": [],
   "source": [
    "# 0-D array\n",
    "\n",
    "arr = np.array(100)"
   ]
  },
  {
   "cell_type": "code",
   "execution_count": 24,
   "id": "ccb0864b-1b80-419f-ad49-78ec80b29fff",
   "metadata": {},
   "outputs": [
    {
     "data": {
      "text/plain": [
       "array(100)"
      ]
     },
     "execution_count": 24,
     "metadata": {},
     "output_type": "execute_result"
    }
   ],
   "source": [
    "arr"
   ]
  },
  {
   "cell_type": "code",
   "execution_count": 25,
   "id": "b620fa43-576e-4f0f-b151-9bbc545f1312",
   "metadata": {},
   "outputs": [
    {
     "data": {
      "text/plain": [
       "0"
      ]
     },
     "execution_count": 25,
     "metadata": {},
     "output_type": "execute_result"
    }
   ],
   "source": [
    "arr.ndim"
   ]
  },
  {
   "cell_type": "code",
   "execution_count": 26,
   "id": "9de9d902-0ebc-4c09-9146-83243ef9ca2e",
   "metadata": {},
   "outputs": [
    {
     "data": {
      "text/plain": [
       "()"
      ]
     },
     "execution_count": 26,
     "metadata": {},
     "output_type": "execute_result"
    }
   ],
   "source": [
    "arr.shape"
   ]
  },
  {
   "cell_type": "code",
   "execution_count": null,
   "id": "bd89ed79-cb6c-426f-a99e-dc2bfd9ecbb9",
   "metadata": {},
   "outputs": [],
   "source": []
  },
  {
   "cell_type": "code",
   "execution_count": 27,
   "id": "746bea38-56cc-47ed-9574-014b1c9b38e4",
   "metadata": {},
   "outputs": [],
   "source": [
    "# 1-D ndarray"
   ]
  },
  {
   "cell_type": "code",
   "execution_count": 28,
   "id": "fcacbe81-6a6c-4c92-86e4-7f2916c5b7e3",
   "metadata": {},
   "outputs": [],
   "source": [
    "xyz = np.array([12, 34, 6, 678, 45, 23, 45])"
   ]
  },
  {
   "cell_type": "code",
   "execution_count": 29,
   "id": "8d8d2f64-b270-4f30-94c3-141ec00c5a64",
   "metadata": {},
   "outputs": [
    {
     "data": {
      "text/plain": [
       "array([ 12,  34,   6, 678,  45,  23,  45])"
      ]
     },
     "execution_count": 29,
     "metadata": {},
     "output_type": "execute_result"
    }
   ],
   "source": [
    "xyz"
   ]
  },
  {
   "cell_type": "code",
   "execution_count": 30,
   "id": "ec21ce6c-ef6e-4e0c-8e5d-b926666b6574",
   "metadata": {},
   "outputs": [
    {
     "data": {
      "text/plain": [
       "1"
      ]
     },
     "execution_count": 30,
     "metadata": {},
     "output_type": "execute_result"
    }
   ],
   "source": [
    "xyz.ndim"
   ]
  },
  {
   "cell_type": "code",
   "execution_count": 31,
   "id": "29a48729-0547-4a32-96a3-ed791e44d7ab",
   "metadata": {},
   "outputs": [
    {
     "data": {
      "text/plain": [
       "(7,)"
      ]
     },
     "execution_count": 31,
     "metadata": {},
     "output_type": "execute_result"
    }
   ],
   "source": [
    "xyz.shape"
   ]
  },
  {
   "cell_type": "code",
   "execution_count": null,
   "id": "d0520d05-0cd2-48ce-b2bf-2e57f07e62a7",
   "metadata": {},
   "outputs": [],
   "source": []
  },
  {
   "cell_type": "code",
   "execution_count": 42,
   "id": "d418a22a-c25b-48a2-9de7-f8ebd92e04e5",
   "metadata": {},
   "outputs": [],
   "source": [
    "# z = (12, )\n",
    "\n",
    "# type(z)"
   ]
  },
  {
   "cell_type": "code",
   "execution_count": null,
   "id": "3602312d-4460-4abc-8a3e-a4823d9d81f8",
   "metadata": {},
   "outputs": [],
   "source": []
  },
  {
   "cell_type": "code",
   "execution_count": 43,
   "id": "269aa956-a78e-4932-8bae-b9db865da420",
   "metadata": {},
   "outputs": [],
   "source": [
    "# 2-D ndarray\n",
    "\n",
    "# is the combination of multiple 1-d ndarray"
   ]
  },
  {
   "cell_type": "code",
   "execution_count": 49,
   "id": "d001166d-618e-4831-ba01-8df0d57d05d5",
   "metadata": {},
   "outputs": [],
   "source": [
    "zx = np.array([[12, 23, 34, 56], [12, 23, 34, 45]])"
   ]
  },
  {
   "cell_type": "code",
   "execution_count": 50,
   "id": "8e0a4563-25ae-47aa-b6b9-c131178717aa",
   "metadata": {},
   "outputs": [
    {
     "data": {
      "text/plain": [
       "array([[12, 23, 34, 56],\n",
       "       [12, 23, 34, 45]])"
      ]
     },
     "execution_count": 50,
     "metadata": {},
     "output_type": "execute_result"
    }
   ],
   "source": [
    "zx"
   ]
  },
  {
   "cell_type": "code",
   "execution_count": 51,
   "id": "3ee5bf48-def5-472e-bcdc-42c171d9d0fb",
   "metadata": {},
   "outputs": [
    {
     "data": {
      "text/plain": [
       "2"
      ]
     },
     "execution_count": 51,
     "metadata": {},
     "output_type": "execute_result"
    }
   ],
   "source": [
    "zx.ndim"
   ]
  },
  {
   "cell_type": "code",
   "execution_count": 52,
   "id": "f5f37715-ebdb-46d4-9695-f254b0c27309",
   "metadata": {},
   "outputs": [
    {
     "data": {
      "text/plain": [
       "(2, 4)"
      ]
     },
     "execution_count": 52,
     "metadata": {},
     "output_type": "execute_result"
    }
   ],
   "source": [
    "zx.shape"
   ]
  },
  {
   "cell_type": "code",
   "execution_count": null,
   "id": "98a96aaa-7997-426a-a02f-089a91453393",
   "metadata": {},
   "outputs": [],
   "source": [
    "(2, 4)\n",
    "2-rows, 4 columns"
   ]
  },
  {
   "cell_type": "code",
   "execution_count": null,
   "id": "95810b79-a2d2-4d18-87f2-f2612758fed2",
   "metadata": {},
   "outputs": [],
   "source": []
  },
  {
   "cell_type": "code",
   "execution_count": 62,
   "id": "ced858f4-3772-431b-97ea-46ec383baacd",
   "metadata": {},
   "outputs": [],
   "source": [
    "zx = np.array([[12, 3, 45, 56], [23, 34, 45, 34], [34, 54, 67, 78]])"
   ]
  },
  {
   "cell_type": "code",
   "execution_count": 63,
   "id": "1aa42822-c940-419d-a5fa-33ed611d73d5",
   "metadata": {},
   "outputs": [
    {
     "data": {
      "text/plain": [
       "array([[12,  3, 45, 56],\n",
       "       [23, 34, 45, 34],\n",
       "       [34, 54, 67, 78]])"
      ]
     },
     "execution_count": 63,
     "metadata": {},
     "output_type": "execute_result"
    }
   ],
   "source": [
    "zx"
   ]
  },
  {
   "cell_type": "code",
   "execution_count": 64,
   "id": "3bc57f31-4241-4ef0-95a9-c6ce23a2fa22",
   "metadata": {},
   "outputs": [
    {
     "data": {
      "text/plain": [
       "2"
      ]
     },
     "execution_count": 64,
     "metadata": {},
     "output_type": "execute_result"
    }
   ],
   "source": [
    "zx.ndim"
   ]
  },
  {
   "cell_type": "code",
   "execution_count": 65,
   "id": "9b414b07-a24f-438d-ad0a-99a165635524",
   "metadata": {},
   "outputs": [
    {
     "data": {
      "text/plain": [
       "(3, 4)"
      ]
     },
     "execution_count": 65,
     "metadata": {},
     "output_type": "execute_result"
    }
   ],
   "source": [
    "zx.shape"
   ]
  },
  {
   "cell_type": "code",
   "execution_count": null,
   "id": "32c0e8a5-1e46-461a-9d96-670c59602a02",
   "metadata": {},
   "outputs": [],
   "source": []
  },
  {
   "cell_type": "code",
   "execution_count": null,
   "id": "b6b453ab-b1ab-4289-bf32-4e9c83f32a16",
   "metadata": {},
   "outputs": [],
   "source": []
  },
  {
   "cell_type": "code",
   "execution_count": 67,
   "id": "3b13399c-1c3a-40ff-9c23-98831b7bf875",
   "metadata": {},
   "outputs": [],
   "source": [
    "# 3-D ndarray\n",
    "# combination of multipel 2-d ndarrays"
   ]
  },
  {
   "cell_type": "code",
   "execution_count": null,
   "id": "37108c40-efc3-468f-9f8b-3c8907f1d00b",
   "metadata": {},
   "outputs": [],
   "source": []
  },
  {
   "cell_type": "code",
   "execution_count": 80,
   "id": "67e0140e-6e0c-4234-9e15-3ce6603c3e7c",
   "metadata": {},
   "outputs": [],
   "source": [
    "zx = np.array([[[12, 23, 45], [34, 4, 45]], [[34, 45, 67], [34, 45, 23]]])"
   ]
  },
  {
   "cell_type": "code",
   "execution_count": 81,
   "id": "9ce24e8a-4976-424c-b9c5-b933e4b439ef",
   "metadata": {},
   "outputs": [
    {
     "data": {
      "text/plain": [
       "array([[[12, 23, 45],\n",
       "        [34,  4, 45]],\n",
       "\n",
       "       [[34, 45, 67],\n",
       "        [34, 45, 23]]])"
      ]
     },
     "execution_count": 81,
     "metadata": {},
     "output_type": "execute_result"
    }
   ],
   "source": [
    "zx"
   ]
  },
  {
   "cell_type": "code",
   "execution_count": 82,
   "id": "4a920428-8bce-47de-b309-bfc996c8a89c",
   "metadata": {},
   "outputs": [
    {
     "data": {
      "text/plain": [
       "3"
      ]
     },
     "execution_count": 82,
     "metadata": {},
     "output_type": "execute_result"
    }
   ],
   "source": [
    "zx.ndim"
   ]
  },
  {
   "cell_type": "code",
   "execution_count": 83,
   "id": "7378268d-fc2c-4b62-b903-d3b27594205e",
   "metadata": {},
   "outputs": [
    {
     "data": {
      "text/plain": [
       "(2, 2, 3)"
      ]
     },
     "execution_count": 83,
     "metadata": {},
     "output_type": "execute_result"
    }
   ],
   "source": [
    "zx.shape"
   ]
  },
  {
   "cell_type": "code",
   "execution_count": null,
   "id": "f3260db7-da98-4ccf-af7d-4ee394d1fa1d",
   "metadata": {},
   "outputs": [],
   "source": []
  },
  {
   "cell_type": "code",
   "execution_count": 84,
   "id": "73c997ea-70f6-4bcc-adde-a01232fa9009",
   "metadata": {},
   "outputs": [],
   "source": [
    "x = np.array([[[[[[[[[[12]]]]]]]]]])"
   ]
  },
  {
   "cell_type": "code",
   "execution_count": 86,
   "id": "99eea372-58ee-4cf2-b091-4edd7dedd5b8",
   "metadata": {},
   "outputs": [
    {
     "data": {
      "text/plain": [
       "10"
      ]
     },
     "execution_count": 86,
     "metadata": {},
     "output_type": "execute_result"
    }
   ],
   "source": [
    "x.ndim"
   ]
  },
  {
   "cell_type": "code",
   "execution_count": null,
   "id": "c0713c62-a3f2-4956-8cfa-f33647011852",
   "metadata": {},
   "outputs": [],
   "source": []
  }
 ],
 "metadata": {
  "kernelspec": {
   "display_name": "Python 3 (ipykernel)",
   "language": "python",
   "name": "python3"
  },
  "language_info": {
   "codemirror_mode": {
    "name": "ipython",
    "version": 3
   },
   "file_extension": ".py",
   "mimetype": "text/x-python",
   "name": "python",
   "nbconvert_exporter": "python",
   "pygments_lexer": "ipython3",
   "version": "3.12.3"
  }
 },
 "nbformat": 4,
 "nbformat_minor": 5
}
