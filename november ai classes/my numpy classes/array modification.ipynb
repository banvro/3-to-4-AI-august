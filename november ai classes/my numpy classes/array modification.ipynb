{
 "cells": [
  {
   "cell_type": "code",
   "execution_count": 1,
   "id": "0d00edd0-3539-49d5-9a02-330026463e02",
   "metadata": {},
   "outputs": [],
   "source": [
    "# List ---> mutable\n",
    "\n",
    "# Numpy array ----> mutable...."
   ]
  },
  {
   "cell_type": "code",
   "execution_count": null,
   "id": "51734fb4-2308-49b9-a938-6e13c67cd550",
   "metadata": {},
   "outputs": [],
   "source": []
  },
  {
   "cell_type": "code",
   "execution_count": 15,
   "id": "3e3a7f3f-2f0d-494f-a2a1-2777ffd1df3a",
   "metadata": {},
   "outputs": [],
   "source": [
    "arr = np.array([12, 34, 56, 67, 89, 5, 34, 34])"
   ]
  },
  {
   "cell_type": "code",
   "execution_count": 16,
   "id": "48acbc24-8732-4c02-970f-287777dbd17d",
   "metadata": {},
   "outputs": [
    {
     "data": {
      "text/plain": [
       "array([12, 34, 56, 67, 89,  5, 34, 34])"
      ]
     },
     "execution_count": 16,
     "metadata": {},
     "output_type": "execute_result"
    }
   ],
   "source": [
    "arr"
   ]
  },
  {
   "cell_type": "code",
   "execution_count": null,
   "id": "729017f9-5393-43a2-9878-bec79181ca3c",
   "metadata": {},
   "outputs": [],
   "source": []
  },
  {
   "cell_type": "markdown",
   "id": "c09e0dc7-5eed-4e9c-b6a7-a14a7fdb3040",
   "metadata": {},
   "source": [
    "### How to add elements in the numpy array"
   ]
  },
  {
   "cell_type": "code",
   "execution_count": 17,
   "id": "3a31be1b-5bb9-4ad6-9797-bfb489398f40",
   "metadata": {},
   "outputs": [],
   "source": [
    "# append() -----> to add new element at the end of the list"
   ]
  },
  {
   "cell_type": "code",
   "execution_count": null,
   "id": "a11c49f2-243d-46f1-a19f-e1abe5bb5195",
   "metadata": {},
   "outputs": [],
   "source": []
  },
  {
   "cell_type": "code",
   "execution_count": 18,
   "id": "cc62e858-5593-4d22-b060-f4367221e408",
   "metadata": {},
   "outputs": [],
   "source": [
    "# syntax ::  np.append(array_name, new_elements)"
   ]
  },
  {
   "cell_type": "code",
   "execution_count": 19,
   "id": "793bfa69-91a3-4387-8e67-8145744ff81b",
   "metadata": {},
   "outputs": [],
   "source": [
    "arr = np.array([12, 34, 56, 67, 89, 5, 34, 34])"
   ]
  },
  {
   "cell_type": "code",
   "execution_count": null,
   "id": "8aaa5267-988b-41e1-bb75-3c092dcf9597",
   "metadata": {},
   "outputs": [],
   "source": []
  },
  {
   "cell_type": "code",
   "execution_count": 23,
   "id": "a4f32338-94e1-4cf2-ba7e-755f93bfb8be",
   "metadata": {},
   "outputs": [
    {
     "data": {
      "text/plain": [
       "array([  12,   34,   56,   67,   89,    5,   34,   34, 1000])"
      ]
     },
     "execution_count": 23,
     "metadata": {},
     "output_type": "execute_result"
    }
   ],
   "source": [
    "xyz = np.append(arr, 1000)\n",
    "xyz"
   ]
  },
  {
   "cell_type": "code",
   "execution_count": null,
   "id": "7bef4018-24a9-45a9-9f7f-8f6d4a95834d",
   "metadata": {},
   "outputs": [],
   "source": []
  },
  {
   "cell_type": "code",
   "execution_count": 21,
   "id": "861e5e5d-57ab-473d-8d57-e3bd8123abbf",
   "metadata": {},
   "outputs": [
    {
     "data": {
      "text/plain": [
       "array([12, 34, 56, 67, 89,  5, 34, 34])"
      ]
     },
     "execution_count": 21,
     "metadata": {},
     "output_type": "execute_result"
    }
   ],
   "source": [
    "arr"
   ]
  },
  {
   "cell_type": "code",
   "execution_count": null,
   "id": "24be767b-1c53-46e3-b25e-aee7624bf585",
   "metadata": {},
   "outputs": [],
   "source": []
  },
  {
   "cell_type": "code",
   "execution_count": 24,
   "id": "25e7ae8e-fef6-43e7-8933-f76e7f296336",
   "metadata": {},
   "outputs": [],
   "source": [
    "# add multiple elements at the end of the ndarray"
   ]
  },
  {
   "cell_type": "code",
   "execution_count": 25,
   "id": "72128ee0-cbbc-421a-9980-6e2ea48fcf30",
   "metadata": {},
   "outputs": [],
   "source": [
    "arr = np.array([12, 34, 56, 67, 89, 5, 34, 34])"
   ]
  },
  {
   "cell_type": "code",
   "execution_count": null,
   "id": "5a9483af-4501-4dc3-8986-9cafcae4af81",
   "metadata": {},
   "outputs": [],
   "source": []
  },
  {
   "cell_type": "code",
   "execution_count": 26,
   "id": "335736ce-7167-4c0e-bf73-0b1cbb7d9a36",
   "metadata": {},
   "outputs": [],
   "source": [
    "# synatx :: \n",
    "# np.append(array_name, [new_element1, new_element2, ..,..,..])"
   ]
  },
  {
   "cell_type": "code",
   "execution_count": 28,
   "id": "18c7e807-143b-4ee9-ae26-9c7c7d206d6c",
   "metadata": {},
   "outputs": [],
   "source": [
    "q = np.append(arr, [1000, 2000, 3000, 10000])"
   ]
  },
  {
   "cell_type": "code",
   "execution_count": 29,
   "id": "2703b36a-a460-4780-bb1f-bb168fa775fc",
   "metadata": {},
   "outputs": [
    {
     "data": {
      "text/plain": [
       "array([   12,    34,    56,    67,    89,     5,    34,    34,  1000,\n",
       "        2000,  3000, 10000])"
      ]
     },
     "execution_count": 29,
     "metadata": {},
     "output_type": "execute_result"
    }
   ],
   "source": [
    "q"
   ]
  },
  {
   "cell_type": "code",
   "execution_count": null,
   "id": "c9be6207-e4ed-4832-a8f2-f03ee6c57673",
   "metadata": {},
   "outputs": [],
   "source": []
  },
  {
   "cell_type": "code",
   "execution_count": null,
   "id": "4a37ac02-d9dd-4e7a-9809-5daa0b312d9a",
   "metadata": {},
   "outputs": [],
   "source": []
  },
  {
   "cell_type": "code",
   "execution_count": 30,
   "id": "7933391c-b411-4a3d-967d-1947595b9b51",
   "metadata": {},
   "outputs": [],
   "source": [
    "# next ---> add elements at a prticuler location."
   ]
  },
  {
   "cell_type": "code",
   "execution_count": null,
   "id": "cda33d40-d631-46ad-b0ef-d9a2b01ea110",
   "metadata": {},
   "outputs": [],
   "source": []
  },
  {
   "cell_type": "code",
   "execution_count": 36,
   "id": "fc4cf619-9b2b-4cf3-87a7-a5fa27d59df5",
   "metadata": {},
   "outputs": [],
   "source": [
    "# x = [2, 3, 10, 56, 34, 100]\n",
    "# x.insert(2, 1000)\n",
    "# x"
   ]
  },
  {
   "cell_type": "code",
   "execution_count": null,
   "id": "fe430148-ccba-442a-9b19-04d1fc643c96",
   "metadata": {},
   "outputs": [],
   "source": []
  },
  {
   "cell_type": "code",
   "execution_count": null,
   "id": "012cdbcf-6bac-4b91-8475-c101da402989",
   "metadata": {},
   "outputs": [],
   "source": [
    "# syntax ::\n",
    "\n",
    "# np.insert(array_name, index_number, new_element)"
   ]
  },
  {
   "cell_type": "code",
   "execution_count": 37,
   "id": "0528f2d5-109a-4cac-b3ee-f584d77d347a",
   "metadata": {},
   "outputs": [],
   "source": [
    "arr = np.array([12, 34, 56, 67, 89, 5, 34, 34])"
   ]
  },
  {
   "cell_type": "code",
   "execution_count": 40,
   "id": "a3ddeeeb-ddc3-46cd-ad92-dc8af6a18232",
   "metadata": {},
   "outputs": [],
   "source": [
    "zx = np.insert(arr, 4, 1000)"
   ]
  },
  {
   "cell_type": "code",
   "execution_count": 41,
   "id": "13f91de8-0094-46a1-9ef5-7728348428a0",
   "metadata": {},
   "outputs": [
    {
     "data": {
      "text/plain": [
       "array([  12,   34,   56,   67, 1000,   89,    5,   34,   34])"
      ]
     },
     "execution_count": 41,
     "metadata": {},
     "output_type": "execute_result"
    }
   ],
   "source": [
    "zx"
   ]
  },
  {
   "cell_type": "code",
   "execution_count": null,
   "id": "fa143724-13b9-4de0-abb6-6c2d347ca74f",
   "metadata": {},
   "outputs": [],
   "source": []
  },
  {
   "cell_type": "code",
   "execution_count": 42,
   "id": "fca3d2b6-b892-4da3-83fc-717ae99d963a",
   "metadata": {},
   "outputs": [],
   "source": [
    "# for example---> multiple elements"
   ]
  },
  {
   "cell_type": "code",
   "execution_count": null,
   "id": "8f70641e-403e-4427-acb8-bb8fe9c8cfe2",
   "metadata": {},
   "outputs": [],
   "source": []
  },
  {
   "cell_type": "code",
   "execution_count": 43,
   "id": "290c916f-2f32-45e8-999a-edc8df1a0980",
   "metadata": {},
   "outputs": [],
   "source": [
    "arr = np.array([12, 34, 56, 67, 89, 5, 34, 34])"
   ]
  },
  {
   "cell_type": "code",
   "execution_count": 44,
   "id": "a4974787-a3b1-4ec5-a834-cac3e3645f05",
   "metadata": {},
   "outputs": [],
   "source": [
    "index_numbers = [1, 3, 7]\n",
    "\n",
    "new_eleemnts = [1000, 3000, 70000]"
   ]
  },
  {
   "cell_type": "code",
   "execution_count": null,
   "id": "b8462ec1-8524-425a-b456-35b48de84c87",
   "metadata": {},
   "outputs": [],
   "source": []
  },
  {
   "cell_type": "code",
   "execution_count": 45,
   "id": "bc12e7e1-64dc-4baf-8f96-e0de65db7ab6",
   "metadata": {},
   "outputs": [
    {
     "data": {
      "text/plain": [
       "array([   12,  1000,    34,    56,  3000,    67,    89,     5,    34,\n",
       "       70000,    34])"
      ]
     },
     "execution_count": 45,
     "metadata": {},
     "output_type": "execute_result"
    }
   ],
   "source": [
    "np.insert(arr, index_numbers, new_eleemnts)"
   ]
  },
  {
   "cell_type": "code",
   "execution_count": null,
   "id": "995fcc6d-34aa-4ac8-9136-26a8aa384ff4",
   "metadata": {},
   "outputs": [],
   "source": []
  },
  {
   "cell_type": "code",
   "execution_count": null,
   "id": "7c151cb4-d203-4d99-a3b1-119c77f30a90",
   "metadata": {},
   "outputs": [],
   "source": []
  },
  {
   "cell_type": "code",
   "execution_count": null,
   "id": "fd902db2-a26f-4fca-bf07-8a2d94f14905",
   "metadata": {},
   "outputs": [],
   "source": [
    "For example :::::\n",
    "\n",
    "genrate a table 2, in the numpy array.\n",
    "\n",
    "# output:\n",
    "\n",
    "['2 x 1 = 2', '2 x 2 = 4', '2 x 3 = 6', . . . . . . . . ., '2 x 10 = 20']"
   ]
  },
  {
   "cell_type": "code",
   "execution_count": null,
   "id": "7a72295e-3f9b-4b21-b23d-586342a6ab0b",
   "metadata": {},
   "outputs": [],
   "source": []
  },
  {
   "cell_type": "code",
   "execution_count": 52,
   "id": "0bf364d5-8e4d-4282-ab6d-09a5d48e1027",
   "metadata": {},
   "outputs": [],
   "source": [
    "tbl = np.array([])"
   ]
  },
  {
   "cell_type": "code",
   "execution_count": 55,
   "id": "853e17c1-be86-41da-98e4-302372406dee",
   "metadata": {},
   "outputs": [],
   "source": [
    "for i in range(1, 11):\n",
    "    x = f\"2 x {i} = {2*i}\"\n",
    "\n",
    "    tbl = np.append(tbl, x)"
   ]
  },
  {
   "cell_type": "code",
   "execution_count": null,
   "id": "1c9249e2-b3ac-4f2e-b503-0928aefd09a3",
   "metadata": {},
   "outputs": [],
   "source": []
  },
  {
   "cell_type": "code",
   "execution_count": 56,
   "id": "c33c2d5f-1009-4165-b1a4-512d3c196f65",
   "metadata": {},
   "outputs": [
    {
     "data": {
      "text/plain": [
       "array(['2 x 1 = 2', '2 x 2 = 4', '2 x 3 = 6', '2 x 4 = 8', '2 x 5 = 10',\n",
       "       '2 x 6 = 12', '2 x 7 = 14', '2 x 8 = 16', '2 x 9 = 18',\n",
       "       '2 x 10 = 20'], dtype='<U32')"
      ]
     },
     "execution_count": 56,
     "metadata": {},
     "output_type": "execute_result"
    }
   ],
   "source": [
    "tbl"
   ]
  },
  {
   "cell_type": "code",
   "execution_count": null,
   "id": "c989e9c9-cf15-4e3a-a688-dcfe6cb7ed14",
   "metadata": {},
   "outputs": [],
   "source": []
  },
  {
   "cell_type": "code",
   "execution_count": null,
   "id": "330c2086-b2f2-473a-aeaf-6e48f4860727",
   "metadata": {},
   "outputs": [],
   "source": []
  },
  {
   "cell_type": "code",
   "execution_count": 57,
   "id": "b3386dd1-27d2-448c-a318-b79c2b4e23e6",
   "metadata": {},
   "outputs": [],
   "source": [
    "arr = np.array([12, 34, 56, 67, 89, 5, 34, 34])"
   ]
  },
  {
   "cell_type": "code",
   "execution_count": null,
   "id": "a87d14a7-842a-44e2-8fb0-b0b1213f9742",
   "metadata": {},
   "outputs": [],
   "source": []
  },
  {
   "cell_type": "code",
   "execution_count": 58,
   "id": "1a42bd99-b4cd-4039-a1a4-8c3639cb448e",
   "metadata": {},
   "outputs": [],
   "source": [
    "# how we delete elements from a ndarray"
   ]
  },
  {
   "cell_type": "code",
   "execution_count": null,
   "id": "c2f6e567-9fd2-41b3-b21a-6e78741ce955",
   "metadata": {},
   "outputs": [],
   "source": []
  },
  {
   "cell_type": "code",
   "execution_count": null,
   "id": "04b6c98e-5f1e-4703-82f7-ccd4c03008b3",
   "metadata": {},
   "outputs": [],
   "source": [
    "in list---\n",
    "    1) pop() ---> it delets last element\n",
    "    2) remove() -----> remove a spacific element"
   ]
  },
  {
   "cell_type": "code",
   "execution_count": 59,
   "id": "0c15d681-f464-4d23-aa9f-427a1eecfdcc",
   "metadata": {},
   "outputs": [],
   "source": [
    "# delete"
   ]
  },
  {
   "cell_type": "code",
   "execution_count": null,
   "id": "cbbf14f8-c213-497b-b4f9-e1e122037499",
   "metadata": {},
   "outputs": [],
   "source": [
    "syntax :\n",
    "\n",
    "np.delete(arrar_name, index)"
   ]
  },
  {
   "cell_type": "code",
   "execution_count": null,
   "id": "455a04b4-fd99-4297-a41d-b78667643331",
   "metadata": {},
   "outputs": [],
   "source": []
  },
  {
   "cell_type": "code",
   "execution_count": 60,
   "id": "8db14834-2947-466a-b419-389be8008f8c",
   "metadata": {},
   "outputs": [],
   "source": [
    "arr = np.array([12, 34, 56, 67, 89, 5, 34, 34])"
   ]
  },
  {
   "cell_type": "code",
   "execution_count": null,
   "id": "b182cda8-2a63-456b-aac3-7829240d242a",
   "metadata": {},
   "outputs": [],
   "source": []
  },
  {
   "cell_type": "code",
   "execution_count": 64,
   "id": "e1d0f316-97e6-4b70-a7cd-3231e99bcd0e",
   "metadata": {},
   "outputs": [
    {
     "data": {
      "text/plain": [
       "array([12, 56, 67, 89,  5, 34, 34])"
      ]
     },
     "execution_count": 64,
     "metadata": {},
     "output_type": "execute_result"
    }
   ],
   "source": [
    "np.delete(arr, 1)"
   ]
  },
  {
   "cell_type": "code",
   "execution_count": null,
   "id": "215a9a91-234d-4e85-9e86-47b66d6fac51",
   "metadata": {},
   "outputs": [],
   "source": []
  },
  {
   "cell_type": "code",
   "execution_count": 66,
   "id": "6fa04070-c173-48d4-af60-e15faf396557",
   "metadata": {},
   "outputs": [
    {
     "data": {
      "text/plain": [
       "array([12, 56, 89,  5, 34])"
      ]
     },
     "execution_count": 66,
     "metadata": {},
     "output_type": "execute_result"
    }
   ],
   "source": [
    "np.delete(arr, [1, 3, 6])"
   ]
  },
  {
   "cell_type": "code",
   "execution_count": null,
   "id": "b1a57848-4066-4a6f-8633-85be6230e634",
   "metadata": {},
   "outputs": [],
   "source": []
  },
  {
   "cell_type": "code",
   "execution_count": 67,
   "id": "90331559-272f-4178-856e-315fbcecb7e5",
   "metadata": {},
   "outputs": [],
   "source": [
    "# last elemnt"
   ]
  },
  {
   "cell_type": "code",
   "execution_count": 68,
   "id": "cdd30b8e-b44d-4885-a938-d309d0fd1a12",
   "metadata": {},
   "outputs": [
    {
     "data": {
      "text/plain": [
       "array([12, 34, 56, 67, 89,  5, 34])"
      ]
     },
     "execution_count": 68,
     "metadata": {},
     "output_type": "execute_result"
    }
   ],
   "source": [
    "np.delete(arr, -1)"
   ]
  },
  {
   "cell_type": "code",
   "execution_count": null,
   "id": "7f6d017c-a487-4a0c-90b3-ea6926fb0551",
   "metadata": {},
   "outputs": [],
   "source": []
  },
  {
   "cell_type": "code",
   "execution_count": null,
   "id": "9648b09a-07cf-402f-8eef-c8e04ce9695a",
   "metadata": {},
   "outputs": [],
   "source": []
  },
  {
   "cell_type": "code",
   "execution_count": null,
   "id": "3dca0858-1705-429b-87ed-fafda19fd8f3",
   "metadata": {},
   "outputs": [],
   "source": [
    "# 3:42 PM"
   ]
  },
  {
   "cell_type": "code",
   "execution_count": null,
   "id": "f75ee54b-dae0-4ffe-8d92-badb46428332",
   "metadata": {},
   "outputs": [],
   "source": []
  },
  {
   "cell_type": "code",
   "execution_count": 69,
   "id": "e378bf9c-ff1c-4c55-ba85-743fb5d2ec0b",
   "metadata": {},
   "outputs": [],
   "source": [
    "# replace elements from a given ndarray"
   ]
  },
  {
   "cell_type": "code",
   "execution_count": 70,
   "id": "42ac4a72-efb6-460a-8c14-d6a3873fe0aa",
   "metadata": {},
   "outputs": [],
   "source": [
    "# there is no method to replace the elements from a array...... but we have syntax"
   ]
  },
  {
   "cell_type": "code",
   "execution_count": null,
   "id": "2350e899-4b72-4b9f-a5e6-efa7431f2bae",
   "metadata": {},
   "outputs": [],
   "source": []
  },
  {
   "cell_type": "code",
   "execution_count": 71,
   "id": "e85c6b10-584b-449f-8ddd-41a20ecf2988",
   "metadata": {},
   "outputs": [],
   "source": [
    "arr = np.array([12, 34, 56, 67, 89, 5, 34, 34])"
   ]
  },
  {
   "cell_type": "code",
   "execution_count": null,
   "id": "62c44d4e-ffab-4783-8cd0-469548d0cc69",
   "metadata": {},
   "outputs": [],
   "source": []
  },
  {
   "cell_type": "code",
   "execution_count": 72,
   "id": "a7c3b9dc-8568-4293-9a32-505489536f79",
   "metadata": {},
   "outputs": [],
   "source": [
    "# 56 ----> 10"
   ]
  },
  {
   "cell_type": "code",
   "execution_count": 75,
   "id": "8973ba8f-9d06-4362-ae9f-a591fd1d8f32",
   "metadata": {},
   "outputs": [],
   "source": [
    "# arr[index_number] = new_element"
   ]
  },
  {
   "cell_type": "code",
   "execution_count": null,
   "id": "952ecade-c277-485d-a71f-9928d09fb750",
   "metadata": {},
   "outputs": [],
   "source": []
  },
  {
   "cell_type": "code",
   "execution_count": 76,
   "id": "7c1f3de2-9aed-4d33-bdc9-59e949114278",
   "metadata": {},
   "outputs": [],
   "source": [
    "arr[2] = 10"
   ]
  },
  {
   "cell_type": "code",
   "execution_count": 77,
   "id": "62ccf820-9b93-471d-93f2-599bde52f848",
   "metadata": {},
   "outputs": [
    {
     "data": {
      "text/plain": [
       "array([12, 34, 10, 67, 89,  5, 34, 34])"
      ]
     },
     "execution_count": 77,
     "metadata": {},
     "output_type": "execute_result"
    }
   ],
   "source": [
    "arr"
   ]
  },
  {
   "cell_type": "code",
   "execution_count": null,
   "id": "3931f76f-896e-433d-b7ce-510a925a1237",
   "metadata": {},
   "outputs": [],
   "source": []
  },
  {
   "cell_type": "code",
   "execution_count": null,
   "id": "82eec588-a07e-4218-aa1d-a9a04063be8e",
   "metadata": {},
   "outputs": [],
   "source": []
  },
  {
   "cell_type": "code",
   "execution_count": 78,
   "id": "1ee2c64d-8255-4ba4-9e08-703bea2e461c",
   "metadata": {},
   "outputs": [],
   "source": [
    "# where() -----> help to get index number"
   ]
  },
  {
   "cell_type": "code",
   "execution_count": null,
   "id": "231c4c11-d9a8-43d0-b5be-4a00636c9b16",
   "metadata": {},
   "outputs": [],
   "source": []
  },
  {
   "cell_type": "code",
   "execution_count": 79,
   "id": "e5a54721-4087-4663-82b6-66cfc52eb979",
   "metadata": {},
   "outputs": [],
   "source": [
    "arr = np.array([12, 34, 56, 67, 89, 5, 34, 34, 34, 56, 4])"
   ]
  },
  {
   "cell_type": "code",
   "execution_count": null,
   "id": "89b61204-ae48-4bd8-a897-2ff3254283cc",
   "metadata": {},
   "outputs": [],
   "source": []
  },
  {
   "cell_type": "code",
   "execution_count": 80,
   "id": "c4f872ff-2390-4d60-ab20-cab5449bfa60",
   "metadata": {},
   "outputs": [],
   "source": [
    "# np.where(condation)\n",
    "\n",
    "# condations ----->\n",
    "# condatioanl operaotrs\n",
    "# ==\n",
    "# !=\n",
    "# >\n",
    "# <\n",
    "# >=\n",
    "# <="
   ]
  },
  {
   "cell_type": "code",
   "execution_count": 81,
   "id": "ad835235-1533-4ab5-945c-903021af52d6",
   "metadata": {},
   "outputs": [],
   "source": [
    "arr = np.array([12, 34, 56, 67, 89, 5, 34, 34, 34, 56, 4])"
   ]
  },
  {
   "cell_type": "code",
   "execution_count": null,
   "id": "4efd7849-89ff-4e87-886b-cd8d3e4e4e10",
   "metadata": {},
   "outputs": [],
   "source": []
  },
  {
   "cell_type": "code",
   "execution_count": 83,
   "id": "ac186a8d-bfd2-49f4-86b3-20ac296ce644",
   "metadata": {},
   "outputs": [
    {
     "data": {
      "text/plain": [
       "(array([10], dtype=int64),)"
      ]
     },
     "execution_count": 83,
     "metadata": {},
     "output_type": "execute_result"
    }
   ],
   "source": [
    "np.where(arr == 4)"
   ]
  },
  {
   "cell_type": "code",
   "execution_count": null,
   "id": "7b5df3d7-d038-4ab4-89b8-d062a5860960",
   "metadata": {},
   "outputs": [],
   "source": []
  },
  {
   "cell_type": "code",
   "execution_count": 84,
   "id": "9ca8b8c2-4e03-4f85-95fe-cd8c77e9ea20",
   "metadata": {},
   "outputs": [
    {
     "data": {
      "text/plain": [
       "(array([1, 6, 7, 8], dtype=int64),)"
      ]
     },
     "execution_count": 84,
     "metadata": {},
     "output_type": "execute_result"
    }
   ],
   "source": [
    "np.where(arr == 34)"
   ]
  },
  {
   "cell_type": "code",
   "execution_count": null,
   "id": "e74aacf2-29ea-417c-b6c4-8806cdad13ba",
   "metadata": {},
   "outputs": [],
   "source": []
  },
  {
   "cell_type": "code",
   "execution_count": 85,
   "id": "391d6dcf-1642-4178-a52d-52b72bdbbd00",
   "metadata": {},
   "outputs": [
    {
     "data": {
      "text/plain": [
       "(array([2, 9], dtype=int64),)"
      ]
     },
     "execution_count": 85,
     "metadata": {},
     "output_type": "execute_result"
    }
   ],
   "source": [
    "np.where(arr == 56)"
   ]
  },
  {
   "cell_type": "code",
   "execution_count": null,
   "id": "5df42c24-2bb0-4b71-bbe2-0941f1878948",
   "metadata": {},
   "outputs": [],
   "source": []
  },
  {
   "cell_type": "code",
   "execution_count": 86,
   "id": "a8593dee-21ad-4722-9a10-7875beb48298",
   "metadata": {},
   "outputs": [],
   "source": [
    "arr = np.array([12, 34, 56, 67, 89, 5, 34, 34, 34, 56, 4])"
   ]
  },
  {
   "cell_type": "code",
   "execution_count": 87,
   "id": "799a1d6a-15fb-4c01-88d1-65251c3c77d4",
   "metadata": {},
   "outputs": [
    {
     "data": {
      "text/plain": [
       "(array([2, 3, 4, 9], dtype=int64),)"
      ]
     },
     "execution_count": 87,
     "metadata": {},
     "output_type": "execute_result"
    }
   ],
   "source": [
    "np.where(arr > 50)"
   ]
  },
  {
   "cell_type": "code",
   "execution_count": null,
   "id": "6867e7b3-8c6b-42a4-be91-dfe062710ec6",
   "metadata": {},
   "outputs": [],
   "source": []
  },
  {
   "cell_type": "code",
   "execution_count": null,
   "id": "c3e66d39-113f-4280-b49f-2854f939599e",
   "metadata": {},
   "outputs": [],
   "source": [
    "resize\n",
    "reshape\n",
    "\n",
    "random"
   ]
  }
 ],
 "metadata": {
  "kernelspec": {
   "display_name": "Python 3 (ipykernel)",
   "language": "python",
   "name": "python3"
  },
  "language_info": {
   "codemirror_mode": {
    "name": "ipython",
    "version": 3
   },
   "file_extension": ".py",
   "mimetype": "text/x-python",
   "name": "python",
   "nbconvert_exporter": "python",
   "pygments_lexer": "ipython3",
   "version": "3.12.3"
  }
 },
 "nbformat": 4,
 "nbformat_minor": 5
}
