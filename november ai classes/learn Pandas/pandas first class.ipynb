{
 "cells": [
  {
   "cell_type": "code",
   "execution_count": null,
   "id": "003666fe-9058-43a5-96ef-55cd2bdbfeca",
   "metadata": {},
   "outputs": [],
   "source": [
    "Numpy ---> numarical Pyhton 2005\n",
    "    arrays ---> ndarray\n",
    "\n",
    "\n",
    "Pandas ---> 2007"
   ]
  },
  {
   "cell_type": "code",
   "execution_count": null,
   "id": "7a128679-8627-4267-9d62-552ea70860bc",
   "metadata": {},
   "outputs": [],
   "source": [
    "file systmes ---> \n",
    "    excel\n",
    "    csv ---> comma sapredted values\n",
    "    json\n",
    "    sql\n",
    "    \n",
    "    .\n",
    "    ..\n"
   ]
  },
  {
   "cell_type": "code",
   "execution_count": 1,
   "id": "39901229-7555-4fdc-a2ff-fe021af11ff4",
   "metadata": {},
   "outputs": [
    {
     "name": "stdout",
     "output_type": "stream",
     "text": [
      "Defaulting to user installation because normal site-packages is not writeable\n",
      "Requirement already satisfied: pandas in c:\\users\\17nru\\appdata\\local\\packages\\pythonsoftwarefoundation.python.3.13_qbz5n2kfra8p0\\localcache\\local-packages\\python313\\site-packages (2.2.3)\n",
      "Requirement already satisfied: numpy>=1.26.0 in c:\\users\\17nru\\appdata\\local\\packages\\pythonsoftwarefoundation.python.3.13_qbz5n2kfra8p0\\localcache\\local-packages\\python313\\site-packages (from pandas) (2.1.3)\n",
      "Requirement already satisfied: python-dateutil>=2.8.2 in c:\\users\\17nru\\appdata\\local\\packages\\pythonsoftwarefoundation.python.3.13_qbz5n2kfra8p0\\localcache\\local-packages\\python313\\site-packages (from pandas) (2.9.0.post0)\n",
      "Requirement already satisfied: pytz>=2020.1 in c:\\users\\17nru\\appdata\\local\\packages\\pythonsoftwarefoundation.python.3.13_qbz5n2kfra8p0\\localcache\\local-packages\\python313\\site-packages (from pandas) (2024.2)\n",
      "Requirement already satisfied: tzdata>=2022.7 in c:\\users\\17nru\\appdata\\local\\packages\\pythonsoftwarefoundation.python.3.13_qbz5n2kfra8p0\\localcache\\local-packages\\python313\\site-packages (from pandas) (2024.2)\n",
      "Requirement already satisfied: six>=1.5 in c:\\users\\17nru\\appdata\\local\\packages\\pythonsoftwarefoundation.python.3.13_qbz5n2kfra8p0\\localcache\\local-packages\\python313\\site-packages (from python-dateutil>=2.8.2->pandas) (1.16.0)\n"
     ]
    }
   ],
   "source": [
    "# install pandas\n",
    "\n",
    "!pip install pandas"
   ]
  },
  {
   "cell_type": "code",
   "execution_count": null,
   "id": "ed1a706c-6daf-48d1-aafe-be3cb1084b0a",
   "metadata": {},
   "outputs": [],
   "source": []
  },
  {
   "cell_type": "code",
   "execution_count": 2,
   "id": "49c6e572-cecf-42fb-b954-dc3e6edb8e4a",
   "metadata": {},
   "outputs": [],
   "source": [
    "import numpy as np"
   ]
  },
  {
   "cell_type": "code",
   "execution_count": 3,
   "id": "49d96fe2-6668-4f67-8295-5c63c2f3c793",
   "metadata": {},
   "outputs": [],
   "source": [
    "import pandas as pd"
   ]
  },
  {
   "cell_type": "code",
   "execution_count": null,
   "id": "6421e921-b689-47ea-9d30-db19c68f30d6",
   "metadata": {},
   "outputs": [],
   "source": []
  },
  {
   "cell_type": "code",
   "execution_count": 4,
   "id": "0e395991-232c-4639-b138-88fcfadcc1ad",
   "metadata": {},
   "outputs": [],
   "source": [
    "# Pandas type of data structres\n",
    "    # 1) Series\n",
    "    # 2) DataFrame"
   ]
  },
  {
   "cell_type": "code",
   "execution_count": null,
   "id": "bc5c882c-4190-47b8-8ff9-54ddf033f158",
   "metadata": {},
   "outputs": [],
   "source": [
    "# Assume ---> table\n",
    "\n",
    "\n",
    "# 1) Series --> a single column from a complte table.\n",
    "\n",
    "# 2) DataFrame ---> combination of rows and columns."
   ]
  },
  {
   "cell_type": "code",
   "execution_count": null,
   "id": "e9fc6b92-4bc0-479e-8ea2-daab3ae19f56",
   "metadata": {},
   "outputs": [],
   "source": []
  },
  {
   "cell_type": "code",
   "execution_count": 5,
   "id": "46ac4ca2-d30c-4b6e-975a-a0e89ed12281",
   "metadata": {},
   "outputs": [],
   "source": [
    "data = pd.read_csv(\"mentalhealth_dataset.csv\")"
   ]
  },
  {
   "cell_type": "code",
   "execution_count": null,
   "id": "6204ec64-4464-40d8-b7e0-c687598b9031",
   "metadata": {},
   "outputs": [],
   "source": []
  },
  {
   "cell_type": "code",
   "execution_count": 6,
   "id": "83cf0531-9c65-4186-b5e1-dfa2eb696131",
   "metadata": {},
   "outputs": [
    {
     "data": {
      "text/html": [
       "<div>\n",
       "<style scoped>\n",
       "    .dataframe tbody tr th:only-of-type {\n",
       "        vertical-align: middle;\n",
       "    }\n",
       "\n",
       "    .dataframe tbody tr th {\n",
       "        vertical-align: top;\n",
       "    }\n",
       "\n",
       "    .dataframe thead th {\n",
       "        text-align: right;\n",
       "    }\n",
       "</style>\n",
       "<table border=\"1\" class=\"dataframe\">\n",
       "  <thead>\n",
       "    <tr style=\"text-align: right;\">\n",
       "      <th></th>\n",
       "      <th>Timestamp</th>\n",
       "      <th>Gender</th>\n",
       "      <th>Age</th>\n",
       "      <th>Course</th>\n",
       "      <th>YearOfStudy</th>\n",
       "      <th>CGPA</th>\n",
       "      <th>Depression</th>\n",
       "      <th>Anxiety</th>\n",
       "      <th>PanicAttack</th>\n",
       "      <th>SpecialistTreatment</th>\n",
       "      <th>SymptomFrequency_Last7Days</th>\n",
       "      <th>HasMentalHealthSupport</th>\n",
       "      <th>SleepQuality</th>\n",
       "      <th>StudyStressLevel</th>\n",
       "      <th>StudyHoursPerWeek</th>\n",
       "      <th>AcademicEngagement</th>\n",
       "    </tr>\n",
       "  </thead>\n",
       "  <tbody>\n",
       "    <tr>\n",
       "      <th>0</th>\n",
       "      <td>13/7/2020</td>\n",
       "      <td>Female</td>\n",
       "      <td>24</td>\n",
       "      <td>Biotechnology</td>\n",
       "      <td>Year 3</td>\n",
       "      <td>2.38</td>\n",
       "      <td>1</td>\n",
       "      <td>0</td>\n",
       "      <td>0</td>\n",
       "      <td>0</td>\n",
       "      <td>5</td>\n",
       "      <td>0</td>\n",
       "      <td>4</td>\n",
       "      <td>5</td>\n",
       "      <td>8</td>\n",
       "      <td>2</td>\n",
       "    </tr>\n",
       "    <tr>\n",
       "      <th>1</th>\n",
       "      <td>13/7/2020</td>\n",
       "      <td>Female</td>\n",
       "      <td>18</td>\n",
       "      <td>Biotechnology</td>\n",
       "      <td>Year 3</td>\n",
       "      <td>4.00</td>\n",
       "      <td>0</td>\n",
       "      <td>1</td>\n",
       "      <td>0</td>\n",
       "      <td>0</td>\n",
       "      <td>0</td>\n",
       "      <td>0</td>\n",
       "      <td>4</td>\n",
       "      <td>4</td>\n",
       "      <td>13</td>\n",
       "      <td>5</td>\n",
       "    </tr>\n",
       "    <tr>\n",
       "      <th>2</th>\n",
       "      <td>13/7/2020</td>\n",
       "      <td>Female</td>\n",
       "      <td>25</td>\n",
       "      <td>Biotechnology</td>\n",
       "      <td>Year 3</td>\n",
       "      <td>3.68</td>\n",
       "      <td>0</td>\n",
       "      <td>0</td>\n",
       "      <td>1</td>\n",
       "      <td>0</td>\n",
       "      <td>3</td>\n",
       "      <td>0</td>\n",
       "      <td>1</td>\n",
       "      <td>2</td>\n",
       "      <td>13</td>\n",
       "      <td>1</td>\n",
       "    </tr>\n",
       "    <tr>\n",
       "      <th>3</th>\n",
       "      <td>13/7/2020</td>\n",
       "      <td>Female</td>\n",
       "      <td>18</td>\n",
       "      <td>Engineering</td>\n",
       "      <td>year 4</td>\n",
       "      <td>4.00</td>\n",
       "      <td>0</td>\n",
       "      <td>0</td>\n",
       "      <td>0</td>\n",
       "      <td>0</td>\n",
       "      <td>3</td>\n",
       "      <td>0</td>\n",
       "      <td>5</td>\n",
       "      <td>1</td>\n",
       "      <td>19</td>\n",
       "      <td>2</td>\n",
       "    </tr>\n",
       "    <tr>\n",
       "      <th>4</th>\n",
       "      <td>13/7/2020</td>\n",
       "      <td>Female</td>\n",
       "      <td>20</td>\n",
       "      <td>Engineering</td>\n",
       "      <td>year 4</td>\n",
       "      <td>2.00</td>\n",
       "      <td>1</td>\n",
       "      <td>1</td>\n",
       "      <td>0</td>\n",
       "      <td>0</td>\n",
       "      <td>0</td>\n",
       "      <td>0</td>\n",
       "      <td>2</td>\n",
       "      <td>4</td>\n",
       "      <td>3</td>\n",
       "      <td>2</td>\n",
       "    </tr>\n",
       "    <tr>\n",
       "      <th>...</th>\n",
       "      <td>...</td>\n",
       "      <td>...</td>\n",
       "      <td>...</td>\n",
       "      <td>...</td>\n",
       "      <td>...</td>\n",
       "      <td>...</td>\n",
       "      <td>...</td>\n",
       "      <td>...</td>\n",
       "      <td>...</td>\n",
       "      <td>...</td>\n",
       "      <td>...</td>\n",
       "      <td>...</td>\n",
       "      <td>...</td>\n",
       "      <td>...</td>\n",
       "      <td>...</td>\n",
       "      <td>...</td>\n",
       "    </tr>\n",
       "    <tr>\n",
       "      <th>995</th>\n",
       "      <td>2023-07-09</td>\n",
       "      <td>Female</td>\n",
       "      <td>20</td>\n",
       "      <td>KOE</td>\n",
       "      <td>year 1</td>\n",
       "      <td>2.31</td>\n",
       "      <td>0</td>\n",
       "      <td>1</td>\n",
       "      <td>0</td>\n",
       "      <td>0</td>\n",
       "      <td>6</td>\n",
       "      <td>0</td>\n",
       "      <td>1</td>\n",
       "      <td>3</td>\n",
       "      <td>7</td>\n",
       "      <td>1</td>\n",
       "    </tr>\n",
       "    <tr>\n",
       "      <th>996</th>\n",
       "      <td>2023-07-09</td>\n",
       "      <td>Female</td>\n",
       "      <td>23</td>\n",
       "      <td>Engineering</td>\n",
       "      <td>year 1</td>\n",
       "      <td>3.72</td>\n",
       "      <td>1</td>\n",
       "      <td>0</td>\n",
       "      <td>0</td>\n",
       "      <td>0</td>\n",
       "      <td>3</td>\n",
       "      <td>0</td>\n",
       "      <td>4</td>\n",
       "      <td>1</td>\n",
       "      <td>12</td>\n",
       "      <td>2</td>\n",
       "    </tr>\n",
       "    <tr>\n",
       "      <th>997</th>\n",
       "      <td>2023-07-09</td>\n",
       "      <td>Female</td>\n",
       "      <td>19</td>\n",
       "      <td>Human Sciences</td>\n",
       "      <td>Year 2</td>\n",
       "      <td>2.00</td>\n",
       "      <td>0</td>\n",
       "      <td>0</td>\n",
       "      <td>1</td>\n",
       "      <td>0</td>\n",
       "      <td>1</td>\n",
       "      <td>0</td>\n",
       "      <td>5</td>\n",
       "      <td>4</td>\n",
       "      <td>3</td>\n",
       "      <td>1</td>\n",
       "    </tr>\n",
       "    <tr>\n",
       "      <th>998</th>\n",
       "      <td>2023-07-09</td>\n",
       "      <td>Female</td>\n",
       "      <td>24</td>\n",
       "      <td>Human Sciences</td>\n",
       "      <td>Year 2</td>\n",
       "      <td>3.89</td>\n",
       "      <td>1</td>\n",
       "      <td>0</td>\n",
       "      <td>1</td>\n",
       "      <td>0</td>\n",
       "      <td>5</td>\n",
       "      <td>0</td>\n",
       "      <td>5</td>\n",
       "      <td>4</td>\n",
       "      <td>13</td>\n",
       "      <td>3</td>\n",
       "    </tr>\n",
       "    <tr>\n",
       "      <th>999</th>\n",
       "      <td>2023-07-09</td>\n",
       "      <td>Female</td>\n",
       "      <td>20</td>\n",
       "      <td>Human Sciences</td>\n",
       "      <td>Year 2</td>\n",
       "      <td>2.46</td>\n",
       "      <td>1</td>\n",
       "      <td>0</td>\n",
       "      <td>0</td>\n",
       "      <td>0</td>\n",
       "      <td>0</td>\n",
       "      <td>0</td>\n",
       "      <td>2</td>\n",
       "      <td>5</td>\n",
       "      <td>8</td>\n",
       "      <td>1</td>\n",
       "    </tr>\n",
       "  </tbody>\n",
       "</table>\n",
       "<p>1000 rows × 16 columns</p>\n",
       "</div>"
      ],
      "text/plain": [
       "      Timestamp  Gender  Age           Course YearOfStudy  CGPA  Depression  \\\n",
       "0     13/7/2020  Female   24    Biotechnology      Year 3  2.38           1   \n",
       "1     13/7/2020  Female   18    Biotechnology      Year 3  4.00           0   \n",
       "2     13/7/2020  Female   25    Biotechnology      Year 3  3.68           0   \n",
       "3     13/7/2020  Female   18      Engineering      year 4  4.00           0   \n",
       "4     13/7/2020  Female   20      Engineering      year 4  2.00           1   \n",
       "..          ...     ...  ...              ...         ...   ...         ...   \n",
       "995  2023-07-09  Female   20              KOE      year 1  2.31           0   \n",
       "996  2023-07-09  Female   23      Engineering      year 1  3.72           1   \n",
       "997  2023-07-09  Female   19  Human Sciences       Year 2  2.00           0   \n",
       "998  2023-07-09  Female   24  Human Sciences       Year 2  3.89           1   \n",
       "999  2023-07-09  Female   20  Human Sciences       Year 2  2.46           1   \n",
       "\n",
       "     Anxiety  PanicAttack  SpecialistTreatment  SymptomFrequency_Last7Days  \\\n",
       "0          0            0                    0                           5   \n",
       "1          1            0                    0                           0   \n",
       "2          0            1                    0                           3   \n",
       "3          0            0                    0                           3   \n",
       "4          1            0                    0                           0   \n",
       "..       ...          ...                  ...                         ...   \n",
       "995        1            0                    0                           6   \n",
       "996        0            0                    0                           3   \n",
       "997        0            1                    0                           1   \n",
       "998        0            1                    0                           5   \n",
       "999        0            0                    0                           0   \n",
       "\n",
       "     HasMentalHealthSupport  SleepQuality  StudyStressLevel  \\\n",
       "0                         0             4                 5   \n",
       "1                         0             4                 4   \n",
       "2                         0             1                 2   \n",
       "3                         0             5                 1   \n",
       "4                         0             2                 4   \n",
       "..                      ...           ...               ...   \n",
       "995                       0             1                 3   \n",
       "996                       0             4                 1   \n",
       "997                       0             5                 4   \n",
       "998                       0             5                 4   \n",
       "999                       0             2                 5   \n",
       "\n",
       "     StudyHoursPerWeek  AcademicEngagement  \n",
       "0                    8                   2  \n",
       "1                   13                   5  \n",
       "2                   13                   1  \n",
       "3                   19                   2  \n",
       "4                    3                   2  \n",
       "..                 ...                 ...  \n",
       "995                  7                   1  \n",
       "996                 12                   2  \n",
       "997                  3                   1  \n",
       "998                 13                   3  \n",
       "999                  8                   1  \n",
       "\n",
       "[1000 rows x 16 columns]"
      ]
     },
     "execution_count": 6,
     "metadata": {},
     "output_type": "execute_result"
    }
   ],
   "source": [
    "data"
   ]
  },
  {
   "cell_type": "code",
   "execution_count": null,
   "id": "cd20cfdf-7ed6-4257-9217-d81153418777",
   "metadata": {},
   "outputs": [],
   "source": []
  },
  {
   "cell_type": "code",
   "execution_count": 7,
   "id": "f9de459a-9d22-4c2c-8c51-d4d388924e37",
   "metadata": {},
   "outputs": [
    {
     "data": {
      "text/plain": [
       "pandas.core.frame.DataFrame"
      ]
     },
     "execution_count": 7,
     "metadata": {},
     "output_type": "execute_result"
    }
   ],
   "source": [
    "type(data)"
   ]
  },
  {
   "cell_type": "code",
   "execution_count": null,
   "id": "3ca6a333-fdbe-4523-b553-552eea7ddaa2",
   "metadata": {},
   "outputs": [],
   "source": []
  },
  {
   "cell_type": "code",
   "execution_count": null,
   "id": "dc0d79d0-fc63-4147-9eac-db6c556a0b8a",
   "metadata": {},
   "outputs": [],
   "source": []
  },
  {
   "cell_type": "code",
   "execution_count": 8,
   "id": "4bfe1be2-f4f0-48b3-92df-df16215d1f06",
   "metadata": {},
   "outputs": [],
   "source": [
    "# Manually create series DataFrame"
   ]
  },
  {
   "cell_type": "code",
   "execution_count": null,
   "id": "2a1deb08-e132-4179-91e9-3f0711ff2bfc",
   "metadata": {},
   "outputs": [],
   "source": []
  },
  {
   "cell_type": "code",
   "execution_count": 9,
   "id": "4cd268f6-bb2a-43a0-abd0-5742edbf7f3d",
   "metadata": {},
   "outputs": [],
   "source": [
    "import pandas as pd"
   ]
  },
  {
   "cell_type": "code",
   "execution_count": null,
   "id": "5e598cca-7f71-4825-912c-501d51378f16",
   "metadata": {},
   "outputs": [],
   "source": []
  },
  {
   "cell_type": "code",
   "execution_count": 10,
   "id": "b80a72f7-c4fa-43ec-9447-a6e97a79c52f",
   "metadata": {},
   "outputs": [],
   "source": [
    "xyz = pd.Series([12, 23, 45, 56, 67, 89, 23])"
   ]
  },
  {
   "cell_type": "code",
   "execution_count": 11,
   "id": "c782c4d5-96c4-430e-910f-4b3ecf963105",
   "metadata": {},
   "outputs": [
    {
     "data": {
      "text/plain": [
       "0    12\n",
       "1    23\n",
       "2    45\n",
       "3    56\n",
       "4    67\n",
       "5    89\n",
       "6    23\n",
       "dtype: int64"
      ]
     },
     "execution_count": 11,
     "metadata": {},
     "output_type": "execute_result"
    }
   ],
   "source": [
    "xyz"
   ]
  },
  {
   "cell_type": "code",
   "execution_count": null,
   "id": "3aba772b-e309-4984-900d-38b34b1b7f62",
   "metadata": {},
   "outputs": [],
   "source": []
  },
  {
   "cell_type": "code",
   "execution_count": 12,
   "id": "8a190001-0e37-4459-acb7-7c4d364d1f7d",
   "metadata": {},
   "outputs": [
    {
     "data": {
      "text/plain": [
       "pandas.core.series.Series"
      ]
     },
     "execution_count": 12,
     "metadata": {},
     "output_type": "execute_result"
    }
   ],
   "source": [
    "type(xyz)"
   ]
  },
  {
   "cell_type": "code",
   "execution_count": null,
   "id": "8abc6a3e-4a48-4c1f-a48a-543e752b513c",
   "metadata": {},
   "outputs": [],
   "source": []
  },
  {
   "cell_type": "code",
   "execution_count": 16,
   "id": "484c07da-072e-4e92-ae75-29e979323ea7",
   "metadata": {},
   "outputs": [],
   "source": [
    "xyz = pd.Series([12, 23, 45, 56, 67, 89, 23], index = [\"a\", \"b\", \"c\", \"d\", \"e\", \"f\", \"g\"])"
   ]
  },
  {
   "cell_type": "code",
   "execution_count": 17,
   "id": "3979e6bd-2c9f-4873-b977-da5e734d3064",
   "metadata": {},
   "outputs": [
    {
     "data": {
      "text/plain": [
       "a    12\n",
       "b    23\n",
       "c    45\n",
       "d    56\n",
       "e    67\n",
       "f    89\n",
       "g    23\n",
       "dtype: int64"
      ]
     },
     "execution_count": 17,
     "metadata": {},
     "output_type": "execute_result"
    }
   ],
   "source": [
    "xyz"
   ]
  },
  {
   "cell_type": "code",
   "execution_count": null,
   "id": "d8e37a26-af5f-4186-9033-aecd73f7b7ad",
   "metadata": {},
   "outputs": [],
   "source": []
  },
  {
   "cell_type": "code",
   "execution_count": null,
   "id": "cc64ab07-18a5-42c6-825b-272e1a5760cf",
   "metadata": {},
   "outputs": [],
   "source": []
  },
  {
   "cell_type": "code",
   "execution_count": 18,
   "id": "80d3d8e7-fe26-499a-ad70-f99361a289d0",
   "metadata": {},
   "outputs": [],
   "source": [
    "xyz = pd.Series([12, 23, 45, 56, 67, 89, 23])"
   ]
  },
  {
   "cell_type": "code",
   "execution_count": 19,
   "id": "7ac53c31-970a-4ef7-bf34-f831f15257fb",
   "metadata": {},
   "outputs": [
    {
     "data": {
      "text/plain": [
       "0    12\n",
       "1    23\n",
       "2    45\n",
       "3    56\n",
       "4    67\n",
       "5    89\n",
       "6    23\n",
       "dtype: int64"
      ]
     },
     "execution_count": 19,
     "metadata": {},
     "output_type": "execute_result"
    }
   ],
   "source": [
    "xyz"
   ]
  },
  {
   "cell_type": "code",
   "execution_count": 21,
   "id": "39620573-3d5b-42a1-9e60-be5754e5ccbf",
   "metadata": {},
   "outputs": [
    {
     "data": {
      "text/plain": [
       "56"
      ]
     },
     "execution_count": 21,
     "metadata": {},
     "output_type": "execute_result"
    }
   ],
   "source": [
    "xyz[3]"
   ]
  },
  {
   "cell_type": "code",
   "execution_count": null,
   "id": "1e78345f-2513-4fa9-b62c-ad2f620e0edc",
   "metadata": {},
   "outputs": [],
   "source": []
  },
  {
   "cell_type": "code",
   "execution_count": 22,
   "id": "c53b7488-d070-4545-b8b4-d3c014d43202",
   "metadata": {},
   "outputs": [],
   "source": [
    "xyz = pd.Series([12, 23, 45, 56, 67, 89, 23], index = [\"a\", \"b\", \"c\", \"d\", \"e\", \"f\", \"g\"])"
   ]
  },
  {
   "cell_type": "code",
   "execution_count": 23,
   "id": "9695bd90-c6b6-4e2a-8fd4-b9270f528519",
   "metadata": {},
   "outputs": [
    {
     "data": {
      "text/plain": [
       "56"
      ]
     },
     "execution_count": 23,
     "metadata": {},
     "output_type": "execute_result"
    }
   ],
   "source": [
    "xyz[\"d\"]"
   ]
  },
  {
   "cell_type": "code",
   "execution_count": null,
   "id": "0f0fc3a4-3816-4ba2-8f29-00fcfef62fa1",
   "metadata": {},
   "outputs": [],
   "source": []
  },
  {
   "cell_type": "code",
   "execution_count": null,
   "id": "a68d9401-dd82-4f33-8d9e-6e945b995585",
   "metadata": {},
   "outputs": [],
   "source": []
  },
  {
   "cell_type": "code",
   "execution_count": 24,
   "id": "cee62432-db6c-467d-8ba3-0af82de2381e",
   "metadata": {},
   "outputs": [],
   "source": [
    "# How to craete DataFrame"
   ]
  },
  {
   "cell_type": "code",
   "execution_count": null,
   "id": "3c10e52a-c9c8-4d1a-8678-4e43214bfb13",
   "metadata": {},
   "outputs": [],
   "source": []
  },
  {
   "cell_type": "code",
   "execution_count": 25,
   "id": "451a716b-3ea2-43d8-9771-f34f9b40b571",
   "metadata": {},
   "outputs": [],
   "source": [
    "data = pd.DataFrame({\n",
    "    \"Student Name\" : [\"Kriss\", \"Moris\", \"Joe\", \"Rahul\", \"Guru\"],\n",
    "    \"Age\" : [20, 34, 23, 12, 34],\n",
    "    \"Phone Number\" : [982384623, 82394623, 298368234, 982638324, 872637334],\n",
    "})"
   ]
  },
  {
   "cell_type": "code",
   "execution_count": 26,
   "id": "97d3b5c6-a01f-4759-9872-d435832ad4cd",
   "metadata": {},
   "outputs": [
    {
     "data": {
      "text/html": [
       "<div>\n",
       "<style scoped>\n",
       "    .dataframe tbody tr th:only-of-type {\n",
       "        vertical-align: middle;\n",
       "    }\n",
       "\n",
       "    .dataframe tbody tr th {\n",
       "        vertical-align: top;\n",
       "    }\n",
       "\n",
       "    .dataframe thead th {\n",
       "        text-align: right;\n",
       "    }\n",
       "</style>\n",
       "<table border=\"1\" class=\"dataframe\">\n",
       "  <thead>\n",
       "    <tr style=\"text-align: right;\">\n",
       "      <th></th>\n",
       "      <th>Student Name</th>\n",
       "      <th>Age</th>\n",
       "      <th>Phone Number</th>\n",
       "    </tr>\n",
       "  </thead>\n",
       "  <tbody>\n",
       "    <tr>\n",
       "      <th>0</th>\n",
       "      <td>Kriss</td>\n",
       "      <td>20</td>\n",
       "      <td>982384623</td>\n",
       "    </tr>\n",
       "    <tr>\n",
       "      <th>1</th>\n",
       "      <td>Moris</td>\n",
       "      <td>34</td>\n",
       "      <td>82394623</td>\n",
       "    </tr>\n",
       "    <tr>\n",
       "      <th>2</th>\n",
       "      <td>Joe</td>\n",
       "      <td>23</td>\n",
       "      <td>298368234</td>\n",
       "    </tr>\n",
       "    <tr>\n",
       "      <th>3</th>\n",
       "      <td>Rahul</td>\n",
       "      <td>12</td>\n",
       "      <td>982638324</td>\n",
       "    </tr>\n",
       "    <tr>\n",
       "      <th>4</th>\n",
       "      <td>Guru</td>\n",
       "      <td>34</td>\n",
       "      <td>872637334</td>\n",
       "    </tr>\n",
       "  </tbody>\n",
       "</table>\n",
       "</div>"
      ],
      "text/plain": [
       "  Student Name  Age  Phone Number\n",
       "0        Kriss   20     982384623\n",
       "1        Moris   34      82394623\n",
       "2          Joe   23     298368234\n",
       "3        Rahul   12     982638324\n",
       "4         Guru   34     872637334"
      ]
     },
     "execution_count": 26,
     "metadata": {},
     "output_type": "execute_result"
    }
   ],
   "source": [
    "data"
   ]
  },
  {
   "cell_type": "code",
   "execution_count": null,
   "id": "3b68707f-5d2e-4ed0-ae92-2840cf82efb1",
   "metadata": {},
   "outputs": [],
   "source": []
  },
  {
   "cell_type": "code",
   "execution_count": 27,
   "id": "4de11721-15ec-4a71-974b-a3140ac8ef21",
   "metadata": {},
   "outputs": [
    {
     "data": {
      "text/plain": [
       "pandas.core.frame.DataFrame"
      ]
     },
     "execution_count": 27,
     "metadata": {},
     "output_type": "execute_result"
    }
   ],
   "source": [
    "type(data)"
   ]
  },
  {
   "cell_type": "code",
   "execution_count": null,
   "id": "355b6440-ea3b-4f0d-8f55-421d970b5ef6",
   "metadata": {},
   "outputs": [],
   "source": []
  },
  {
   "cell_type": "code",
   "execution_count": 29,
   "id": "1859e9b1-03ba-4882-b925-6642f2bee867",
   "metadata": {},
   "outputs": [
    {
     "data": {
      "text/plain": [
       "0    982384623\n",
       "1     82394623\n",
       "2    298368234\n",
       "3    982638324\n",
       "4    872637334\n",
       "Name: Phone Number, dtype: int64"
      ]
     },
     "execution_count": 29,
     "metadata": {},
     "output_type": "execute_result"
    }
   ],
   "source": [
    "data[\"Phone Number\"]"
   ]
  },
  {
   "cell_type": "code",
   "execution_count": 30,
   "id": "d278ca23-65e7-44c6-b90c-aed72cf1ac14",
   "metadata": {},
   "outputs": [
    {
     "data": {
      "text/plain": [
       "pandas.core.series.Series"
      ]
     },
     "execution_count": 30,
     "metadata": {},
     "output_type": "execute_result"
    }
   ],
   "source": [
    "type(data[\"Phone Number\"])"
   ]
  },
  {
   "cell_type": "code",
   "execution_count": null,
   "id": "9fd49b57-aa0e-45bf-be3e-728625af0553",
   "metadata": {},
   "outputs": [],
   "source": []
  },
  {
   "cell_type": "code",
   "execution_count": null,
   "id": "cab72883-c1ed-4f53-b1d8-14dabc21385c",
   "metadata": {},
   "outputs": [],
   "source": []
  },
  {
   "cell_type": "code",
   "execution_count": 31,
   "id": "9f232bdc-ff95-4c6d-a040-68c34518da40",
   "metadata": {},
   "outputs": [],
   "source": [
    "# read files\n",
    "\n",
    "\n"
   ]
  },
  {
   "cell_type": "code",
   "execution_count": null,
   "id": "0f493aec-7ac5-4f77-b45e-ac7b0de442a7",
   "metadata": {},
   "outputs": [],
   "source": [
    "# if you want to read file by the given address"
   ]
  },
  {
   "cell_type": "code",
   "execution_count": 37,
   "id": "b60b446f-2ec6-4aff-870b-f6ba1fd9a4c6",
   "metadata": {},
   "outputs": [],
   "source": [
    "data = pd.read_csv(r\"C:\\Users\\17nru\\OneDrive\\Documents\\mentalhealth_dataset.csv\")"
   ]
  },
  {
   "cell_type": "code",
   "execution_count": 38,
   "id": "592245e9-c83e-4325-9e7d-f56289bc8bc4",
   "metadata": {},
   "outputs": [],
   "source": [
    "\n",
    "data = pd.read_csv(\"C:\\\\Users\\\\17nru\\\\OneDrive\\\\Documents\\\\mentalhealth_dataset.csv\")"
   ]
  },
  {
   "cell_type": "code",
   "execution_count": null,
   "id": "54ca1f52-b5a3-40c7-a63a-e11ecd571c94",
   "metadata": {},
   "outputs": [],
   "source": []
  },
  {
   "cell_type": "code",
   "execution_count": null,
   "id": "bc244cd8-85c6-4fac-bd5a-cb55ed1b78a6",
   "metadata": {},
   "outputs": [],
   "source": [
    "data"
   ]
  },
  {
   "cell_type": "code",
   "execution_count": null,
   "id": "87ad7f29-467f-4a0a-a298-408d3d7fb538",
   "metadata": {},
   "outputs": [],
   "source": []
  },
  {
   "cell_type": "code",
   "execution_count": null,
   "id": "dd8942f0-b113-430f-8686-8f2ef6f13d67",
   "metadata": {},
   "outputs": [],
   "source": [
    "# !pip install kagglehub"
   ]
  },
  {
   "cell_type": "code",
   "execution_count": 39,
   "id": "155460df-644f-4115-ad67-4c8ecc6666fb",
   "metadata": {},
   "outputs": [
    {
     "name": "stdout",
     "output_type": "stream",
     "text": [
      "Downloading from https://www.kaggle.com/api/v1/datasets/download/aravindas01/ipl-2022dataset?dataset_version_number=33...\n"
     ]
    },
    {
     "name": "stderr",
     "output_type": "stream",
     "text": [
      "100%|█████████████████████████████████████████████████████████████████████████████| 3.50k/3.50k [00:00<00:00, 1.79MB/s]"
     ]
    },
    {
     "name": "stdout",
     "output_type": "stream",
     "text": [
      "Extracting files...\n",
      "Path to dataset files: C:\\Users\\17nru\\.cache\\kagglehub\\datasets\\aravindas01\\ipl-2022dataset\\versions\\33\n"
     ]
    },
    {
     "name": "stderr",
     "output_type": "stream",
     "text": [
      "\n"
     ]
    }
   ],
   "source": [
    "import kagglehub\n",
    "\n",
    "# Download latest version\n",
    "path = kagglehub.dataset_download(\"aravindas01/ipl-2022dataset\")\n",
    "\n",
    "print(\"Path to dataset files:\", path)"
   ]
  },
  {
   "cell_type": "code",
   "execution_count": null,
   "id": "eaebdc53-96d0-4856-93b4-9c8ce1680093",
   "metadata": {},
   "outputs": [],
   "source": []
  },
  {
   "cell_type": "code",
   "execution_count": 42,
   "id": "a619dbc7-8315-44f8-914b-d0fcb840f785",
   "metadata": {},
   "outputs": [],
   "source": [
    "data = pd.read_csv(r\"C:\\Users\\17nru\\.cache\\kagglehub\\datasets\\aravindas01\\ipl-2022dataset\\versions\\33\\Book_ipl22_ver_33.csv\")"
   ]
  },
  {
   "cell_type": "code",
   "execution_count": null,
   "id": "54be0b04-7b65-40dd-a2d7-cabb50b0e83b",
   "metadata": {},
   "outputs": [],
   "source": []
  },
  {
   "cell_type": "code",
   "execution_count": 43,
   "id": "7f5061fd-4ead-4cb0-b357-5ba02c7e848d",
   "metadata": {},
   "outputs": [
    {
     "name": "stdout",
     "output_type": "stream",
     "text": [
      "Downloading from https://www.kaggle.com/api/v1/datasets/download/shivavashishtha/2022-ipl-auction-dataset?dataset_version_number=2...\n"
     ]
    },
    {
     "name": "stderr",
     "output_type": "stream",
     "text": [
      "100%|█████████████████████████████████████████████████████████████████████████████| 9.17k/9.17k [00:00<00:00, 4.71MB/s]"
     ]
    },
    {
     "name": "stdout",
     "output_type": "stream",
     "text": [
      "Extracting files...\n",
      "Path to dataset files: C:\\Users\\17nru\\.cache\\kagglehub\\datasets\\shivavashishtha\\2022-ipl-auction-dataset\\versions\\2\n"
     ]
    },
    {
     "name": "stderr",
     "output_type": "stream",
     "text": [
      "\n"
     ]
    }
   ],
   "source": [
    "import kagglehub\n",
    "\n",
    "# Download latest version\n",
    "path = kagglehub.dataset_download(\"shivavashishtha/2022-ipl-auction-dataset\")\n",
    "\n",
    "print(\"Path to dataset files:\", path)"
   ]
  },
  {
   "cell_type": "code",
   "execution_count": null,
   "id": "b30a79b4-5b29-4c88-90e6-208a7ba7aedd",
   "metadata": {},
   "outputs": [],
   "source": []
  },
  {
   "cell_type": "code",
   "execution_count": 44,
   "id": "14e8972c-9cf8-4b94-860c-ac22f7ab6403",
   "metadata": {},
   "outputs": [],
   "source": [
    "import pandas as pd"
   ]
  },
  {
   "cell_type": "code",
   "execution_count": null,
   "id": "77637dfb-40e2-4fe8-8787-bd81c10a1b12",
   "metadata": {},
   "outputs": [],
   "source": []
  },
  {
   "cell_type": "code",
   "execution_count": 45,
   "id": "c7ec9e89-a24c-4dc2-8d00-51c3b2ecb691",
   "metadata": {},
   "outputs": [],
   "source": [
    "data = pd.read_csv(r\"C:\\Users\\17nru\\.cache\\kagglehub\\datasets\\shivavashishtha\\2022-ipl-auction-dataset\\versions\\2\\ipl_2022_dataset.csv\")"
   ]
  },
  {
   "cell_type": "code",
   "execution_count": null,
   "id": "3eaa8c5c-feed-4b5b-bb7e-aff16e2593f0",
   "metadata": {},
   "outputs": [],
   "source": []
  },
  {
   "cell_type": "code",
   "execution_count": 46,
   "id": "a60f7df9-cc49-49a8-a03b-5d7b8ba1384a",
   "metadata": {},
   "outputs": [
    {
     "data": {
      "text/html": [
       "<div>\n",
       "<style scoped>\n",
       "    .dataframe tbody tr th:only-of-type {\n",
       "        vertical-align: middle;\n",
       "    }\n",
       "\n",
       "    .dataframe tbody tr th {\n",
       "        vertical-align: top;\n",
       "    }\n",
       "\n",
       "    .dataframe thead th {\n",
       "        text-align: right;\n",
       "    }\n",
       "</style>\n",
       "<table border=\"1\" class=\"dataframe\">\n",
       "  <thead>\n",
       "    <tr style=\"text-align: right;\">\n",
       "      <th></th>\n",
       "      <th>Unnamed: 0</th>\n",
       "      <th>Player</th>\n",
       "      <th>Base Price</th>\n",
       "      <th>TYPE</th>\n",
       "      <th>COST IN ₹ (CR.)</th>\n",
       "      <th>Cost IN $ (000)</th>\n",
       "      <th>2021 Squad</th>\n",
       "      <th>Team</th>\n",
       "    </tr>\n",
       "  </thead>\n",
       "  <tbody>\n",
       "    <tr>\n",
       "      <th>0</th>\n",
       "      <td>0</td>\n",
       "      <td>Rashid Khan</td>\n",
       "      <td>Draft Pick</td>\n",
       "      <td>BOWLER</td>\n",
       "      <td>15.0</td>\n",
       "      <td>1950.0</td>\n",
       "      <td>SRH</td>\n",
       "      <td>Gujarat Titans</td>\n",
       "    </tr>\n",
       "    <tr>\n",
       "      <th>1</th>\n",
       "      <td>1</td>\n",
       "      <td>Hardik Pandya</td>\n",
       "      <td>Draft Pick</td>\n",
       "      <td>ALL-ROUNDER</td>\n",
       "      <td>15.0</td>\n",
       "      <td>1950.0</td>\n",
       "      <td>MI</td>\n",
       "      <td>Gujarat Titans</td>\n",
       "    </tr>\n",
       "    <tr>\n",
       "      <th>2</th>\n",
       "      <td>2</td>\n",
       "      <td>Lockie Ferguson</td>\n",
       "      <td>2 Cr</td>\n",
       "      <td>BOWLER</td>\n",
       "      <td>10.0</td>\n",
       "      <td>1300.0</td>\n",
       "      <td>KKR</td>\n",
       "      <td>Gujarat Titans</td>\n",
       "    </tr>\n",
       "    <tr>\n",
       "      <th>3</th>\n",
       "      <td>3</td>\n",
       "      <td>Rahul Tewatia</td>\n",
       "      <td>40 Lakh</td>\n",
       "      <td>ALL-ROUNDER</td>\n",
       "      <td>9.0</td>\n",
       "      <td>1170.0</td>\n",
       "      <td>RR</td>\n",
       "      <td>Gujarat Titans</td>\n",
       "    </tr>\n",
       "    <tr>\n",
       "      <th>4</th>\n",
       "      <td>4</td>\n",
       "      <td>Shubman Gill</td>\n",
       "      <td>Draft Pick</td>\n",
       "      <td>BATTER</td>\n",
       "      <td>8.0</td>\n",
       "      <td>1040.0</td>\n",
       "      <td>KKR</td>\n",
       "      <td>Gujarat Titans</td>\n",
       "    </tr>\n",
       "    <tr>\n",
       "      <th>...</th>\n",
       "      <td>...</td>\n",
       "      <td>...</td>\n",
       "      <td>...</td>\n",
       "      <td>...</td>\n",
       "      <td>...</td>\n",
       "      <td>...</td>\n",
       "      <td>...</td>\n",
       "      <td>...</td>\n",
       "    </tr>\n",
       "    <tr>\n",
       "      <th>628</th>\n",
       "      <td>628</td>\n",
       "      <td>Sairaj Patil</td>\n",
       "      <td>20 Lakh</td>\n",
       "      <td>BATTER</td>\n",
       "      <td>NaN</td>\n",
       "      <td>NaN</td>\n",
       "      <td>NaN</td>\n",
       "      <td>Unsold</td>\n",
       "    </tr>\n",
       "    <tr>\n",
       "      <th>629</th>\n",
       "      <td>629</td>\n",
       "      <td>Monu Singh</td>\n",
       "      <td>20 Lakh</td>\n",
       "      <td>BOWLER</td>\n",
       "      <td>NaN</td>\n",
       "      <td>NaN</td>\n",
       "      <td>NaN</td>\n",
       "      <td>Unsold</td>\n",
       "    </tr>\n",
       "    <tr>\n",
       "      <th>630</th>\n",
       "      <td>630</td>\n",
       "      <td>Nivethan Radhakrishnan</td>\n",
       "      <td>20 Lakh</td>\n",
       "      <td>BOWLER</td>\n",
       "      <td>NaN</td>\n",
       "      <td>NaN</td>\n",
       "      <td>NaN</td>\n",
       "      <td>Unsold</td>\n",
       "    </tr>\n",
       "    <tr>\n",
       "      <th>631</th>\n",
       "      <td>631</td>\n",
       "      <td>Lance Morris</td>\n",
       "      <td>20 Lakh</td>\n",
       "      <td>BOWLER</td>\n",
       "      <td>NaN</td>\n",
       "      <td>NaN</td>\n",
       "      <td>NaN</td>\n",
       "      <td>Unsold</td>\n",
       "    </tr>\n",
       "    <tr>\n",
       "      <th>632</th>\n",
       "      <td>632</td>\n",
       "      <td>Aaron Hardie</td>\n",
       "      <td>20 Lakh</td>\n",
       "      <td>ALL-ROUNDER</td>\n",
       "      <td>NaN</td>\n",
       "      <td>NaN</td>\n",
       "      <td>NaN</td>\n",
       "      <td>Unsold</td>\n",
       "    </tr>\n",
       "  </tbody>\n",
       "</table>\n",
       "<p>633 rows × 8 columns</p>\n",
       "</div>"
      ],
      "text/plain": [
       "     Unnamed: 0                  Player  Base Price         TYPE  \\\n",
       "0             0             Rashid Khan  Draft Pick       BOWLER   \n",
       "1             1           Hardik Pandya  Draft Pick  ALL-ROUNDER   \n",
       "2             2         Lockie Ferguson        2 Cr       BOWLER   \n",
       "3             3           Rahul Tewatia     40 Lakh  ALL-ROUNDER   \n",
       "4             4            Shubman Gill  Draft Pick       BATTER   \n",
       "..          ...                     ...         ...          ...   \n",
       "628         628            Sairaj Patil     20 Lakh       BATTER   \n",
       "629         629              Monu Singh     20 Lakh       BOWLER   \n",
       "630         630  Nivethan Radhakrishnan     20 Lakh       BOWLER   \n",
       "631         631            Lance Morris     20 Lakh       BOWLER   \n",
       "632         632            Aaron Hardie     20 Lakh  ALL-ROUNDER   \n",
       "\n",
       "     COST IN ₹ (CR.)  Cost IN $ (000) 2021 Squad            Team  \n",
       "0               15.0           1950.0        SRH  Gujarat Titans  \n",
       "1               15.0           1950.0         MI  Gujarat Titans  \n",
       "2               10.0           1300.0        KKR  Gujarat Titans  \n",
       "3                9.0           1170.0         RR  Gujarat Titans  \n",
       "4                8.0           1040.0        KKR  Gujarat Titans  \n",
       "..               ...              ...        ...             ...  \n",
       "628              NaN              NaN        NaN          Unsold  \n",
       "629              NaN              NaN        NaN          Unsold  \n",
       "630              NaN              NaN        NaN          Unsold  \n",
       "631              NaN              NaN        NaN          Unsold  \n",
       "632              NaN              NaN        NaN          Unsold  \n",
       "\n",
       "[633 rows x 8 columns]"
      ]
     },
     "execution_count": 46,
     "metadata": {},
     "output_type": "execute_result"
    }
   ],
   "source": [
    "data"
   ]
  },
  {
   "cell_type": "code",
   "execution_count": null,
   "id": "9832607e-bffc-4bab-9369-e36677fbab9f",
   "metadata": {},
   "outputs": [],
   "source": []
  },
  {
   "cell_type": "code",
   "execution_count": null,
   "id": "47f6958c-16a8-4f03-b99a-0cb8e0ad589a",
   "metadata": {},
   "outputs": [],
   "source": []
  },
  {
   "cell_type": "code",
   "execution_count": null,
   "id": "3e5089c2-5f4f-4f2c-955f-913399f3a907",
   "metadata": {},
   "outputs": [],
   "source": [
    "Pandas ---->\n",
    "    1) Data Analysis\n",
    "    2) Data Modification\n",
    "    3) Data Cleaning"
   ]
  },
  {
   "cell_type": "code",
   "execution_count": null,
   "id": "2abaad28-bd12-4cfe-a2a9-fc894201711c",
   "metadata": {},
   "outputs": [],
   "source": []
  },
  {
   "cell_type": "code",
   "execution_count": null,
   "id": "613fde67-a893-4288-89bf-d6d9b9d0ebfb",
   "metadata": {},
   "outputs": [],
   "source": [
    "data -----> algo -----> model"
   ]
  },
  {
   "cell_type": "code",
   "execution_count": null,
   "id": "e846a852-456c-4536-b32c-fc78c4f3184a",
   "metadata": {},
   "outputs": [],
   "source": []
  },
  {
   "cell_type": "code",
   "execution_count": 48,
   "id": "5ccfde5d-fdae-4496-ad43-219991fcacb4",
   "metadata": {},
   "outputs": [
    {
     "data": {
      "text/plain": [
       "(633, 8)"
      ]
     },
     "execution_count": 48,
     "metadata": {},
     "output_type": "execute_result"
    }
   ],
   "source": [
    "data.shape"
   ]
  },
  {
   "cell_type": "code",
   "execution_count": null,
   "id": "10645a34-821f-4009-958d-39d4c7883a25",
   "metadata": {},
   "outputs": [],
   "source": []
  },
  {
   "cell_type": "code",
   "execution_count": null,
   "id": "a6380c50-106c-46fa-bf0e-7259bb2033fa",
   "metadata": {},
   "outputs": [],
   "source": []
  }
 ],
 "metadata": {
  "kernelspec": {
   "display_name": "Python 3 (ipykernel)",
   "language": "python",
   "name": "python3"
  },
  "language_info": {
   "codemirror_mode": {
    "name": "ipython",
    "version": 3
   },
   "file_extension": ".py",
   "mimetype": "text/x-python",
   "name": "python",
   "nbconvert_exporter": "python",
   "pygments_lexer": "ipython3",
   "version": "3.12.3"
  }
 },
 "nbformat": 4,
 "nbformat_minor": 5
}
