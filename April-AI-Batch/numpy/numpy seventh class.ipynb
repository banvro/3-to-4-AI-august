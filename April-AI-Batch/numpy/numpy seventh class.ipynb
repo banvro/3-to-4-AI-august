{
 "cells": [
  {
   "cell_type": "code",
   "execution_count": 1,
   "id": "023ddf3e-c0ff-414f-926d-5b341ec5a35a",
   "metadata": {},
   "outputs": [],
   "source": [
    "import numpy as np"
   ]
  },
  {
   "cell_type": "code",
   "execution_count": 2,
   "id": "b6d9c924-fe66-455d-90e6-97a0561423d4",
   "metadata": {},
   "outputs": [],
   "source": [
    "zx = np.array([23, 45, 67, 34, 23, 45, 23, 12, 45, 67])"
   ]
  },
  {
   "cell_type": "code",
   "execution_count": 3,
   "id": "851b142d-048d-442b-bd26-8edcaed7c505",
   "metadata": {},
   "outputs": [
    {
     "data": {
      "text/plain": [
       "array([23, 45, 67, 34, 23, 45, 23, 12, 45, 67])"
      ]
     },
     "execution_count": 3,
     "metadata": {},
     "output_type": "execute_result"
    }
   ],
   "source": [
    "zx"
   ]
  },
  {
   "cell_type": "code",
   "execution_count": 4,
   "id": "06305664-94d0-43dd-8f6e-51ed316285bd",
   "metadata": {},
   "outputs": [],
   "source": [
    "pq = zx.max()"
   ]
  },
  {
   "cell_type": "code",
   "execution_count": 5,
   "id": "bc307634-6055-4f4e-a431-357a79a95633",
   "metadata": {},
   "outputs": [
    {
     "data": {
      "text/plain": [
       "67"
      ]
     },
     "execution_count": 5,
     "metadata": {},
     "output_type": "execute_result"
    }
   ],
   "source": [
    "pq"
   ]
  },
  {
   "cell_type": "code",
   "execution_count": 6,
   "id": "d6715737-572c-4a05-8d96-389d7b1d065e",
   "metadata": {},
   "outputs": [
    {
     "data": {
      "text/plain": [
       "(array([2, 9], dtype=int64),)"
      ]
     },
     "execution_count": 6,
     "metadata": {},
     "output_type": "execute_result"
    }
   ],
   "source": [
    "np.where(zx == pq)"
   ]
  },
  {
   "cell_type": "code",
   "execution_count": null,
   "id": "61cd4844-1ce0-4b82-a368-609ba4241f01",
   "metadata": {},
   "outputs": [],
   "source": []
  },
  {
   "cell_type": "code",
   "execution_count": null,
   "id": "9629daaf-7ba7-4cf0-a1b4-0b02943b8358",
   "metadata": {},
   "outputs": [],
   "source": []
  },
  {
   "cell_type": "code",
   "execution_count": 7,
   "id": "df7ec0f1-3a41-4e3b-85e4-1842f8382cda",
   "metadata": {},
   "outputs": [],
   "source": [
    "zx = np.array([23, 45, 67, 34, 23, 45, 23, 12, 45, 67])"
   ]
  },
  {
   "cell_type": "code",
   "execution_count": 9,
   "id": "922ec822-d314-464e-bb55-8710ede6f369",
   "metadata": {},
   "outputs": [
    {
     "data": {
      "text/plain": [
       "(array([2, 9], dtype=int64),)"
      ]
     },
     "execution_count": 9,
     "metadata": {},
     "output_type": "execute_result"
    }
   ],
   "source": [
    "np.where(zx == zx.max())"
   ]
  },
  {
   "cell_type": "code",
   "execution_count": null,
   "id": "6596a9bf-eb7c-4d76-a6cc-929842c3c743",
   "metadata": {},
   "outputs": [],
   "source": []
  },
  {
   "cell_type": "code",
   "execution_count": 10,
   "id": "dbbfaef8-2e0e-4b5c-89e4-e1bd94aed8bc",
   "metadata": {},
   "outputs": [],
   "source": [
    "# Occurence of ements:"
   ]
  },
  {
   "cell_type": "code",
   "execution_count": 11,
   "id": "28866425-938d-4d37-819b-256fa5375bd2",
   "metadata": {},
   "outputs": [],
   "source": [
    "xyz = np.array([\"car\", \"dog\", \"car\", \"bus\", \"car\"])"
   ]
  },
  {
   "cell_type": "code",
   "execution_count": 13,
   "id": "03899e87-2eda-4929-9e26-cb7d7091b4c7",
   "metadata": {},
   "outputs": [
    {
     "data": {
      "text/plain": [
       "array(['bus', 'car', 'dog'], dtype='<U3')"
      ]
     },
     "execution_count": 13,
     "metadata": {},
     "output_type": "execute_result"
    }
   ],
   "source": [
    "pq = np.unique(xyz)\n",
    "pq"
   ]
  },
  {
   "cell_type": "code",
   "execution_count": 17,
   "id": "9319330d-abbd-40a1-bd26-26e7715b505f",
   "metadata": {},
   "outputs": [
    {
     "name": "stdout",
     "output_type": "stream",
     "text": [
      "bus 1\n",
      "car 3\n",
      "dog 1\n"
     ]
    }
   ],
   "source": [
    "for i in pq:\n",
    "    zx = 0\n",
    "    for j in xyz:\n",
    "        if i == j:\n",
    "            zx = zx + 1\n",
    "    print(i, zx)\n",
    "    zx = 0\n",
    "    "
   ]
  },
  {
   "cell_type": "code",
   "execution_count": null,
   "id": "f767b659-148d-404b-837f-2866e8a1476d",
   "metadata": {},
   "outputs": [],
   "source": []
  },
  {
   "cell_type": "code",
   "execution_count": null,
   "id": "14d6d181-51da-4c9d-a923-b91aea9f5c7d",
   "metadata": {},
   "outputs": [],
   "source": []
  },
  {
   "cell_type": "code",
   "execution_count": null,
   "id": "043eb005-2aa2-4c60-881d-7acd24099d2d",
   "metadata": {},
   "outputs": [],
   "source": []
  },
  {
   "cell_type": "code",
   "execution_count": 21,
   "id": "03e5cafa-5b7a-4ff1-8661-c8beffff26ae",
   "metadata": {},
   "outputs": [],
   "source": [
    "mtx = np.arange(1, 37)"
   ]
  },
  {
   "cell_type": "code",
   "execution_count": 27,
   "id": "39e5b653-171c-406d-8b15-fafaa37e9f7f",
   "metadata": {},
   "outputs": [],
   "source": [
    "mtx = np.array([ 1,  2,  3,  4,  5,  55,  7,  8,  9, 10, 11, 12, 13, 33, 15, 16, 17,\n",
    "       18, 33, 20, 21, 33, 23, 24, 25, 55, 27, 28, 29, 30, 31, 32, 33, 34,\n",
    "       35, 36])"
   ]
  },
  {
   "cell_type": "code",
   "execution_count": 49,
   "id": "5d4afe30-549c-4a75-8c8e-8bdb22900f75",
   "metadata": {},
   "outputs": [],
   "source": [
    "new_mtrx = np.reshape(mtx, (6, 6))"
   ]
  },
  {
   "cell_type": "code",
   "execution_count": 29,
   "id": "7aee587d-0d7f-477b-b53c-eb703f237c1a",
   "metadata": {},
   "outputs": [
    {
     "data": {
      "text/plain": [
       "array([[ 1,  2,  3,  4,  5, 55],\n",
       "       [ 7,  8,  9, 10, 11, 12],\n",
       "       [13, 33, 15, 16, 17, 18],\n",
       "       [33, 20, 21, 33, 23, 24],\n",
       "       [25, 55, 27, 28, 29, 30],\n",
       "       [31, 32, 33, 34, 35, 36]])"
      ]
     },
     "execution_count": 29,
     "metadata": {},
     "output_type": "execute_result"
    }
   ],
   "source": [
    "new_mtrx"
   ]
  },
  {
   "cell_type": "code",
   "execution_count": null,
   "id": "f26c129d-8168-4d64-a1da-b2a8175950a0",
   "metadata": {},
   "outputs": [],
   "source": []
  },
  {
   "cell_type": "code",
   "execution_count": 139,
   "id": "b5ff8cab-f33b-42e3-8bef-1492256d095d",
   "metadata": {},
   "outputs": [
    {
     "name": "stdout",
     "output_type": "stream",
     "text": [
      "(array([5], dtype=int64),)\n"
     ]
    },
    {
     "ename": "TypeError",
     "evalue": "list indices must be integers or slices, not tuple",
     "output_type": "error",
     "traceback": [
      "\u001b[1;31m---------------------------------------------------------------------------\u001b[0m",
      "\u001b[1;31mTypeError\u001b[0m                                 Traceback (most recent call last)",
      "Cell \u001b[1;32mIn[139], line 6\u001b[0m\n\u001b[0;32m      4\u001b[0m \u001b[38;5;28mprint\u001b[39m(index_of_ma_element)\n\u001b[0;32m      5\u001b[0m i \u001b[38;5;241m=\u001b[39m \u001b[38;5;28mlist\u001b[39m(i)\n\u001b[1;32m----> 6\u001b[0m \u001b[43mi\u001b[49m\u001b[43m[\u001b[49m\u001b[43mindex_of_ma_element\u001b[49m\u001b[43m]\u001b[49m \u001b[38;5;241m=\u001b[39m \u001b[38;5;124m\"\u001b[39m\u001b[38;5;124mMAX\u001b[39m\u001b[38;5;124m\"\u001b[39m\n",
      "\u001b[1;31mTypeError\u001b[0m: list indices must be integers or slices, not tuple"
     ]
    }
   ],
   "source": [
    "for i in new_mtrx:\n",
    "    zx = np.max(i)\n",
    "    index_of_ma_element = np.where(i == zx)\n",
    "    print(index_of_ma_element)\n",
    "    i = list(i)\n",
    "    i[index_of_ma_element] = \"MAX\""
   ]
  },
  {
   "cell_type": "code",
   "execution_count": null,
   "id": "2b6e82eb-42c6-4bbe-acab-491f81172689",
   "metadata": {},
   "outputs": [],
   "source": []
  },
  {
   "cell_type": "code",
   "execution_count": null,
   "id": "6cbb3966-4133-488a-adb7-5ffbb5b6bd51",
   "metadata": {},
   "outputs": [],
   "source": []
  },
  {
   "cell_type": "code",
   "execution_count": 44,
   "id": "025ef54e-2579-4ee3-9219-50e9d7d74859",
   "metadata": {},
   "outputs": [],
   "source": [
    "zx = np.array([\"23\", \"45\", \"67\"])"
   ]
  },
  {
   "cell_type": "code",
   "execution_count": 45,
   "id": "563f57f8-981e-448e-af4f-cc9897ca3524",
   "metadata": {},
   "outputs": [],
   "source": [
    "zx[1] = \"sdf\"\n"
   ]
  },
  {
   "cell_type": "code",
   "execution_count": 46,
   "id": "a1c5e89b-bc8f-4b8f-b065-3e3931862c72",
   "metadata": {},
   "outputs": [
    {
     "data": {
      "text/plain": [
       "array(['23', 'sd', '67'], dtype='<U2')"
      ]
     },
     "execution_count": 46,
     "metadata": {},
     "output_type": "execute_result"
    }
   ],
   "source": [
    "zx"
   ]
  },
  {
   "cell_type": "code",
   "execution_count": null,
   "id": "342388ad-fe1f-4e54-85f8-8f71dbdff9f3",
   "metadata": {},
   "outputs": [],
   "source": []
  },
  {
   "cell_type": "code",
   "execution_count": null,
   "id": "10bd6137-bf04-4f54-a325-4ab643e9f064",
   "metadata": {},
   "outputs": [],
   "source": []
  },
  {
   "cell_type": "markdown",
   "id": "11de208f-c2c4-4c3a-ace1-6782388a4288",
   "metadata": {},
   "source": [
    "## Numpy Random"
   ]
  },
  {
   "cell_type": "code",
   "execution_count": 51,
   "id": "74e4cf8a-e028-4502-baf0-343910dd5741",
   "metadata": {},
   "outputs": [],
   "source": [
    "# import random"
   ]
  },
  {
   "cell_type": "code",
   "execution_count": 52,
   "id": "b7429ebc-ac32-4049-91df-26c63ee85296",
   "metadata": {},
   "outputs": [],
   "source": [
    "from numpy import random"
   ]
  },
  {
   "cell_type": "code",
   "execution_count": null,
   "id": "e71a3f3f-9f6b-4d96-90b0-31664a473f8c",
   "metadata": {},
   "outputs": [],
   "source": []
  },
  {
   "cell_type": "code",
   "execution_count": 53,
   "id": "9c633245-49ce-4180-b8fb-8fdaccbb87a0",
   "metadata": {},
   "outputs": [],
   "source": [
    "# if we have to genate a random number...."
   ]
  },
  {
   "cell_type": "code",
   "execution_count": 73,
   "id": "16449d24-4a0e-4951-b53f-1a2cf61148fe",
   "metadata": {},
   "outputs": [],
   "source": [
    "value = random.randint(3, 11)"
   ]
  },
  {
   "cell_type": "code",
   "execution_count": 74,
   "id": "7f348419-3821-411c-8e2b-e6aff5edff6f",
   "metadata": {},
   "outputs": [
    {
     "data": {
      "text/plain": [
       "3"
      ]
     },
     "execution_count": 74,
     "metadata": {},
     "output_type": "execute_result"
    }
   ],
   "source": [
    "value"
   ]
  },
  {
   "cell_type": "code",
   "execution_count": null,
   "id": "6aa6b12c-dcc9-4b1f-a42a-aab143230127",
   "metadata": {},
   "outputs": [],
   "source": []
  },
  {
   "cell_type": "code",
   "execution_count": 75,
   "id": "9b481531-ee47-45dd-b0f2-a9b11b1d08a2",
   "metadata": {},
   "outputs": [],
   "source": [
    "# ndarray genaraition....."
   ]
  },
  {
   "cell_type": "code",
   "execution_count": null,
   "id": "5ae510c0-d82d-4c13-9302-cf8f627a7b48",
   "metadata": {},
   "outputs": [],
   "source": []
  },
  {
   "cell_type": "code",
   "execution_count": 78,
   "id": "a412f8b1-a9e9-425b-868a-a1900f06a07e",
   "metadata": {},
   "outputs": [],
   "source": [
    "arr = random.randint(5, 50, size = (10))"
   ]
  },
  {
   "cell_type": "code",
   "execution_count": 79,
   "id": "6ba1b123-0adc-4265-90b9-68ec70577731",
   "metadata": {},
   "outputs": [
    {
     "data": {
      "text/plain": [
       "array([35, 27, 30, 38, 21, 16, 30, 22, 33, 35])"
      ]
     },
     "execution_count": 79,
     "metadata": {},
     "output_type": "execute_result"
    }
   ],
   "source": [
    "arr"
   ]
  },
  {
   "cell_type": "code",
   "execution_count": null,
   "id": "ed8f0f08-0f70-471a-9011-cacb4c0502f4",
   "metadata": {},
   "outputs": [],
   "source": []
  },
  {
   "cell_type": "code",
   "execution_count": 80,
   "id": "cd6306b9-60bb-49c8-a593-bbd9e99b68e9",
   "metadata": {},
   "outputs": [
    {
     "data": {
      "text/plain": [
       "array([[ 6, 27, 48, 24, 20, 44],\n",
       "       [27, 17, 18, 15, 19, 45],\n",
       "       [28, 40,  9, 38, 10,  7],\n",
       "       [ 9, 23, 44, 47,  5, 21],\n",
       "       [35, 29, 16,  8, 49, 14]])"
      ]
     },
     "execution_count": 80,
     "metadata": {},
     "output_type": "execute_result"
    }
   ],
   "source": [
    "arr = random.randint(5, 50, size = (5, 6))\n",
    "arr"
   ]
  },
  {
   "cell_type": "code",
   "execution_count": null,
   "id": "be79662e-2ea2-48bb-9564-2d20e8df5b36",
   "metadata": {},
   "outputs": [],
   "source": []
  },
  {
   "cell_type": "code",
   "execution_count": null,
   "id": "f7ccf76c-65e9-4166-83aa-4b3fa5773634",
   "metadata": {},
   "outputs": [],
   "source": []
  },
  {
   "cell_type": "code",
   "execution_count": null,
   "id": "2fa3ab7f-5667-47de-84c5-895b9bc33e91",
   "metadata": {},
   "outputs": [],
   "source": [
    "# rand() ---> 0, 1"
   ]
  },
  {
   "cell_type": "code",
   "execution_count": null,
   "id": "0dc32c49-83f3-4756-81f0-667835d612c4",
   "metadata": {},
   "outputs": [],
   "source": []
  },
  {
   "cell_type": "code",
   "execution_count": 89,
   "id": "d93c9260-9175-4686-9949-11ed9dcc9311",
   "metadata": {},
   "outputs": [],
   "source": [
    "xyz = random.rand()"
   ]
  },
  {
   "cell_type": "code",
   "execution_count": 90,
   "id": "99a570a3-add2-4ae6-8600-a13e5f957994",
   "metadata": {},
   "outputs": [
    {
     "data": {
      "text/plain": [
       "0.9331777126143993"
      ]
     },
     "execution_count": 90,
     "metadata": {},
     "output_type": "execute_result"
    }
   ],
   "source": [
    "xyz"
   ]
  },
  {
   "cell_type": "code",
   "execution_count": null,
   "id": "ab2a8321-c731-4058-ab40-29ad971a4b1a",
   "metadata": {},
   "outputs": [],
   "source": []
  },
  {
   "cell_type": "code",
   "execution_count": null,
   "id": "f350053a-2a09-46e1-936d-1cf8237c10b0",
   "metadata": {},
   "outputs": [],
   "source": []
  },
  {
   "cell_type": "code",
   "execution_count": 97,
   "id": "6ff2560c-13ee-4adf-85bc-edb269d7fd2c",
   "metadata": {},
   "outputs": [],
   "source": [
    "xyz = random.rand(3, 4)"
   ]
  },
  {
   "cell_type": "code",
   "execution_count": 98,
   "id": "6d9cb621-8978-4c67-9572-d2944f564d3c",
   "metadata": {},
   "outputs": [
    {
     "data": {
      "text/plain": [
       "array([[0.02241224, 0.51022365, 0.69534746, 0.41105744],\n",
       "       [0.07108286, 0.80228668, 0.82545206, 0.15223227],\n",
       "       [0.72897919, 0.09924921, 0.9446679 , 0.91702769]])"
      ]
     },
     "execution_count": 98,
     "metadata": {},
     "output_type": "execute_result"
    }
   ],
   "source": [
    "xyz"
   ]
  },
  {
   "cell_type": "code",
   "execution_count": null,
   "id": "865c1808-bbdc-46c1-8608-8eb898dec5a6",
   "metadata": {},
   "outputs": [],
   "source": []
  },
  {
   "cell_type": "code",
   "execution_count": null,
   "id": "7d027338-1572-4e38-9642-08aa3776750c",
   "metadata": {},
   "outputs": [],
   "source": []
  },
  {
   "cell_type": "markdown",
   "id": "859cfe92-1968-4057-b5d0-7c738de8c470",
   "metadata": {},
   "source": [
    "## choice()"
   ]
  },
  {
   "cell_type": "code",
   "execution_count": 106,
   "id": "e5fcdb39-bb65-4888-9a21-6f4d297a7f8d",
   "metadata": {},
   "outputs": [
    {
     "data": {
      "text/plain": [
       "12"
      ]
     },
     "execution_count": 106,
     "metadata": {},
     "output_type": "execute_result"
    }
   ],
   "source": [
    "random.choice([12, 34, 56, 34, 67, 23])"
   ]
  },
  {
   "cell_type": "code",
   "execution_count": null,
   "id": "045abfe4-7e47-43ef-8592-4d4ba8ab23bc",
   "metadata": {},
   "outputs": [],
   "source": []
  },
  {
   "cell_type": "code",
   "execution_count": 108,
   "id": "f452b6ec-2761-4371-837e-210b61c24f29",
   "metadata": {},
   "outputs": [
    {
     "data": {
      "text/plain": [
       "array([[34, 34, 34, 56],\n",
       "       [34, 34, 34, 34],\n",
       "       [67, 56, 56, 23]])"
      ]
     },
     "execution_count": 108,
     "metadata": {},
     "output_type": "execute_result"
    }
   ],
   "source": [
    "random.choice([12, 34, 56, 34, 67, 23], size = (3, 4))"
   ]
  },
  {
   "cell_type": "code",
   "execution_count": null,
   "id": "c3677e94-0005-47f8-921a-954a548d9cb1",
   "metadata": {},
   "outputs": [],
   "source": []
  },
  {
   "cell_type": "code",
   "execution_count": 109,
   "id": "e261127f-5a21-437f-8d5f-18eb581e00ff",
   "metadata": {},
   "outputs": [],
   "source": [
    "# shuffle()"
   ]
  },
  {
   "cell_type": "code",
   "execution_count": 119,
   "id": "93bcd65e-5781-4a0d-8979-55ec67e4c869",
   "metadata": {},
   "outputs": [],
   "source": [
    "zx = np.array([1, 2, 3, 4, 5, 6, 7])"
   ]
  },
  {
   "cell_type": "code",
   "execution_count": 120,
   "id": "858a3d5a-e458-49a4-93b0-4aab1c68915a",
   "metadata": {},
   "outputs": [],
   "source": [
    "random.shuffle(zx)"
   ]
  },
  {
   "cell_type": "code",
   "execution_count": 121,
   "id": "7f4f0b3a-3621-41f5-aa0f-461a4aaeb864",
   "metadata": {},
   "outputs": [
    {
     "data": {
      "text/plain": [
       "array([3, 2, 7, 4, 1, 5, 6])"
      ]
     },
     "execution_count": 121,
     "metadata": {},
     "output_type": "execute_result"
    }
   ],
   "source": [
    "zx"
   ]
  },
  {
   "cell_type": "code",
   "execution_count": null,
   "id": "49e4fab0-bfd6-4411-bfb4-f1d8e6ca8d14",
   "metadata": {},
   "outputs": [],
   "source": []
  },
  {
   "cell_type": "code",
   "execution_count": 126,
   "id": "2dcff823-fd2a-4cc5-a174-e7d5012d36bb",
   "metadata": {},
   "outputs": [
    {
     "data": {
      "text/plain": [
       "0.4415035470853116"
      ]
     },
     "execution_count": 126,
     "metadata": {},
     "output_type": "execute_result"
    }
   ],
   "source": [
    "random.random()"
   ]
  },
  {
   "cell_type": "code",
   "execution_count": null,
   "id": "a21d5168-1d68-412e-9735-91a9e717d241",
   "metadata": {},
   "outputs": [],
   "source": []
  },
  {
   "cell_type": "code",
   "execution_count": 127,
   "id": "ceb6fd5f-a3dc-4e5b-bd17-21def788f15e",
   "metadata": {},
   "outputs": [
    {
     "name": "stdout",
     "output_type": "stream",
     "text": [
      "Help on built-in function uniform:\n",
      "\n",
      "uniform(...) method of numpy.random.mtrand.RandomState instance\n",
      "    uniform(low=0.0, high=1.0, size=None)\n",
      "\n",
      "    Draw samples from a uniform distribution.\n",
      "\n",
      "    Samples are uniformly distributed over the half-open interval\n",
      "    ``[low, high)`` (includes low, but excludes high).  In other words,\n",
      "    any value within the given interval is equally likely to be drawn\n",
      "    by `uniform`.\n",
      "\n",
      "    .. note::\n",
      "        New code should use the `~numpy.random.Generator.uniform`\n",
      "        method of a `~numpy.random.Generator` instance instead;\n",
      "        please see the :ref:`random-quick-start`.\n",
      "\n",
      "    Parameters\n",
      "    ----------\n",
      "    low : float or array_like of floats, optional\n",
      "        Lower boundary of the output interval.  All values generated will be\n",
      "        greater than or equal to low.  The default value is 0.\n",
      "    high : float or array_like of floats\n",
      "        Upper boundary of the output interval.  All values generated will be\n",
      "        less than or equal to high.  The high limit may be included in the\n",
      "        returned array of floats due to floating-point rounding in the\n",
      "        equation ``low + (high-low) * random_sample()``.  The default value\n",
      "        is 1.0.\n",
      "    size : int or tuple of ints, optional\n",
      "        Output shape.  If the given shape is, e.g., ``(m, n, k)``, then\n",
      "        ``m * n * k`` samples are drawn.  If size is ``None`` (default),\n",
      "        a single value is returned if ``low`` and ``high`` are both scalars.\n",
      "        Otherwise, ``np.broadcast(low, high).size`` samples are drawn.\n",
      "\n",
      "    Returns\n",
      "    -------\n",
      "    out : ndarray or scalar\n",
      "        Drawn samples from the parameterized uniform distribution.\n",
      "\n",
      "    See Also\n",
      "    --------\n",
      "    randint : Discrete uniform distribution, yielding integers.\n",
      "    random_integers : Discrete uniform distribution over the closed\n",
      "                      interval ``[low, high]``.\n",
      "    random_sample : Floats uniformly distributed over ``[0, 1)``.\n",
      "    random : Alias for `random_sample`.\n",
      "    rand : Convenience function that accepts dimensions as input, e.g.,\n",
      "           ``rand(2,2)`` would generate a 2-by-2 array of floats,\n",
      "           uniformly distributed over ``[0, 1)``.\n",
      "    random.Generator.uniform: which should be used for new code.\n",
      "\n",
      "    Notes\n",
      "    -----\n",
      "    The probability density function of the uniform distribution is\n",
      "\n",
      "    .. math:: p(x) = \\frac{1}{b - a}\n",
      "\n",
      "    anywhere within the interval ``[a, b)``, and zero elsewhere.\n",
      "\n",
      "    When ``high`` == ``low``, values of ``low`` will be returned.\n",
      "    If ``high`` < ``low``, the results are officially undefined\n",
      "    and may eventually raise an error, i.e. do not rely on this\n",
      "    function to behave when passed arguments satisfying that\n",
      "    inequality condition. The ``high`` limit may be included in the\n",
      "    returned array of floats due to floating-point rounding in the\n",
      "    equation ``low + (high-low) * random_sample()``. For example:\n",
      "\n",
      "    >>> x = np.float32(5*0.99999999)\n",
      "    >>> x\n",
      "    5.0\n",
      "\n",
      "\n",
      "    Examples\n",
      "    --------\n",
      "    Draw samples from the distribution:\n",
      "\n",
      "    >>> s = np.random.uniform(-1,0,1000)\n",
      "\n",
      "    All values are within the given interval:\n",
      "\n",
      "    >>> np.all(s >= -1)\n",
      "    True\n",
      "    >>> np.all(s < 0)\n",
      "    True\n",
      "\n",
      "    Display the histogram of the samples, along with the\n",
      "    probability density function:\n",
      "\n",
      "    >>> import matplotlib.pyplot as plt\n",
      "    >>> count, bins, ignored = plt.hist(s, 15, density=True)\n",
      "    >>> plt.plot(bins, np.ones_like(bins), linewidth=2, color='r')\n",
      "    >>> plt.show()\n",
      "\n"
     ]
    }
   ],
   "source": [
    "help(random.uniform)"
   ]
  },
  {
   "cell_type": "code",
   "execution_count": null,
   "id": "0a1f4633-f6a8-43bb-acf2-88c2731b3610",
   "metadata": {},
   "outputs": [],
   "source": []
  },
  {
   "cell_type": "code",
   "execution_count": 131,
   "id": "14159fe9-544c-4978-801e-5a7ea94d9f8a",
   "metadata": {},
   "outputs": [
    {
     "data": {
      "text/plain": [
       "0.649252981612421"
      ]
     },
     "execution_count": 131,
     "metadata": {},
     "output_type": "execute_result"
    }
   ],
   "source": [
    "random.random_sample()"
   ]
  },
  {
   "cell_type": "code",
   "execution_count": null,
   "id": "f1f6131b-6507-4d2f-aa05-ba0ff83067d6",
   "metadata": {},
   "outputs": [],
   "source": []
  },
  {
   "cell_type": "code",
   "execution_count": null,
   "id": "ae242ffd-a34a-4f04-ad0a-c846062e8268",
   "metadata": {},
   "outputs": [],
   "source": []
  },
  {
   "cell_type": "code",
   "execution_count": 134,
   "id": "bc3040d8-3e45-4d01-9062-8417b7eb9fd8",
   "metadata": {},
   "outputs": [],
   "source": [
    "zx = np.array([12, 45, 67, 43])"
   ]
  },
  {
   "cell_type": "code",
   "execution_count": 135,
   "id": "ae6c1d20-26b1-4b5f-93a8-cc12ef5e8ede",
   "metadata": {},
   "outputs": [
    {
     "data": {
      "text/plain": [
       "67"
      ]
     },
     "execution_count": 135,
     "metadata": {},
     "output_type": "execute_result"
    }
   ],
   "source": [
    "zx.max()"
   ]
  },
  {
   "cell_type": "code",
   "execution_count": 136,
   "id": "15185009-e840-4440-9cd8-4a6d3e6f05df",
   "metadata": {},
   "outputs": [
    {
     "name": "stdout",
     "output_type": "stream",
     "text": [
      "<class 'list'>\n"
     ]
    }
   ],
   "source": [
    "print(type(list(zx)))"
   ]
  },
  {
   "cell_type": "code",
   "execution_count": 138,
   "id": "7bf98f33-3f52-4c23-a3c4-675e29bf6130",
   "metadata": {},
   "outputs": [
    {
     "data": {
      "text/plain": [
       "[12, 45, 67, 43]"
      ]
     },
     "execution_count": 138,
     "metadata": {},
     "output_type": "execute_result"
    }
   ],
   "source": [
    "list(zx)\n"
   ]
  },
  {
   "cell_type": "code",
   "execution_count": null,
   "id": "82b8ebbf-a204-48f7-a14c-85df0336d874",
   "metadata": {},
   "outputs": [],
   "source": []
  },
  {
   "cell_type": "code",
   "execution_count": 141,
   "id": "fd8f69a7-ea2f-4963-93a1-cc4312035219",
   "metadata": {},
   "outputs": [],
   "source": [
    "zx = np.array([[34, 56, 7, 45], [34, 5, 34, 23]])"
   ]
  },
  {
   "cell_type": "code",
   "execution_count": 142,
   "id": "ef4f741a-0ce2-460d-8ce4-2c0ce8036c38",
   "metadata": {},
   "outputs": [
    {
     "data": {
      "text/plain": [
       "array([[34, 56,  7, 45],\n",
       "       [34,  5, 34, 23]])"
      ]
     },
     "execution_count": 142,
     "metadata": {},
     "output_type": "execute_result"
    }
   ],
   "source": [
    "zx"
   ]
  },
  {
   "cell_type": "code",
   "execution_count": 143,
   "id": "a7a74138-c928-4ec3-93f7-3dba8a0d247c",
   "metadata": {},
   "outputs": [
    {
     "data": {
      "text/plain": [
       "array([34, 56,  7, 45, 34,  5, 34, 23])"
      ]
     },
     "execution_count": 143,
     "metadata": {},
     "output_type": "execute_result"
    }
   ],
   "source": [
    "zx.flatten()"
   ]
  },
  {
   "cell_type": "code",
   "execution_count": null,
   "id": "36b832bf-f41c-474f-81c9-9acca97c703f",
   "metadata": {},
   "outputs": [],
   "source": []
  }
 ],
 "metadata": {
  "kernelspec": {
   "display_name": "Python 3 (ipykernel)",
   "language": "python",
   "name": "python3"
  },
  "language_info": {
   "codemirror_mode": {
    "name": "ipython",
    "version": 3
   },
   "file_extension": ".py",
   "mimetype": "text/x-python",
   "name": "python",
   "nbconvert_exporter": "python",
   "pygments_lexer": "ipython3",
   "version": "3.12.2"
  }
 },
 "nbformat": 4,
 "nbformat_minor": 5
}
