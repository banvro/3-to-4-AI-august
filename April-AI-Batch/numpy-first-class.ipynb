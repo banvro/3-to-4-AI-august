{
 "cells": [
  {
   "cell_type": "code",
   "execution_count": null,
   "id": "2621112e-491e-4638-820d-c05484dff8ef",
   "metadata": {},
   "outputs": [],
   "source": []
  },
  {
   "cell_type": "markdown",
   "id": "01a622bf-3804-48f2-ad11-ea6802f62f4c",
   "metadata": {},
   "source": [
    "## Numpy : "
   ]
  },
  {
   "cell_type": "code",
   "execution_count": null,
   "id": "4aff2c56-ac1c-40f8-8316-54d89e82dc90",
   "metadata": {},
   "outputs": [],
   "source": [
    "Numpy -> Numarical Python\n",
    "\n",
    "python -> 1991\n",
    "\n",
    "Numpy --> 2005\n",
    "Author of Numpy ---> Travis Oliphant"
   ]
  },
  {
   "cell_type": "code",
   "execution_count": null,
   "id": "ba334d68-3983-4416-9d0d-0b303d8c935e",
   "metadata": {},
   "outputs": [],
   "source": []
  },
  {
   "cell_type": "code",
   "execution_count": 3,
   "id": "8b3b216a-0410-4621-97f3-d655fcc6b865",
   "metadata": {},
   "outputs": [],
   "source": [
    "Array ---> array is the collection of homogeneous (same) data in continuing memory location..\n",
    "\n",
    "List -> collection of heterogeneous (different) data of data...\n",
    "\n"
   ]
  },
  {
   "cell_type": "code",
   "execution_count": null,
   "id": "bc506d33-0895-48ed-9ffd-4c582a5f3cf3",
   "metadata": {},
   "outputs": [],
   "source": [
    "lst = [10, 34, \"hlo\", True, 100, \"hey\"]"
   ]
  },
  {
   "cell_type": "code",
   "execution_count": null,
   "id": "b89491e4-cecd-4667-89be-3af2f34f4286",
   "metadata": {},
   "outputs": [],
   "source": []
  },
  {
   "cell_type": "code",
   "execution_count": null,
   "id": "e2498106-2eef-4262-9c3f-cd2cf44cefeb",
   "metadata": {},
   "outputs": [],
   "source": [
    "List = [12, 56, 34, 23, 12, 100]"
   ]
  },
  {
   "cell_type": "code",
   "execution_count": 5,
   "id": "35e496b7-8023-4fec-8b5c-d0e346c9bbb3",
   "metadata": {},
   "outputs": [],
   "source": [
    "Numpy : \n",
    "\n",
    "70% -> python\n",
    "30% -> C/C#\n",
    "\n",
    "50x times faster then list"
   ]
  },
  {
   "cell_type": "code",
   "execution_count": null,
   "id": "3bd6a584-3c67-422f-801c-bc301c2b4bfb",
   "metadata": {},
   "outputs": [],
   "source": []
  },
  {
   "cell_type": "code",
   "execution_count": null,
   "id": "8c30e920-4cb8-4ad1-bf81-084a78c76b2f",
   "metadata": {},
   "outputs": [],
   "source": [
    "Numpy : help us to working with arrays..."
   ]
  },
  {
   "cell_type": "code",
   "execution_count": null,
   "id": "4883bc96-06ba-4fae-bcf8-a651aae18886",
   "metadata": {},
   "outputs": [],
   "source": []
  },
  {
   "cell_type": "code",
   "execution_count": null,
   "id": "9b5ca4dd-e5ba-432b-9a8f-4851bd469b36",
   "metadata": {},
   "outputs": [],
   "source": [
    "# installing numpy in jupyter"
   ]
  },
  {
   "cell_type": "code",
   "execution_count": 6,
   "id": "644e5bce-fc2a-4e10-bfd8-64ed4540a2ca",
   "metadata": {},
   "outputs": [
    {
     "name": "stdout",
     "output_type": "stream",
     "text": [
      "Requirement already satisfied: numpy in c:\\users\\17nru\\appdata\\local\\programs\\python\\python312\\lib\\site-packages (1.26.4)\n"
     ]
    },
    {
     "name": "stderr",
     "output_type": "stream",
     "text": [
      "DEPRECATION: Loading egg at c:\\users\\17nru\\appdata\\local\\programs\\python\\python312\\lib\\site-packages\\darkflow-0.1.0-py3.12-win-amd64.egg is deprecated. pip 24.3 will enforce this behaviour change. A possible replacement is to use pip for package installation.. Discussion can be found at https://github.com/pypa/pip/issues/12330\n",
      "DEPRECATION: textract 1.6.5 has a non-standard dependency specifier extract-msg<=0.29.*. pip 24.1 will enforce this behaviour change. A possible replacement is to upgrade to a newer version of textract or contact the author to suggest that they release a version with a conforming dependency specifiers. Discussion can be found at https://github.com/pypa/pip/issues/12063\n"
     ]
    }
   ],
   "source": [
    "!pip install numpy"
   ]
  },
  {
   "cell_type": "code",
   "execution_count": null,
   "id": "8db0bf8d-b501-4fd1-9f7c-eff11a00f8ab",
   "metadata": {},
   "outputs": [],
   "source": []
  },
  {
   "cell_type": "code",
   "execution_count": 9,
   "id": "6654c83b-3eed-4323-982d-9a3dedff2d0f",
   "metadata": {},
   "outputs": [],
   "source": [
    "import numpy as np"
   ]
  },
  {
   "cell_type": "code",
   "execution_count": 11,
   "id": "41411663-ebaf-4b15-88b6-34765ed70405",
   "metadata": {},
   "outputs": [
    {
     "data": {
      "text/plain": [
       "'1.26.4'"
      ]
     },
     "execution_count": 11,
     "metadata": {},
     "output_type": "execute_result"
    }
   ],
   "source": [
    "np.version.version"
   ]
  },
  {
   "cell_type": "code",
   "execution_count": null,
   "id": "891f7fcb-bce3-479d-bd29-3a1b8dec38ba",
   "metadata": {},
   "outputs": [],
   "source": []
  },
  {
   "cell_type": "markdown",
   "id": "e6f2a6ca-5d4b-43ff-ace1-a484920b3632",
   "metadata": {},
   "source": [
    "# ndarrays in numpy"
   ]
  },
  {
   "cell_type": "code",
   "execution_count": null,
   "id": "e168ebd0-fea4-4b3a-ad5b-8318d5824f88",
   "metadata": {},
   "outputs": [],
   "source": [
    "ndarray -> N - Dimetional Arrays"
   ]
  },
  {
   "cell_type": "markdown",
   "id": "a6404a33-2bc8-485f-a508-668da5154387",
   "metadata": {},
   "source": [
    "### Ndarray -> when we create an object with the help of array method in numpy, that object is called ndarray."
   ]
  },
  {
   "cell_type": "code",
   "execution_count": null,
   "id": "a67f5a2a-0dd7-4778-ac73-f16f7dc73314",
   "metadata": {},
   "outputs": [],
   "source": []
  },
  {
   "cell_type": "code",
   "execution_count": 12,
   "id": "9aa4a6a8-516e-4d96-acf0-daa872a4a25c",
   "metadata": {},
   "outputs": [],
   "source": [
    "ar = np.array(100)"
   ]
  },
  {
   "cell_type": "code",
   "execution_count": 13,
   "id": "227715b8-ed90-4a92-a2b7-47c965441555",
   "metadata": {},
   "outputs": [
    {
     "data": {
      "text/plain": [
       "array(100)"
      ]
     },
     "execution_count": 13,
     "metadata": {},
     "output_type": "execute_result"
    }
   ],
   "source": [
    "ar"
   ]
  },
  {
   "cell_type": "code",
   "execution_count": 14,
   "id": "2ae3ab00-c620-4439-a25b-f9209f8f80c7",
   "metadata": {},
   "outputs": [
    {
     "data": {
      "text/plain": [
       "numpy.ndarray"
      ]
     },
     "execution_count": 14,
     "metadata": {},
     "output_type": "execute_result"
    }
   ],
   "source": [
    "type(ar)"
   ]
  },
  {
   "cell_type": "code",
   "execution_count": null,
   "id": "441e71df-e12d-401b-9052-3cbc3b8642eb",
   "metadata": {},
   "outputs": [],
   "source": []
  },
  {
   "cell_type": "markdown",
   "id": "33a8f1c5-e86e-475c-86d2-2f4a40c5a314",
   "metadata": {},
   "source": [
    "## check demensions of an ndarray::::::\n",
    "\n",
    "attribute -> ndim"
   ]
  },
  {
   "cell_type": "code",
   "execution_count": null,
   "id": "45d468a6-1aee-4865-8393-2c6e5b015b47",
   "metadata": {},
   "outputs": [],
   "source": []
  },
  {
   "cell_type": "code",
   "execution_count": 15,
   "id": "f1783bcf-9c63-463b-b2c1-51ce730a3ed1",
   "metadata": {},
   "outputs": [
    {
     "data": {
      "text/plain": [
       "0"
      ]
     },
     "execution_count": 15,
     "metadata": {},
     "output_type": "execute_result"
    }
   ],
   "source": [
    "ar.ndim"
   ]
  },
  {
   "cell_type": "code",
   "execution_count": null,
   "id": "4e0745aa-9f46-4591-8462-5edb118070d1",
   "metadata": {},
   "outputs": [],
   "source": []
  },
  {
   "cell_type": "markdown",
   "id": "7fd1f3d1-d6f5-4e8b-934f-7d975819425e",
   "metadata": {},
   "source": [
    "### Create 1-D Ndarray:"
   ]
  },
  {
   "cell_type": "code",
   "execution_count": null,
   "id": "9530ef92-5545-415d-91f0-97748a48f272",
   "metadata": {},
   "outputs": [],
   "source": []
  },
  {
   "cell_type": "code",
   "execution_count": 16,
   "id": "70047ec6-c93b-4bed-83c6-12f8fa18aae2",
   "metadata": {},
   "outputs": [],
   "source": [
    "arr = np.array([12, 45, 23, 56, 90])"
   ]
  },
  {
   "cell_type": "code",
   "execution_count": 17,
   "id": "ab5e8dc5-1d50-4644-81e9-bc64415c9760",
   "metadata": {},
   "outputs": [
    {
     "data": {
      "text/plain": [
       "array([12, 45, 23, 56, 90])"
      ]
     },
     "execution_count": 17,
     "metadata": {},
     "output_type": "execute_result"
    }
   ],
   "source": [
    "arr"
   ]
  },
  {
   "cell_type": "code",
   "execution_count": 18,
   "id": "7bd9857f-2514-4541-9e24-aa6434a04fb7",
   "metadata": {},
   "outputs": [
    {
     "data": {
      "text/plain": [
       "numpy.ndarray"
      ]
     },
     "execution_count": 18,
     "metadata": {},
     "output_type": "execute_result"
    }
   ],
   "source": [
    "type(arr)"
   ]
  },
  {
   "cell_type": "code",
   "execution_count": 19,
   "id": "e24c743f-a2db-4961-a2a5-59447a9a2d4a",
   "metadata": {},
   "outputs": [
    {
     "data": {
      "text/plain": [
       "1"
      ]
     },
     "execution_count": 19,
     "metadata": {},
     "output_type": "execute_result"
    }
   ],
   "source": [
    "arr.ndim"
   ]
  },
  {
   "cell_type": "code",
   "execution_count": null,
   "id": "2a6acb21-88c0-43e6-85af-dc557937910e",
   "metadata": {},
   "outputs": [],
   "source": []
  },
  {
   "cell_type": "markdown",
   "id": "783f8529-f2f4-4ef4-bfc3-6b56d2244e48",
   "metadata": {},
   "source": [
    "## check shape of an ndarray.....\n",
    "\n",
    "attribute --> shape"
   ]
  },
  {
   "cell_type": "code",
   "execution_count": 20,
   "id": "eb9bd84d-5bc8-493b-8ff0-67aad132d0b4",
   "metadata": {},
   "outputs": [
    {
     "data": {
      "text/plain": [
       "(5,)"
      ]
     },
     "execution_count": 20,
     "metadata": {},
     "output_type": "execute_result"
    }
   ],
   "source": [
    "arr.shape"
   ]
  },
  {
   "cell_type": "code",
   "execution_count": null,
   "id": "f75c0ff2-b581-4420-be20-867ef213bc52",
   "metadata": {},
   "outputs": [],
   "source": []
  },
  {
   "cell_type": "code",
   "execution_count": null,
   "id": "e4cc2124-b600-474a-a20b-db41ee9f39e0",
   "metadata": {},
   "outputs": [],
   "source": []
  },
  {
   "cell_type": "markdown",
   "id": "1e380d75-ec6c-4284-8bfd-0076f4eeee74",
   "metadata": {},
   "source": [
    "## create 2 dimetational ndarray"
   ]
  },
  {
   "cell_type": "code",
   "execution_count": null,
   "id": "54e72d59-0a0c-404a-8853-f11814513827",
   "metadata": {},
   "outputs": [],
   "source": []
  },
  {
   "cell_type": "code",
   "execution_count": 34,
   "id": "92854666-9dd6-40f8-bd01-0786f15c8549",
   "metadata": {},
   "outputs": [],
   "source": [
    "arr1 = np.array([[12, 45, 67, 89], [34, 56, 78, 45], [45, 67, 89, 34]])"
   ]
  },
  {
   "cell_type": "code",
   "execution_count": 30,
   "id": "c07329f8-213c-49df-bfa4-4ce8f53bedea",
   "metadata": {},
   "outputs": [
    {
     "data": {
      "text/plain": [
       "array([[12, 45, 67, 89],\n",
       "       [34, 56, 78, 45],\n",
       "       [45, 67, 89, 34]])"
      ]
     },
     "execution_count": 30,
     "metadata": {},
     "output_type": "execute_result"
    }
   ],
   "source": [
    "arr1"
   ]
  },
  {
   "cell_type": "code",
   "execution_count": 31,
   "id": "618aadbb-252c-4955-bbd1-cc2f3beca702",
   "metadata": {},
   "outputs": [
    {
     "data": {
      "text/plain": [
       "2"
      ]
     },
     "execution_count": 31,
     "metadata": {},
     "output_type": "execute_result"
    }
   ],
   "source": [
    "arr1.ndim"
   ]
  },
  {
   "cell_type": "code",
   "execution_count": 32,
   "id": "51057726-85c3-4a2a-a7bf-e647c5813e88",
   "metadata": {},
   "outputs": [
    {
     "data": {
      "text/plain": [
       "(3, 4)"
      ]
     },
     "execution_count": 32,
     "metadata": {},
     "output_type": "execute_result"
    }
   ],
   "source": [
    "arr1.shape # (number of rows, number of columns)"
   ]
  },
  {
   "cell_type": "code",
   "execution_count": null,
   "id": "a81a8cf9-cdc1-45c7-a69e-5dedb66acf5e",
   "metadata": {},
   "outputs": [],
   "source": []
  },
  {
   "cell_type": "markdown",
   "id": "e0aef8a4-0b2f-4f07-8712-633defc694d1",
   "metadata": {},
   "source": [
    "## 3-D Ndarray "
   ]
  },
  {
   "cell_type": "code",
   "execution_count": null,
   "id": "2d1cc514-c56c-4c29-af0e-08158a24ddd3",
   "metadata": {},
   "outputs": [],
   "source": []
  },
  {
   "cell_type": "code",
   "execution_count": 44,
   "id": "6117c8ae-f8eb-4977-8bb8-bf85aafa4d0a",
   "metadata": {},
   "outputs": [],
   "source": [
    "arr2 = np.array([[[23, 45, 45, 67], [45, 67, 34, 23]], [[23, 45, 67, 45], [56, 78, 56, 34]]]) "
   ]
  },
  {
   "cell_type": "code",
   "execution_count": 45,
   "id": "c6150d8d-0215-4453-8cb5-bd4029ec9173",
   "metadata": {},
   "outputs": [
    {
     "data": {
      "text/plain": [
       "array([[[23, 45, 45, 67],\n",
       "        [45, 67, 34, 23]],\n",
       "\n",
       "       [[23, 45, 67, 45],\n",
       "        [56, 78, 56, 34]]])"
      ]
     },
     "execution_count": 45,
     "metadata": {},
     "output_type": "execute_result"
    }
   ],
   "source": [
    "arr2"
   ]
  },
  {
   "cell_type": "code",
   "execution_count": 46,
   "id": "41e8eee8-ec3b-4a05-bb3c-02ea88ab7ef2",
   "metadata": {},
   "outputs": [
    {
     "data": {
      "text/plain": [
       "3"
      ]
     },
     "execution_count": 46,
     "metadata": {},
     "output_type": "execute_result"
    }
   ],
   "source": [
    "arr2.ndim"
   ]
  },
  {
   "cell_type": "code",
   "execution_count": 47,
   "id": "ccea455b-81f9-4af5-a0f5-baedb100a50e",
   "metadata": {},
   "outputs": [
    {
     "data": {
      "text/plain": [
       "(2, 2, 4)"
      ]
     },
     "execution_count": 47,
     "metadata": {},
     "output_type": "execute_result"
    }
   ],
   "source": [
    "arr2.shape"
   ]
  },
  {
   "cell_type": "code",
   "execution_count": null,
   "id": "5f165fb3-891f-4b46-ae18-4870680d5f50",
   "metadata": {},
   "outputs": [],
   "source": []
  },
  {
   "cell_type": "code",
   "execution_count": 48,
   "id": "8791eb67-fc35-4e68-8aa6-0fa34ac3d2dd",
   "metadata": {},
   "outputs": [],
   "source": [
    "xyz = np.array([[[[[34]]]]])"
   ]
  },
  {
   "cell_type": "code",
   "execution_count": 50,
   "id": "206abeb9-ab58-4f7b-b3db-5e9616be774c",
   "metadata": {},
   "outputs": [
    {
     "data": {
      "text/plain": [
       "5"
      ]
     },
     "execution_count": 50,
     "metadata": {},
     "output_type": "execute_result"
    }
   ],
   "source": [
    "xyz.ndim"
   ]
  },
  {
   "cell_type": "code",
   "execution_count": null,
   "id": "0b813f00-bd46-4d62-98b9-edadfe051cf5",
   "metadata": {},
   "outputs": [],
   "source": []
  }
 ],
 "metadata": {
  "kernelspec": {
   "display_name": "Python 3 (ipykernel)",
   "language": "python",
   "name": "python3"
  },
  "language_info": {
   "codemirror_mode": {
    "name": "ipython",
    "version": 3
   },
   "file_extension": ".py",
   "mimetype": "text/x-python",
   "name": "python",
   "nbconvert_exporter": "python",
   "pygments_lexer": "ipython3",
   "version": "3.12.2"
  }
 },
 "nbformat": 4,
 "nbformat_minor": 5
}
