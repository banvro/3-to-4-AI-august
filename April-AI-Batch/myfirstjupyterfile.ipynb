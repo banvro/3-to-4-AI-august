{
 "cells": [
  {
   "cell_type": "code",
   "execution_count": 1,
   "id": "368daf3b-73bb-4858-83e6-50feb73ce98d",
   "metadata": {},
   "outputs": [
    {
     "name": "stdout",
     "output_type": "stream",
     "text": [
      "hello world\n"
     ]
    }
   ],
   "source": [
    "print(\"hello world\")"
   ]
  },
  {
   "cell_type": "code",
   "execution_count": 2,
   "id": "dc3a2e93-8564-486b-a0b9-ec2f1a8631c5",
   "metadata": {},
   "outputs": [
    {
     "name": "stdout",
     "output_type": "stream",
     "text": [
      "hellooooooooooooooo\n"
     ]
    }
   ],
   "source": [
    "print(\"hellooooooooooooooo\")"
   ]
  },
  {
   "cell_type": "code",
   "execution_count": 3,
   "id": "5be95df2-c7d8-45f9-befb-68f7c4366e5e",
   "metadata": {},
   "outputs": [],
   "source": [
    "a = 10\n"
   ]
  },
  {
   "cell_type": "code",
   "execution_count": 4,
   "id": "da2a582c-c806-4543-bef9-90e837df2f6f",
   "metadata": {},
   "outputs": [],
   "source": [
    "b = 20"
   ]
  },
  {
   "cell_type": "code",
   "execution_count": null,
   "id": "4e812c42-28ca-48fe-896e-a89286d62766",
   "metadata": {},
   "outputs": [],
   "source": []
  },
  {
   "cell_type": "code",
   "execution_count": 5,
   "id": "3825c059-d76f-4d9a-9ebb-be0cb8c4ec71",
   "metadata": {},
   "outputs": [],
   "source": [
    "c = a + b"
   ]
  },
  {
   "cell_type": "code",
   "execution_count": 6,
   "id": "d0a60271-6e24-4edf-96de-b0f6a7b154c6",
   "metadata": {},
   "outputs": [
    {
     "data": {
      "text/plain": [
       "30"
      ]
     },
     "execution_count": 6,
     "metadata": {},
     "output_type": "execute_result"
    }
   ],
   "source": [
    "c"
   ]
  },
  {
   "cell_type": "markdown",
   "id": "c895c51d-bd3a-43eb-b834-11a243b75a9e",
   "metadata": {},
   "source": [
    "### table of 2"
   ]
  },
  {
   "cell_type": "code",
   "execution_count": 7,
   "id": "87b3e339-d3bf-43f0-a8f9-79e390205d05",
   "metadata": {},
   "outputs": [
    {
     "name": "stdout",
     "output_type": "stream",
     "text": [
      "2 x 1 = 2\n",
      "2 x 2 = 4\n",
      "2 x 3 = 6\n",
      "2 x 4 = 8\n",
      "2 x 5 = 10\n",
      "2 x 6 = 12\n",
      "2 x 7 = 14\n",
      "2 x 8 = 16\n",
      "2 x 9 = 18\n",
      "2 x 10 = 20\n"
     ]
    }
   ],
   "source": [
    "for i in range(1, 11):\n",
    "    print(f\"2 x {i} = {2*i}\")"
   ]
  },
  {
   "cell_type": "code",
   "execution_count": null,
   "id": "a5f21701-d223-4c72-a189-e8dabc3bc5f1",
   "metadata": {},
   "outputs": [],
   "source": []
  },
  {
   "cell_type": "code",
   "execution_count": null,
   "id": "6d8e662c-a947-40ca-b6d4-4d7e7b20a1b7",
   "metadata": {},
   "outputs": [],
   "source": []
  },
  {
   "cell_type": "markdown",
   "id": "61aa35e8-7428-4415-bf05-3fc178273f5c",
   "metadata": {},
   "source": [
    "## this is heading..."
   ]
  },
  {
   "cell_type": "code",
   "execution_count": null,
   "id": "2570008e-c1dc-4829-ba42-bf72fc9d646a",
   "metadata": {},
   "outputs": [],
   "source": []
  }
 ],
 "metadata": {
  "kernelspec": {
   "display_name": "Python 3 (ipykernel)",
   "language": "python",
   "name": "python3"
  },
  "language_info": {
   "codemirror_mode": {
    "name": "ipython",
    "version": 3
   },
   "file_extension": ".py",
   "mimetype": "text/x-python",
   "name": "python",
   "nbconvert_exporter": "python",
   "pygments_lexer": "ipython3",
   "version": "3.12.2"
  }
 },
 "nbformat": 4,
 "nbformat_minor": 5
}
