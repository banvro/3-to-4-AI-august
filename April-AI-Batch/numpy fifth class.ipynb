{
 "cells": [
  {
   "cell_type": "markdown",
   "id": "468745ea-b8d7-46b3-b8d8-ec643a407820",
   "metadata": {},
   "source": [
    "# Reshape Ndarray:------"
   ]
  },
  {
   "cell_type": "code",
   "execution_count": 1,
   "id": "460b864b-ac19-494c-89b1-18d292826e72",
   "metadata": {},
   "outputs": [],
   "source": [
    "import numpy as np"
   ]
  },
  {
   "cell_type": "code",
   "execution_count": null,
   "id": "7859f3b6-b65a-4fc1-988a-f0d4aac6e276",
   "metadata": {},
   "outputs": [],
   "source": []
  },
  {
   "cell_type": "code",
   "execution_count": 2,
   "id": "5653eccf-e2df-4802-89d3-a7eef27e5840",
   "metadata": {},
   "outputs": [],
   "source": [
    "# 1D to 2D"
   ]
  },
  {
   "cell_type": "code",
   "execution_count": 7,
   "id": "385171a6-6917-4ed4-b320-26484efc34e6",
   "metadata": {},
   "outputs": [],
   "source": [
    "arr = np.array([12, 34, 56, 67, 89, 90, 56, 78, 56, 4, 2, 1])"
   ]
  },
  {
   "cell_type": "code",
   "execution_count": 8,
   "id": "cf002afc-3e4e-49e7-9fbe-53ca271ed62f",
   "metadata": {},
   "outputs": [
    {
     "data": {
      "text/plain": [
       "array([12, 34, 56, 67, 89, 90, 56, 78, 56,  4,  2,  1])"
      ]
     },
     "execution_count": 8,
     "metadata": {},
     "output_type": "execute_result"
    }
   ],
   "source": [
    "arr"
   ]
  },
  {
   "cell_type": "code",
   "execution_count": 9,
   "id": "5cfa5551-d88d-4c12-b7dc-c9139823984c",
   "metadata": {},
   "outputs": [
    {
     "data": {
      "text/plain": [
       "1"
      ]
     },
     "execution_count": 9,
     "metadata": {},
     "output_type": "execute_result"
    }
   ],
   "source": [
    "arr.ndim"
   ]
  },
  {
   "cell_type": "code",
   "execution_count": 10,
   "id": "4caa956f-4e0b-435b-8c69-f8e2c732d4e5",
   "metadata": {},
   "outputs": [
    {
     "data": {
      "text/plain": [
       "(12,)"
      ]
     },
     "execution_count": 10,
     "metadata": {},
     "output_type": "execute_result"
    }
   ],
   "source": [
    "arr.shape"
   ]
  },
  {
   "cell_type": "code",
   "execution_count": null,
   "id": "0c4e24f2-592a-476b-bcbf-8e6c64b28131",
   "metadata": {},
   "outputs": [],
   "source": []
  },
  {
   "cell_type": "code",
   "execution_count": 13,
   "id": "e82c0fe4-67f7-4777-8e06-6b6811042191",
   "metadata": {},
   "outputs": [],
   "source": [
    "# np.reshape(objectname, (formt of reshape))"
   ]
  },
  {
   "cell_type": "code",
   "execution_count": 14,
   "id": "1cc47118-3cb3-458a-b428-6a0b46aa16fc",
   "metadata": {},
   "outputs": [
    {
     "data": {
      "text/plain": [
       "array([[12, 34, 56],\n",
       "       [67, 89, 90],\n",
       "       [56, 78, 56],\n",
       "       [ 4,  2,  1]])"
      ]
     },
     "execution_count": 14,
     "metadata": {},
     "output_type": "execute_result"
    }
   ],
   "source": [
    "np.reshape(arr, (4, 3))"
   ]
  },
  {
   "cell_type": "code",
   "execution_count": null,
   "id": "eb027517-b0ab-473e-803e-5737618af794",
   "metadata": {},
   "outputs": [],
   "source": []
  },
  {
   "cell_type": "code",
   "execution_count": 15,
   "id": "d2e48a25-42b4-40c0-b807-57daca5fd021",
   "metadata": {},
   "outputs": [
    {
     "data": {
      "text/plain": [
       "array([[12, 34, 56, 67],\n",
       "       [89, 90, 56, 78],\n",
       "       [56,  4,  2,  1]])"
      ]
     },
     "execution_count": 15,
     "metadata": {},
     "output_type": "execute_result"
    }
   ],
   "source": [
    "arr.reshape(3, 4)"
   ]
  },
  {
   "cell_type": "code",
   "execution_count": null,
   "id": "ec1ef7e6-96e8-4b16-9808-639458eee24a",
   "metadata": {},
   "outputs": [],
   "source": []
  },
  {
   "cell_type": "code",
   "execution_count": 16,
   "id": "83a52c0c-9a97-4429-9cc9-498f1855357a",
   "metadata": {},
   "outputs": [],
   "source": [
    "# -1 spacial perameter......"
   ]
  },
  {
   "cell_type": "code",
   "execution_count": null,
   "id": "bebacb64-2ce7-44a2-af03-88f7e2436cb4",
   "metadata": {},
   "outputs": [],
   "source": []
  },
  {
   "cell_type": "code",
   "execution_count": 17,
   "id": "9db7405d-c827-4abc-97dc-a6f06b9334f8",
   "metadata": {},
   "outputs": [],
   "source": [
    "arr1 = np.array([12, 34, 56, 67, 89, 90, 56, 78, 56, 4, 2, 1])"
   ]
  },
  {
   "cell_type": "code",
   "execution_count": 21,
   "id": "b351946f-274c-4601-a147-b55a1d02a992",
   "metadata": {},
   "outputs": [
    {
     "data": {
      "text/plain": [
       "array([[12, 34],\n",
       "       [56, 67],\n",
       "       [89, 90],\n",
       "       [56, 78],\n",
       "       [56,  4],\n",
       "       [ 2,  1]])"
      ]
     },
     "execution_count": 21,
     "metadata": {},
     "output_type": "execute_result"
    }
   ],
   "source": [
    "np.reshape(arr1, (6, -1))"
   ]
  },
  {
   "cell_type": "code",
   "execution_count": null,
   "id": "34c03451-ebe5-47e1-849c-61b00b5cce9a",
   "metadata": {},
   "outputs": [],
   "source": []
  },
  {
   "cell_type": "code",
   "execution_count": 24,
   "id": "c3155f6a-8a91-4e20-900a-21228b18facb",
   "metadata": {},
   "outputs": [
    {
     "data": {
      "text/plain": [
       "array([[12, 34, 56, 67],\n",
       "       [89, 90, 56, 78],\n",
       "       [56,  4,  2,  1]])"
      ]
     },
     "execution_count": 24,
     "metadata": {},
     "output_type": "execute_result"
    }
   ],
   "source": [
    "np.reshape(arr1, (-1, 4))"
   ]
  },
  {
   "cell_type": "code",
   "execution_count": null,
   "id": "c2228384-5694-41a3-bc89-f1043dea0821",
   "metadata": {},
   "outputs": [],
   "source": []
  },
  {
   "cell_type": "code",
   "execution_count": null,
   "id": "d63d9b22-dd69-47cf-b5a7-ab3c3733b5e0",
   "metadata": {},
   "outputs": [],
   "source": []
  },
  {
   "cell_type": "code",
   "execution_count": 27,
   "id": "f022c242-0568-4585-bb2c-aa8248c61ef9",
   "metadata": {},
   "outputs": [],
   "source": [
    "arr1 = np.array([12, 34, 56, 67, 89, 90, 56, 78, 56, 4, 2])"
   ]
  },
  {
   "cell_type": "code",
   "execution_count": 29,
   "id": "52860227-93b7-4caf-aa8b-f5f5d3a341c7",
   "metadata": {},
   "outputs": [
    {
     "data": {
      "text/plain": [
       "array([[12],\n",
       "       [34],\n",
       "       [56],\n",
       "       [67],\n",
       "       [89],\n",
       "       [90],\n",
       "       [56],\n",
       "       [78],\n",
       "       [56],\n",
       "       [ 4],\n",
       "       [ 2]])"
      ]
     },
     "execution_count": 29,
     "metadata": {},
     "output_type": "execute_result"
    }
   ],
   "source": [
    "arr1.reshape(11, 1)"
   ]
  },
  {
   "cell_type": "code",
   "execution_count": null,
   "id": "fc4c538f-4c45-456d-a2dd-deb827b47b77",
   "metadata": {},
   "outputs": [],
   "source": []
  },
  {
   "cell_type": "markdown",
   "id": "68aded8e-8283-4499-9c12-c5d7654b9737",
   "metadata": {},
   "source": [
    "## 2D to 1D reshape"
   ]
  },
  {
   "cell_type": "code",
   "execution_count": null,
   "id": "a08dd690-690b-477a-80b5-439457a5db5a",
   "metadata": {},
   "outputs": [],
   "source": []
  },
  {
   "cell_type": "code",
   "execution_count": 30,
   "id": "886b0565-b725-4066-89c9-fd586343eedf",
   "metadata": {},
   "outputs": [],
   "source": [
    "zx = np.array([[12, 34, 45, 67, 100], [45, 67, 78, 9, 90]])"
   ]
  },
  {
   "cell_type": "code",
   "execution_count": 31,
   "id": "3eb92d52-9619-434f-ad69-dc02bfadc6f6",
   "metadata": {},
   "outputs": [
    {
     "data": {
      "text/plain": [
       "array([[ 12,  34,  45,  67, 100],\n",
       "       [ 45,  67,  78,   9,  90]])"
      ]
     },
     "execution_count": 31,
     "metadata": {},
     "output_type": "execute_result"
    }
   ],
   "source": [
    "zx"
   ]
  },
  {
   "cell_type": "code",
   "execution_count": 32,
   "id": "e552a2d1-c2b8-42a2-bbbd-1d8b4b887fd7",
   "metadata": {},
   "outputs": [
    {
     "data": {
      "text/plain": [
       "(2, 5)"
      ]
     },
     "execution_count": 32,
     "metadata": {},
     "output_type": "execute_result"
    }
   ],
   "source": [
    "zx.shape"
   ]
  },
  {
   "cell_type": "code",
   "execution_count": 35,
   "id": "61246346-9cf5-473a-9004-688691db1aeb",
   "metadata": {},
   "outputs": [],
   "source": [
    "q = zx.reshape(10)"
   ]
  },
  {
   "cell_type": "code",
   "execution_count": 38,
   "id": "373fa351-f257-4506-bcdf-cb6f81878f65",
   "metadata": {},
   "outputs": [
    {
     "data": {
      "text/plain": [
       "array([ 12,  34,  45,  67, 100,  45,  67,  78,   9,  90])"
      ]
     },
     "execution_count": 38,
     "metadata": {},
     "output_type": "execute_result"
    }
   ],
   "source": [
    "q"
   ]
  },
  {
   "cell_type": "code",
   "execution_count": null,
   "id": "026b53a4-d3ba-4bbc-998a-b1b54346871f",
   "metadata": {},
   "outputs": [],
   "source": []
  },
  {
   "cell_type": "code",
   "execution_count": null,
   "id": "e0ec87a8-df33-4a41-a157-b2925c8cefd6",
   "metadata": {},
   "outputs": [],
   "source": []
  },
  {
   "cell_type": "code",
   "execution_count": 39,
   "id": "7785ad00-92b3-4945-aadb-8163d83ca725",
   "metadata": {},
   "outputs": [],
   "source": [
    "zx = np.array([[12, 34, 45, 67, 100], [45, 67, 78, 9, 90]])"
   ]
  },
  {
   "cell_type": "code",
   "execution_count": 40,
   "id": "b4910738-ba97-4336-94b9-a1031b85a6bf",
   "metadata": {},
   "outputs": [
    {
     "data": {
      "text/plain": [
       "array([ 12,  34,  45,  67, 100,  45,  67,  78,   9,  90])"
      ]
     },
     "execution_count": 40,
     "metadata": {},
     "output_type": "execute_result"
    }
   ],
   "source": [
    "zx.reshape(-1)"
   ]
  },
  {
   "cell_type": "code",
   "execution_count": null,
   "id": "e4e3a6a2-efc7-42fb-b628-e79f4a35ec79",
   "metadata": {},
   "outputs": [],
   "source": []
  },
  {
   "cell_type": "markdown",
   "id": "fbed942b-cd5b-4ee5-980d-5a036b7cf864",
   "metadata": {},
   "source": [
    "# 1D to 3D reshape"
   ]
  },
  {
   "cell_type": "code",
   "execution_count": null,
   "id": "bc75d4bb-8a99-4051-a08d-55d715029706",
   "metadata": {},
   "outputs": [],
   "source": []
  },
  {
   "cell_type": "code",
   "execution_count": 49,
   "id": "8d822834-4b49-4b43-985b-226cb83cd795",
   "metadata": {},
   "outputs": [],
   "source": [
    "arr1 = np.array([12, 34, 56, 67, 89, 90, 56, 78, 56, 4, 2, 23, 45, 78, 34, 34])"
   ]
  },
  {
   "cell_type": "code",
   "execution_count": 50,
   "id": "4a600ed6-9e6c-47ba-8758-4a0bb891e09c",
   "metadata": {},
   "outputs": [
    {
     "data": {
      "text/plain": [
       "16"
      ]
     },
     "execution_count": 50,
     "metadata": {},
     "output_type": "execute_result"
    }
   ],
   "source": [
    "len(arr1)"
   ]
  },
  {
   "cell_type": "code",
   "execution_count": null,
   "id": "b5cea2e1-ddae-40f6-81ca-9987049b55d5",
   "metadata": {},
   "outputs": [],
   "source": []
  },
  {
   "cell_type": "code",
   "execution_count": 52,
   "id": "56e75124-0427-4fa9-a3e7-977008a82c78",
   "metadata": {},
   "outputs": [],
   "source": [
    "w = arr1.reshape(2, 2, 4)"
   ]
  },
  {
   "cell_type": "code",
   "execution_count": 53,
   "id": "a8f5c636-9713-4c5a-a47b-2d5b39afa112",
   "metadata": {},
   "outputs": [
    {
     "data": {
      "text/plain": [
       "array([[[12, 34, 56, 67],\n",
       "        [89, 90, 56, 78]],\n",
       "\n",
       "       [[56,  4,  2, 23],\n",
       "        [45, 78, 34, 34]]])"
      ]
     },
     "execution_count": 53,
     "metadata": {},
     "output_type": "execute_result"
    }
   ],
   "source": [
    "w"
   ]
  },
  {
   "cell_type": "code",
   "execution_count": 54,
   "id": "9ebb4329-2505-4193-a824-911fd2e0e67c",
   "metadata": {},
   "outputs": [
    {
     "data": {
      "text/plain": [
       "(2, 2, 4)"
      ]
     },
     "execution_count": 54,
     "metadata": {},
     "output_type": "execute_result"
    }
   ],
   "source": [
    "w.shape"
   ]
  },
  {
   "cell_type": "code",
   "execution_count": 55,
   "id": "75f0d514-8aa7-42a6-8d0b-fe162b8d9ba5",
   "metadata": {},
   "outputs": [
    {
     "data": {
      "text/plain": [
       "3"
      ]
     },
     "execution_count": 55,
     "metadata": {},
     "output_type": "execute_result"
    }
   ],
   "source": [
    "w.ndim"
   ]
  },
  {
   "cell_type": "code",
   "execution_count": null,
   "id": "f74b78e5-8d13-4aa1-b09a-332f648b290a",
   "metadata": {},
   "outputs": [],
   "source": []
  },
  {
   "cell_type": "code",
   "execution_count": null,
   "id": "1d2ee36c-1c83-4030-8aa3-0d3395631be1",
   "metadata": {},
   "outputs": [],
   "source": []
  },
  {
   "cell_type": "markdown",
   "id": "caa28286-9140-4236-9e78-a0b01ff35aa2",
   "metadata": {},
   "source": [
    "# 3D to 1D rehspae"
   ]
  },
  {
   "cell_type": "code",
   "execution_count": 60,
   "id": "528d99b6-6cd3-42ae-be53-8f243ae50714",
   "metadata": {},
   "outputs": [],
   "source": [
    "xyz = np.array([[[1, 2, 3, 4], [45, 67, 78, 89]], [[45, 67, 54, 3], [45, 67, 3, 2]]])"
   ]
  },
  {
   "cell_type": "code",
   "execution_count": 61,
   "id": "dd1c5b5c-d838-41e7-a3c0-76a7fcf09339",
   "metadata": {},
   "outputs": [
    {
     "data": {
      "text/plain": [
       "3"
      ]
     },
     "execution_count": 61,
     "metadata": {},
     "output_type": "execute_result"
    }
   ],
   "source": [
    "xyz.ndim"
   ]
  },
  {
   "cell_type": "code",
   "execution_count": 62,
   "id": "01b4e085-1adc-4de5-be3a-6e843d94e6ec",
   "metadata": {},
   "outputs": [
    {
     "data": {
      "text/plain": [
       "(2, 2, 4)"
      ]
     },
     "execution_count": 62,
     "metadata": {},
     "output_type": "execute_result"
    }
   ],
   "source": [
    "xyz.shape"
   ]
  },
  {
   "cell_type": "code",
   "execution_count": 67,
   "id": "4e8a0877-4889-477e-9ed0-cd99b623c547",
   "metadata": {},
   "outputs": [
    {
     "data": {
      "text/plain": [
       "array([[[ 1,  2,  3,  4],\n",
       "        [45, 67, 78, 89]],\n",
       "\n",
       "       [[45, 67, 54,  3],\n",
       "        [45, 67,  3,  2]]])"
      ]
     },
     "execution_count": 67,
     "metadata": {},
     "output_type": "execute_result"
    }
   ],
   "source": [
    "xyz"
   ]
  },
  {
   "cell_type": "code",
   "execution_count": 66,
   "id": "8b06f909-55ce-4ea5-ae91-230290cf7203",
   "metadata": {},
   "outputs": [
    {
     "data": {
      "text/plain": [
       "array([ 1,  2,  3,  4, 45, 67, 78, 89, 45, 67, 54,  3, 45, 67,  3,  2])"
      ]
     },
     "execution_count": 66,
     "metadata": {},
     "output_type": "execute_result"
    }
   ],
   "source": [
    "np.reshape(xyz, -1)\n",
    "\n",
    "# xyz.reshape(-1)"
   ]
  },
  {
   "cell_type": "code",
   "execution_count": null,
   "id": "8c99319b-af91-4f30-83d5-87087ddb0789",
   "metadata": {},
   "outputs": [],
   "source": []
  },
  {
   "cell_type": "code",
   "execution_count": null,
   "id": "a76a0943-6d43-4b88-8fde-5ba5bd6059a6",
   "metadata": {},
   "outputs": [],
   "source": []
  },
  {
   "cell_type": "code",
   "execution_count": 68,
   "id": "cd0c3ac3-7b57-4072-982e-fc02b4410b32",
   "metadata": {},
   "outputs": [],
   "source": [
    "# 3d to 2d"
   ]
  },
  {
   "cell_type": "code",
   "execution_count": 69,
   "id": "5204f599-994f-4acd-9156-f4a0a648c341",
   "metadata": {},
   "outputs": [
    {
     "data": {
      "text/plain": [
       "array([[[ 1,  2,  3,  4],\n",
       "        [45, 67, 78, 89]],\n",
       "\n",
       "       [[45, 67, 54,  3],\n",
       "        [45, 67,  3,  2]]])"
      ]
     },
     "execution_count": 69,
     "metadata": {},
     "output_type": "execute_result"
    }
   ],
   "source": [
    "xyz"
   ]
  },
  {
   "cell_type": "code",
   "execution_count": 70,
   "id": "a87c8b87-07aa-40e4-98a4-82b9ae5d492c",
   "metadata": {},
   "outputs": [
    {
     "data": {
      "text/plain": [
       "array([[ 1,  2,  3,  4],\n",
       "       [45, 67, 78, 89],\n",
       "       [45, 67, 54,  3],\n",
       "       [45, 67,  3,  2]])"
      ]
     },
     "execution_count": 70,
     "metadata": {},
     "output_type": "execute_result"
    }
   ],
   "source": [
    "xyz.reshape(4, 4)"
   ]
  },
  {
   "cell_type": "code",
   "execution_count": null,
   "id": "34e2980f-b5e6-414f-b93e-71602156f38c",
   "metadata": {},
   "outputs": [],
   "source": []
  },
  {
   "cell_type": "markdown",
   "id": "c0721803-19e1-4190-8f5f-55cc437e9d80",
   "metadata": {},
   "source": [
    "# random::::::------"
   ]
  },
  {
   "cell_type": "code",
   "execution_count": null,
   "id": "cbe71825-2aac-438f-a76b-86722a63de34",
   "metadata": {},
   "outputs": [],
   "source": []
  }
 ],
 "metadata": {
  "kernelspec": {
   "display_name": "Python 3 (ipykernel)",
   "language": "python",
   "name": "python3"
  },
  "language_info": {
   "codemirror_mode": {
    "name": "ipython",
    "version": 3
   },
   "file_extension": ".py",
   "mimetype": "text/x-python",
   "name": "python",
   "nbconvert_exporter": "python",
   "pygments_lexer": "ipython3",
   "version": "3.12.2"
  }
 },
 "nbformat": 4,
 "nbformat_minor": 5
}
