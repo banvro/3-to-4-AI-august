{
 "cells": [
  {
   "cell_type": "code",
   "execution_count": 1,
   "id": "ebb4fa7d-9a29-476f-b839-78ba8f268a04",
   "metadata": {},
   "outputs": [],
   "source": [
    "import numpy as np"
   ]
  },
  {
   "cell_type": "code",
   "execution_count": 26,
   "id": "edb31047-31b3-4820-9007-02ca16b19f7b",
   "metadata": {},
   "outputs": [],
   "source": [
    "arr = np.array([[[[34, 67, 89, 45], [56, 78, 45, 45]], [[45, 67, 89, 56], [56, 78, 45, 34]]], [[[34, 67, 89, 45], [56, 78, 45, 45]], [[45, 67, 89, 56], [56, 78, 45, 34]]]])"
   ]
  },
  {
   "cell_type": "code",
   "execution_count": 27,
   "id": "913d62ae-2d14-4b44-8bce-799d861b44cd",
   "metadata": {},
   "outputs": [
    {
     "data": {
      "text/plain": [
       "array([[[[34, 67, 89, 45],\n",
       "         [56, 78, 45, 45]],\n",
       "\n",
       "        [[45, 67, 89, 56],\n",
       "         [56, 78, 45, 34]]],\n",
       "\n",
       "\n",
       "       [[[34, 67, 89, 45],\n",
       "         [56, 78, 45, 45]],\n",
       "\n",
       "        [[45, 67, 89, 56],\n",
       "         [56, 78, 45, 34]]]])"
      ]
     },
     "execution_count": 27,
     "metadata": {},
     "output_type": "execute_result"
    }
   ],
   "source": [
    "arr"
   ]
  },
  {
   "cell_type": "code",
   "execution_count": 30,
   "id": "d001c31e-cd50-4dc5-ba84-8e5e3dc043b1",
   "metadata": {},
   "outputs": [
    {
     "data": {
      "text/plain": [
       "4"
      ]
     },
     "execution_count": 30,
     "metadata": {},
     "output_type": "execute_result"
    }
   ],
   "source": [
    "arr.ndim"
   ]
  },
  {
   "cell_type": "code",
   "execution_count": 29,
   "id": "2c4a1097-03e3-463c-b6d1-f3ec5ec2a70e",
   "metadata": {},
   "outputs": [
    {
     "data": {
      "text/plain": [
       "(2, 2, 2, 4)"
      ]
     },
     "execution_count": 29,
     "metadata": {},
     "output_type": "execute_result"
    }
   ],
   "source": [
    "arr.shape"
   ]
  },
  {
   "cell_type": "code",
   "execution_count": null,
   "id": "5e2a5be4-fb1c-480b-af94-66098a251bc3",
   "metadata": {},
   "outputs": [],
   "source": []
  },
  {
   "cell_type": "markdown",
   "id": "2828b97e-3429-4cb9-9988-e105f4d44fbf",
   "metadata": {},
   "source": [
    "## Indexing or Slicing...."
   ]
  },
  {
   "cell_type": "code",
   "execution_count": null,
   "id": "67203559-6b57-4199-b7a6-507fa8a7d0ba",
   "metadata": {},
   "outputs": [],
   "source": []
  },
  {
   "cell_type": "code",
   "execution_count": 31,
   "id": "526a6bdb-a44c-4c4c-beba-46eead2c8b42",
   "metadata": {},
   "outputs": [],
   "source": [
    "arr1 = np.array([12, 4, 56, 34, 23, 56, 78, 90, 34, 23])"
   ]
  },
  {
   "cell_type": "code",
   "execution_count": 33,
   "id": "8d3da00b-9976-4f67-9d70-ddcfc107f173",
   "metadata": {},
   "outputs": [
    {
     "data": {
      "text/plain": [
       "array([12,  4, 56, 34, 23, 56, 78, 90, 34, 23])"
      ]
     },
     "execution_count": 33,
     "metadata": {},
     "output_type": "execute_result"
    }
   ],
   "source": [
    "arr1"
   ]
  },
  {
   "cell_type": "code",
   "execution_count": null,
   "id": "570b8cab-fe18-4d3e-bf16-7bff5f344431",
   "metadata": {},
   "outputs": [],
   "source": []
  },
  {
   "cell_type": "code",
   "execution_count": 34,
   "id": "a79c59fa-fa67-4d29-9403-e5887ca7da94",
   "metadata": {},
   "outputs": [
    {
     "data": {
      "text/plain": [
       "23"
      ]
     },
     "execution_count": 34,
     "metadata": {},
     "output_type": "execute_result"
    }
   ],
   "source": [
    "# arr1[indexnumber]\n",
    "arr1[4]"
   ]
  },
  {
   "cell_type": "code",
   "execution_count": 35,
   "id": "a2d5b7d2-b198-46d1-b2b1-0104f405706a",
   "metadata": {},
   "outputs": [
    {
     "data": {
      "text/plain": [
       "34"
      ]
     },
     "execution_count": 35,
     "metadata": {},
     "output_type": "execute_result"
    }
   ],
   "source": [
    "arr1[8]"
   ]
  },
  {
   "cell_type": "code",
   "execution_count": null,
   "id": "00283273-1525-4569-83ef-f75c53d392ca",
   "metadata": {},
   "outputs": [],
   "source": []
  },
  {
   "cell_type": "markdown",
   "id": "df243e23-cfc8-45eb-b474-d700eb5a887e",
   "metadata": {},
   "source": [
    "### Negtive Indexing "
   ]
  },
  {
   "cell_type": "code",
   "execution_count": 36,
   "id": "a760627b-70d0-4834-bd0c-664eeff8dd76",
   "metadata": {},
   "outputs": [],
   "source": [
    "arr1 = np.array([12, 4, 56, 34, 23, 56, 78, 90, 34, 23])"
   ]
  },
  {
   "cell_type": "code",
   "execution_count": 37,
   "id": "22ab7d8a-476f-4c19-ba99-55a27192e6c7",
   "metadata": {},
   "outputs": [
    {
     "data": {
      "text/plain": [
       "90"
      ]
     },
     "execution_count": 37,
     "metadata": {},
     "output_type": "execute_result"
    }
   ],
   "source": [
    "arr1[-3]"
   ]
  },
  {
   "cell_type": "code",
   "execution_count": null,
   "id": "bb619937-1e07-4989-9498-179b81945969",
   "metadata": {},
   "outputs": [],
   "source": []
  },
  {
   "cell_type": "markdown",
   "id": "3652dd42-f398-4b20-aa6e-3e88bf22695e",
   "metadata": {},
   "source": [
    "# Slicing : "
   ]
  },
  {
   "cell_type": "markdown",
   "id": "076e465d-a982-44ce-b2fa-c60d9781b871",
   "metadata": {},
   "source": [
    "## objectname[start : end : increment]\n",
    "\n",
    " Default Values:\n",
    "    start -> 0\n",
    "    end -> n - 1\n",
    "    increment -> 1 "
   ]
  },
  {
   "cell_type": "code",
   "execution_count": 39,
   "id": "258a1159-81ea-4f16-a000-25d3cde26cb0",
   "metadata": {},
   "outputs": [],
   "source": [
    "arr1 = np.array([12, 4, 56, 34, 23, 56, 78, 90, 34, 23])"
   ]
  },
  {
   "cell_type": "code",
   "execution_count": null,
   "id": "1b477c07-b9ad-4a67-a120-9e09b8f62ec8",
   "metadata": {},
   "outputs": [],
   "source": []
  },
  {
   "cell_type": "code",
   "execution_count": 40,
   "id": "6a971cbe-0960-4f24-b2cf-ff78b18212e8",
   "metadata": {},
   "outputs": [
    {
     "data": {
      "text/plain": [
       "array([56, 34, 23, 56, 78, 90])"
      ]
     },
     "execution_count": 40,
     "metadata": {},
     "output_type": "execute_result"
    }
   ],
   "source": [
    "arr1[2 : 8 : 1]"
   ]
  },
  {
   "cell_type": "code",
   "execution_count": null,
   "id": "e9e5cac4-f38a-45a2-b296-0fef66378564",
   "metadata": {},
   "outputs": [],
   "source": []
  },
  {
   "cell_type": "code",
   "execution_count": null,
   "id": "50604906-a718-4a9c-b0cf-a201ff2ad822",
   "metadata": {},
   "outputs": [],
   "source": []
  },
  {
   "cell_type": "code",
   "execution_count": 41,
   "id": "2843fb61-aaa7-4ba4-a969-06f0226fd683",
   "metadata": {},
   "outputs": [],
   "source": [
    "arr1 = np.array([12, 4, 56, 34, 23, 56, 78, 90, 34, 23])"
   ]
  },
  {
   "cell_type": "code",
   "execution_count": 42,
   "id": "6bebbe78-89ec-44ed-8014-336a6bff7123",
   "metadata": {},
   "outputs": [
    {
     "data": {
      "text/plain": [
       "array([34, 23, 56, 78, 90, 34, 23])"
      ]
     },
     "execution_count": 42,
     "metadata": {},
     "output_type": "execute_result"
    }
   ],
   "source": [
    "arr1[3 : ]"
   ]
  },
  {
   "cell_type": "code",
   "execution_count": 43,
   "id": "41f10120-1d87-4998-8e3f-ca29fb8a18ce",
   "metadata": {},
   "outputs": [
    {
     "data": {
      "text/plain": [
       "array([12,  4, 56, 34, 23, 56])"
      ]
     },
     "execution_count": 43,
     "metadata": {},
     "output_type": "execute_result"
    }
   ],
   "source": [
    "arr1[ : 6]"
   ]
  },
  {
   "cell_type": "code",
   "execution_count": null,
   "id": "0553c550-80d9-493b-b9ee-80d8a5c26e23",
   "metadata": {},
   "outputs": [],
   "source": []
  },
  {
   "cell_type": "code",
   "execution_count": 44,
   "id": "00c8c1eb-8e80-47db-8b30-e42477a42052",
   "metadata": {},
   "outputs": [
    {
     "data": {
      "text/plain": [
       "array([23, 34, 90, 78, 56, 23, 34, 56,  4, 12])"
      ]
     },
     "execution_count": 44,
     "metadata": {},
     "output_type": "execute_result"
    }
   ],
   "source": [
    "arr1[: : -1]"
   ]
  },
  {
   "cell_type": "code",
   "execution_count": null,
   "id": "a617e9b8-94fe-44fd-abf9-9ac478467616",
   "metadata": {},
   "outputs": [],
   "source": []
  },
  {
   "cell_type": "code",
   "execution_count": null,
   "id": "ab1db0a6-5a6d-41e3-a1c1-f7fb7436abce",
   "metadata": {},
   "outputs": [],
   "source": []
  },
  {
   "cell_type": "markdown",
   "id": "d00ee1b2-2f50-4668-9021-aecb0ce03f13",
   "metadata": {},
   "source": [
    "## Slicing or indexing with 2-D Ndarray....."
   ]
  },
  {
   "cell_type": "code",
   "execution_count": 47,
   "id": "c7c74ee5-182d-467d-be76-5063a85db57f",
   "metadata": {},
   "outputs": [],
   "source": [
    "zx = np.array([[23, 45, 56, 67, 4, 3, 6, 34, 23, 45], [45, 67, 78, 45, 34, 2, 12, 12, 34, 22]])"
   ]
  },
  {
   "cell_type": "code",
   "execution_count": 48,
   "id": "0a8b75ed-4b51-4714-85b7-de58f5e76d1e",
   "metadata": {},
   "outputs": [
    {
     "data": {
      "text/plain": [
       "array([[23, 45, 56, 67,  4,  3,  6, 34, 23, 45],\n",
       "       [45, 67, 78, 45, 34,  2, 12, 12, 34, 22]])"
      ]
     },
     "execution_count": 48,
     "metadata": {},
     "output_type": "execute_result"
    }
   ],
   "source": [
    "zx"
   ]
  },
  {
   "cell_type": "code",
   "execution_count": 49,
   "id": "1c46c887-df8d-471d-98bb-f420de40a11a",
   "metadata": {},
   "outputs": [
    {
     "data": {
      "text/plain": [
       "(2, 10)"
      ]
     },
     "execution_count": 49,
     "metadata": {},
     "output_type": "execute_result"
    }
   ],
   "source": [
    "zx.shape"
   ]
  },
  {
   "cell_type": "code",
   "execution_count": null,
   "id": "631dbe5a-e1b1-466e-89b2-52cf1e212171",
   "metadata": {},
   "outputs": [],
   "source": []
  },
  {
   "cell_type": "code",
   "execution_count": 51,
   "id": "0e7f34cf-a511-4cc8-a254-fed9e85b00c1",
   "metadata": {},
   "outputs": [
    {
     "data": {
      "text/plain": [
       "2"
      ]
     },
     "execution_count": 51,
     "metadata": {},
     "output_type": "execute_result"
    }
   ],
   "source": [
    "zx[1][5]"
   ]
  },
  {
   "cell_type": "code",
   "execution_count": null,
   "id": "07aa76da-773c-44df-b17d-9f1dd93bc359",
   "metadata": {},
   "outputs": [],
   "source": []
  },
  {
   "cell_type": "code",
   "execution_count": 52,
   "id": "72c5c292-f27a-4786-9394-81ef520d1a36",
   "metadata": {},
   "outputs": [],
   "source": [
    "pq = np.array([[45, 56, 34, 23, 45], [45, 65, 3, 56, 34], [67, 23, 45, 23, 23]])"
   ]
  },
  {
   "cell_type": "code",
   "execution_count": 53,
   "id": "8b58d84a-ea0b-4961-ae01-77b3c46dd2f3",
   "metadata": {},
   "outputs": [
    {
     "data": {
      "text/plain": [
       "array([[45, 56, 34, 23, 45],\n",
       "       [45, 65,  3, 56, 34],\n",
       "       [67, 23, 45, 23, 23]])"
      ]
     },
     "execution_count": 53,
     "metadata": {},
     "output_type": "execute_result"
    }
   ],
   "source": [
    "pq"
   ]
  },
  {
   "cell_type": "code",
   "execution_count": null,
   "id": "6ce59142-c875-4ccb-8193-a37523ed210b",
   "metadata": {},
   "outputs": [],
   "source": []
  },
  {
   "cell_type": "code",
   "execution_count": 54,
   "id": "c5237c57-72f2-4b96-87e1-0a81dea5b286",
   "metadata": {},
   "outputs": [
    {
     "data": {
      "text/plain": [
       "23"
      ]
     },
     "execution_count": 54,
     "metadata": {},
     "output_type": "execute_result"
    }
   ],
   "source": [
    "pq[2][1]"
   ]
  },
  {
   "cell_type": "code",
   "execution_count": 55,
   "id": "95a58f39-0634-4ec3-b057-c4fcfec2b31d",
   "metadata": {},
   "outputs": [
    {
     "data": {
      "text/plain": [
       "array([65,  3, 56])"
      ]
     },
     "execution_count": 55,
     "metadata": {},
     "output_type": "execute_result"
    }
   ],
   "source": [
    "pq[1][1 : 4]"
   ]
  },
  {
   "cell_type": "code",
   "execution_count": null,
   "id": "cf88683a-dc90-41be-85f8-bf1b93312ba2",
   "metadata": {},
   "outputs": [],
   "source": []
  },
  {
   "cell_type": "code",
   "execution_count": null,
   "id": "a40315e0-7eca-4722-8867-f82d87c173e9",
   "metadata": {},
   "outputs": [],
   "source": []
  },
  {
   "cell_type": "code",
   "execution_count": 56,
   "id": "4ce422cf-f276-49b5-923b-835322eedd09",
   "metadata": {},
   "outputs": [],
   "source": [
    "# With 3D"
   ]
  },
  {
   "cell_type": "code",
   "execution_count": 57,
   "id": "84b125e3-d37f-4996-b33f-f644986efcd7",
   "metadata": {},
   "outputs": [],
   "source": [
    "zx = np.array([[[45, 34, 23, 45], [45, 67, 45, 34]], [[56, 34, 2, 23], [45, 23, 12, 345]]])"
   ]
  },
  {
   "cell_type": "code",
   "execution_count": 58,
   "id": "f9eb1230-fc48-4e20-9c34-6fbaa6bf7bf5",
   "metadata": {},
   "outputs": [
    {
     "data": {
      "text/plain": [
       "array([[[ 45,  34,  23,  45],\n",
       "        [ 45,  67,  45,  34]],\n",
       "\n",
       "       [[ 56,  34,   2,  23],\n",
       "        [ 45,  23,  12, 345]]])"
      ]
     },
     "execution_count": 58,
     "metadata": {},
     "output_type": "execute_result"
    }
   ],
   "source": [
    "zx"
   ]
  },
  {
   "cell_type": "code",
   "execution_count": 60,
   "id": "8cb89ad4-7377-4e4d-b92b-576afe1010ae",
   "metadata": {},
   "outputs": [],
   "source": [
    "# zx.shape"
   ]
  },
  {
   "cell_type": "code",
   "execution_count": 63,
   "id": "e302c955-a190-47be-9cac-3360ec9d7e62",
   "metadata": {},
   "outputs": [
    {
     "data": {
      "text/plain": [
       "2"
      ]
     },
     "execution_count": 63,
     "metadata": {},
     "output_type": "execute_result"
    }
   ],
   "source": [
    "zx[1][0][2]"
   ]
  },
  {
   "cell_type": "code",
   "execution_count": 64,
   "id": "80eb13ac-26c6-482e-8730-b4f3c4574e68",
   "metadata": {},
   "outputs": [
    {
     "data": {
      "text/plain": [
       "array([67, 45, 34])"
      ]
     },
     "execution_count": 64,
     "metadata": {},
     "output_type": "execute_result"
    }
   ],
   "source": [
    "zx[0][1][1:]"
   ]
  },
  {
   "cell_type": "code",
   "execution_count": null,
   "id": "9427c555-4996-476e-b348-fb45ff980186",
   "metadata": {},
   "outputs": [],
   "source": []
  },
  {
   "cell_type": "code",
   "execution_count": 66,
   "id": "b0df0baf-cf91-4969-bc69-0bb347d6f142",
   "metadata": {},
   "outputs": [],
   "source": [
    "# zx.dtype"
   ]
  },
  {
   "cell_type": "code",
   "execution_count": null,
   "id": "7ebce9fa-2e71-437c-96d8-67b7bc8940f8",
   "metadata": {},
   "outputs": [],
   "source": [
    "type()"
   ]
  },
  {
   "cell_type": "markdown",
   "id": "d3b487cd-d6c2-444c-bd3d-ea8d526bf083",
   "metadata": {},
   "source": [
    "# dtype"
   ]
  },
  {
   "cell_type": "code",
   "execution_count": null,
   "id": "dff7231b-57bc-4aae-80fd-37709f648e1e",
   "metadata": {},
   "outputs": [],
   "source": []
  },
  {
   "cell_type": "code",
   "execution_count": 69,
   "id": "ff9868e4-4d03-479c-afa9-1d5a69d71702",
   "metadata": {},
   "outputs": [],
   "source": [
    "zx = np.array([34, 56, 3, 56, \"car\"])"
   ]
  },
  {
   "cell_type": "code",
   "execution_count": 70,
   "id": "f4f59b18-5f10-43b1-afbb-b8c1145fb1f1",
   "metadata": {},
   "outputs": [
    {
     "data": {
      "text/plain": [
       "dtype('<U11')"
      ]
     },
     "execution_count": 70,
     "metadata": {},
     "output_type": "execute_result"
    }
   ],
   "source": [
    "zx.dtype"
   ]
  },
  {
   "cell_type": "code",
   "execution_count": null,
   "id": "e9575c0d-0ed2-427a-8a54-ae4941d58765",
   "metadata": {},
   "outputs": [],
   "source": []
  },
  {
   "cell_type": "code",
   "execution_count": null,
   "id": "9962a2b7-b296-4e76-9f28-550b268f316c",
   "metadata": {},
   "outputs": [],
   "source": []
  },
  {
   "cell_type": "code",
   "execution_count": 71,
   "id": "c6a2ef62-5e21-4543-8e35-f8ae49191d96",
   "metadata": {},
   "outputs": [],
   "source": [
    "# python list ---> range()"
   ]
  },
  {
   "cell_type": "code",
   "execution_count": 72,
   "id": "1f4fb184-8250-4fdf-b6fd-5628962c2ed3",
   "metadata": {},
   "outputs": [],
   "source": [
    "# arange()"
   ]
  },
  {
   "cell_type": "code",
   "execution_count": 73,
   "id": "2e72befe-b60e-435b-addc-55d4eeda41fa",
   "metadata": {},
   "outputs": [],
   "source": [
    "# 1 ----- 20"
   ]
  },
  {
   "cell_type": "code",
   "execution_count": 74,
   "id": "e6ff3f2a-8175-481f-a955-337c12891bea",
   "metadata": {},
   "outputs": [],
   "source": [
    "data = np.arange(1, 21)"
   ]
  },
  {
   "cell_type": "code",
   "execution_count": 75,
   "id": "f000d802-5de6-4ba0-82c1-72c838af6a6e",
   "metadata": {},
   "outputs": [
    {
     "data": {
      "text/plain": [
       "array([ 1,  2,  3,  4,  5,  6,  7,  8,  9, 10, 11, 12, 13, 14, 15, 16, 17,\n",
       "       18, 19, 20])"
      ]
     },
     "execution_count": 75,
     "metadata": {},
     "output_type": "execute_result"
    }
   ],
   "source": [
    "data"
   ]
  },
  {
   "cell_type": "code",
   "execution_count": null,
   "id": "b16cd485-32ab-4753-a8cb-5094ab212fbe",
   "metadata": {},
   "outputs": [],
   "source": []
  },
  {
   "cell_type": "code",
   "execution_count": 76,
   "id": "020a3d0e-12ac-4d37-8201-764facf67cc6",
   "metadata": {},
   "outputs": [],
   "source": [
    "# list"
   ]
  },
  {
   "cell_type": "code",
   "execution_count": null,
   "id": "63488d44-7997-40bc-a70a-383ba91be1cf",
   "metadata": {},
   "outputs": [],
   "source": []
  }
 ],
 "metadata": {
  "kernelspec": {
   "display_name": "Python 3 (ipykernel)",
   "language": "python",
   "name": "python3"
  },
  "language_info": {
   "codemirror_mode": {
    "name": "ipython",
    "version": 3
   },
   "file_extension": ".py",
   "mimetype": "text/x-python",
   "name": "python",
   "nbconvert_exporter": "python",
   "pygments_lexer": "ipython3",
   "version": "3.12.2"
  }
 },
 "nbformat": 4,
 "nbformat_minor": 5
}
