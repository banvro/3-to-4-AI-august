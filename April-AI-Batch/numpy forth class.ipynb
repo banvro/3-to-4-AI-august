{
 "cells": [
  {
   "cell_type": "code",
   "execution_count": 1,
   "id": "41491872-3388-4d2a-a7df-02e0cc7f2bf3",
   "metadata": {},
   "outputs": [],
   "source": [
    "import numpy as np"
   ]
  },
  {
   "cell_type": "code",
   "execution_count": 4,
   "id": "c9840221-dbd0-42f8-a7ca-9e2f11fff886",
   "metadata": {},
   "outputs": [],
   "source": [
    "zx = np.array([])"
   ]
  },
  {
   "cell_type": "code",
   "execution_count": null,
   "id": "b3cd4680-da08-4b12-afbb-0493091045bf",
   "metadata": {},
   "outputs": [],
   "source": [
    "array[\"2 x 1 = 2\", \"2 x 2 = 4\", \"2 x 3 = 6\", . .. . . . . ., \"2 x 10 = 20\"]"
   ]
  },
  {
   "cell_type": "code",
   "execution_count": null,
   "id": "d986bbb7-f09d-4ec8-9a67-da209a5a1c52",
   "metadata": {},
   "outputs": [],
   "source": []
  },
  {
   "cell_type": "code",
   "execution_count": 9,
   "id": "eeb7edc2-78c4-4de2-80eb-de0071e71c7e",
   "metadata": {},
   "outputs": [],
   "source": [
    "for i in np.arange(1, 11):\n",
    "    zx = np.append(zx, f\"2 x {i} = {2*i}\")"
   ]
  },
  {
   "cell_type": "code",
   "execution_count": 10,
   "id": "4552ec14-2bef-4329-b5b8-43c9712ee733",
   "metadata": {},
   "outputs": [
    {
     "data": {
      "text/plain": [
       "array(['2 x 1 = 2', '2 x 2 = 4', '2 x 3 = 6', '2 x 4 = 8', '2 x 5 = 10',\n",
       "       '2 x 6 = 12', '2 x 7 = 14', '2 x 8 = 16', '2 x 9 = 18',\n",
       "       '2 x 10 = 20'], dtype='<U32')"
      ]
     },
     "execution_count": 10,
     "metadata": {},
     "output_type": "execute_result"
    }
   ],
   "source": [
    "zx"
   ]
  },
  {
   "cell_type": "code",
   "execution_count": null,
   "id": "46039f87-5abb-477a-9da9-5ece0d6a6d06",
   "metadata": {},
   "outputs": [],
   "source": []
  },
  {
   "cell_type": "code",
   "execution_count": null,
   "id": "05ebfb05-b8cd-4225-968a-a06c2dd9d8ee",
   "metadata": {},
   "outputs": [],
   "source": []
  },
  {
   "cell_type": "markdown",
   "id": "428c77a5-4f9a-4c0c-8ca2-ad66cdd0a0d7",
   "metadata": {},
   "source": [
    "## unique"
   ]
  },
  {
   "cell_type": "code",
   "execution_count": 12,
   "id": "b256d535-6998-45a0-9d83-67d342a5d5e0",
   "metadata": {},
   "outputs": [],
   "source": [
    "arr = np.array([12, 45, 67, 34, 23, 3, 45, 56, 34, 23, 2, 2, 34, 45, 3, 4, 3, 3, 3, 56, 67])"
   ]
  },
  {
   "cell_type": "code",
   "execution_count": null,
   "id": "90e22c38-4e39-4853-9a3d-37ed88ee88df",
   "metadata": {},
   "outputs": [],
   "source": []
  },
  {
   "cell_type": "code",
   "execution_count": 15,
   "id": "636f152e-ee41-4b99-8e08-bf900761f272",
   "metadata": {},
   "outputs": [],
   "source": [
    "# zx = {12, 45, 67, 34, 23, 3, 45, 56, 34, 23, 2, 2, 34, 45, 3, 4, 3, 3, 3, 56, 67}"
   ]
  },
  {
   "cell_type": "code",
   "execution_count": 16,
   "id": "eca44bb8-622d-4d10-af91-ba36f1716253",
   "metadata": {},
   "outputs": [],
   "source": [
    "# zx"
   ]
  },
  {
   "cell_type": "code",
   "execution_count": 17,
   "id": "a3ec1507-ebdf-4e0e-91cb-394bee4583eb",
   "metadata": {},
   "outputs": [
    {
     "data": {
      "text/plain": [
       "array([12, 45, 67, 34, 23,  3, 45, 56, 34, 23,  2,  2, 34, 45,  3,  4,  3,\n",
       "        3,  3, 56, 67])"
      ]
     },
     "execution_count": 17,
     "metadata": {},
     "output_type": "execute_result"
    }
   ],
   "source": [
    "arr"
   ]
  },
  {
   "cell_type": "code",
   "execution_count": null,
   "id": "97a3436a-f897-4656-843a-cdba959396e1",
   "metadata": {},
   "outputs": [],
   "source": []
  },
  {
   "cell_type": "code",
   "execution_count": 18,
   "id": "34250682-d502-4081-8660-4bd2d84957f5",
   "metadata": {},
   "outputs": [
    {
     "data": {
      "text/plain": [
       "array([ 2,  3,  4, 12, 23, 34, 45, 56, 67])"
      ]
     },
     "execution_count": 18,
     "metadata": {},
     "output_type": "execute_result"
    }
   ],
   "source": [
    "np.unique(arr)"
   ]
  },
  {
   "cell_type": "code",
   "execution_count": null,
   "id": "210ee677-84fc-4862-b4a8-9a9b73e851a6",
   "metadata": {},
   "outputs": [],
   "source": []
  },
  {
   "cell_type": "code",
   "execution_count": 19,
   "id": "4d58b871-f667-45dc-9d7f-bb76ef7c2ff5",
   "metadata": {},
   "outputs": [],
   "source": [
    "# zeros()"
   ]
  },
  {
   "cell_type": "code",
   "execution_count": 29,
   "id": "81619e78-338a-4505-9945-53e52ce79358",
   "metadata": {},
   "outputs": [],
   "source": [
    "xyz = np.zeros((3, 5))"
   ]
  },
  {
   "cell_type": "code",
   "execution_count": 30,
   "id": "82546f18-0bb8-4ab1-9ffc-194cca1d9e91",
   "metadata": {},
   "outputs": [
    {
     "data": {
      "text/plain": [
       "array([[0., 0., 0., 0., 0.],\n",
       "       [0., 0., 0., 0., 0.],\n",
       "       [0., 0., 0., 0., 0.]])"
      ]
     },
     "execution_count": 30,
     "metadata": {},
     "output_type": "execute_result"
    }
   ],
   "source": [
    "xyz"
   ]
  },
  {
   "cell_type": "code",
   "execution_count": null,
   "id": "6c26e424-174d-4201-aafe-cd6b05cb3056",
   "metadata": {},
   "outputs": [],
   "source": []
  },
  {
   "cell_type": "code",
   "execution_count": 35,
   "id": "48d4d04b-561c-4ea1-bb68-4d7077c47c67",
   "metadata": {},
   "outputs": [],
   "source": [
    "xyz = np.zeros((3, 5), int)"
   ]
  },
  {
   "cell_type": "code",
   "execution_count": 36,
   "id": "98bfadd5-37a3-46d7-aadf-4309deff0dfa",
   "metadata": {},
   "outputs": [
    {
     "data": {
      "text/plain": [
       "array([[0, 0, 0, 0, 0],\n",
       "       [0, 0, 0, 0, 0],\n",
       "       [0, 0, 0, 0, 0]])"
      ]
     },
     "execution_count": 36,
     "metadata": {},
     "output_type": "execute_result"
    }
   ],
   "source": [
    "xyz"
   ]
  },
  {
   "cell_type": "code",
   "execution_count": null,
   "id": "655389b3-495d-40a4-88a8-91b958534795",
   "metadata": {},
   "outputs": [],
   "source": []
  },
  {
   "cell_type": "markdown",
   "id": "c7095440-efb5-4025-85eb-c88787218568",
   "metadata": {},
   "source": [
    "## ones funcation"
   ]
  },
  {
   "cell_type": "code",
   "execution_count": null,
   "id": "b6076b60-e96f-4670-8dd4-48a3564f163d",
   "metadata": {},
   "outputs": [],
   "source": []
  },
  {
   "cell_type": "code",
   "execution_count": 43,
   "id": "4d3a80f1-85c5-4f2d-ac80-c899b48a9832",
   "metadata": {},
   "outputs": [],
   "source": [
    "hey = np.ones((3, 4, 5))"
   ]
  },
  {
   "cell_type": "code",
   "execution_count": 44,
   "id": "941e6a8b-2dae-41ca-a01a-0ae367d8aea0",
   "metadata": {},
   "outputs": [
    {
     "data": {
      "text/plain": [
       "array([[[1., 1., 1., 1., 1.],\n",
       "        [1., 1., 1., 1., 1.],\n",
       "        [1., 1., 1., 1., 1.],\n",
       "        [1., 1., 1., 1., 1.]],\n",
       "\n",
       "       [[1., 1., 1., 1., 1.],\n",
       "        [1., 1., 1., 1., 1.],\n",
       "        [1., 1., 1., 1., 1.],\n",
       "        [1., 1., 1., 1., 1.]],\n",
       "\n",
       "       [[1., 1., 1., 1., 1.],\n",
       "        [1., 1., 1., 1., 1.],\n",
       "        [1., 1., 1., 1., 1.],\n",
       "        [1., 1., 1., 1., 1.]]])"
      ]
     },
     "execution_count": 44,
     "metadata": {},
     "output_type": "execute_result"
    }
   ],
   "source": [
    "hey"
   ]
  },
  {
   "cell_type": "code",
   "execution_count": null,
   "id": "f9f74945-ec87-486c-88a1-2a6f8e25d005",
   "metadata": {},
   "outputs": [],
   "source": []
  },
  {
   "cell_type": "code",
   "execution_count": null,
   "id": "0a8a2ece-b01d-4357-a35c-e07534ada82a",
   "metadata": {},
   "outputs": [],
   "source": []
  },
  {
   "cell_type": "markdown",
   "id": "d8b7f72b-0509-40d2-baca-3520416a23bc",
   "metadata": {},
   "source": [
    "## transpose:::::"
   ]
  },
  {
   "cell_type": "code",
   "execution_count": 45,
   "id": "207a8e6e-ab45-4536-87a1-dbd46486dbe9",
   "metadata": {},
   "outputs": [],
   "source": [
    "xyz = np.array([[12, 34, 56, 67], [67, 89, 56, 45]])"
   ]
  },
  {
   "cell_type": "code",
   "execution_count": 46,
   "id": "94569c8f-5904-465b-b27b-ceaa64351315",
   "metadata": {},
   "outputs": [
    {
     "data": {
      "text/plain": [
       "array([[12, 34, 56, 67],\n",
       "       [67, 89, 56, 45]])"
      ]
     },
     "execution_count": 46,
     "metadata": {},
     "output_type": "execute_result"
    }
   ],
   "source": [
    "xyz"
   ]
  },
  {
   "cell_type": "code",
   "execution_count": null,
   "id": "303807ff-ac2a-4dea-9588-e66aa5814f7c",
   "metadata": {},
   "outputs": [],
   "source": []
  },
  {
   "cell_type": "code",
   "execution_count": 49,
   "id": "8bad3c7b-6417-4f91-ab36-80bb5b94aff0",
   "metadata": {},
   "outputs": [
    {
     "data": {
      "text/plain": [
       "array([[12, 67],\n",
       "       [34, 89],\n",
       "       [56, 56],\n",
       "       [67, 45]])"
      ]
     },
     "execution_count": 49,
     "metadata": {},
     "output_type": "execute_result"
    }
   ],
   "source": [
    "xyz.transpose()"
   ]
  },
  {
   "cell_type": "code",
   "execution_count": null,
   "id": "d897cb54-4166-4cab-9f1f-facb6c0c41ec",
   "metadata": {},
   "outputs": [],
   "source": []
  },
  {
   "cell_type": "code",
   "execution_count": 48,
   "id": "5096c795-d02c-4e1c-83e4-a33dab178ce0",
   "metadata": {},
   "outputs": [
    {
     "data": {
      "text/plain": [
       "array([[12, 67],\n",
       "       [34, 89],\n",
       "       [56, 56],\n",
       "       [67, 45]])"
      ]
     },
     "execution_count": 48,
     "metadata": {},
     "output_type": "execute_result"
    }
   ],
   "source": [
    "np.transpose(xyz)"
   ]
  },
  {
   "cell_type": "code",
   "execution_count": null,
   "id": "f5feab6f-2076-4766-aa6d-2e65ab63624a",
   "metadata": {},
   "outputs": [],
   "source": []
  },
  {
   "cell_type": "code",
   "execution_count": null,
   "id": "0dfe20d9-c761-4c2b-bdda-7010fcc494a1",
   "metadata": {},
   "outputs": [],
   "source": []
  },
  {
   "cell_type": "code",
   "execution_count": 50,
   "id": "5a6491f6-fdf3-4d89-9bc2-05b336ec33c8",
   "metadata": {},
   "outputs": [
    {
     "name": "stdout",
     "output_type": "stream",
     "text": [
      "Help on _ArrayFunctionDispatcher in module numpy:\n",
      "\n",
      "sum(a, axis=None, dtype=None, out=None, keepdims=<no value>, initial=<no value>, where=<no value>)\n",
      "    Sum of array elements over a given axis.\n",
      "\n",
      "    Parameters\n",
      "    ----------\n",
      "    a : array_like\n",
      "        Elements to sum.\n",
      "    axis : None or int or tuple of ints, optional\n",
      "        Axis or axes along which a sum is performed.  The default,\n",
      "        axis=None, will sum all of the elements of the input array.  If\n",
      "        axis is negative it counts from the last to the first axis.\n",
      "\n",
      "        .. versionadded:: 1.7.0\n",
      "\n",
      "        If axis is a tuple of ints, a sum is performed on all of the axes\n",
      "        specified in the tuple instead of a single axis or all the axes as\n",
      "        before.\n",
      "    dtype : dtype, optional\n",
      "        The type of the returned array and of the accumulator in which the\n",
      "        elements are summed.  The dtype of `a` is used by default unless `a`\n",
      "        has an integer dtype of less precision than the default platform\n",
      "        integer.  In that case, if `a` is signed then the platform integer\n",
      "        is used while if `a` is unsigned then an unsigned integer of the\n",
      "        same precision as the platform integer is used.\n",
      "    out : ndarray, optional\n",
      "        Alternative output array in which to place the result. It must have\n",
      "        the same shape as the expected output, but the type of the output\n",
      "        values will be cast if necessary.\n",
      "    keepdims : bool, optional\n",
      "        If this is set to True, the axes which are reduced are left\n",
      "        in the result as dimensions with size one. With this option,\n",
      "        the result will broadcast correctly against the input array.\n",
      "\n",
      "        If the default value is passed, then `keepdims` will not be\n",
      "        passed through to the `sum` method of sub-classes of\n",
      "        `ndarray`, however any non-default value will be.  If the\n",
      "        sub-class' method does not implement `keepdims` any\n",
      "        exceptions will be raised.\n",
      "    initial : scalar, optional\n",
      "        Starting value for the sum. See `~numpy.ufunc.reduce` for details.\n",
      "\n",
      "        .. versionadded:: 1.15.0\n",
      "\n",
      "    where : array_like of bool, optional\n",
      "        Elements to include in the sum. See `~numpy.ufunc.reduce` for details.\n",
      "\n",
      "        .. versionadded:: 1.17.0\n",
      "\n",
      "    Returns\n",
      "    -------\n",
      "    sum_along_axis : ndarray\n",
      "        An array with the same shape as `a`, with the specified\n",
      "        axis removed.   If `a` is a 0-d array, or if `axis` is None, a scalar\n",
      "        is returned.  If an output array is specified, a reference to\n",
      "        `out` is returned.\n",
      "\n",
      "    See Also\n",
      "    --------\n",
      "    ndarray.sum : Equivalent method.\n",
      "\n",
      "    add.reduce : Equivalent functionality of `add`.\n",
      "\n",
      "    cumsum : Cumulative sum of array elements.\n",
      "\n",
      "    trapz : Integration of array values using the composite trapezoidal rule.\n",
      "\n",
      "    mean, average\n",
      "\n",
      "    Notes\n",
      "    -----\n",
      "    Arithmetic is modular when using integer types, and no error is\n",
      "    raised on overflow.\n",
      "\n",
      "    The sum of an empty array is the neutral element 0:\n",
      "\n",
      "    >>> np.sum([])\n",
      "    0.0\n",
      "\n",
      "    For floating point numbers the numerical precision of sum (and\n",
      "    ``np.add.reduce``) is in general limited by directly adding each number\n",
      "    individually to the result causing rounding errors in every step.\n",
      "    However, often numpy will use a  numerically better approach (partial\n",
      "    pairwise summation) leading to improved precision in many use-cases.\n",
      "    This improved precision is always provided when no ``axis`` is given.\n",
      "    When ``axis`` is given, it will depend on which axis is summed.\n",
      "    Technically, to provide the best speed possible, the improved precision\n",
      "    is only used when the summation is along the fast axis in memory.\n",
      "    Note that the exact precision may vary depending on other parameters.\n",
      "    In contrast to NumPy, Python's ``math.fsum`` function uses a slower but\n",
      "    more precise approach to summation.\n",
      "    Especially when summing a large number of lower precision floating point\n",
      "    numbers, such as ``float32``, numerical errors can become significant.\n",
      "    In such cases it can be advisable to use `dtype=\"float64\"` to use a higher\n",
      "    precision for the output.\n",
      "\n",
      "    Examples\n",
      "    --------\n",
      "    >>> np.sum([0.5, 1.5])\n",
      "    2.0\n",
      "    >>> np.sum([0.5, 0.7, 0.2, 1.5], dtype=np.int32)\n",
      "    1\n",
      "    >>> np.sum([[0, 1], [0, 5]])\n",
      "    6\n",
      "    >>> np.sum([[0, 1], [0, 5]], axis=0)\n",
      "    array([0, 6])\n",
      "    >>> np.sum([[0, 1], [0, 5]], axis=1)\n",
      "    array([1, 5])\n",
      "    >>> np.sum([[0, 1], [np.nan, 5]], where=[False, True], axis=1)\n",
      "    array([1., 5.])\n",
      "\n",
      "    If the accumulator is too small, overflow occurs:\n",
      "\n",
      "    >>> np.ones(128, dtype=np.int8).sum(dtype=np.int8)\n",
      "    -128\n",
      "\n",
      "    You can also start the sum with a value other than zero:\n",
      "\n",
      "    >>> np.sum([10], initial=5)\n",
      "    15\n",
      "\n"
     ]
    }
   ],
   "source": [
    "help(np.sum)"
   ]
  },
  {
   "cell_type": "code",
   "execution_count": null,
   "id": "79f27fc1-6914-479a-8a03-06d56c26740a",
   "metadata": {},
   "outputs": [],
   "source": []
  },
  {
   "cell_type": "code",
   "execution_count": 51,
   "id": "3ef9b773-0d9e-421d-8302-388cc17b8d44",
   "metadata": {},
   "outputs": [],
   "source": [
    "a = np.array([3, 5, 6, 3, 4])\n",
    "b = np.array([1, 2, 1, 2, 3])"
   ]
  },
  {
   "cell_type": "code",
   "execution_count": 52,
   "id": "efea71be-8b2d-4f83-912f-ec97133ae543",
   "metadata": {},
   "outputs": [
    {
     "data": {
      "text/plain": [
       "array([4, 7, 7, 5, 7])"
      ]
     },
     "execution_count": 52,
     "metadata": {},
     "output_type": "execute_result"
    }
   ],
   "source": [
    "a + b"
   ]
  },
  {
   "cell_type": "code",
   "execution_count": 55,
   "id": "68a53601-7392-45fe-88e8-7af2a459a50e",
   "metadata": {},
   "outputs": [
    {
     "data": {
      "text/plain": [
       "21"
      ]
     },
     "execution_count": 55,
     "metadata": {},
     "output_type": "execute_result"
    }
   ],
   "source": [
    "np.sum(a)"
   ]
  },
  {
   "cell_type": "code",
   "execution_count": 56,
   "id": "18169776-f556-4fa1-9692-5ecd4e248484",
   "metadata": {},
   "outputs": [
    {
     "data": {
      "text/plain": [
       "9"
      ]
     },
     "execution_count": 56,
     "metadata": {},
     "output_type": "execute_result"
    }
   ],
   "source": [
    "np.sum(b)"
   ]
  },
  {
   "cell_type": "code",
   "execution_count": 57,
   "id": "20e9a0d4-ed22-4a4a-a1f6-300945d3b78b",
   "metadata": {},
   "outputs": [
    {
     "data": {
      "text/plain": [
       "30"
      ]
     },
     "execution_count": 57,
     "metadata": {},
     "output_type": "execute_result"
    }
   ],
   "source": [
    "np.sum((a, b))"
   ]
  },
  {
   "cell_type": "code",
   "execution_count": null,
   "id": "5d5f3db7-01eb-4d3f-913f-2838503cabc8",
   "metadata": {},
   "outputs": [],
   "source": []
  },
  {
   "cell_type": "markdown",
   "id": "7c575def-4fea-42fa-bc55-d3d7264f5d70",
   "metadata": {},
   "source": [
    "## min and max......"
   ]
  },
  {
   "cell_type": "code",
   "execution_count": null,
   "id": "c25998da-0814-4608-b9bb-cef7cf8f4a9f",
   "metadata": {},
   "outputs": [],
   "source": []
  },
  {
   "cell_type": "code",
   "execution_count": 58,
   "id": "b23960f7-a2c4-4f1b-bcb0-8dd81bbc1633",
   "metadata": {},
   "outputs": [],
   "source": [
    "zx = np.array([34, 5, 67, 89, 45, 34, 23, 23, 34, 45, 67, 78, 45, 67, 34, 56, 34])"
   ]
  },
  {
   "cell_type": "code",
   "execution_count": 59,
   "id": "dfac8377-8a11-4e5b-878e-3ff1e1bd2406",
   "metadata": {},
   "outputs": [
    {
     "data": {
      "text/plain": [
       "5"
      ]
     },
     "execution_count": 59,
     "metadata": {},
     "output_type": "execute_result"
    }
   ],
   "source": [
    "zx.min()"
   ]
  },
  {
   "cell_type": "code",
   "execution_count": 60,
   "id": "994c809e-4072-42e4-aefe-f06cc58edf65",
   "metadata": {},
   "outputs": [
    {
     "data": {
      "text/plain": [
       "5"
      ]
     },
     "execution_count": 60,
     "metadata": {},
     "output_type": "execute_result"
    }
   ],
   "source": [
    "np.min(zx)"
   ]
  },
  {
   "cell_type": "code",
   "execution_count": 61,
   "id": "62394af3-5f7e-4cf0-b741-fa56f1f78435",
   "metadata": {},
   "outputs": [
    {
     "data": {
      "text/plain": [
       "89"
      ]
     },
     "execution_count": 61,
     "metadata": {},
     "output_type": "execute_result"
    }
   ],
   "source": [
    "zx.max()"
   ]
  },
  {
   "cell_type": "code",
   "execution_count": 62,
   "id": "c6a2bb81-631d-4156-a5b3-d5a46c9d7122",
   "metadata": {},
   "outputs": [
    {
     "data": {
      "text/plain": [
       "89"
      ]
     },
     "execution_count": 62,
     "metadata": {},
     "output_type": "execute_result"
    }
   ],
   "source": [
    "np.max(zx)"
   ]
  },
  {
   "cell_type": "code",
   "execution_count": null,
   "id": "8369b3b7-646e-4a3a-a6da-e0a906ffe833",
   "metadata": {},
   "outputs": [],
   "source": []
  },
  {
   "cell_type": "markdown",
   "id": "295d53c0-54ba-4a6d-9167-1fffdcd5f59f",
   "metadata": {},
   "source": [
    "## mean(), median(), mode()"
   ]
  },
  {
   "cell_type": "code",
   "execution_count": 64,
   "id": "0461194b-b9cb-4f9d-810b-dbefdac26270",
   "metadata": {},
   "outputs": [],
   "source": [
    "zx = np.array([34, 5, 67, 89, 45, 34, 23, 23, 34, 45, 67, 78, 45, 67, 34, 56, 34])"
   ]
  },
  {
   "cell_type": "code",
   "execution_count": null,
   "id": "2ca8705f-3524-4cda-ace9-5f8d0fbfd8f9",
   "metadata": {},
   "outputs": [],
   "source": []
  },
  {
   "cell_type": "code",
   "execution_count": 65,
   "id": "37c4eee3-9618-4f4d-8b8c-1a96bac1d415",
   "metadata": {},
   "outputs": [
    {
     "data": {
      "text/plain": [
       "45.88235294117647"
      ]
     },
     "execution_count": 65,
     "metadata": {},
     "output_type": "execute_result"
    }
   ],
   "source": [
    "np.mean(zx)"
   ]
  },
  {
   "cell_type": "code",
   "execution_count": null,
   "id": "7c6b3213-2918-4d23-aa38-8a12d03e2c7e",
   "metadata": {},
   "outputs": [],
   "source": []
  },
  {
   "cell_type": "code",
   "execution_count": 66,
   "id": "98e96324-76f4-40fb-89c1-a5dc14eb425d",
   "metadata": {},
   "outputs": [
    {
     "name": "stdout",
     "output_type": "stream",
     "text": [
      "Help on _ArrayFunctionDispatcher in module numpy:\n",
      "\n",
      "median(a, axis=None, out=None, overwrite_input=False, keepdims=False)\n",
      "    Compute the median along the specified axis.\n",
      "\n",
      "    Returns the median of the array elements.\n",
      "\n",
      "    Parameters\n",
      "    ----------\n",
      "    a : array_like\n",
      "        Input array or object that can be converted to an array.\n",
      "    axis : {int, sequence of int, None}, optional\n",
      "        Axis or axes along which the medians are computed. The default\n",
      "        is to compute the median along a flattened version of the array.\n",
      "        A sequence of axes is supported since version 1.9.0.\n",
      "    out : ndarray, optional\n",
      "        Alternative output array in which to place the result. It must\n",
      "        have the same shape and buffer length as the expected output,\n",
      "        but the type (of the output) will be cast if necessary.\n",
      "    overwrite_input : bool, optional\n",
      "       If True, then allow use of memory of input array `a` for\n",
      "       calculations. The input array will be modified by the call to\n",
      "       `median`. This will save memory when you do not need to preserve\n",
      "       the contents of the input array. Treat the input as undefined,\n",
      "       but it will probably be fully or partially sorted. Default is\n",
      "       False. If `overwrite_input` is ``True`` and `a` is not already an\n",
      "       `ndarray`, an error will be raised.\n",
      "    keepdims : bool, optional\n",
      "        If this is set to True, the axes which are reduced are left\n",
      "        in the result as dimensions with size one. With this option,\n",
      "        the result will broadcast correctly against the original `arr`.\n",
      "\n",
      "        .. versionadded:: 1.9.0\n",
      "\n",
      "    Returns\n",
      "    -------\n",
      "    median : ndarray\n",
      "        A new array holding the result. If the input contains integers\n",
      "        or floats smaller than ``float64``, then the output data-type is\n",
      "        ``np.float64``.  Otherwise, the data-type of the output is the\n",
      "        same as that of the input. If `out` is specified, that array is\n",
      "        returned instead.\n",
      "\n",
      "    See Also\n",
      "    --------\n",
      "    mean, percentile\n",
      "\n",
      "    Notes\n",
      "    -----\n",
      "    Given a vector ``V`` of length ``N``, the median of ``V`` is the\n",
      "    middle value of a sorted copy of ``V``, ``V_sorted`` - i\n",
      "    e., ``V_sorted[(N-1)/2]``, when ``N`` is odd, and the average of the\n",
      "    two middle values of ``V_sorted`` when ``N`` is even.\n",
      "\n",
      "    Examples\n",
      "    --------\n",
      "    >>> a = np.array([[10, 7, 4], [3, 2, 1]])\n",
      "    >>> a\n",
      "    array([[10,  7,  4],\n",
      "           [ 3,  2,  1]])\n",
      "    >>> np.median(a)\n",
      "    3.5\n",
      "    >>> np.median(a, axis=0)\n",
      "    array([6.5, 4.5, 2.5])\n",
      "    >>> np.median(a, axis=1)\n",
      "    array([7.,  2.])\n",
      "    >>> m = np.median(a, axis=0)\n",
      "    >>> out = np.zeros_like(m)\n",
      "    >>> np.median(a, axis=0, out=m)\n",
      "    array([6.5,  4.5,  2.5])\n",
      "    >>> m\n",
      "    array([6.5,  4.5,  2.5])\n",
      "    >>> b = a.copy()\n",
      "    >>> np.median(b, axis=1, overwrite_input=True)\n",
      "    array([7.,  2.])\n",
      "    >>> assert not np.all(a==b)\n",
      "    >>> b = a.copy()\n",
      "    >>> np.median(b, axis=None, overwrite_input=True)\n",
      "    3.5\n",
      "    >>> assert not np.all(a==b)\n",
      "\n"
     ]
    }
   ],
   "source": [
    "help(np.median)"
   ]
  },
  {
   "cell_type": "code",
   "execution_count": null,
   "id": "33e1c73a-7439-4dc6-820d-e29d26c12144",
   "metadata": {},
   "outputs": [],
   "source": []
  },
  {
   "cell_type": "code",
   "execution_count": 71,
   "id": "55780d11-b666-4aa9-9385-80df3a30f0d9",
   "metadata": {},
   "outputs": [],
   "source": [
    "zx = np.array([3, 2, 1, 0, 3, 4])"
   ]
  },
  {
   "cell_type": "code",
   "execution_count": 72,
   "id": "2934702e-bddd-4b56-8ab0-293aaafeb419",
   "metadata": {},
   "outputs": [
    {
     "data": {
      "text/plain": [
       "2.5"
      ]
     },
     "execution_count": 72,
     "metadata": {},
     "output_type": "execute_result"
    }
   ],
   "source": [
    "np.median(zx)"
   ]
  },
  {
   "cell_type": "code",
   "execution_count": null,
   "id": "84b0b494-63eb-4cb5-921a-78f353c9992e",
   "metadata": {},
   "outputs": [],
   "source": []
  },
  {
   "cell_type": "code",
   "execution_count": 73,
   "id": "1409f55a-f91d-4ed7-afcf-951c7270a7eb",
   "metadata": {},
   "outputs": [],
   "source": [
    "x = np.sort(zx)"
   ]
  },
  {
   "cell_type": "code",
   "execution_count": 74,
   "id": "8ab420d9-5131-4c6e-860d-c4671a0d7f78",
   "metadata": {},
   "outputs": [
    {
     "data": {
      "text/plain": [
       "array([0, 1, 2, 3, 3, 4])"
      ]
     },
     "execution_count": 74,
     "metadata": {},
     "output_type": "execute_result"
    }
   ],
   "source": [
    "x"
   ]
  },
  {
   "cell_type": "code",
   "execution_count": null,
   "id": "e08c9212-f24a-49f3-b161-20f840ca76fa",
   "metadata": {},
   "outputs": [],
   "source": []
  },
  {
   "cell_type": "code",
   "execution_count": 75,
   "id": "a791779c-a672-4d19-87b7-0333c86fd70e",
   "metadata": {},
   "outputs": [],
   "source": [
    "# mode()"
   ]
  },
  {
   "cell_type": "code",
   "execution_count": 76,
   "id": "531847af-e3ee-4c88-8730-e0a0b846e143",
   "metadata": {},
   "outputs": [],
   "source": [
    "# np.mo"
   ]
  },
  {
   "cell_type": "code",
   "execution_count": null,
   "id": "4ed7a071-0014-4b66-886a-4c97d96d5c16",
   "metadata": {},
   "outputs": [],
   "source": []
  },
  {
   "cell_type": "code",
   "execution_count": 77,
   "id": "e6e6c8ac-087c-4ac3-a2d2-b511007daf54",
   "metadata": {},
   "outputs": [],
   "source": [
    "# np.linspace"
   ]
  },
  {
   "cell_type": "code",
   "execution_count": null,
   "id": "02dd52dc-73fe-46b1-b224-4b49f92bbfab",
   "metadata": {},
   "outputs": [],
   "source": []
  },
  {
   "cell_type": "code",
   "execution_count": 80,
   "id": "2141ea48-b30f-47e1-803c-748ff242762f",
   "metadata": {},
   "outputs": [
    {
     "data": {
      "text/plain": [
       "array([1.        , 1.11111111, 1.22222222, 1.33333333, 1.44444444,\n",
       "       1.55555556, 1.66666667, 1.77777778, 1.88888889, 2.        ])"
      ]
     },
     "execution_count": 80,
     "metadata": {},
     "output_type": "execute_result"
    }
   ],
   "source": [
    "np.linspace(1, 2, 10)\n",
    "# np.linspace(start range, end range, number of elements)"
   ]
  },
  {
   "cell_type": "code",
   "execution_count": null,
   "id": "f948c750-b75d-42b8-a475-da4acbc06f7a",
   "metadata": {},
   "outputs": [],
   "source": []
  },
  {
   "cell_type": "code",
   "execution_count": 81,
   "id": "c95d9db4-f2e0-4edf-a546-91910e8dfd3a",
   "metadata": {},
   "outputs": [],
   "source": [
    "# dot() product"
   ]
  },
  {
   "cell_type": "code",
   "execution_count": null,
   "id": "b1b7ee31-2349-4a13-b446-c80307320f11",
   "metadata": {},
   "outputs": [],
   "source": []
  },
  {
   "cell_type": "code",
   "execution_count": 82,
   "id": "c23f144a-ae8c-4118-98b5-e7250a9176d5",
   "metadata": {},
   "outputs": [],
   "source": [
    "zx = np.array([1, 3, 5])\n",
    "ab = np.array([4, 3, 1])"
   ]
  },
  {
   "cell_type": "code",
   "execution_count": 83,
   "id": "df855ccd-74f2-4481-8416-277b67890eeb",
   "metadata": {},
   "outputs": [
    {
     "data": {
      "text/plain": [
       "18"
      ]
     },
     "execution_count": 83,
     "metadata": {},
     "output_type": "execute_result"
    }
   ],
   "source": [
    "np.dot(zx, ab)"
   ]
  },
  {
   "cell_type": "code",
   "execution_count": null,
   "id": "91f7d2a5-c12b-42c1-8d3b-513c8ce4312a",
   "metadata": {},
   "outputs": [],
   "source": []
  },
  {
   "cell_type": "code",
   "execution_count": 90,
   "id": "883ac203-8aeb-49bd-8bb6-7587049e1705",
   "metadata": {},
   "outputs": [],
   "source": [
    "zx = np.array([[1, 3], [3, 2]])\n",
    "ab = np.array([[4, 3], [2, 1]])"
   ]
  },
  {
   "cell_type": "code",
   "execution_count": 91,
   "id": "80553546-c200-40da-a34c-b8b79c499e2d",
   "metadata": {},
   "outputs": [
    {
     "data": {
      "text/plain": [
       "array([[10,  6],\n",
       "       [16, 11]])"
      ]
     },
     "execution_count": 91,
     "metadata": {},
     "output_type": "execute_result"
    }
   ],
   "source": [
    "np.dot(zx, ab)"
   ]
  },
  {
   "cell_type": "code",
   "execution_count": 92,
   "id": "6bda7b2d-205c-424b-8219-d2cf6505a4d3",
   "metadata": {},
   "outputs": [
    {
     "data": {
      "text/plain": [
       "array([[1, 3],\n",
       "       [3, 2]])"
      ]
     },
     "execution_count": 92,
     "metadata": {},
     "output_type": "execute_result"
    }
   ],
   "source": [
    "zx"
   ]
  },
  {
   "cell_type": "code",
   "execution_count": 93,
   "id": "0d9fe44c-4794-43e1-8a2c-ea3c48bae730",
   "metadata": {},
   "outputs": [
    {
     "data": {
      "text/plain": [
       "array([[4, 3],\n",
       "       [2, 1]])"
      ]
     },
     "execution_count": 93,
     "metadata": {},
     "output_type": "execute_result"
    }
   ],
   "source": [
    "ab"
   ]
  },
  {
   "cell_type": "code",
   "execution_count": 94,
   "id": "8bb8b1d0-094b-462a-b1db-91229774f551",
   "metadata": {},
   "outputs": [],
   "source": [
    "# 4+6   3+3\n"
   ]
  },
  {
   "cell_type": "code",
   "execution_count": 95,
   "id": "5cb83a0f-b5ca-4ae1-bf08-672d1197e442",
   "metadata": {},
   "outputs": [],
   "source": [
    "# reshape\n",
    "# random "
   ]
  },
  {
   "cell_type": "code",
   "execution_count": 96,
   "id": "4ef6e6ae-c074-4727-b7d7-db1e9875d0f2",
   "metadata": {},
   "outputs": [],
   "source": [
    "zx = np.array([34, 5, 67, 89, 45, 34, 23, 23, 34, 45, 67, 78, 45, 67, 34, 56, 34])"
   ]
  },
  {
   "cell_type": "code",
   "execution_count": 98,
   "id": "2f01702c-f22e-43da-aa3a-2899075e8342",
   "metadata": {},
   "outputs": [
    {
     "data": {
      "text/plain": [
       "[array([34,  5, 67, 89, 45, 34]),\n",
       " array([23, 23, 34, 45, 67, 78]),\n",
       " array([45, 67, 34, 56, 34])]"
      ]
     },
     "execution_count": 98,
     "metadata": {},
     "output_type": "execute_result"
    }
   ],
   "source": [
    "np.array_split(zx, 3)"
   ]
  },
  {
   "cell_type": "code",
   "execution_count": null,
   "id": "b482ab0a-dce8-4631-93f0-8447aefa8b4e",
   "metadata": {},
   "outputs": [],
   "source": []
  },
  {
   "cell_type": "code",
   "execution_count": 100,
   "id": "efb1163f-01f3-46c0-ac06-9dae42527e04",
   "metadata": {},
   "outputs": [
    {
     "data": {
      "text/plain": [
       "array([[1., 0., 0., 0., 0., 0., 0., 0., 0., 0.],\n",
       "       [0., 1., 0., 0., 0., 0., 0., 0., 0., 0.],\n",
       "       [0., 0., 1., 0., 0., 0., 0., 0., 0., 0.],\n",
       "       [0., 0., 0., 1., 0., 0., 0., 0., 0., 0.],\n",
       "       [0., 0., 0., 0., 1., 0., 0., 0., 0., 0.],\n",
       "       [0., 0., 0., 0., 0., 1., 0., 0., 0., 0.],\n",
       "       [0., 0., 0., 0., 0., 0., 1., 0., 0., 0.],\n",
       "       [0., 0., 0., 0., 0., 0., 0., 1., 0., 0.],\n",
       "       [0., 0., 0., 0., 0., 0., 0., 0., 1., 0.],\n",
       "       [0., 0., 0., 0., 0., 0., 0., 0., 0., 1.]])"
      ]
     },
     "execution_count": 100,
     "metadata": {},
     "output_type": "execute_result"
    }
   ],
   "source": [
    "np.eye(10, 10)"
   ]
  },
  {
   "cell_type": "code",
   "execution_count": null,
   "id": "1f7e7d00-8334-48d0-bc6b-eb1e020e122d",
   "metadata": {},
   "outputs": [],
   "source": []
  },
  {
   "cell_type": "code",
   "execution_count": null,
   "id": "9e528141-43de-45c7-b4ff-0d42f8102278",
   "metadata": {},
   "outputs": [],
   "source": [
    "zx = "
   ]
  }
 ],
 "metadata": {
  "kernelspec": {
   "display_name": "Python 3 (ipykernel)",
   "language": "python",
   "name": "python3"
  },
  "language_info": {
   "codemirror_mode": {
    "name": "ipython",
    "version": 3
   },
   "file_extension": ".py",
   "mimetype": "text/x-python",
   "name": "python",
   "nbconvert_exporter": "python",
   "pygments_lexer": "ipython3",
   "version": "3.12.2"
  }
 },
 "nbformat": 4,
 "nbformat_minor": 5
}
