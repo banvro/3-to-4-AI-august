{
 "cells": [
  {
   "cell_type": "code",
   "execution_count": null,
   "id": "3fcae034-0705-45f4-a849-8c4ad598576b",
   "metadata": {},
   "outputs": [],
   "source": [
    "Pandas -> \n",
    "    # Python Data Analytics\n",
    "\n",
    "2007\n",
    "\n",
    "pandas is the extension of numpy...\n",
    "\n",
    "Pandas:\n",
    "    1) Exploring Data\n",
    "    2) Data Analysis\n",
    "    3) Data Manpulaing\n",
    "    4) Data Cleaning..\n",
    "\n"
   ]
  },
  {
   "cell_type": "code",
   "execution_count": 1,
   "id": "480af895-17b1-4b5c-bd8a-ee4858b87eac",
   "metadata": {},
   "outputs": [],
   "source": [
    "# Numpy : ndarrays.."
   ]
  },
  {
   "cell_type": "code",
   "execution_count": null,
   "id": "cb992b95-92e3-486f-9d8b-9b6f0c16bf02",
   "metadata": {},
   "outputs": [],
   "source": [
    "Pandas Uses Two Main Data Structures:\n",
    "    1) Series\n",
    "    2) DataFrmae"
   ]
  },
  {
   "cell_type": "code",
   "execution_count": null,
   "id": "0cbee565-8596-4222-af7b-2d38fb4e239e",
   "metadata": {},
   "outputs": [],
   "source": [
    "1) Series : a single column"
   ]
  },
  {
   "cell_type": "code",
   "execution_count": null,
   "id": "e1a1bf1c-b722-48ab-8c59-9b688d13a33f",
   "metadata": {},
   "outputs": [],
   "source": [
    "2) DataFrame : its collection of series.  combination of rows and columns."
   ]
  },
  {
   "cell_type": "code",
   "execution_count": null,
   "id": "a87d5dc4-8c4c-4b35-b3c1-769b4a7300fd",
   "metadata": {},
   "outputs": [],
   "source": []
  },
  {
   "cell_type": "code",
   "execution_count": 2,
   "id": "bda2ab91-8497-4010-a142-5284713bcad0",
   "metadata": {},
   "outputs": [
    {
     "name": "stdout",
     "output_type": "stream",
     "text": [
      "Requirement already satisfied: pandas in c:\\users\\17nru\\appdata\\local\\programs\\python\\python312\\lib\\site-packages (2.1.3)\n",
      "Requirement already satisfied: numpy<2,>=1.26.0 in c:\\users\\17nru\\appdata\\local\\programs\\python\\python312\\lib\\site-packages (from pandas) (1.26.4)\n",
      "Requirement already satisfied: python-dateutil>=2.8.2 in c:\\users\\17nru\\appdata\\local\\programs\\python\\python312\\lib\\site-packages (from pandas) (2.8.2)\n",
      "Requirement already satisfied: pytz>=2020.1 in c:\\users\\17nru\\appdata\\local\\programs\\python\\python312\\lib\\site-packages (from pandas) (2023.3.post1)\n",
      "Requirement already satisfied: tzdata>=2022.1 in c:\\users\\17nru\\appdata\\local\\programs\\python\\python312\\lib\\site-packages (from pandas) (2023.3)\n",
      "Requirement already satisfied: six>=1.5 in c:\\users\\17nru\\appdata\\local\\programs\\python\\python312\\lib\\site-packages (from python-dateutil>=2.8.2->pandas) (1.16.0)\n"
     ]
    },
    {
     "name": "stderr",
     "output_type": "stream",
     "text": [
      "DEPRECATION: textract 1.6.5 has a non-standard dependency specifier extract-msg<=0.29.*. pip 24.1 will enforce this behaviour change. A possible replacement is to upgrade to a newer version of textract or contact the author to suggest that they release a version with a conforming dependency specifiers. Discussion can be found at https://github.com/pypa/pip/issues/12063\n"
     ]
    }
   ],
   "source": [
    "# install :\n",
    "\n",
    "!pip install pandas"
   ]
  },
  {
   "cell_type": "code",
   "execution_count": null,
   "id": "db8eff75-99ad-4c3b-83f4-4d43435a59cf",
   "metadata": {},
   "outputs": [],
   "source": []
  },
  {
   "cell_type": "code",
   "execution_count": 4,
   "id": "f10f8ba1-2c0c-450f-a3c4-371569cb7040",
   "metadata": {},
   "outputs": [],
   "source": [
    "import pandas as pd"
   ]
  },
  {
   "cell_type": "code",
   "execution_count": null,
   "id": "1cd3f841-500e-485b-8e98-de32053042d7",
   "metadata": {},
   "outputs": [],
   "source": []
  },
  {
   "cell_type": "markdown",
   "id": "ee628ede-2d4f-4064-b623-a319f88cb963",
   "metadata": {},
   "source": [
    "## Series using pandas"
   ]
  },
  {
   "cell_type": "code",
   "execution_count": null,
   "id": "fbef66eb-3c1f-4ba1-a431-20eedbe5b6c9",
   "metadata": {},
   "outputs": [],
   "source": []
  },
  {
   "cell_type": "code",
   "execution_count": 11,
   "id": "78025728-b9d7-403d-83e3-22c5cee2a6a5",
   "metadata": {},
   "outputs": [],
   "source": [
    "ls = [12, 34, 5, 67, 89, 56, 45, 34]"
   ]
  },
  {
   "cell_type": "code",
   "execution_count": null,
   "id": "4e80c0fc-4996-431b-966b-16abf7dfe584",
   "metadata": {},
   "outputs": [],
   "source": []
  },
  {
   "cell_type": "code",
   "execution_count": 12,
   "id": "0eff9c89-2567-4831-b32a-e702a44430cf",
   "metadata": {},
   "outputs": [],
   "source": [
    "my_series = pd.Series(ls)"
   ]
  },
  {
   "cell_type": "code",
   "execution_count": 13,
   "id": "f8745b91-8760-4cc7-8602-7f0991c8c91e",
   "metadata": {},
   "outputs": [
    {
     "data": {
      "text/plain": [
       "0    12\n",
       "1    34\n",
       "2     5\n",
       "3    67\n",
       "4    89\n",
       "5    56\n",
       "6    45\n",
       "7    34\n",
       "dtype: int64"
      ]
     },
     "execution_count": 13,
     "metadata": {},
     "output_type": "execute_result"
    }
   ],
   "source": [
    "my_series"
   ]
  },
  {
   "cell_type": "code",
   "execution_count": null,
   "id": "e99f1e95-9b02-4b97-9027-23f4c5b177b9",
   "metadata": {},
   "outputs": [],
   "source": []
  },
  {
   "cell_type": "code",
   "execution_count": 15,
   "id": "7fc30f8e-3a41-4e45-8896-fb55525470d6",
   "metadata": {},
   "outputs": [
    {
     "data": {
      "text/plain": [
       "pandas.core.series.Series"
      ]
     },
     "execution_count": 15,
     "metadata": {},
     "output_type": "execute_result"
    }
   ],
   "source": [
    "type(my_series)"
   ]
  },
  {
   "cell_type": "code",
   "execution_count": null,
   "id": "c557fc0d-ca61-48eb-be4f-ab0e81a9a7e0",
   "metadata": {},
   "outputs": [],
   "source": []
  },
  {
   "cell_type": "code",
   "execution_count": null,
   "id": "6ff3a220-6e88-446b-8921-7b6b116f31d8",
   "metadata": {},
   "outputs": [],
   "source": []
  },
  {
   "cell_type": "code",
   "execution_count": 16,
   "id": "4e5d2f2b-8a50-45a3-b49c-718bc7ce4cc1",
   "metadata": {},
   "outputs": [
    {
     "data": {
      "text/plain": [
       "0    12\n",
       "1    34\n",
       "2     5\n",
       "3    67\n",
       "4    89\n",
       "5    56\n",
       "6    45\n",
       "7    34\n",
       "dtype: int64"
      ]
     },
     "execution_count": 16,
     "metadata": {},
     "output_type": "execute_result"
    }
   ],
   "source": [
    "my_series"
   ]
  },
  {
   "cell_type": "code",
   "execution_count": 17,
   "id": "22b26ddd-8999-435a-8986-ce4ac2df9608",
   "metadata": {},
   "outputs": [
    {
     "data": {
      "text/plain": [
       "89"
      ]
     },
     "execution_count": 17,
     "metadata": {},
     "output_type": "execute_result"
    }
   ],
   "source": [
    "my_series[4]"
   ]
  },
  {
   "cell_type": "code",
   "execution_count": null,
   "id": "cc0a448a-8220-4a7b-a9cf-f50adfd00aad",
   "metadata": {},
   "outputs": [],
   "source": []
  },
  {
   "cell_type": "code",
   "execution_count": null,
   "id": "d9a471e7-5ae9-4201-bae3-bd62f4cf4cd0",
   "metadata": {},
   "outputs": [],
   "source": []
  },
  {
   "cell_type": "code",
   "execution_count": 20,
   "id": "f16ab5b9-7bbe-41e6-944e-735200b9efcb",
   "metadata": {},
   "outputs": [],
   "source": [
    "zx = pd.Series([12, 34, 56, 67, 56], index = [\"a\", \"b\", \"c\", \"d\", \"e\"])"
   ]
  },
  {
   "cell_type": "code",
   "execution_count": 21,
   "id": "32e30464-b31b-4105-92ca-5b499fd5b0f4",
   "metadata": {},
   "outputs": [
    {
     "data": {
      "text/plain": [
       "a    12\n",
       "b    34\n",
       "c    56\n",
       "d    67\n",
       "e    56\n",
       "dtype: int64"
      ]
     },
     "execution_count": 21,
     "metadata": {},
     "output_type": "execute_result"
    }
   ],
   "source": [
    "zx"
   ]
  },
  {
   "cell_type": "code",
   "execution_count": null,
   "id": "36e60975-0007-411f-a993-93041d662663",
   "metadata": {},
   "outputs": [],
   "source": []
  },
  {
   "cell_type": "code",
   "execution_count": 22,
   "id": "b680ed3c-8afc-4c7c-9378-61b8fc1f5844",
   "metadata": {},
   "outputs": [
    {
     "data": {
      "text/plain": [
       "67"
      ]
     },
     "execution_count": 22,
     "metadata": {},
     "output_type": "execute_result"
    }
   ],
   "source": [
    "zx[\"d\"]"
   ]
  },
  {
   "cell_type": "code",
   "execution_count": null,
   "id": "d5f50886-9641-4a9f-bed6-45ab23738a24",
   "metadata": {},
   "outputs": [],
   "source": []
  },
  {
   "cell_type": "code",
   "execution_count": 23,
   "id": "84e42eeb-de3f-4f6c-b577-a629eeb6d215",
   "metadata": {},
   "outputs": [],
   "source": [
    "# DataFrame"
   ]
  },
  {
   "cell_type": "code",
   "execution_count": 24,
   "id": "9d56bccd-7762-4a59-b98c-65069fa73ae7",
   "metadata": {},
   "outputs": [
    {
     "data": {
      "text/plain": [
       "a    12\n",
       "b    34\n",
       "c    56\n",
       "d    67\n",
       "e    56\n",
       "dtype: int64"
      ]
     },
     "execution_count": 24,
     "metadata": {},
     "output_type": "execute_result"
    }
   ],
   "source": [
    "zx"
   ]
  },
  {
   "cell_type": "code",
   "execution_count": null,
   "id": "03277ae7-1dc1-4275-9b4c-ff42b6a42599",
   "metadata": {},
   "outputs": [],
   "source": []
  },
  {
   "cell_type": "code",
   "execution_count": null,
   "id": "04071c5f-113b-4369-b504-f46a82707fc6",
   "metadata": {},
   "outputs": [],
   "source": []
  },
  {
   "cell_type": "code",
   "execution_count": null,
   "id": "9af71e25-6b4a-4677-a1c9-52a262efbaab",
   "metadata": {},
   "outputs": [],
   "source": []
  },
  {
   "cell_type": "code",
   "execution_count": 31,
   "id": "f3d2c30c-6313-44af-b83d-fd5f8f242136",
   "metadata": {},
   "outputs": [],
   "source": [
    "abc = pd.Series([\"hlo\", \"xyz\", \"abc\", \"no\", \"ok\"])"
   ]
  },
  {
   "cell_type": "code",
   "execution_count": 32,
   "id": "182ea30b-978e-4582-896b-f8ba4779a37c",
   "metadata": {},
   "outputs": [
    {
     "data": {
      "text/plain": [
       "0    hlo\n",
       "1    xyz\n",
       "2    abc\n",
       "3     no\n",
       "4     ok\n",
       "dtype: object"
      ]
     },
     "execution_count": 32,
     "metadata": {},
     "output_type": "execute_result"
    }
   ],
   "source": [
    "abc"
   ]
  },
  {
   "cell_type": "code",
   "execution_count": 35,
   "id": "5fa3c2ae-cf64-41b8-8809-5c438d25e4d1",
   "metadata": {},
   "outputs": [],
   "source": [
    "abc[10] = \"car\""
   ]
  },
  {
   "cell_type": "code",
   "execution_count": 36,
   "id": "2c1e9d04-2e15-4641-9804-635d0a435a44",
   "metadata": {},
   "outputs": [
    {
     "data": {
      "text/plain": [
       "0     hlo\n",
       "1     xyz\n",
       "2     abc\n",
       "3      no\n",
       "4      ok\n",
       "5     car\n",
       "10    car\n",
       "dtype: object"
      ]
     },
     "execution_count": 36,
     "metadata": {},
     "output_type": "execute_result"
    }
   ],
   "source": [
    "abc"
   ]
  },
  {
   "cell_type": "code",
   "execution_count": null,
   "id": "a8a6875e-0551-4995-a4ab-c26f5eac3806",
   "metadata": {},
   "outputs": [],
   "source": []
  },
  {
   "cell_type": "code",
   "execution_count": 37,
   "id": "3306d1c8-b076-4f45-9e15-d0d54aea5fc5",
   "metadata": {},
   "outputs": [
    {
     "data": {
      "text/plain": [
       "1     xyz\n",
       "2     abc\n",
       "3      no\n",
       "4      ok\n",
       "5     car\n",
       "10    car\n",
       "dtype: object"
      ]
     },
     "execution_count": 37,
     "metadata": {},
     "output_type": "execute_result"
    }
   ],
   "source": [
    "abc.drop(0)"
   ]
  },
  {
   "cell_type": "code",
   "execution_count": null,
   "id": "9e8cf7ac-082d-421e-b65d-6a9cd22a66a0",
   "metadata": {},
   "outputs": [],
   "source": []
  },
  {
   "cell_type": "code",
   "execution_count": null,
   "id": "985dfd19-8793-4c25-ac0d-fe69043a50ba",
   "metadata": {},
   "outputs": [],
   "source": []
  },
  {
   "cell_type": "code",
   "execution_count": 38,
   "id": "25c8ed81-6022-449d-8c4b-00de4fe00009",
   "metadata": {},
   "outputs": [],
   "source": [
    "# DataFrame :-> Collection of multiple Series"
   ]
  },
  {
   "cell_type": "code",
   "execution_count": null,
   "id": "52c695ad-0ce2-4956-bb0f-22d3e884b720",
   "metadata": {},
   "outputs": [],
   "source": []
  },
  {
   "cell_type": "code",
   "execution_count": 42,
   "id": "a586fe07-966e-46f8-a35a-104fbdf28548",
   "metadata": {},
   "outputs": [],
   "source": [
    "df = pd.DataFrame(\n",
    "    {\n",
    "        \"Username\" : [\"kriss\", \"moris\", \"phone\", \"marker\", \"laptop\"], \n",
    "        \"Age\" : [20, 34, 56, 23, 44], \n",
    "        \"Phone Number\" : [9823482434, 98239846, 982346839, 982634863, 872347346]\n",
    "    }, index = [\"a\", \"b\", \"c\", \"d\", \"e\"]\n",
    ")"
   ]
  },
  {
   "cell_type": "code",
   "execution_count": null,
   "id": "fb36a4ed-17a3-4399-acaf-a2c0471fb423",
   "metadata": {},
   "outputs": [],
   "source": []
  },
  {
   "cell_type": "code",
   "execution_count": 43,
   "id": "cf0b1a1a-85e9-4435-b553-7c87a6c0f5c6",
   "metadata": {},
   "outputs": [
    {
     "data": {
      "text/html": [
       "<div>\n",
       "<style scoped>\n",
       "    .dataframe tbody tr th:only-of-type {\n",
       "        vertical-align: middle;\n",
       "    }\n",
       "\n",
       "    .dataframe tbody tr th {\n",
       "        vertical-align: top;\n",
       "    }\n",
       "\n",
       "    .dataframe thead th {\n",
       "        text-align: right;\n",
       "    }\n",
       "</style>\n",
       "<table border=\"1\" class=\"dataframe\">\n",
       "  <thead>\n",
       "    <tr style=\"text-align: right;\">\n",
       "      <th></th>\n",
       "      <th>Username</th>\n",
       "      <th>Age</th>\n",
       "      <th>Phone Number</th>\n",
       "    </tr>\n",
       "  </thead>\n",
       "  <tbody>\n",
       "    <tr>\n",
       "      <th>a</th>\n",
       "      <td>kriss</td>\n",
       "      <td>20</td>\n",
       "      <td>9823482434</td>\n",
       "    </tr>\n",
       "    <tr>\n",
       "      <th>b</th>\n",
       "      <td>moris</td>\n",
       "      <td>34</td>\n",
       "      <td>98239846</td>\n",
       "    </tr>\n",
       "    <tr>\n",
       "      <th>c</th>\n",
       "      <td>phone</td>\n",
       "      <td>56</td>\n",
       "      <td>982346839</td>\n",
       "    </tr>\n",
       "    <tr>\n",
       "      <th>d</th>\n",
       "      <td>marker</td>\n",
       "      <td>23</td>\n",
       "      <td>982634863</td>\n",
       "    </tr>\n",
       "    <tr>\n",
       "      <th>e</th>\n",
       "      <td>laptop</td>\n",
       "      <td>44</td>\n",
       "      <td>872347346</td>\n",
       "    </tr>\n",
       "  </tbody>\n",
       "</table>\n",
       "</div>"
      ],
      "text/plain": [
       "  Username  Age  Phone Number\n",
       "a    kriss   20    9823482434\n",
       "b    moris   34      98239846\n",
       "c    phone   56     982346839\n",
       "d   marker   23     982634863\n",
       "e   laptop   44     872347346"
      ]
     },
     "execution_count": 43,
     "metadata": {},
     "output_type": "execute_result"
    }
   ],
   "source": [
    "df"
   ]
  },
  {
   "cell_type": "code",
   "execution_count": null,
   "id": "97e6ae6c-e5ce-4315-968b-534a78997468",
   "metadata": {},
   "outputs": [],
   "source": []
  },
  {
   "cell_type": "code",
   "execution_count": 41,
   "id": "73534292-b370-4d6b-818a-cdf5a1c2c7d8",
   "metadata": {},
   "outputs": [
    {
     "data": {
      "text/plain": [
       "pandas.core.frame.DataFrame"
      ]
     },
     "execution_count": 41,
     "metadata": {},
     "output_type": "execute_result"
    }
   ],
   "source": [
    "type(df)"
   ]
  },
  {
   "cell_type": "code",
   "execution_count": null,
   "id": "c273fc6e-22df-44f6-a8b4-bd09b6d54022",
   "metadata": {},
   "outputs": [],
   "source": []
  },
  {
   "cell_type": "code",
   "execution_count": 48,
   "id": "15413646-57f2-4b60-8c1d-60c78444edd4",
   "metadata": {},
   "outputs": [
    {
     "data": {
      "text/plain": [
       "pandas.core.series.Series"
      ]
     },
     "execution_count": 48,
     "metadata": {},
     "output_type": "execute_result"
    }
   ],
   "source": [
    "type(df[\"Age\"])"
   ]
  },
  {
   "cell_type": "code",
   "execution_count": 49,
   "id": "b57a2b58-09e7-453d-b805-db6ec98b3dac",
   "metadata": {},
   "outputs": [
    {
     "data": {
      "text/plain": [
       "56"
      ]
     },
     "execution_count": 49,
     "metadata": {},
     "output_type": "execute_result"
    }
   ],
   "source": [
    "df[\"Age\"][\"c\"]"
   ]
  },
  {
   "cell_type": "code",
   "execution_count": null,
   "id": "5c3053ff-373f-4228-baca-8267d9f9ad4d",
   "metadata": {},
   "outputs": [],
   "source": []
  },
  {
   "cell_type": "code",
   "execution_count": null,
   "id": "0902dd1b-653b-496c-b988-8e823e46e5dc",
   "metadata": {},
   "outputs": [],
   "source": [
    "# loc\n",
    "\n",
    "# iloc"
   ]
  },
  {
   "cell_type": "code",
   "execution_count": 50,
   "id": "12c934d9-90aa-4dd9-9754-64148c8e6538",
   "metadata": {},
   "outputs": [
    {
     "data": {
      "text/html": [
       "<div>\n",
       "<style scoped>\n",
       "    .dataframe tbody tr th:only-of-type {\n",
       "        vertical-align: middle;\n",
       "    }\n",
       "\n",
       "    .dataframe tbody tr th {\n",
       "        vertical-align: top;\n",
       "    }\n",
       "\n",
       "    .dataframe thead th {\n",
       "        text-align: right;\n",
       "    }\n",
       "</style>\n",
       "<table border=\"1\" class=\"dataframe\">\n",
       "  <thead>\n",
       "    <tr style=\"text-align: right;\">\n",
       "      <th></th>\n",
       "      <th>Username</th>\n",
       "      <th>Age</th>\n",
       "      <th>Phone Number</th>\n",
       "    </tr>\n",
       "  </thead>\n",
       "  <tbody>\n",
       "    <tr>\n",
       "      <th>a</th>\n",
       "      <td>kriss</td>\n",
       "      <td>20</td>\n",
       "      <td>9823482434</td>\n",
       "    </tr>\n",
       "    <tr>\n",
       "      <th>b</th>\n",
       "      <td>moris</td>\n",
       "      <td>34</td>\n",
       "      <td>98239846</td>\n",
       "    </tr>\n",
       "    <tr>\n",
       "      <th>c</th>\n",
       "      <td>phone</td>\n",
       "      <td>56</td>\n",
       "      <td>982346839</td>\n",
       "    </tr>\n",
       "    <tr>\n",
       "      <th>d</th>\n",
       "      <td>marker</td>\n",
       "      <td>23</td>\n",
       "      <td>982634863</td>\n",
       "    </tr>\n",
       "    <tr>\n",
       "      <th>e</th>\n",
       "      <td>laptop</td>\n",
       "      <td>44</td>\n",
       "      <td>872347346</td>\n",
       "    </tr>\n",
       "  </tbody>\n",
       "</table>\n",
       "</div>"
      ],
      "text/plain": [
       "  Username  Age  Phone Number\n",
       "a    kriss   20    9823482434\n",
       "b    moris   34      98239846\n",
       "c    phone   56     982346839\n",
       "d   marker   23     982634863\n",
       "e   laptop   44     872347346"
      ]
     },
     "execution_count": 50,
     "metadata": {},
     "output_type": "execute_result"
    }
   ],
   "source": [
    "df"
   ]
  },
  {
   "cell_type": "code",
   "execution_count": null,
   "id": "9e966a58-03de-4d55-a356-25ebca150266",
   "metadata": {},
   "outputs": [],
   "source": []
  },
  {
   "cell_type": "code",
   "execution_count": 52,
   "id": "22efa357-5afb-44f3-97d3-b55bf9323ea3",
   "metadata": {},
   "outputs": [],
   "source": [
    "# df[\"Age\"]"
   ]
  },
  {
   "cell_type": "code",
   "execution_count": 53,
   "id": "ada5fa1a-e66a-46bb-b431-5dc3dc5e9069",
   "metadata": {},
   "outputs": [
    {
     "data": {
      "text/plain": [
       "Username           moris\n",
       "Age                   34\n",
       "Phone Number    98239846\n",
       "Name: b, dtype: object"
      ]
     },
     "execution_count": 53,
     "metadata": {},
     "output_type": "execute_result"
    }
   ],
   "source": [
    "df.loc[\"b\"]"
   ]
  },
  {
   "cell_type": "code",
   "execution_count": null,
   "id": "f9e63300-44f8-4650-ada1-10c52206629e",
   "metadata": {},
   "outputs": [],
   "source": []
  }
 ],
 "metadata": {
  "kernelspec": {
   "display_name": "Python 3 (ipykernel)",
   "language": "python",
   "name": "python3"
  },
  "language_info": {
   "codemirror_mode": {
    "name": "ipython",
    "version": 3
   },
   "file_extension": ".py",
   "mimetype": "text/x-python",
   "name": "python",
   "nbconvert_exporter": "python",
   "pygments_lexer": "ipython3",
   "version": "3.12.2"
  }
 },
 "nbformat": 4,
 "nbformat_minor": 5
}
