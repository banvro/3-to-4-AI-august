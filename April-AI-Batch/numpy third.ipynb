{
 "cells": [
  {
   "cell_type": "markdown",
   "id": "e815cd3b-8903-485d-b3d9-b9868267611b",
   "metadata": {},
   "source": [
    "# Numpy : |"
   ]
  },
  {
   "cell_type": "code",
   "execution_count": 1,
   "id": "90b31e0e-555b-4e0e-b653-886752a806e1",
   "metadata": {},
   "outputs": [],
   "source": [
    "import numpy as np"
   ]
  },
  {
   "cell_type": "code",
   "execution_count": null,
   "id": "883f504a-4d23-4bfa-99ee-4979642bc093",
   "metadata": {},
   "outputs": [],
   "source": [
    "List : \n",
    "    # new emenets add doooo...\n",
    "    "
   ]
  },
  {
   "cell_type": "code",
   "execution_count": 2,
   "id": "e7ea823a-52ff-44c8-828b-1d2d325e4466",
   "metadata": {},
   "outputs": [],
   "source": [
    "arr = np.array([12, 34, 56, 78, 45, 34, 23, 56, 79])"
   ]
  },
  {
   "cell_type": "code",
   "execution_count": null,
   "id": "d45bfe22-2afe-4911-b5c4-2f3d86a52555",
   "metadata": {},
   "outputs": [],
   "source": []
  },
  {
   "cell_type": "markdown",
   "id": "e95315ac-e01e-4515-836b-d984646bceec",
   "metadata": {},
   "source": [
    "## replace element in numpy"
   ]
  },
  {
   "cell_type": "code",
   "execution_count": null,
   "id": "664e031a-f7bc-49c8-9955-70fe3a20aa49",
   "metadata": {},
   "outputs": [],
   "source": [
    "# objename[indexnumber] = newelement"
   ]
  },
  {
   "cell_type": "code",
   "execution_count": 3,
   "id": "c3f9fea0-b9a7-42ab-870f-812060ec4d3a",
   "metadata": {},
   "outputs": [],
   "source": [
    "arr[2] = 100"
   ]
  },
  {
   "cell_type": "code",
   "execution_count": 4,
   "id": "3d44117f-0597-441f-b74f-8c06cb32358a",
   "metadata": {},
   "outputs": [
    {
     "data": {
      "text/plain": [
       "array([ 12,  34, 100,  78,  45,  34,  23,  56,  79])"
      ]
     },
     "execution_count": 4,
     "metadata": {},
     "output_type": "execute_result"
    }
   ],
   "source": [
    "arr"
   ]
  },
  {
   "cell_type": "code",
   "execution_count": null,
   "id": "94d57d9b-ebbf-4236-aa49-d7d9bff43a46",
   "metadata": {},
   "outputs": [],
   "source": []
  },
  {
   "cell_type": "code",
   "execution_count": 5,
   "id": "70d1f9c9-8f2c-4be8-8bb0-8be5e87bd558",
   "metadata": {},
   "outputs": [],
   "source": [
    "xyz = np.array([1, 2, 3, 4, 5, 6, 7, 8, 9, 10])"
   ]
  },
  {
   "cell_type": "code",
   "execution_count": 7,
   "id": "34d718ad-edd1-4b23-9c0a-e94ddf7184be",
   "metadata": {},
   "outputs": [],
   "source": [
    "xyz[[2, 5, 8]] = [30, 60, 90]"
   ]
  },
  {
   "cell_type": "code",
   "execution_count": 8,
   "id": "015969a6-aff3-42f6-a18d-bdaf0e0f1c14",
   "metadata": {},
   "outputs": [
    {
     "data": {
      "text/plain": [
       "array([ 1,  2, 30,  4,  5, 60,  7,  8, 90, 10])"
      ]
     },
     "execution_count": 8,
     "metadata": {},
     "output_type": "execute_result"
    }
   ],
   "source": [
    "xyz"
   ]
  },
  {
   "cell_type": "code",
   "execution_count": null,
   "id": "f21ae63b-da2b-46b3-85c1-43dab2a68574",
   "metadata": {},
   "outputs": [],
   "source": []
  },
  {
   "cell_type": "code",
   "execution_count": 9,
   "id": "c75d4fda-e163-477e-8f9e-ae14c249dcdf",
   "metadata": {},
   "outputs": [],
   "source": [
    "xyz = np.array([1, 2, 3, 4, 5, 6, 7, 8, 9, 10])"
   ]
  },
  {
   "cell_type": "code",
   "execution_count": 10,
   "id": "89c1d851-4e04-45b2-9a29-703d64d50ada",
   "metadata": {},
   "outputs": [],
   "source": [
    "a = [3, 4, 5]"
   ]
  },
  {
   "cell_type": "code",
   "execution_count": 11,
   "id": "379d3f09-91fd-4a03-96d5-94e0a2ae8f37",
   "metadata": {},
   "outputs": [],
   "source": [
    "values = [100, 300, 500]"
   ]
  },
  {
   "cell_type": "code",
   "execution_count": 12,
   "id": "71709b3f-7e3c-4ec1-bca7-e1c9b60af3c3",
   "metadata": {},
   "outputs": [],
   "source": [
    "xyz[a] = values"
   ]
  },
  {
   "cell_type": "code",
   "execution_count": 13,
   "id": "10b51553-a6e6-4847-828e-f380aad72325",
   "metadata": {},
   "outputs": [
    {
     "data": {
      "text/plain": [
       "array([  1,   2,   3, 100, 300, 500,   7,   8,   9,  10])"
      ]
     },
     "execution_count": 13,
     "metadata": {},
     "output_type": "execute_result"
    }
   ],
   "source": [
    "xyz"
   ]
  },
  {
   "cell_type": "code",
   "execution_count": null,
   "id": "79532d21-3a52-43e3-942c-300db25ce81a",
   "metadata": {},
   "outputs": [],
   "source": []
  },
  {
   "cell_type": "code",
   "execution_count": null,
   "id": "704acf4a-6d85-4024-aafd-1d47a437c80b",
   "metadata": {},
   "outputs": [],
   "source": []
  },
  {
   "cell_type": "markdown",
   "id": "c8d12081-e62e-4cab-ad59-cde7c8afd169",
   "metadata": {},
   "source": [
    "## Adding New Element in Ndarray...."
   ]
  },
  {
   "cell_type": "code",
   "execution_count": 16,
   "id": "d2bc53af-6c4d-43da-858b-f7b7b5f98a70",
   "metadata": {},
   "outputs": [],
   "source": [
    "zx = np.array([34, 45, 6, 45, 3, 23, 45, 23])"
   ]
  },
  {
   "cell_type": "code",
   "execution_count": 17,
   "id": "9bf2d3cc-1173-492c-8000-3c63d85ce036",
   "metadata": {},
   "outputs": [
    {
     "data": {
      "text/plain": [
       "array([34, 45,  6, 45,  3, 23, 45, 23])"
      ]
     },
     "execution_count": 17,
     "metadata": {},
     "output_type": "execute_result"
    }
   ],
   "source": [
    "zx"
   ]
  },
  {
   "cell_type": "code",
   "execution_count": null,
   "id": "c25cd2d1-5839-40c1-b94e-07b37e418c40",
   "metadata": {},
   "outputs": [],
   "source": []
  },
  {
   "cell_type": "code",
   "execution_count": null,
   "id": "5bb7a135-a0f7-4173-a699-c3e8165a557c",
   "metadata": {},
   "outputs": [],
   "source": [
    "# append()"
   ]
  },
  {
   "cell_type": "code",
   "execution_count": null,
   "id": "1815dd15-2831-43c6-b7ca-dfb7f9147912",
   "metadata": {},
   "outputs": [],
   "source": [
    "# np.append(objectname, newelement, axis)"
   ]
  },
  {
   "cell_type": "code",
   "execution_count": 18,
   "id": "3fd76fc9-bcc0-4943-8bd0-853db89ccbf9",
   "metadata": {},
   "outputs": [],
   "source": [
    "qw = np.append(zx, 120)"
   ]
  },
  {
   "cell_type": "code",
   "execution_count": 19,
   "id": "ae0242f6-5467-46de-a8e1-2478046db4b4",
   "metadata": {},
   "outputs": [
    {
     "data": {
      "text/plain": [
       "array([ 34,  45,   6,  45,   3,  23,  45,  23, 120])"
      ]
     },
     "execution_count": 19,
     "metadata": {},
     "output_type": "execute_result"
    }
   ],
   "source": [
    "qw"
   ]
  },
  {
   "cell_type": "code",
   "execution_count": 20,
   "id": "209c2459-1020-4177-bc27-23668205fa2d",
   "metadata": {},
   "outputs": [
    {
     "data": {
      "text/plain": [
       "array([ 34,  45,   6,  45,   3,  23,  45,  23, 100, 200, 300, 400])"
      ]
     },
     "execution_count": 20,
     "metadata": {},
     "output_type": "execute_result"
    }
   ],
   "source": [
    "np.append(zx, [100, 200, 300, 400])"
   ]
  },
  {
   "cell_type": "code",
   "execution_count": null,
   "id": "00691d6d-7510-4f0a-8f21-27ae1d84d35e",
   "metadata": {},
   "outputs": [],
   "source": []
  },
  {
   "cell_type": "code",
   "execution_count": null,
   "id": "d3a48742-abfd-4500-9643-4a2c65489bfc",
   "metadata": {},
   "outputs": [],
   "source": []
  },
  {
   "cell_type": "code",
   "execution_count": 21,
   "id": "3979488f-70ab-4354-b8ca-d26e411991b5",
   "metadata": {},
   "outputs": [],
   "source": [
    "# Adding new element :--------------"
   ]
  },
  {
   "cell_type": "code",
   "execution_count": 24,
   "id": "2bb2209a-2129-43fa-8986-f405bb0d41de",
   "metadata": {},
   "outputs": [],
   "source": [
    "pqr = np.array([2, 4, 5, 6, 8, 2, 3, 6, 7, 8])"
   ]
  },
  {
   "cell_type": "code",
   "execution_count": null,
   "id": "164ca7fb-fd83-43d8-84c4-9342847b9276",
   "metadata": {},
   "outputs": [],
   "source": []
  },
  {
   "cell_type": "code",
   "execution_count": 25,
   "id": "2e725d83-6afa-43c4-b30e-09241c2d37ef",
   "metadata": {},
   "outputs": [],
   "source": [
    "# np.insert(objectname, indexnumber, newelment)"
   ]
  },
  {
   "cell_type": "code",
   "execution_count": 26,
   "id": "6b5dff22-2e3d-4b0b-9bce-f365894aac3f",
   "metadata": {},
   "outputs": [
    {
     "data": {
      "text/plain": [
       "array([  2, 300,   4,   5,   6,   8,   2,   3,   6,   7,   8])"
      ]
     },
     "execution_count": 26,
     "metadata": {},
     "output_type": "execute_result"
    }
   ],
   "source": [
    "np.insert(pqr, 1, 300)"
   ]
  },
  {
   "cell_type": "code",
   "execution_count": null,
   "id": "9274c3c3-7f19-4708-b8ce-860f1eea65fb",
   "metadata": {},
   "outputs": [],
   "source": []
  },
  {
   "cell_type": "code",
   "execution_count": null,
   "id": "e130c867-d3f9-4257-aa28-99dc0c822f10",
   "metadata": {},
   "outputs": [],
   "source": []
  },
  {
   "cell_type": "code",
   "execution_count": 27,
   "id": "75a5cb83-8d70-41cc-8fc4-d8cc0464c1ca",
   "metadata": {},
   "outputs": [],
   "source": [
    "pqr = np.array([2, 4, 5, 6, 8, 2, 3, 6, 7, 8])"
   ]
  },
  {
   "cell_type": "code",
   "execution_count": 28,
   "id": "430fff92-c8f8-4f29-9c23-2864c66462ae",
   "metadata": {},
   "outputs": [],
   "source": [
    "indexes = [2, 5, 7]\n",
    "addedvalues = [300, 5000, 3444]"
   ]
  },
  {
   "cell_type": "code",
   "execution_count": 29,
   "id": "a0d0eda5-02bf-4d9e-bc7c-7704d8bd978c",
   "metadata": {},
   "outputs": [
    {
     "data": {
      "text/plain": [
       "array([   2,    4,  300,    5,    6,    8, 5000,    2,    3, 3444,    6,\n",
       "          7,    8])"
      ]
     },
     "execution_count": 29,
     "metadata": {},
     "output_type": "execute_result"
    }
   ],
   "source": [
    "np.insert(pqr, indexes, addedvalues)"
   ]
  },
  {
   "cell_type": "code",
   "execution_count": 30,
   "id": "87f6fd74-7153-4943-9b1f-2199cff12479",
   "metadata": {},
   "outputs": [
    {
     "data": {
      "text/plain": [
       "array([   2,    4,  300,    5,    6,    8, 5000,    2,    3, 3444,    6,\n",
       "          7,    8])"
      ]
     },
     "execution_count": 30,
     "metadata": {},
     "output_type": "execute_result"
    }
   ],
   "source": [
    "np.insert(pqr, [2, 5, 7], [300, 5000, 3444])"
   ]
  },
  {
   "cell_type": "code",
   "execution_count": null,
   "id": "e36af165-6e35-47e9-901b-e988d0f3dd9c",
   "metadata": {},
   "outputs": [],
   "source": []
  },
  {
   "cell_type": "code",
   "execution_count": null,
   "id": "6b1ee92d-70b0-4534-9bce-e70561dd78f8",
   "metadata": {},
   "outputs": [],
   "source": []
  },
  {
   "cell_type": "markdown",
   "id": "ceb28cd6-b5dd-4583-ac7a-417561124b05",
   "metadata": {},
   "source": [
    "# concatenation in ndarray"
   ]
  },
  {
   "cell_type": "code",
   "execution_count": 32,
   "id": "b2ced8dc-faa6-485a-9322-dbc794cb8c01",
   "metadata": {},
   "outputs": [],
   "source": [
    "zx = np.array([34, 56, 34, 23, 45, 200])\n"
   ]
  },
  {
   "cell_type": "code",
   "execution_count": 33,
   "id": "249c6dec-88a3-4dba-8bb1-8f3f870a7843",
   "metadata": {},
   "outputs": [],
   "source": [
    "ab = np.array([45, 67, 34, 23, 45, 23])"
   ]
  },
  {
   "cell_type": "code",
   "execution_count": 34,
   "id": "c015b6c6-d649-4d03-ab39-98cb34237b10",
   "metadata": {},
   "outputs": [],
   "source": [
    "pq = zx + ab"
   ]
  },
  {
   "cell_type": "code",
   "execution_count": 35,
   "id": "d6fca0c8-8b7c-4467-9477-c8389c1fc799",
   "metadata": {},
   "outputs": [
    {
     "data": {
      "text/plain": [
       "array([ 79, 123,  68,  46,  90, 223])"
      ]
     },
     "execution_count": 35,
     "metadata": {},
     "output_type": "execute_result"
    }
   ],
   "source": [
    "pq"
   ]
  },
  {
   "cell_type": "code",
   "execution_count": null,
   "id": "5be2715e-eddf-4e61-986d-a1893bd89806",
   "metadata": {},
   "outputs": [],
   "source": []
  },
  {
   "cell_type": "code",
   "execution_count": 37,
   "id": "61d9bd13-e2b1-4bc0-9509-38ace3f933eb",
   "metadata": {},
   "outputs": [
    {
     "data": {
      "text/plain": [
       "array([ 34,  56,  34,  23,  45, 200,  45,  67,  34,  23,  45,  23])"
      ]
     },
     "execution_count": 37,
     "metadata": {},
     "output_type": "execute_result"
    }
   ],
   "source": [
    "np.concatenate((zx, ab))"
   ]
  },
  {
   "cell_type": "code",
   "execution_count": null,
   "id": "7856b517-bd91-413d-a32f-43d2f72bd3c6",
   "metadata": {},
   "outputs": [],
   "source": []
  },
  {
   "cell_type": "code",
   "execution_count": 38,
   "id": "223a1576-2e1e-482e-ac01-ff458eefd14b",
   "metadata": {},
   "outputs": [
    {
     "name": "stdout",
     "output_type": "stream",
     "text": [
      "Help on built-in function zeros in module numpy:\n",
      "\n",
      "zeros(...)\n",
      "    zeros(shape, dtype=float, order='C', *, like=None)\n",
      "\n",
      "    Return a new array of given shape and type, filled with zeros.\n",
      "\n",
      "    Parameters\n",
      "    ----------\n",
      "    shape : int or tuple of ints\n",
      "        Shape of the new array, e.g., ``(2, 3)`` or ``2``.\n",
      "    dtype : data-type, optional\n",
      "        The desired data-type for the array, e.g., `numpy.int8`.  Default is\n",
      "        `numpy.float64`.\n",
      "    order : {'C', 'F'}, optional, default: 'C'\n",
      "        Whether to store multi-dimensional data in row-major\n",
      "        (C-style) or column-major (Fortran-style) order in\n",
      "        memory.\n",
      "    like : array_like, optional\n",
      "        Reference object to allow the creation of arrays which are not\n",
      "        NumPy arrays. If an array-like passed in as ``like`` supports\n",
      "        the ``__array_function__`` protocol, the result will be defined\n",
      "        by it. In this case, it ensures the creation of an array object\n",
      "        compatible with that passed in via this argument.\n",
      "\n",
      "        .. versionadded:: 1.20.0\n",
      "\n",
      "    Returns\n",
      "    -------\n",
      "    out : ndarray\n",
      "        Array of zeros with the given shape, dtype, and order.\n",
      "\n",
      "    See Also\n",
      "    --------\n",
      "    zeros_like : Return an array of zeros with shape and type of input.\n",
      "    empty : Return a new uninitialized array.\n",
      "    ones : Return a new array setting values to one.\n",
      "    full : Return a new array of given shape filled with value.\n",
      "\n",
      "    Examples\n",
      "    --------\n",
      "    >>> np.zeros(5)\n",
      "    array([ 0.,  0.,  0.,  0.,  0.])\n",
      "\n",
      "    >>> np.zeros((5,), dtype=int)\n",
      "    array([0, 0, 0, 0, 0])\n",
      "\n",
      "    >>> np.zeros((2, 1))\n",
      "    array([[ 0.],\n",
      "           [ 0.]])\n",
      "\n",
      "    >>> s = (2,2)\n",
      "    >>> np.zeros(s)\n",
      "    array([[ 0.,  0.],\n",
      "           [ 0.,  0.]])\n",
      "\n",
      "    >>> np.zeros((2,), dtype=[('x', 'i4'), ('y', 'i4')]) # custom dtype\n",
      "    array([(0, 0), (0, 0)],\n",
      "          dtype=[('x', '<i4'), ('y', '<i4')])\n",
      "\n"
     ]
    }
   ],
   "source": [
    "help(np.zeros)"
   ]
  },
  {
   "cell_type": "code",
   "execution_count": null,
   "id": "974473dc-c6ab-40d4-b39e-fe7b99789ba0",
   "metadata": {},
   "outputs": [],
   "source": []
  },
  {
   "cell_type": "code",
   "execution_count": 39,
   "id": "eb39b16c-d60f-49bd-b1f6-b4654afe4ee1",
   "metadata": {},
   "outputs": [
    {
     "name": "stdout",
     "output_type": "stream",
     "text": [
      "Help on _ArrayFunctionDispatcher in module numpy:\n",
      "\n",
      "concatenate(...)\n",
      "    concatenate((a1, a2, ...), axis=0, out=None, dtype=None, casting=\"same_kind\")\n",
      "\n",
      "    Join a sequence of arrays along an existing axis.\n",
      "\n",
      "    Parameters\n",
      "    ----------\n",
      "    a1, a2, ... : sequence of array_like\n",
      "        The arrays must have the same shape, except in the dimension\n",
      "        corresponding to `axis` (the first, by default).\n",
      "    axis : int, optional\n",
      "        The axis along which the arrays will be joined.  If axis is None,\n",
      "        arrays are flattened before use.  Default is 0.\n",
      "    out : ndarray, optional\n",
      "        If provided, the destination to place the result. The shape must be\n",
      "        correct, matching that of what concatenate would have returned if no\n",
      "        out argument were specified.\n",
      "    dtype : str or dtype\n",
      "        If provided, the destination array will have this dtype. Cannot be\n",
      "        provided together with `out`.\n",
      "\n",
      "        .. versionadded:: 1.20.0\n",
      "\n",
      "    casting : {'no', 'equiv', 'safe', 'same_kind', 'unsafe'}, optional\n",
      "        Controls what kind of data casting may occur. Defaults to 'same_kind'.\n",
      "\n",
      "        .. versionadded:: 1.20.0\n",
      "\n",
      "    Returns\n",
      "    -------\n",
      "    res : ndarray\n",
      "        The concatenated array.\n",
      "\n",
      "    See Also\n",
      "    --------\n",
      "    ma.concatenate : Concatenate function that preserves input masks.\n",
      "    array_split : Split an array into multiple sub-arrays of equal or\n",
      "                  near-equal size.\n",
      "    split : Split array into a list of multiple sub-arrays of equal size.\n",
      "    hsplit : Split array into multiple sub-arrays horizontally (column wise).\n",
      "    vsplit : Split array into multiple sub-arrays vertically (row wise).\n",
      "    dsplit : Split array into multiple sub-arrays along the 3rd axis (depth).\n",
      "    stack : Stack a sequence of arrays along a new axis.\n",
      "    block : Assemble arrays from blocks.\n",
      "    hstack : Stack arrays in sequence horizontally (column wise).\n",
      "    vstack : Stack arrays in sequence vertically (row wise).\n",
      "    dstack : Stack arrays in sequence depth wise (along third dimension).\n",
      "    column_stack : Stack 1-D arrays as columns into a 2-D array.\n",
      "\n",
      "    Notes\n",
      "    -----\n",
      "    When one or more of the arrays to be concatenated is a MaskedArray,\n",
      "    this function will return a MaskedArray object instead of an ndarray,\n",
      "    but the input masks are *not* preserved. In cases where a MaskedArray\n",
      "    is expected as input, use the ma.concatenate function from the masked\n",
      "    array module instead.\n",
      "\n",
      "    Examples\n",
      "    --------\n",
      "    >>> a = np.array([[1, 2], [3, 4]])\n",
      "    >>> b = np.array([[5, 6]])\n",
      "    >>> np.concatenate((a, b), axis=0)\n",
      "    array([[1, 2],\n",
      "           [3, 4],\n",
      "           [5, 6]])\n",
      "    >>> np.concatenate((a, b.T), axis=1)\n",
      "    array([[1, 2, 5],\n",
      "           [3, 4, 6]])\n",
      "    >>> np.concatenate((a, b), axis=None)\n",
      "    array([1, 2, 3, 4, 5, 6])\n",
      "\n",
      "    This function will not preserve masking of MaskedArray inputs.\n",
      "\n",
      "    >>> a = np.ma.arange(3)\n",
      "    >>> a[1] = np.ma.masked\n",
      "    >>> b = np.arange(2, 5)\n",
      "    >>> a\n",
      "    masked_array(data=[0, --, 2],\n",
      "                 mask=[False,  True, False],\n",
      "           fill_value=999999)\n",
      "    >>> b\n",
      "    array([2, 3, 4])\n",
      "    >>> np.concatenate([a, b])\n",
      "    masked_array(data=[0, 1, 2, 2, 3, 4],\n",
      "                 mask=False,\n",
      "           fill_value=999999)\n",
      "    >>> np.ma.concatenate([a, b])\n",
      "    masked_array(data=[0, --, 2, 2, 3, 4],\n",
      "                 mask=[False,  True, False, False, False, False],\n",
      "           fill_value=999999)\n",
      "\n"
     ]
    }
   ],
   "source": [
    "help(np.concatenate)"
   ]
  },
  {
   "cell_type": "code",
   "execution_count": null,
   "id": "d6c2dfc5-d9e3-49d2-aa1a-eba37d026804",
   "metadata": {},
   "outputs": [],
   "source": []
  },
  {
   "cell_type": "code",
   "execution_count": 40,
   "id": "cd8f476a-c017-4fc5-a63f-d056752064b8",
   "metadata": {},
   "outputs": [],
   "source": [
    "zx = np.array([34, 56, 34, 23, 45, 200])\n",
    "ab = np.array([45, 67, 34, 23, 45, 23])"
   ]
  },
  {
   "cell_type": "code",
   "execution_count": null,
   "id": "b3ffd526-1501-4f25-b5a9-67808697cbbc",
   "metadata": {},
   "outputs": [],
   "source": []
  },
  {
   "cell_type": "code",
   "execution_count": 44,
   "id": "751d5669-63e0-4f40-acb7-46ec6ae66839",
   "metadata": {},
   "outputs": [],
   "source": [
    "# help(np.vstack)"
   ]
  },
  {
   "cell_type": "code",
   "execution_count": 45,
   "id": "158c6281-92e5-4170-b605-5c89c14dad4e",
   "metadata": {},
   "outputs": [
    {
     "data": {
      "text/plain": [
       "array([[ 34,  56,  34,  23,  45, 200],\n",
       "       [ 45,  67,  34,  23,  45,  23]])"
      ]
     },
     "execution_count": 45,
     "metadata": {},
     "output_type": "execute_result"
    }
   ],
   "source": [
    "np.vstack((zx, ab))"
   ]
  },
  {
   "cell_type": "code",
   "execution_count": null,
   "id": "1223b4e3-fc31-4491-9714-744d819437ec",
   "metadata": {},
   "outputs": [],
   "source": []
  },
  {
   "cell_type": "markdown",
   "id": "d04e5712-5bb9-4248-9eaf-f6b21ba2c93e",
   "metadata": {},
   "source": [
    "# where()"
   ]
  },
  {
   "cell_type": "code",
   "execution_count": null,
   "id": "147c866c-00fd-40d4-846e-89005ecafc98",
   "metadata": {},
   "outputs": [],
   "source": [
    "to know about index number of a elmenet"
   ]
  },
  {
   "cell_type": "code",
   "execution_count": null,
   "id": "bffa822f-16e7-4b91-8b29-ff0c3e428365",
   "metadata": {},
   "outputs": [],
   "source": []
  },
  {
   "cell_type": "code",
   "execution_count": 47,
   "id": "f59a47f0-c050-4b9e-865e-d9bdfd7043c0",
   "metadata": {},
   "outputs": [],
   "source": [
    "zx = np.array([34, 56, 34, 23, 34, 23, 34, 45, 56, 78, 34, 23, 12, 4, 56, 23])"
   ]
  },
  {
   "cell_type": "code",
   "execution_count": null,
   "id": "885c3985-1997-4e0a-af50-c454b6f30407",
   "metadata": {},
   "outputs": [],
   "source": []
  },
  {
   "cell_type": "code",
   "execution_count": 54,
   "id": "343a665f-a0f3-4a1e-afac-4b38c5ba7f05",
   "metadata": {},
   "outputs": [],
   "source": [
    "# np.where(zx, 4)"
   ]
  },
  {
   "cell_type": "code",
   "execution_count": 53,
   "id": "3c1abf68-ee98-4007-b83e-40d9472ac893",
   "metadata": {},
   "outputs": [],
   "source": [
    "# np.where((zx, 4))"
   ]
  },
  {
   "cell_type": "code",
   "execution_count": 52,
   "id": "c6a3102b-67f6-4560-963c-3751af97d153",
   "metadata": {},
   "outputs": [],
   "source": [
    "# help(np.where)"
   ]
  },
  {
   "cell_type": "code",
   "execution_count": 57,
   "id": "ab1e6db7-a10d-4578-b5ec-d759df7e3ca6",
   "metadata": {},
   "outputs": [],
   "source": [
    "zx = np.array([34, 56, 34, 23, 34, 23, 34, 45, 56, 78, 34, 23, 12, 4, 56, 23])"
   ]
  },
  {
   "cell_type": "code",
   "execution_count": 60,
   "id": "78b72431-b6bc-4105-af3d-ee82937c4aec",
   "metadata": {},
   "outputs": [
    {
     "data": {
      "text/plain": [
       "(array([ 0,  2,  4,  6, 10], dtype=int64),)"
      ]
     },
     "execution_count": 60,
     "metadata": {},
     "output_type": "execute_result"
    }
   ],
   "source": [
    "np.where(zx == 34)"
   ]
  },
  {
   "cell_type": "code",
   "execution_count": null,
   "id": "55069c87-d507-43c6-a250-dd2684566f01",
   "metadata": {},
   "outputs": [],
   "source": []
  },
  {
   "cell_type": "code",
   "execution_count": null,
   "id": "6b3e743e-6c9e-441a-a55e-347d64c106b5",
   "metadata": {},
   "outputs": [],
   "source": []
  },
  {
   "cell_type": "code",
   "execution_count": 61,
   "id": "34481073-9d31-4029-9ce3-ce24529e3449",
   "metadata": {},
   "outputs": [],
   "source": [
    "# delete elements from ndarray......"
   ]
  },
  {
   "cell_type": "code",
   "execution_count": 62,
   "id": "d7067100-e85a-471f-8467-e40f70604879",
   "metadata": {},
   "outputs": [],
   "source": [
    "zx = np.array([34, 56, 34, 23, 34, 23, 34, 45, 56, 78, 34, 23, 12, 4, 56, 23])"
   ]
  },
  {
   "cell_type": "code",
   "execution_count": 63,
   "id": "9218db02-122a-4b9f-8a23-2d7441b80c90",
   "metadata": {},
   "outputs": [],
   "source": [
    "# np.delete(objectname, index_of_element_to_delete)"
   ]
  },
  {
   "cell_type": "code",
   "execution_count": 64,
   "id": "4676a2e1-0629-4a27-9972-0810af3e885c",
   "metadata": {},
   "outputs": [
    {
     "data": {
      "text/plain": [
       "array([34, 56, 34, 23, 34, 23, 34, 45, 56, 34, 23, 12,  4, 56, 23])"
      ]
     },
     "execution_count": 64,
     "metadata": {},
     "output_type": "execute_result"
    }
   ],
   "source": [
    "np.delete(zx, 9)"
   ]
  },
  {
   "cell_type": "code",
   "execution_count": null,
   "id": "68175c88-67ff-4135-a056-f8a733bda4b1",
   "metadata": {},
   "outputs": [],
   "source": []
  },
  {
   "cell_type": "code",
   "execution_count": 65,
   "id": "b79f389d-d96b-4b0a-a29b-1cba28a3adeb",
   "metadata": {},
   "outputs": [
    {
     "data": {
      "text/plain": [
       "array([34, 56, 23, 12,  4, 56, 23])"
      ]
     },
     "execution_count": 65,
     "metadata": {},
     "output_type": "execute_result"
    }
   ],
   "source": [
    "np.delete(zx, [2, 3, 4, 5, 6, 7, 8, 9, 10])"
   ]
  },
  {
   "cell_type": "code",
   "execution_count": null,
   "id": "000ac352-bb0c-43c2-ad98-5a51d8a90c3a",
   "metadata": {},
   "outputs": [],
   "source": []
  },
  {
   "cell_type": "code",
   "execution_count": null,
   "id": "32626b55-f6ad-46a8-893d-4915cdb92cbb",
   "metadata": {},
   "outputs": [],
   "source": []
  },
  {
   "cell_type": "code",
   "execution_count": 69,
   "id": "8c1f76e2-43a5-45cd-a6fe-83ee6bf221e1",
   "metadata": {},
   "outputs": [],
   "source": [
    "zx = np.array([34, 56, 34, 23, 34, 23, 34, 45, 56, 78, 34, 23, 12, 4, 56, 23])"
   ]
  },
  {
   "cell_type": "code",
   "execution_count": 70,
   "id": "cd44d6d7-8c18-4a3c-abc3-fd93dc129023",
   "metadata": {},
   "outputs": [],
   "source": [
    "rt = np.where(zx == 34)"
   ]
  },
  {
   "cell_type": "code",
   "execution_count": 68,
   "id": "5e47a8b6-9b26-47c7-91de-1621d415ec13",
   "metadata": {},
   "outputs": [
    {
     "data": {
      "text/plain": [
       "(array([ 0,  2,  4,  6, 10], dtype=int64),)"
      ]
     },
     "execution_count": 68,
     "metadata": {},
     "output_type": "execute_result"
    }
   ],
   "source": [
    "rt"
   ]
  },
  {
   "cell_type": "code",
   "execution_count": 71,
   "id": "e9ece32a-fc61-44d0-9ba3-50154701dd5b",
   "metadata": {},
   "outputs": [
    {
     "data": {
      "text/plain": [
       "array([56, 23, 23, 45, 56, 78, 23, 12,  4, 56, 23])"
      ]
     },
     "execution_count": 71,
     "metadata": {},
     "output_type": "execute_result"
    }
   ],
   "source": [
    "np.delete(zx, rt)"
   ]
  },
  {
   "cell_type": "code",
   "execution_count": null,
   "id": "7c1e50a6-e37d-43f8-9d1e-a200bc8056be",
   "metadata": {},
   "outputs": [],
   "source": []
  },
  {
   "cell_type": "code",
   "execution_count": null,
   "id": "96b60d88-6dc7-4d90-9c60-4af873909c7b",
   "metadata": {},
   "outputs": [],
   "source": []
  },
  {
   "cell_type": "code",
   "execution_count": 74,
   "id": "2dbc0520-040e-48ee-bfb8-f2c3d5adcb36",
   "metadata": {},
   "outputs": [],
   "source": [
    "zx = np.array([34, 56, 34, 23, 34, 23, 34, 45, 56, 78, 34, 23, 12, 4, 56, 23])"
   ]
  },
  {
   "cell_type": "code",
   "execution_count": 78,
   "id": "872003f2-5d34-44f5-8d75-468dd2806536",
   "metadata": {},
   "outputs": [
    {
     "data": {
      "text/plain": [
       "array([56, 56, 78, 56])"
      ]
     },
     "execution_count": 78,
     "metadata": {},
     "output_type": "execute_result"
    }
   ],
   "source": [
    "zx[zx > 50]"
   ]
  },
  {
   "cell_type": "code",
   "execution_count": null,
   "id": "3228b1aa-7044-4e70-b699-4f3636be1f19",
   "metadata": {},
   "outputs": [],
   "source": []
  },
  {
   "cell_type": "code",
   "execution_count": 80,
   "id": "32730f00-14bd-41f3-8283-e385416ee6f4",
   "metadata": {},
   "outputs": [],
   "source": [
    "p = zx[zx == 34]"
   ]
  },
  {
   "cell_type": "code",
   "execution_count": 81,
   "id": "ad3e3d3b-14f8-4ba9-b663-696277954f96",
   "metadata": {},
   "outputs": [
    {
     "data": {
      "text/plain": [
       "array([34, 34, 34, 34, 34])"
      ]
     },
     "execution_count": 81,
     "metadata": {},
     "output_type": "execute_result"
    }
   ],
   "source": [
    "p"
   ]
  },
  {
   "cell_type": "code",
   "execution_count": 77,
   "id": "74bbc570-1439-43ad-8718-e0dee83f44eb",
   "metadata": {},
   "outputs": [
    {
     "ename": "ValueError",
     "evalue": "boolean array argument obj to delete must be one dimensional and match the axis length of 16",
     "output_type": "error",
     "traceback": [
      "\u001b[1;31m----------------------------------------------\u001b[0m",
      "\u001b[1;31mValueError\u001b[0m   Traceback (most recent call last)",
      "Cell \u001b[1;32mIn[77], line 1\u001b[0m\n\u001b[1;32m----> 1\u001b[0m \u001b[43mnp\u001b[49m\u001b[38;5;241;43m.\u001b[39;49m\u001b[43mdelete\u001b[49m\u001b[43m(\u001b[49m\u001b[43mzx\u001b[49m\u001b[43m,\u001b[49m\u001b[43m \u001b[49m\u001b[43m[\u001b[49m\u001b[43mzx\u001b[49m\u001b[43m \u001b[49m\u001b[38;5;241;43m>\u001b[39;49m\u001b[43m \u001b[49m\u001b[38;5;241;43m34\u001b[39;49m\u001b[43m]\u001b[49m\u001b[43m)\u001b[49m\n",
      "File \u001b[1;32m~\\AppData\\Local\\Programs\\Python\\Python312\\Lib\\site-packages\\numpy\\lib\\function_base.py:5346\u001b[0m, in \u001b[0;36mdelete\u001b[1;34m(arr, obj, axis)\u001b[0m\n\u001b[0;32m   5344\u001b[0m \u001b[38;5;28;01mif\u001b[39;00m obj\u001b[38;5;241m.\u001b[39mdtype \u001b[38;5;241m==\u001b[39m \u001b[38;5;28mbool\u001b[39m:\n\u001b[0;32m   5345\u001b[0m     \u001b[38;5;28;01mif\u001b[39;00m obj\u001b[38;5;241m.\u001b[39mshape \u001b[38;5;241m!=\u001b[39m (N,):\n\u001b[1;32m-> 5346\u001b[0m         \u001b[38;5;28;01mraise\u001b[39;00m \u001b[38;5;167;01mValueError\u001b[39;00m(\u001b[38;5;124m'\u001b[39m\u001b[38;5;124mboolean array argument obj to delete \u001b[39m\u001b[38;5;124m'\u001b[39m\n\u001b[0;32m   5347\u001b[0m                          \u001b[38;5;124m'\u001b[39m\u001b[38;5;124mmust be one dimensional and match the axis \u001b[39m\u001b[38;5;124m'\u001b[39m\n\u001b[0;32m   5348\u001b[0m                          \u001b[38;5;124m'\u001b[39m\u001b[38;5;124mlength of \u001b[39m\u001b[38;5;132;01m{}\u001b[39;00m\u001b[38;5;124m'\u001b[39m\u001b[38;5;241m.\u001b[39mformat(N))\n\u001b[0;32m   5350\u001b[0m     \u001b[38;5;66;03m# optimization, the other branch is slower\u001b[39;00m\n\u001b[0;32m   5351\u001b[0m     keep \u001b[38;5;241m=\u001b[39m \u001b[38;5;241m~\u001b[39mobj\n",
      "\u001b[1;31mValueError\u001b[0m: boolean array argument obj to delete must be one dimensional and match the axis length of 16"
     ]
    }
   ],
   "source": [
    "np.delete(zx, [zx > 34])"
   ]
  },
  {
   "cell_type": "code",
   "execution_count": null,
   "id": "44dadc3a-da2d-417a-be87-cd6856753dbb",
   "metadata": {},
   "outputs": [],
   "source": []
  }
 ],
 "metadata": {
  "kernelspec": {
   "display_name": "Python 3 (ipykernel)",
   "language": "python",
   "name": "python3"
  },
  "language_info": {
   "codemirror_mode": {
    "name": "ipython",
    "version": 3
   },
   "file_extension": ".py",
   "mimetype": "text/x-python",
   "name": "python",
   "nbconvert_exporter": "python",
   "pygments_lexer": "ipython3",
   "version": "3.12.2"
  }
 },
 "nbformat": 4,
 "nbformat_minor": 5
}
